{
 "cells": [
  {
   "cell_type": "code",
   "execution_count": 1,
   "metadata": {},
   "outputs": [
    {
     "name": "stdout",
     "output_type": "stream",
     "text": [
      "Ghép file thành công! File đã lưu tại: all_links_18022025.xlsx\n"
     ]
    }
   ],
   "source": [
    "import pandas as pd\n",
    "\n",
    "# Danh sách các file cần ghép\n",
    "files = [\"01_18022025.xlsx\", \"03_18022025.xlsx\", \"04_18022025.xlsx\"]  # Thay bằng tên file của bạn\n",
    "\n",
    "# Đọc và ghép tất cả các file\n",
    "df_list = [pd.read_excel(file) for file in files]\n",
    "merged_df = pd.concat(df_list, ignore_index=True)\n",
    "\n",
    "# Lưu file mới\n",
    "output_file = \"all_links_18022025.xlsx\"\n",
    "merged_df.to_excel(output_file, index=False)\n",
    "\n",
    "print(f\"Ghép file thành công! File đã lưu tại: {output_file}\")\n"
   ]
  }
 ],
 "metadata": {
  "kernelspec": {
   "display_name": "base",
   "language": "python",
   "name": "python3"
  },
  "language_info": {
   "codemirror_mode": {
    "name": "ipython",
    "version": 3
   },
   "file_extension": ".py",
   "mimetype": "text/x-python",
   "name": "python",
   "nbconvert_exporter": "python",
   "pygments_lexer": "ipython3",
   "version": "3.12.4"
  }
 },
 "nbformat": 4,
 "nbformat_minor": 2
}
