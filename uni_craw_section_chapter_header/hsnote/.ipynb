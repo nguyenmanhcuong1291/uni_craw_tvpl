{
 "cells": [
  {
   "cell_type": "code",
   "execution_count": 13,
   "metadata": {},
   "outputs": [],
   "source": [
    "from docx import Document\n",
    "\n",
    "# Đọc file DOCX\n",
    "file_path = \"vn_chu_giai_hs_2022.docx\"  # Đảm bảo file là định dạng DOCX\n",
    "doc = Document(file_path)\n",
    "\n",
    "# Duyệt qua tất cả các bảng trong tài liệu\n",
    "for table in doc.tables:\n",
    "    for row in table.rows:\n",
    "        row_data = [cell.text.strip() for cell in row.cells]\n",
    "\n"
   ]
  }
 ],
 "metadata": {
  "kernelspec": {
   "display_name": "base",
   "language": "python",
   "name": "python3"
  },
  "language_info": {
   "codemirror_mode": {
    "name": "ipython",
    "version": 3
   },
   "file_extension": ".py",
   "mimetype": "text/x-python",
   "name": "python",
   "nbconvert_exporter": "python",
   "pygments_lexer": "ipython3",
   "version": "3.12.4"
  }
 },
 "nbformat": 4,
 "nbformat_minor": 2
}
