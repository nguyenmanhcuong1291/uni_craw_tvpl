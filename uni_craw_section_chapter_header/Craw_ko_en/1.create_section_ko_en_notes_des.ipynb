{
 "cells": [
  {
   "cell_type": "code",
   "execution_count": 1,
   "metadata": {},
   "outputs": [],
   "source": [
    "import pandas as pd\n",
    "import re"
   ]
  },
  {
   "cell_type": "code",
   "execution_count": 2,
   "metadata": {},
   "outputs": [],
   "source": [
    "df = pd.read_excel(r'd:\\Onedrive\\OneDrive - UNI CONSULTING\\Attachments\\Code\\uni_craw_tvpl\\uni_craw_section_chapter_header\\Craw_ko_en\\ko_en_section_chapter_heading_des_notes.xlsx')"
   ]
  },
  {
   "cell_type": "code",
   "execution_count": 3,
   "metadata": {},
   "outputs": [],
   "source": [
    "def create_section_df(df):\n",
    "    # Select columns: 'ensection', 'ensection_note', 'kosection_note'\n",
    "    df = df.loc[:, ['ensection', 'ensection_note', 'kosection_note']]\n",
    "    # Drop duplicate rows across all columns\n",
    "    df = df.drop_duplicates()\n",
    "    return df\n",
    "\n",
    "# Loaded variable 'df' from URI: d:\\Onedrive\\OneDrive - UNI CONSULTING\\Attachments\\Code\\uni_craw_tvpl\\uni_craw_section_chapter_header\\Craw_ko_en\\ko_en_section_chapter_heading_des_notes.xlsx\n",
    "\n",
    "section_df = create_section_df(df.copy())"
   ]
  },
  {
   "cell_type": "code",
   "execution_count": 4,
   "metadata": {},
   "outputs": [],
   "source": [
    "# for x in section_df.loc[:,'ensection_note']:\n",
    "#     print(x)"
   ]
  },
  {
   "cell_type": "code",
   "execution_count": 5,
   "metadata": {},
   "outputs": [],
   "source": [
    "from bs4 import BeautifulSoup\n",
    "\n",
    "def fix_atag(html):\n",
    "    # Phân tích cú pháp HTML\n",
    "    soup = BeautifulSoup(html, 'html.parser')\n",
    "\n",
    "    # Duyệt qua tất cả thẻ <a>\n",
    "    for a_tag in soup.find_all('a'):\n",
    "        # Kiểm tra nếu thẻ <a> chứa <img>\n",
    "        if a_tag.find('img'):\n",
    "            del a_tag['rel']\n",
    "        else:\n",
    "            # Thay thẻ <a> bằng text bên trong nó\n",
    "            a_tag.replace_with(a_tag.text)\n",
    "\n",
    "    # Kết quả sau khi xử lý\n",
    "    result = str(soup).replace('\"/clip/','\"https://unipass.customs.go.kr/clip/')\n",
    "    # print(result)\n",
    "    return result\n"
   ]
  },
  {
   "cell_type": "code",
   "execution_count": 6,
   "metadata": {},
   "outputs": [],
   "source": [
    "def process_section_notes(df,en_col,ko_col):\n",
    "    \n",
    "    def split_text(text):\n",
    "        if not isinstance(text, str):\n",
    "            return []\n",
    "        text = text.replace('\\n \\n', '\\n\\n')\n",
    "        text = text.replace('_x000D__x000D_', '\\n')\n",
    "        # Thay thế 3 hoặc nhiều '\\n' thành '\\n\\n'\n",
    "        text = re.sub(r'\\n{2,}', '\\n', text)\n",
    "        delimiter = '\\n'\n",
    "        parts = text.split(delimiter)\n",
    "        # print(parts)\n",
    "        return parts\n",
    "    \n",
    "    def get_note_index(parts):\n",
    "        note_pattern_en = r'^Notes?\\.$'\n",
    "        note_pattern_ko = r'^주:\\s*'\n",
    "        # Tìm các vị trí phần tử khớp với regex\n",
    "        note_index = next((i for i, item in enumerate(parts) if re.fullmatch(note_pattern_en, item.replace('\\n','').strip()) or re.fullmatch(note_pattern_ko, item.replace('\\n','').strip())), None)\n",
    "        # print(\"note_index: \",note_index)\n",
    "        return note_index\n",
    "    \n",
    "    def get_general_index(parts):\n",
    "        general_pattern_en = r'^GENERAL\\.*$'\n",
    "        general_pattern_ko = r'^총설\\s*$'\n",
    "        general_index = next((i for i, item in enumerate(parts) if re.fullmatch(general_pattern_en, item.replace('\\n','').strip())or re.fullmatch(general_pattern_ko, item.replace('\\n','').strip())), None)\n",
    "        # print('general_index: ',general_index)\n",
    "        return general_index\n",
    "    \n",
    "    def process_notes(x):\n",
    "        split = split_text(x)\n",
    "        note_idx = get_note_index(split)\n",
    "        general_idx = get_general_index(split)\n",
    "        if note_idx is None:\n",
    "            return []\n",
    "        elif general_idx is not None:\n",
    "            return split[note_idx:general_idx]\n",
    "        else:\n",
    "            return split[note_idx:]\n",
    "    \n",
    "    def process_general(x):\n",
    "        split = split_text(x)\n",
    "        general_idx = get_general_index(split)\n",
    "        if general_idx is None:\n",
    "            return []\n",
    "        elif general_idx is not None:\n",
    "            return split[general_idx:]\n",
    "        \n",
    "    def process_des(x):\n",
    "        split = split_text(x)\n",
    "        note_idx = get_note_index(split)\n",
    "        if note_idx is None:\n",
    "            return split[1:]\n",
    "        elif note_idx is not None:\n",
    "            return split[1:note_idx]\n",
    "    # Áp dụng hàm\n",
    "    df['section_name'] = df[en_col].apply(lambda x: split_text(x)[0])\n",
    "    df['en_description'] = df[en_col].apply(process_des)\n",
    "    df['ko_description'] = df[ko_col].apply(process_des)\n",
    "    \n",
    "    df['en_notes'] = df[en_col].apply(process_notes)\n",
    "    \n",
    "    df['ko_notes'] = df[ko_col].apply(process_notes)\n",
    "    \n",
    "    df['en_general'] = df[en_col].apply(process_general)\n",
    "    df['ko_general'] = df[ko_col].apply(process_general)\n",
    "\n",
    "    return df\n"
   ]
  },
  {
   "cell_type": "code",
   "execution_count": 7,
   "metadata": {},
   "outputs": [],
   "source": [
    "# Gọi hàm xử lý\n",
    "section_df = process_section_notes(section_df, 'ensection_note', 'kosection_note')\n"
   ]
  },
  {
   "cell_type": "code",
   "execution_count": 8,
   "metadata": {},
   "outputs": [],
   "source": [
    "section_df = section_df.drop(columns=['ensection_note', 'kosection_note'])"
   ]
  },
  {
   "cell_type": "code",
   "execution_count": 9,
   "metadata": {},
   "outputs": [
    {
     "name": "stderr",
     "output_type": "stream",
     "text": [
      "C:\\Users\\nguye\\AppData\\Local\\Temp\\ipykernel_20408\\939670190.py:5: MarkupResemblesLocatorWarning: The input looks more like a filename than markup. You may want to open this file and pass the filehandle into Beautiful Soup.\n",
      "  soup = BeautifulSoup(html, 'html.parser')\n"
     ]
    }
   ],
   "source": [
    "section_df['ko_notes'] = section_df['ko_notes'].apply(lambda x: [fix_atag(html) for html in x])\n",
    "section_df['ko_general'] = section_df['ko_general'].apply(lambda x: [fix_atag(html) for html in x])"
   ]
  }
 ],
 "metadata": {
  "kernelspec": {
   "display_name": "base",
   "language": "python",
   "name": "python3"
  },
  "language_info": {
   "codemirror_mode": {
    "name": "ipython",
    "version": 3
   },
   "file_extension": ".py",
   "mimetype": "text/x-python",
   "name": "python",
   "nbconvert_exporter": "python",
   "pygments_lexer": "ipython3",
   "version": "3.12.4"
  }
 },
 "nbformat": 4,
 "nbformat_minor": 2
}
