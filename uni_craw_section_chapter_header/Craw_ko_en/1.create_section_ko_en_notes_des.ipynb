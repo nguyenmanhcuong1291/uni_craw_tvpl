{
 "cells": [
  {
   "cell_type": "code",
   "execution_count": 9,
   "metadata": {},
   "outputs": [],
   "source": [
    "import pandas as pd\n",
    "import re\n",
    "import json"
   ]
  },
  {
   "cell_type": "code",
   "execution_count": 10,
   "metadata": {},
   "outputs": [],
   "source": [
    "# df2 = pd.read_excel(r'd:\\Onedrive\\OneDrive - UNI CONSULTING\\Attachments\\Code\\uni_craw_tvpl\\uni_craw_section_chapter_header\\Craw_ko_en\\ko_en_section_chapter_heading_des_notes.xlsx')"
   ]
  },
  {
   "cell_type": "code",
   "execution_count": 11,
   "metadata": {},
   "outputs": [],
   "source": [
    "with open('output_file_2.txt', 'r', encoding='utf-8') as file:\n",
    "    data = [json.loads(line.strip()) for line in file]\n",
    "df = pd.DataFrame(data)"
   ]
  },
  {
   "cell_type": "code",
   "execution_count": 12,
   "metadata": {},
   "outputs": [
    {
     "data": {
      "text/plain": [
       "1228"
      ]
     },
     "execution_count": 12,
     "metadata": {},
     "output_type": "execute_result"
    }
   ],
   "source": [
    "len(df)"
   ]
  },
  {
   "cell_type": "code",
   "execution_count": 14,
   "metadata": {},
   "outputs": [],
   "source": [
    "def create_section_df(df):\n",
    "    # Select columns: 'ensection', 'ensection_note', 'kosection_note'\n",
    "    df = df.loc[:, ['ensection', 'ensection_note', 'kosection_note']]\n",
    "    # Drop duplicate rows across all columns\n",
    "    df = df.drop_duplicates()\n",
    "    return df\n",
    "\n",
    "section_df = create_section_df(df.copy())"
   ]
  },
  {
   "cell_type": "code",
   "execution_count": 15,
   "metadata": {},
   "outputs": [],
   "source": [
    "from bs4 import BeautifulSoup\n",
    "\n",
    "def fix_atag(html):\n",
    "    # Phân tích cú pháp HTML\n",
    "    soup = BeautifulSoup(html, 'html.parser')\n",
    "\n",
    "    # Duyệt qua tất cả thẻ <a>\n",
    "    for a_tag in soup.find_all('a'):\n",
    "        # Kiểm tra nếu thẻ <a> chứa <img>\n",
    "        if a_tag.find('img'):\n",
    "            attributes_to_remove = ['rel', 'href', 'title','alt']\n",
    "            for attr in attributes_to_remove:\n",
    "                if attr in a_tag.attrs:  # Check if the attribute exists\n",
    "                    del a_tag[attr]\n",
    "            \n",
    "        else:\n",
    "            # Thay thẻ <a> bằng text bên trong nó\n",
    "            a_tag.replace_with(a_tag.text)\n",
    "\n",
    "    # Kết quả sau khi xử lý\n",
    "    result = str(soup).replace('\"/clip/','\"https://unipass.customs.go.kr/clip/')\n",
    "    # print(result)\n",
    "    return result\n"
   ]
  },
  {
   "cell_type": "code",
   "execution_count": 16,
   "metadata": {},
   "outputs": [],
   "source": [
    "def fig_a_clickable_tag(x):\n",
    "    for i in range(len(x)):\n",
    "        # Tạo đối tượng BeautifulSoup\n",
    "        soup = BeautifulSoup(x[i], \"html.parser\")\n",
    "        # Tìm tất cả các thẻ <a> có thuộc tính onClick\n",
    "        a_tags = soup.find_all(\"a\", attrs={\"onclick\": True})\n",
    "        for a_tag in a_tags:\n",
    "            # Thay thế thẻ <a> bằng nội dung văn bản của nó\n",
    "            a_tag.replace_with(a_tag.get_text())\n",
    "        # Cập nhật phần tử trong danh sách với nội dung đã thay thế\n",
    "        x[i] = str(soup)\n",
    "    return x"
   ]
  },
  {
   "cell_type": "code",
   "execution_count": 17,
   "metadata": {},
   "outputs": [],
   "source": [
    "def process_section_notes(df,en_col,ko_col):\n",
    "    \n",
    "    def split_text(text):\n",
    "        if not isinstance(text, str):\n",
    "            return []\n",
    "        text = text.replace('\\n \\n', '\\n\\n')\n",
    "        text = text.replace('_x000D__x000D_', '\\n')\n",
    "        # Thay thế 3 hoặc nhiều '\\n' thành '\\n\\n'\n",
    "        text = re.sub(r'\\n{2,}', '\\n', text)\n",
    "        delimiter = '\\n'\n",
    "        parts = text.split(delimiter)\n",
    "        # print(parts)\n",
    "        return parts\n",
    "    \n",
    "    def get_note_index(parts):\n",
    "        note_pattern_en = r'^Notes?\\.$'\n",
    "        note_pattern_ko = r'^주:\\s*'\n",
    "        # Tìm các vị trí phần tử khớp với regex\n",
    "        note_index = next((i for i, item in enumerate(parts) if re.fullmatch(note_pattern_en, item.replace('\\n','').strip()) or re.fullmatch(note_pattern_ko, item.replace('\\n','').strip())), None)\n",
    "        # print(\"note_index: \",note_index)\n",
    "        return note_index\n",
    "    \n",
    "    def get_general_index(parts):\n",
    "        general_pattern_en = r'^GENERAL\\.*$'\n",
    "        general_pattern_ko = r'^총설\\s*$'\n",
    "        general_index = next((i for i, item in enumerate(parts) if re.fullmatch(general_pattern_en, item.replace('\\n','').strip())or re.fullmatch(general_pattern_ko, item.replace('\\n','').strip())), None)\n",
    "        # print('general_index: ',general_index)\n",
    "        return general_index\n",
    "    \n",
    "    def process_notes(x):\n",
    "        split = split_text(x)\n",
    "        note_idx = get_note_index(split)\n",
    "        general_idx = get_general_index(split)\n",
    "        if note_idx is None:\n",
    "            return []\n",
    "        elif general_idx is not None:\n",
    "            return split[note_idx:general_idx]\n",
    "        else:\n",
    "            return split[note_idx:]\n",
    "    \n",
    "    def process_general(x):\n",
    "        split = split_text(x)\n",
    "        general_idx = get_general_index(split)\n",
    "        if general_idx is None:\n",
    "            return []\n",
    "        elif general_idx is not None:\n",
    "            return split[general_idx:]\n",
    "        \n",
    "    def process_des(x):\n",
    "        split = split_text(x)\n",
    "        note_idx = get_note_index(split)\n",
    "        if note_idx is None:\n",
    "            return split[1:]\n",
    "        elif note_idx is not None:\n",
    "            return split[1:note_idx]\n",
    "\n",
    "    # Áp dụng hàm\n",
    "    df['section_name'] = df[en_col].apply(lambda x: split_text(x)[0])\n",
    "    df.insert(2, \"hs\", df[\"section_name\"].str.split(\" \").str[-1])\n",
    "    df['en_description'] = df[en_col].apply(process_des)\n",
    "    df['ko_description'] = df[ko_col].apply(process_des)\n",
    "    \n",
    "    df['en_notes'] = df[en_col].apply(process_notes)\n",
    "    \n",
    "    df['ko_notes'] = df[ko_col].apply(process_notes)\n",
    "    \n",
    "    df['en_general'] = df[en_col].apply(process_general)\n",
    "    df['ko_general'] = df[ko_col].apply(process_general)\n",
    "\n",
    "\n",
    "    return df\n"
   ]
  },
  {
   "cell_type": "code",
   "execution_count": 18,
   "metadata": {},
   "outputs": [],
   "source": [
    "# Gọi hàm xử lý\n",
    "section_df = process_section_notes(section_df, 'ensection_note', 'kosection_note')\n"
   ]
  },
  {
   "cell_type": "code",
   "execution_count": 19,
   "metadata": {},
   "outputs": [],
   "source": [
    "section_df = section_df.drop(columns=['ensection_note', 'kosection_note'])"
   ]
  },
  {
   "cell_type": "code",
   "execution_count": 20,
   "metadata": {},
   "outputs": [
    {
     "name": "stderr",
     "output_type": "stream",
     "text": [
      "C:\\Users\\nguye\\AppData\\Local\\Temp\\ipykernel_14700\\513519870.py:5: MarkupResemblesLocatorWarning: The input looks more like a filename than markup. You may want to open this file and pass the filehandle into Beautiful Soup.\n",
      "  soup = BeautifulSoup(html, 'html.parser')\n"
     ]
    }
   ],
   "source": [
    "section_df['ko_notes'] = section_df['ko_notes'].apply(lambda x: [fix_atag(html) for html in x])\n",
    "section_df['ko_general'] = section_df['ko_general'].apply(lambda x: [fix_atag(html) for html in x])\n",
    "section_df['en_notes'] = section_df['en_notes'].apply(lambda x: [fix_atag(html) for html in x])\n",
    "section_df['en_general'] = section_df['en_general'].apply(lambda x: [fix_atag(html) for html in x])"
   ]
  },
  {
   "cell_type": "code",
   "execution_count": 21,
   "metadata": {},
   "outputs": [
    {
     "name": "stderr",
     "output_type": "stream",
     "text": [
      "C:\\Users\\nguye\\AppData\\Local\\Temp\\ipykernel_14700\\1147944110.py:4: MarkupResemblesLocatorWarning: The input looks more like a filename than markup. You may want to open this file and pass the filehandle into Beautiful Soup.\n",
      "  soup = BeautifulSoup(x[i], \"html.parser\")\n"
     ]
    }
   ],
   "source": [
    "section_df['ko_notes'] = section_df['ko_notes'].apply(lambda x: fig_a_clickable_tag(x))\n",
    "section_df['ko_general'] = section_df['ko_general'].apply(lambda x: fig_a_clickable_tag(x))\n",
    "section_df['ko_description'] = section_df['ko_description'].apply(lambda x: fig_a_clickable_tag(x))"
   ]
  },
  {
   "cell_type": "code",
   "execution_count": 24,
   "metadata": {},
   "outputs": [
    {
     "data": {
      "text/html": [
       "<div>\n",
       "<style scoped>\n",
       "    .dataframe tbody tr th:only-of-type {\n",
       "        vertical-align: middle;\n",
       "    }\n",
       "\n",
       "    .dataframe tbody tr th {\n",
       "        vertical-align: top;\n",
       "    }\n",
       "\n",
       "    .dataframe thead th {\n",
       "        text-align: right;\n",
       "    }\n",
       "</style>\n",
       "<table border=\"1\" class=\"dataframe\">\n",
       "  <thead>\n",
       "    <tr style=\"text-align: right;\">\n",
       "      <th></th>\n",
       "      <th>ensection</th>\n",
       "      <th>hs</th>\n",
       "      <th>section_name</th>\n",
       "      <th>en_description</th>\n",
       "      <th>ko_description</th>\n",
       "      <th>en_notes</th>\n",
       "      <th>ko_notes</th>\n",
       "      <th>en_general</th>\n",
       "      <th>ko_general</th>\n",
       "    </tr>\n",
       "  </thead>\n",
       "  <tbody>\n",
       "    <tr>\n",
       "      <th>0</th>\n",
       "      <td>01</td>\n",
       "      <td>I</td>\n",
       "      <td>Section I</td>\n",
       "      <td>[LIVE ANIMALS; , ANIMAL PRODUCTS]</td>\n",
       "      <td>[살아 있는 동물과 동물성 생산품]</td>\n",
       "      <td>[Notes., 1.- Any reference in this Section to ...</td>\n",
       "      <td>[주: , 1. 이 부에 열거된 동물의 특정 속(屬)이나 종(種)에는 문맥상 달리 ...</td>\n",
       "      <td>[]</td>\n",
       "      <td>[]</td>\n",
       "    </tr>\n",
       "    <tr>\n",
       "      <th>44</th>\n",
       "      <td>02</td>\n",
       "      <td>II</td>\n",
       "      <td>Section II</td>\n",
       "      <td>[VEGETABLE PRODUCTS ]</td>\n",
       "      <td>[식물성 생산품]</td>\n",
       "      <td>[Note. , 1.- In this Section the term “pellets...</td>\n",
       "      <td>[주: , 1. 이 부에서 “펠릿(pellet)”이란 직접 압축하거나 전 중량의 1...</td>\n",
       "      <td>[]</td>\n",
       "      <td>[]</td>\n",
       "    </tr>\n",
       "  </tbody>\n",
       "</table>\n",
       "</div>"
      ],
      "text/plain": [
       "   ensection  hs section_name                     en_description  \\\n",
       "0         01   I    Section I  [LIVE ANIMALS; , ANIMAL PRODUCTS]   \n",
       "44        02  II   Section II              [VEGETABLE PRODUCTS ]   \n",
       "\n",
       "         ko_description                                           en_notes  \\\n",
       "0   [살아 있는 동물과 동물성 생산품]  [Notes., 1.- Any reference in this Section to ...   \n",
       "44            [식물성 생산품]  [Note. , 1.- In this Section the term “pellets...   \n",
       "\n",
       "                                             ko_notes en_general ko_general  \n",
       "0   [주: , 1. 이 부에 열거된 동물의 특정 속(屬)이나 종(種)에는 문맥상 달리 ...         []         []  \n",
       "44  [주: , 1. 이 부에서 “펠릿(pellet)”이란 직접 압축하거나 전 중량의 1...         []         []  "
      ]
     },
     "execution_count": 24,
     "metadata": {},
     "output_type": "execute_result"
    }
   ],
   "source": [
    "section_df.head(2)"
   ]
  },
  {
   "cell_type": "code",
   "execution_count": 23,
   "metadata": {},
   "outputs": [],
   "source": [
    "section_df.to_excel(\"ko_en_section_notes_2024_2.xlsx\",index = False)"
   ]
  }
 ],
 "metadata": {
  "kernelspec": {
   "display_name": "base",
   "language": "python",
   "name": "python3"
  },
  "language_info": {
   "codemirror_mode": {
    "name": "ipython",
    "version": 3
   },
   "file_extension": ".py",
   "mimetype": "text/x-python",
   "name": "python",
   "nbconvert_exporter": "python",
   "pygments_lexer": "ipython3",
   "version": "3.12.4"
  }
 },
 "nbformat": 4,
 "nbformat_minor": 2
}
