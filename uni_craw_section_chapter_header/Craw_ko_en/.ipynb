{
 "cells": [
  {
   "cell_type": "code",
   "execution_count": 14,
   "metadata": {},
   "outputs": [],
   "source": [
    "from bs4 import BeautifulSoup\n"
   ]
  },
  {
   "cell_type": "code",
   "execution_count": 29,
   "metadata": {},
   "outputs": [],
   "source": [
    "from bs4 import BeautifulSoup\n",
    "\n",
    "data = [\n",
    "    '그 밖의 비금속(卑金屬), 서멧(cermet), 이들의 제품',\n",
    "    '총설',\n",
    "    '이 류에 분류하는 것은 다음의 비금속(卑金屬)과 그 합금과 그 제품으로서 이 표의 다른 호에서 특별히 포함되지 않은 것으로 한정한다.',\n",
    "    '(A) 텅스텐[볼프람(wolfram)](<a href=\"#none\" onClick=\"javascript:f_retrieveManlInfoPop(\\'8101\\'); return false;\" title=\"텅스텐(볼프람)과 그 제품[웨이스트(waste)와 스크랩(scrap)을 포함한다]\">제8101호</a>), 몰리브덴(<a href=\"#none\" onClick=\"javascript:f_retrieveManlInfoPop(\\'8102\\'); return false;\" title=\"몰리브데늄과 그 제품[웨이스트(waste)와 스크랩(scrap)을 포함한다]\">제8102호</a>), 탄탈룸(<a href=\"#none\" onClick=\"javascript:f_retrieveManlInfoPop(\\'8103\\'); return false;\" title=\"탄탈륨과 그 제품[웨이스트(waste)와 스크랩(scrap)을 포함한다]\">제8103호</a>)',\n",
    "    '(B) 베릴륨, 크로뮴, 하프늄, 레늄, 탈륨, 카드뮴, 게르마늄, 바나듐, 갈륨, 인듐과 니오븀(컬럼븀)(<a href=\"#none\" onClick=\"javascript:f_retrieveManlInfoPop(\\'8112\\'); return false;\" title=\"베릴륨ㆍ크로뮴ㆍ하프늄ㆍ레늄ㆍ탈륨ㆍ카드뮴ㆍ게르마늄ㆍ바나듐ㆍ갈륨ㆍ인듐ㆍ니오븀(컬럼븀)과 이것으로 만든 제품[웨이스트(waste)와 스크랩(scrap)을 포함한다]\">제8112호</a>)',\n",
    "    '이 류에는 서멧(cermet)도 분류한다(<a href=\"#none\" onClick=\"javascript:f_retrieveManlInfoPop(\\'8113\\'); return false;\" title=\"서멧(cermet)과 그 제품[웨이스트(waste)와 스크랩(scrap)을 포함한다]\">제8113호</a>)',\n",
    "    '*'\n",
    "]\n",
    "\n"
   ]
  },
  {
   "cell_type": "code",
   "execution_count": 31,
   "metadata": {},
   "outputs": [],
   "source": [
    "def fig_a_clickable_tag(x):\n",
    "    for i in range(len(x)):\n",
    "        # Tạo đối tượng BeautifulSoup\n",
    "        soup = BeautifulSoup(x[i], \"html.parser\")\n",
    "        # Tìm tất cả các thẻ <a> có thuộc tính onClick\n",
    "        a_tags = soup.find_all(\"a\", attrs={\"onclick\": True})\n",
    "        for a_tag in a_tags:\n",
    "            # Thay thế thẻ <a> bằng nội dung văn bản của nó\n",
    "            a_tag.replace_with(a_tag.get_text())\n",
    "        # Cập nhật phần tử trong danh sách với nội dung đã thay thế\n",
    "        x[i] = str(soup)\n",
    "    return x"
   ]
  },
  {
   "cell_type": "code",
   "execution_count": 32,
   "metadata": {},
   "outputs": [
    {
     "data": {
      "text/plain": [
       "['그 밖의 비금속(卑金屬), 서멧(cermet), 이들의 제품',\n",
       " '총설',\n",
       " '이 류에 분류하는 것은 다음의 비금속(卑金屬)과 그 합금과 그 제품으로서 이 표의 다른 호에서 특별히 포함되지 않은 것으로 한정한다.',\n",
       " '(A) 텅스텐[볼프람(wolfram)](제8101호), 몰리브덴(제8102호), 탄탈룸(제8103호)',\n",
       " '(B) 베릴륨, 크로뮴, 하프늄, 레늄, 탈륨, 카드뮴, 게르마늄, 바나듐, 갈륨, 인듐과 니오븀(컬럼븀)(제8112호)',\n",
       " '이 류에는 서멧(cermet)도 분류한다(제8113호)',\n",
       " '*']"
      ]
     },
     "execution_count": 32,
     "metadata": {},
     "output_type": "execute_result"
    }
   ],
   "source": [
    "fig_a_clickable_tag(data)"
   ]
  },
  {
   "cell_type": "code",
   "execution_count": null,
   "metadata": {},
   "outputs": [],
   "source": []
  }
 ],
 "metadata": {
  "kernelspec": {
   "display_name": "base",
   "language": "python",
   "name": "python3"
  },
  "language_info": {
   "codemirror_mode": {
    "name": "ipython",
    "version": 3
   },
   "file_extension": ".py",
   "mimetype": "text/x-python",
   "name": "python",
   "nbconvert_exporter": "python",
   "pygments_lexer": "ipython3",
   "version": "3.12.4"
  }
 },
 "nbformat": 4,
 "nbformat_minor": 2
}
