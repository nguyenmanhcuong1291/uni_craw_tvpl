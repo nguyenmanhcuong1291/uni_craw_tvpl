{
 "cells": [
  {
   "cell_type": "code",
   "execution_count": 1,
   "metadata": {},
   "outputs": [],
   "source": [
    "import pandas as pd\n",
    "import re\n",
    "import json"
   ]
  },
  {
   "cell_type": "code",
   "execution_count": 2,
   "metadata": {},
   "outputs": [],
   "source": [
    "with open('output_file_2.txt', 'r', encoding='utf-8') as file:\n",
    "    data = [json.loads(line.strip()) for line in file]\n",
    "df = pd.DataFrame(data)"
   ]
  },
  {
   "cell_type": "code",
   "execution_count": 3,
   "metadata": {},
   "outputs": [],
   "source": [
    "def create_section_df(df):\n",
    "    # Select columns: 'ensection', 'ensection_note', 'kosection_note'\n",
    "    df = df.loc[:, ['enchapter','enheading', 'enheading_notes', 'koheading_notes']]\n",
    "    # Drop duplicate rows across all columns\n",
    "    df = df.drop_duplicates()\n",
    "    return df\n",
    "\n",
    "# Loaded variable 'df' from URI: d:\\Onedrive\\OneDrive - UNI CONSULTING\\Attachments\\Code\\uni_craw_tvpl\\uni_craw_section_chapter_header\\Craw_ko_en\\ko_en_section_chapter_heading_des_notes.xlsx\n",
    "\n",
    "heading_df = create_section_df(df.copy())"
   ]
  },
  {
   "cell_type": "code",
   "execution_count": 4,
   "metadata": {},
   "outputs": [],
   "source": [
    "from bs4 import BeautifulSoup\n",
    "\n",
    "def fix_atag(html):\n",
    "    # Phân tích cú pháp HTML\n",
    "    soup = BeautifulSoup(html, 'html.parser')\n",
    "\n",
    "    # Duyệt qua tất cả thẻ <a>\n",
    "    for a_tag in soup.find_all('a'):\n",
    "        # Kiểm tra nếu thẻ <a> chứa <img>\n",
    "        if a_tag.find('img'):\n",
    "            attributes_to_remove = ['rel', 'href', 'title']\n",
    "            for attr in attributes_to_remove:\n",
    "                if attr in a_tag.attrs:  \n",
    "                    del a_tag[attr]\n",
    "                if 'alt' in a_tag.find('img').attrs:  \n",
    "                    del a_tag.find('img')['alt']\n",
    "            \n",
    "        else:\n",
    "            # Thay thẻ <a> bằng text bên trong nó\n",
    "            a_tag.replace_with(a_tag.text)\n",
    "\n",
    "    # Kết quả sau khi xử lý\n",
    "    result = str(soup).replace('\"/clip/','\"https://unipass.customs.go.kr/clip/')\n",
    "    # print(result)\n",
    "    return result\n"
   ]
  },
  {
   "cell_type": "code",
   "execution_count": 5,
   "metadata": {},
   "outputs": [],
   "source": [
    "def process_section_notes(df,en_col,ko_col):\n",
    "    \n",
    "    def split_text(text):\n",
    "        if not isinstance(text, str):\n",
    "            return []\n",
    "        text = text.replace('\\n \\n', '\\n\\n')\n",
    "        text = text.replace('_x000D__x000D_', '\\n')\n",
    "        # Thay thế 3 hoặc nhiều '\\n' thành '\\n\\n'\n",
    "        text = re.sub(r'\\n{2,}', '\\n', text)\n",
    "        delimiter = '\\n'\n",
    "        parts = text.split(delimiter)\n",
    "        # for part in parts:\n",
    "            # print(part) \n",
    "        return parts\n",
    "    \n",
    "    def get_heading_note_index(parts):\n",
    "        pattern = r\"^\\d{4}\\.\\d{2}\\s*-*\"\n",
    "        matches = [i for i, text in enumerate(parts) if re.match(pattern, text)]\n",
    "        # Lấy index lớn nhất nếu có\n",
    "        if matches:\n",
    "            largest_index = max(matches)\n",
    "            # print(f\"Vị trí có index lớn nhất là: {largest_index}, chuỗi: {parts[largest_index]}\")\n",
    "            return largest_index\n",
    "        else:\n",
    "            # print(\"Không tìm thấy chuỗi phù hợp với pattern.\")\n",
    "            return 1\n",
    "\n",
    "    def process_notes(x):\n",
    "        split = split_text(x)\n",
    "        note_idx = get_heading_note_index(split)\n",
    "        if note_idx == 1:\n",
    "            return split[1:]\n",
    "        else :\n",
    "            return split[note_idx+1:]    \n",
    "        \n",
    "    import regex\n",
    "\n",
    "\n",
    "    df = df.astype({'enheading': 'string'})\n",
    "    def derivedCol(enheading):\n",
    "\n",
    "        findall1 = regex.findall(r\"\\p{N}\", enheading)\n",
    "        if len(findall1) == 4:\n",
    "            return enheading[:2] + \".\" + enheading[2:]\n",
    "        if len(findall1) == 3:\n",
    "            return enheading[1:2] + enheading[:1] + \".\" + enheading[1:]\n",
    "        return None\n",
    "\n",
    "\n",
    "\n",
    "    # Áp dụng hàm\n",
    "    df['en_des_temp'] = df[en_col].apply(lambda x: split_text(x)[0])\n",
    "    df['ko_des_temp'] = df[ko_col].apply(lambda x: split_text(x)[0])\n",
    "    \n",
    "    df.insert(1, \"hs\", df.apply(lambda row : derivedCol(row[\"enheading\"]), axis=1))\n",
    "    df.insert(2, \"en_description\", df.apply(lambda row : row[\"en_des_temp\"].strip()[row[\"en_des_temp\"].strip().find(\" \") + 3:], axis=1))\n",
    "    df.insert(3, \"ko_description\", df.apply(lambda row : row[\"ko_des_temp\"].strip()[row[\"ko_des_temp\"].strip().find(\" \") + 3:], axis=1))\n",
    "    \n",
    "    df['en_notes'] = df[en_col].apply(process_notes)\n",
    "    df['ko_notes'] = df[ko_col].apply(process_notes)\n",
    "    df['nest_parent'] = df['enchapter']\n",
    "    \n",
    "    \n",
    "    return df\n"
   ]
  },
  {
   "cell_type": "code",
   "execution_count": 7,
   "metadata": {},
   "outputs": [],
   "source": [
    "# Gọi hàm xử lý\n",
    "heading_df_2 = process_section_notes(heading_df, 'enheading_notes', 'koheading_notes')\n"
   ]
  },
  {
   "cell_type": "code",
   "execution_count": 9,
   "metadata": {},
   "outputs": [],
   "source": [
    "heading_df_2 = heading_df_2.drop(columns=['enchapter','enheading','enheading_notes', 'koheading_notes','en_des_temp','ko_des_temp'])\n"
   ]
  },
  {
   "cell_type": "code",
   "execution_count": 10,
   "metadata": {},
   "outputs": [
    {
     "name": "stderr",
     "output_type": "stream",
     "text": [
      "C:\\Users\\nguye\\AppData\\Local\\Temp\\ipykernel_10828\\4206761639.py:5: MarkupResemblesLocatorWarning: The input looks more like a filename than markup. You may want to open this file and pass the filehandle into Beautiful Soup.\n",
      "  soup = BeautifulSoup(html, 'html.parser')\n"
     ]
    }
   ],
   "source": [
    "heading_df_2['ko_notes'] = heading_df_2['ko_notes'].apply(lambda x: [fix_atag(html) for html in x])\n",
    "heading_df_2['en_notes'] = heading_df_2['en_notes'].apply(lambda x: [fix_atag(html) for html in x])"
   ]
  },
  {
   "cell_type": "code",
   "execution_count": 12,
   "metadata": {},
   "outputs": [
    {
     "data": {
      "text/html": [
       "<div>\n",
       "<style scoped>\n",
       "    .dataframe tbody tr th:only-of-type {\n",
       "        vertical-align: middle;\n",
       "    }\n",
       "\n",
       "    .dataframe tbody tr th {\n",
       "        vertical-align: top;\n",
       "    }\n",
       "\n",
       "    .dataframe thead th {\n",
       "        text-align: right;\n",
       "    }\n",
       "</style>\n",
       "<table border=\"1\" class=\"dataframe\">\n",
       "  <thead>\n",
       "    <tr style=\"text-align: right;\">\n",
       "      <th></th>\n",
       "      <th>hs</th>\n",
       "      <th>en_description</th>\n",
       "      <th>ko_description</th>\n",
       "      <th>en_notes</th>\n",
       "      <th>ko_notes</th>\n",
       "      <th>nest_parent</th>\n",
       "    </tr>\n",
       "  </thead>\n",
       "  <tbody>\n",
       "    <tr>\n",
       "      <th>0</th>\n",
       "      <td>01.01</td>\n",
       "      <td>Live horses, asses, mules and hinnies (+).</td>\n",
       "      <td>살아 있는 말ㆍ당나귀ㆍ노새ㆍ버새(+)</td>\n",
       "      <td>[This heading covers horses (mares, stallions,...</td>\n",
       "      <td>[이 호에는 말(암컷의 말․번식용 말․거세한 말․새끼말․조랑말)․당나귀․노새와 버새...</td>\n",
       "      <td>01</td>\n",
       "    </tr>\n",
       "    <tr>\n",
       "      <th>1</th>\n",
       "      <td>01.02</td>\n",
       "      <td>Live bovine animals (+).</td>\n",
       "      <td>살아 있는 소(+)</td>\n",
       "      <td>[(1)  Cattle :,   This category covers bovine ...</td>\n",
       "      <td>[(1) 축우(畜牛 : cattle),    이 범주에는 보스(Bos)속의 소과 동...</td>\n",
       "      <td>01</td>\n",
       "    </tr>\n",
       "  </tbody>\n",
       "</table>\n",
       "</div>"
      ],
      "text/plain": [
       "      hs                              en_description        ko_description  \\\n",
       "0  01.01  Live horses, asses, mules and hinnies (+).  살아 있는 말ㆍ당나귀ㆍ노새ㆍ버새(+)   \n",
       "1  01.02                    Live bovine animals (+).            살아 있는 소(+)   \n",
       "\n",
       "                                            en_notes  \\\n",
       "0  [This heading covers horses (mares, stallions,...   \n",
       "1  [(1)  Cattle :,   This category covers bovine ...   \n",
       "\n",
       "                                            ko_notes nest_parent  \n",
       "0  [이 호에는 말(암컷의 말․번식용 말․거세한 말․새끼말․조랑말)․당나귀․노새와 버새...          01  \n",
       "1  [(1) 축우(畜牛 : cattle),    이 범주에는 보스(Bos)속의 소과 동...          01  "
      ]
     },
     "execution_count": 12,
     "metadata": {},
     "output_type": "execute_result"
    }
   ],
   "source": [
    "heading_df_2.head(2)"
   ]
  },
  {
   "cell_type": "code",
   "execution_count": 11,
   "metadata": {},
   "outputs": [],
   "source": [
    "heading_df_2.to_excel(\"ko_en_heading_notes_2024.xlsx\",index = False)"
   ]
  }
 ],
 "metadata": {
  "kernelspec": {
   "display_name": "base",
   "language": "python",
   "name": "python3"
  },
  "language_info": {
   "codemirror_mode": {
    "name": "ipython",
    "version": 3
   },
   "file_extension": ".py",
   "mimetype": "text/x-python",
   "name": "python",
   "nbconvert_exporter": "python",
   "pygments_lexer": "ipython3",
   "version": "3.12.4"
  }
 },
 "nbformat": 4,
 "nbformat_minor": 2
}
