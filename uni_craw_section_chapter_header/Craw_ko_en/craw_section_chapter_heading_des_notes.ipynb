{
 "cells": [
  {
   "cell_type": "code",
   "execution_count": 2,
   "metadata": {},
   "outputs": [],
   "source": [
    "import requests\n",
    "from bs4 import BeautifulSoup\n",
    "import pandas as pd"
   ]
  },
  {
   "cell_type": "code",
   "execution_count": null,
   "metadata": {},
   "outputs": [],
   "source": [
    "def detailinforequest():\n",
    "    # URL của API\n",
    "    url = 'https://unipass.customs.go.kr/clip/prlstclsfsrch/retrievePrlstClsfCaseDtl.do'\n",
    "\n",
    "    # Headers\n",
    "    headers = {\n",
    "        'Accept': 'text/html, */*; q=0.01',\n",
    "        'Accept-Language': 'en-US,en;q=0.9,vi;q=0.8,vi-VN;q=0.7',\n",
    "        'Connection': 'keep-alive',\n",
    "        'Content-Type': 'application/x-www-form-urlencoded; charset=UTF-8',\n",
    "        'Cookie': 'WMONID=N_4A3dINH0I; JSESSIONID=0001O2y8S-yyQQ_lga-knblPV6Lb2QN6662ivRFJ_jK2FPRlLOTKNEsnuhZe_QxBEKq-8U03_kah8EgUgb-_Exa4dmevvhJHEKeNuIq9prRxpJht6ugFASENgz3p_AdMPw4_:eul21',\n",
    "        'DNT': '1',\n",
    "        'Origin': 'https://unipass.customs.go.kr',\n",
    "        'Referer': 'https://unipass.customs.go.kr/clip/index.do',\n",
    "        'Sec-Fetch-Dest': 'empty',\n",
    "        'Sec-Fetch-Mode': 'cors',\n",
    "        'Sec-Fetch-Site': 'same-origin',\n",
    "        'User-Agent': 'Mozilla/5.0 (Windows NT 10.0; Win64; x64) AppleWebKit/537.36 (KHTML, like Gecko) Chrome/129.0.0.0 Safari/537.36',\n",
    "        'X-Requested-With': 'XMLHttpRequest',\n",
    "        'isAjax': 'true',\n",
    "        'sec-ch-ua': '\"Google Chrome\";v=\"129\", \"Not=A?Brand\";v=\"8\", \"Chromium\";v=\"129\"',\n",
    "        'sec-ch-ua-mobile': '?0',\n",
    "        'sec-ch-ua-platform': '\"Windows\"'\n",
    "    }\n",
    "\n",
    "    # Dữ liệu trong body của yêu cầu\n",
    "    payload = {\n",
    "        'cntyCd': 'VN',\n",
    "        'lngTpcd': 'eng',\n",
    "        'compareCrrspndNation': '',\n",
    "        'sctYear': '20240101',\n",
    "        'hstdYear': '20240101',\n",
    "        'hsfdYear': '',\n",
    "        'manlOrgnTpcd': '01',\n",
    "        'aplyYy': '2024',\n",
    "        'tabTpcd': '3',\n",
    "        'hsGnprSrno': '1',\n",
    "        'searchVal': '0103',\n",
    "        'euTp': '',\n",
    "        'tmpManlOrgnTpcd': ''\n",
    "    }\n",
    "\n",
    "\n",
    "    # Gửi yêu cầu POST với headers và dữ liệu body\n",
    "    response = requests.post(url, headers=headers, data=payload,timeout=60)\n",
    "\n",
    "    # Kiểm tra phản hồi từ API\n",
    "    if response.status_code == 200:\n",
    "        return response.text\n",
    "    else:\n",
    "        print(f\"Row {\"index\"} Lỗi\")\n",
    "        return None"
   ]
  },
  {
   "cell_type": "code",
   "execution_count": null,
   "metadata": {},
   "outputs": [],
   "source": [
    "def extract_data_from_html(html_content):\n",
    "    soup = BeautifulSoup(html_content, 'html.parser')\n",
    "    result = {}\n",
    "    for table_type in ('org','eng','kor'):\n",
    "        table = soup.find(\"table\", class_=table_type)\n",
    "        # Tìm thẻ <p> chứa từ khóa \"상세결과 항목 :\"\n",
    "        all_ths = table.findAll('th')\n",
    "        for th in all_ths: \n",
    "            if th.get_text() == \"관련 이미지\":\n",
    "                image_elements = table.find('th', text='관련 이미지').find_next_sibling('td').find_all('img')\n",
    "                image_links = [img['src'] for img in image_elements]\n",
    "                result[f\"{th.get_text()}_{table_type}\"] = image_links\n",
    "            # print(f\"Đang xử lý: {catalog}\")\n",
    "            else: \n",
    "                elems_html_info = table.find('th', text=th.get_text()).find_next_sibling('td')\n",
    "                for elem in elems_html_info:\n",
    "                    if elem.name == 'a':  # Thay đổi thẻ <a> thành văn bản\n",
    "                        elem.replace_with(elem.text)\n",
    "                    elif elem.name == 'br':  # Giữ lại thẻ <br>\n",
    "                        continue\n",
    "                elem_text = elems_html_info.decode_contents().replace('\\r', '').replace('\\t', '').replace('\\n', '').strip()\n",
    "                result[f\"{th.get_text()}_{table_type}\"] = elem_text\n",
    "    print(result)\n",
    "    return result"
   ]
  }
 ],
 "metadata": {
  "kernelspec": {
   "display_name": "base",
   "language": "python",
   "name": "python3"
  },
  "language_info": {
   "codemirror_mode": {
    "name": "ipython",
    "version": 3
   },
   "file_extension": ".py",
   "mimetype": "text/x-python",
   "name": "python",
   "nbconvert_exporter": "python",
   "pygments_lexer": "ipython3",
   "version": "3.12.4"
  }
 },
 "nbformat": 4,
 "nbformat_minor": 2
}
