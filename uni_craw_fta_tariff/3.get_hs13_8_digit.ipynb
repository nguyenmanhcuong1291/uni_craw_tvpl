{
 "cells": [
  {
   "cell_type": "code",
   "execution_count": 2,
   "metadata": {},
   "outputs": [],
   "source": [
    "import requests\n",
    "from bs4 import BeautifulSoup\n",
    "import math\n",
    "import concurrent.futures\n",
    "import json\n",
    "import os\n",
    "import time\n",
    "import pandas as pd"
   ]
  },
  {
   "cell_type": "code",
   "execution_count": 3,
   "metadata": {},
   "outputs": [
    {
     "name": "stdout",
     "output_type": "stream",
     "text": [
      "Total links for craw: 11982\n"
     ]
    }
   ],
   "source": [
    "with open(\"all_10digit_info.csv\", \"r\", encoding=\"utf-8\") as f:\n",
    "    links = [line.strip() for line in f if line.strip()]\n",
    "print(f\"Total links for craw: {len(links)-1}\")"
   ]
  },
  {
   "cell_type": "code",
   "execution_count": 4,
   "metadata": {},
   "outputs": [],
   "source": [
    "df = pd.read_csv(\"all_10digit_info.csv\" , encoding=\"utf-8\",dtype=str)"
   ]
  },
  {
   "cell_type": "code",
   "execution_count": 5,
   "metadata": {},
   "outputs": [],
   "source": [
    "links = df['link'].tolist()"
   ]
  },
  {
   "cell_type": "code",
   "execution_count": 6,
   "metadata": {},
   "outputs": [],
   "source": [
    "output_dir = \"org2\"\n",
    "os.makedirs(output_dir, exist_ok=True)\n",
    "\n",
    "state_file_template = os.path.join(output_dir, \"state_{}.json\")\n",
    "output_file_template = os.path.join(output_dir, \"output_{}.txt\")\n",
    "error_file_template = os.path.join(output_dir, \"error_{}.txt\")\n",
    "\n",
    "def save_state(thread_index, start_index):\n",
    "    \"\"\"Lưu trạng thái hiện tại của thread vào file.\"\"\"\n",
    "    with open(state_file_template.format(thread_index), \"w\") as f:\n",
    "        json.dump({\"start_index\": start_index}, f)\n",
    "\n",
    "def load_state(thread_index):\n",
    "    \"\"\"Tải trạng thái đã lưu từ file.\"\"\"\n",
    "    try:\n",
    "        with open(state_file_template.format(thread_index), \"r\") as f:\n",
    "            states = json.load(f)\n",
    "            return states.get(\"start_index\", 0)\n",
    "    except (FileNotFoundError, json.JSONDecodeError):\n",
    "        return 0  # Nếu chưa có file hoặc lỗi load state, bắt đầu từ đầu\n",
    "\n",
    "def fetch_with_retry(url, retries=5, delay=5):\n",
    "    \"\"\"Gửi request với retry khi lỗi.\"\"\"\n",
    "    for attempt in range(retries):\n",
    "        try:\n",
    "            response = requests.get(url, timeout=60)\n",
    "            response.encoding = 'utf-8'\n",
    "            if response.status_code == 200:\n",
    "                return response\n",
    "        except requests.RequestException as e:\n",
    "            print(f\"Request error: {e} - Retrying {attempt+1}/{retries}...\")\n",
    "            time.sleep(delay)\n",
    "    return None"
   ]
  },
  {
   "cell_type": "code",
   "execution_count": 22,
   "metadata": {},
   "outputs": [],
   "source": [
    "def scrape_links(sub_links, thread_index, start_index):\n",
    "    \"\"\"Xử lý từng nhóm link và lưu kết quả.\"\"\"\n",
    "    batch_results = []\n",
    "\n",
    "    for idx, link in enumerate(sub_links[start_index:], start=start_index):\n",
    "        hs10digit = link[-10:]\n",
    "        print(f\"Thread {thread_index} - Processing: {hs10digit}\")\n",
    "\n",
    "        response = fetch_with_retry(link)\n",
    "        if response is None:\n",
    "            error_msg = {\"link\": link, \"error\": \"Failed to fetch after 3 retries\"}\n",
    "            print(f\"Thread {thread_index} - {error_msg}\") \n",
    "            with open(error_file_template.format(thread_index), \"a\", encoding='utf-8') as f:\n",
    "                f.write(json.dumps(error_msg, ensure_ascii=False) + \"\\n\")\n",
    "            continue\n",
    "\n",
    "        soup = BeautifulSoup(response.text, 'html.parser')\n",
    "        tables = soup.find_all('table', class_=\"zebra\")\n",
    "\n",
    "        if len(tables) < 2:\n",
    "            print(f\"Thread {thread_index} - No valid tables found for {hs10digit}\")\n",
    "            continue\n",
    "\n",
    "        table13_trs, table8_trs = tables[0].find_all('tr'), tables[1].find_all('tr')\n",
    "\n",
    "        if len(table13_trs) > 1:\n",
    "            for tr in table13_trs[1:]:\n",
    "                hs13info ={\n",
    "                        \"hs10digit\": hs10digit,\n",
    "                        \"hs13digit\": tr.find_all('td')[0].text,\n",
    "                        \"hs13_commodity_name\": tr.find_all('td')[1].get_text().strip()\n",
    "                    }\n",
    "                batch_results.append(json.dumps(hs13info, ensure_ascii=False))\n",
    "        if len(table8_trs) > 1:\n",
    "            for tr in table8_trs[1:]:\n",
    "                hs8info = {\n",
    "                        \"hs10digit\": hs10digit,\n",
    "                        \"hs8digit\": tr.find_all('td')[0].text,\n",
    "                        \"hs8_commodity_name\": tr.find_all('td')[1].get_text().strip()\n",
    "                    }\n",
    "                batch_results.append(json.dumps(hs8info, ensure_ascii=False))\n",
    "\n",
    "        if len(batch_results) > 0:\n",
    "            with open(output_file_template.format(thread_index), \"a\", encoding='utf-8') as f:\n",
    "                f.write(\"\\n\".join(batch_results) + \"\\n\")\n",
    "            batch_results.clear()\n",
    "\n",
    "        save_state(thread_index, idx + 1)\n",
    "\n",
    "    # Ghi dữ liệu còn lại trong batch\n",
    "    if batch_results:\n",
    "        with open(output_file_template.format(thread_index), \"a\", encoding='utf-8') as f:\n",
    "            f.writelines(\"\\n\".join(batch_results) + \"\\n\")\n"
   ]
  },
  {
   "cell_type": "code",
   "execution_count": 7,
   "metadata": {},
   "outputs": [],
   "source": [
    "chunk_size = 1000\n",
    "link_chunks = [links[i:i + chunk_size] for i in range(0, len(links), chunk_size)]"
   ]
  },
  {
   "cell_type": "code",
   "execution_count": null,
   "metadata": {},
   "outputs": [
    {
     "name": "stdout",
     "output_type": "stream",
     "text": [
      "Thread 11 - Processing: 9801001000\n",
      "Thread 11 - Processing: 9801009000\n",
      "Thread 11 - Processing: 9801301000\n",
      "Thread 11 - Processing: 9801309000\n",
      "Thread 11 - Processing: 9803001000\n",
      "Thread 11 - Processing: 9803002000\n",
      "Thread 11 - Processing: 9803003000\n",
      "Thread 11 - Processing: 9803009000\n"
     ]
    }
   ],
   "source": [
    "# Tải trạng thái đã lưu\n",
    "saved_states = [load_state(i) for i in range(len(link_chunks))]\n",
    "\n",
    "# Threading\n",
    "with concurrent.futures.ThreadPoolExecutor(max_workers=min(len(link_chunks), 15)) as executor:\n",
    "    futures = {\n",
    "        executor.submit(scrape_links, chunk, idx, saved_states[idx]): idx\n",
    "        for idx, chunk in enumerate(link_chunks)\n",
    "    }\n",
    "    for future in concurrent.futures.as_completed(futures):\n",
    "        thread_index = futures[future]\n",
    "        try:\n",
    "            future.result()\n",
    "        except Exception as e:\n",
    "            print(f\"Thread {thread_index} encountered an error: {e}\")"
   ]
  },
  {
   "cell_type": "code",
   "execution_count": 24,
   "metadata": {},
   "outputs": [],
   "source": [
    "# link  = 'https://www.transcustoms.com/China_HS_Code/China_HS_code.asp?HS_Code=0207142902'\n",
    "# hs10digit = link[-10:]\n",
    "# # print(f\"Thread {thread_index} - Processing: {hs4digit}\")\n",
    "\n",
    "# response = fetch_with_retry(link)\n",
    "# # if response is None:\n",
    "# #     error_list.append({\"link\": link, \"error\": \"Failed to fetch\"})\n",
    "# #     continue\n",
    "# soup = BeautifulSoup(response.text, 'html.parser')\n",
    "# tables = soup.find_all('table', class_=\"zebra\")\n",
    "# table13 = tables[0]\n",
    "# table8 = tables[1]\n",
    "# # if not info:\n",
    "# #     continue\n",
    "# table13_trs = table13.find_all('tr') \n",
    "# table8_trs = table8.find_all('tr') \n",
    "# hs13info = []\n",
    "# if len(table13_trs) == 1:\n",
    "#     True\n",
    "# else:\n",
    "#     for tr in table13_trs[1:]:\n",
    "#         hs13row = {\n",
    "#             \"hs10digit\": hs10digit,\n",
    "#             \"hs13digit\": tr.find_all('td')[0].text,\n",
    "#             \"hs13_commodity_name\": tr.find_all('td')[1].get_text().replace('\\n','').replace('\\r','').replace('\\t','').strip()\n",
    "#         }\n",
    "#         hs13info.append(hs13row)\n",
    "# hs8info = []\n",
    "# if len(table8_trs) == 1:\n",
    "#     True\n",
    "# else:\n",
    "#     for tr in table8_trs[1:]:\n",
    "#         hs8row = {\n",
    "#             \"hs10digit\": hs10digit,\n",
    "#             \"hs8digit\": tr.find_all('td')[0].text,\n",
    "#             \"hs8_commodity_name\": tr.find_all('td')[1].get_text().replace('\\n','').replace('\\r','').replace('\\t','').strip()\n",
    "#         }\n",
    "#         hs8info.append(hs8row)"
   ]
  },
  {
   "cell_type": "code",
   "execution_count": null,
   "metadata": {},
   "outputs": [
    {
     "name": "stdout",
     "output_type": "stream",
     "text": [
      "[Errno 2] No such file or directory: 'org/error_stt_0.txt'\n",
      "173848\n"
     ]
    }
   ],
   "source": [
    "import pandas as pd\n",
    "directory = 'org2/'  \n",
    "\n",
    "err_file_names = [f'error_stt_{i}.txt' for i in range(len(link_chunks))]\n",
    "all_err_data = []\n",
    "try:\n",
    "    for file_name in err_file_names:\n",
    "        file_path = os.path.join(directory, file_name)\n",
    "        with open(file_path, 'r', encoding='utf-8') as file:\n",
    "            data = [json.loads(line) for line in file]\n",
    "            all_err_data.extend(data) \n",
    "            \n",
    "    df = pd.DataFrame(all_err_data)\n",
    "    print(len(df))\n",
    "\n",
    "    df.to_csv('all_craw_13_8_digit_error_stt.csv', index=False, encoding='utf-8')\n",
    "except Exception as e:\n",
    "    print(e)\n",
    "\n",
    "output_file_names = [f'output_{i}.txt' for i in range(len(link_chunks))]\n",
    "all_output_data = []\n",
    "try:\n",
    "# Đọc và xử lý từng file\n",
    "    for file_name in output_file_names:\n",
    "        file_path = os.path.join(directory, file_name)\n",
    "        with open(file_path, 'r', encoding='utf-8') as file:\n",
    "            data = [json.loads(line) for line in file]\n",
    "            all_output_data.extend(data)  \n",
    "    df2 = pd.DataFrame(all_output_data)\n",
    "    print(len(df2))\n",
    "\n",
    "    df2.to_csv('all_13_8_digit_info.csv', index=False, encoding='utf-8')\n",
    "except Exception as e:\n",
    "    print(e)"
   ]
  },
  {
   "cell_type": "code",
   "execution_count": 9,
   "metadata": {},
   "outputs": [
    {
     "name": "stdout",
     "output_type": "stream",
     "text": [
      "Đã lưu file Excel với Unicode và định dạng Text thành công!\n"
     ]
    }
   ],
   "source": [
    "import pandas as pd\n",
    "\n",
    "# Đọc file CSV với encoding UTF-8\n",
    "df2 = pd.read_csv(\"all_13_8_digit_info.csv\", dtype=str, encoding=\"utf-8\")\n",
    "\n",
    "# Ghi file Excel với `openpyxl`\n",
    "with pd.ExcelWriter(\"all_13_8_digit_info.xlsx\", engine=\"openpyxl\") as writer:\n",
    "    df2.to_excel(writer, sheet_name=\"Sheet1\", index=False)\n",
    "    \n",
    "    # Lấy sheet và workbook\n",
    "    workbook = writer.book\n",
    "    worksheet = writer.sheets[\"Sheet1\"]\n",
    "    \n",
    "    # Định dạng toàn bộ cột là \"Text\"\n",
    "    for col in worksheet.iter_cols():\n",
    "        for cell in col:\n",
    "            cell.number_format = \"@\"\n",
    "\n",
    "print(\"Đã lưu file Excel với Unicode và định dạng Text thành công!\")\n"
   ]
  }
 ],
 "metadata": {
  "kernelspec": {
   "display_name": "base",
   "language": "python",
   "name": "python3"
  },
  "language_info": {
   "codemirror_mode": {
    "name": "ipython",
    "version": 3
   },
   "file_extension": ".py",
   "mimetype": "text/x-python",
   "name": "python",
   "nbconvert_exporter": "python",
   "pygments_lexer": "ipython3",
   "version": "3.12.4"
  }
 },
 "nbformat": 4,
 "nbformat_minor": 2
}
