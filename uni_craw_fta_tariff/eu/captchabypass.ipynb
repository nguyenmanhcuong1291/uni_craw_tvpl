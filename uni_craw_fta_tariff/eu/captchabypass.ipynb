{
 "cells": [
  {
   "cell_type": "code",
   "execution_count": null,
   "metadata": {},
   "outputs": [
    {
     "ename": "NoSuchElementException",
     "evalue": "Message: no such element: Unable to locate element: {\"method\":\"css selector\",\"selector\":\"[name=\"wt_captcha_slider_text\"]\"}\n  (Session info: chrome=134.0.6998.118); For documentation on this error, please visit: https://www.selenium.dev/documentation/webdriver/troubleshooting/errors#no-such-element-exception\nStacktrace:\n\tGetHandleVerifier [0x00007FF6A2094C25+3179557]\n\t(No symbol) [0x00007FF6A1CF88A0]\n\t(No symbol) [0x00007FF6A1B891CA]\n\t(No symbol) [0x00007FF6A1BDFA67]\n\t(No symbol) [0x00007FF6A1BDFC9C]\n\t(No symbol) [0x00007FF6A1C33627]\n\t(No symbol) [0x00007FF6A1C07C6F]\n\t(No symbol) [0x00007FF6A1C302F3]\n\t(No symbol) [0x00007FF6A1C07A03]\n\t(No symbol) [0x00007FF6A1BD06D0]\n\t(No symbol) [0x00007FF6A1BD1983]\n\tGetHandleVerifier [0x00007FF6A20F67CD+3579853]\n\tGetHandleVerifier [0x00007FF6A210D1D2+3672530]\n\tGetHandleVerifier [0x00007FF6A2102153+3627347]\n\tGetHandleVerifier [0x00007FF6A1E6092A+868650]\n\t(No symbol) [0x00007FF6A1D02FFF]\n\t(No symbol) [0x00007FF6A1CFF4A4]\n\t(No symbol) [0x00007FF6A1CFF646]\n\t(No symbol) [0x00007FF6A1CEEAA9]\n\tBaseThreadInitThunk [0x00007FFD5619E8D7+23]\n\tRtlUserThreadStart [0x00007FFD5741BF6C+44]\n",
     "output_type": "error",
     "traceback": [
      "\u001b[1;31m---------------------------------------------------------------------------\u001b[0m",
      "\u001b[1;31mNoSuchElementException\u001b[0m                    Traceback (most recent call last)",
      "Cell \u001b[1;32mIn[4], line 16\u001b[0m\n\u001b[0;32m     13\u001b[0m time\u001b[38;5;241m.\u001b[39msleep(\u001b[38;5;241m2\u001b[39m)\n\u001b[0;32m     15\u001b[0m \u001b[38;5;66;03m# Tìm thanh trượt slider\u001b[39;00m\n\u001b[1;32m---> 16\u001b[0m slider \u001b[38;5;241m=\u001b[39m driver\u001b[38;5;241m.\u001b[39mfind_element(By\u001b[38;5;241m.\u001b[39mNAME, \u001b[38;5;124m\"\u001b[39m\u001b[38;5;124mwt_captcha_slider_text\u001b[39m\u001b[38;5;124m\"\u001b[39m)  \u001b[38;5;66;03m# Cập nhật class thực tế\u001b[39;00m\n\u001b[0;32m     18\u001b[0m \u001b[38;5;66;03m# Di chuyển slider\u001b[39;00m\n\u001b[0;32m     19\u001b[0m action \u001b[38;5;241m=\u001b[39m ActionChains(driver)\n",
      "File \u001b[1;32mc:\\Users\\nguye\\anaconda3\\Lib\\site-packages\\selenium\\webdriver\\remote\\webdriver.py:748\u001b[0m, in \u001b[0;36mWebDriver.find_element\u001b[1;34m(self, by, value)\u001b[0m\n\u001b[0;32m    745\u001b[0m     by \u001b[38;5;241m=\u001b[39m By\u001b[38;5;241m.\u001b[39mCSS_SELECTOR\n\u001b[0;32m    746\u001b[0m     value \u001b[38;5;241m=\u001b[39m \u001b[38;5;124mf\u001b[39m\u001b[38;5;124m'\u001b[39m\u001b[38;5;124m[name=\u001b[39m\u001b[38;5;124m\"\u001b[39m\u001b[38;5;132;01m{\u001b[39;00mvalue\u001b[38;5;132;01m}\u001b[39;00m\u001b[38;5;124m\"\u001b[39m\u001b[38;5;124m]\u001b[39m\u001b[38;5;124m'\u001b[39m\n\u001b[1;32m--> 748\u001b[0m \u001b[38;5;28;01mreturn\u001b[39;00m \u001b[38;5;28mself\u001b[39m\u001b[38;5;241m.\u001b[39mexecute(Command\u001b[38;5;241m.\u001b[39mFIND_ELEMENT, {\u001b[38;5;124m\"\u001b[39m\u001b[38;5;124musing\u001b[39m\u001b[38;5;124m\"\u001b[39m: by, \u001b[38;5;124m\"\u001b[39m\u001b[38;5;124mvalue\u001b[39m\u001b[38;5;124m\"\u001b[39m: value})[\u001b[38;5;124m\"\u001b[39m\u001b[38;5;124mvalue\u001b[39m\u001b[38;5;124m\"\u001b[39m]\n",
      "File \u001b[1;32mc:\\Users\\nguye\\anaconda3\\Lib\\site-packages\\selenium\\webdriver\\remote\\webdriver.py:354\u001b[0m, in \u001b[0;36mWebDriver.execute\u001b[1;34m(self, driver_command, params)\u001b[0m\n\u001b[0;32m    352\u001b[0m response \u001b[38;5;241m=\u001b[39m \u001b[38;5;28mself\u001b[39m\u001b[38;5;241m.\u001b[39mcommand_executor\u001b[38;5;241m.\u001b[39mexecute(driver_command, params)\n\u001b[0;32m    353\u001b[0m \u001b[38;5;28;01mif\u001b[39;00m response:\n\u001b[1;32m--> 354\u001b[0m     \u001b[38;5;28mself\u001b[39m\u001b[38;5;241m.\u001b[39merror_handler\u001b[38;5;241m.\u001b[39mcheck_response(response)\n\u001b[0;32m    355\u001b[0m     response[\u001b[38;5;124m\"\u001b[39m\u001b[38;5;124mvalue\u001b[39m\u001b[38;5;124m\"\u001b[39m] \u001b[38;5;241m=\u001b[39m \u001b[38;5;28mself\u001b[39m\u001b[38;5;241m.\u001b[39m_unwrap_value(response\u001b[38;5;241m.\u001b[39mget(\u001b[38;5;124m\"\u001b[39m\u001b[38;5;124mvalue\u001b[39m\u001b[38;5;124m\"\u001b[39m, \u001b[38;5;28;01mNone\u001b[39;00m))\n\u001b[0;32m    356\u001b[0m     \u001b[38;5;28;01mreturn\u001b[39;00m response\n",
      "File \u001b[1;32mc:\\Users\\nguye\\anaconda3\\Lib\\site-packages\\selenium\\webdriver\\remote\\errorhandler.py:229\u001b[0m, in \u001b[0;36mErrorHandler.check_response\u001b[1;34m(self, response)\u001b[0m\n\u001b[0;32m    227\u001b[0m         alert_text \u001b[38;5;241m=\u001b[39m value[\u001b[38;5;124m\"\u001b[39m\u001b[38;5;124malert\u001b[39m\u001b[38;5;124m\"\u001b[39m]\u001b[38;5;241m.\u001b[39mget(\u001b[38;5;124m\"\u001b[39m\u001b[38;5;124mtext\u001b[39m\u001b[38;5;124m\"\u001b[39m)\n\u001b[0;32m    228\u001b[0m     \u001b[38;5;28;01mraise\u001b[39;00m exception_class(message, screen, stacktrace, alert_text)  \u001b[38;5;66;03m# type: ignore[call-arg]  # mypy is not smart enough here\u001b[39;00m\n\u001b[1;32m--> 229\u001b[0m \u001b[38;5;28;01mraise\u001b[39;00m exception_class(message, screen, stacktrace)\n",
      "\u001b[1;31mNoSuchElementException\u001b[0m: Message: no such element: Unable to locate element: {\"method\":\"css selector\",\"selector\":\"[name=\"wt_captcha_slider_text\"]\"}\n  (Session info: chrome=134.0.6998.118); For documentation on this error, please visit: https://www.selenium.dev/documentation/webdriver/troubleshooting/errors#no-such-element-exception\nStacktrace:\n\tGetHandleVerifier [0x00007FF6A2094C25+3179557]\n\t(No symbol) [0x00007FF6A1CF88A0]\n\t(No symbol) [0x00007FF6A1B891CA]\n\t(No symbol) [0x00007FF6A1BDFA67]\n\t(No symbol) [0x00007FF6A1BDFC9C]\n\t(No symbol) [0x00007FF6A1C33627]\n\t(No symbol) [0x00007FF6A1C07C6F]\n\t(No symbol) [0x00007FF6A1C302F3]\n\t(No symbol) [0x00007FF6A1C07A03]\n\t(No symbol) [0x00007FF6A1BD06D0]\n\t(No symbol) [0x00007FF6A1BD1983]\n\tGetHandleVerifier [0x00007FF6A20F67CD+3579853]\n\tGetHandleVerifier [0x00007FF6A210D1D2+3672530]\n\tGetHandleVerifier [0x00007FF6A2102153+3627347]\n\tGetHandleVerifier [0x00007FF6A1E6092A+868650]\n\t(No symbol) [0x00007FF6A1D02FFF]\n\t(No symbol) [0x00007FF6A1CFF4A4]\n\t(No symbol) [0x00007FF6A1CFF646]\n\t(No symbol) [0x00007FF6A1CEEAA9]\n\tBaseThreadInitThunk [0x00007FFD5619E8D7+23]\n\tRtlUserThreadStart [0x00007FFD5741BF6C+44]\n"
     ]
    }
   ],
   "source": [
    "from selenium import webdriver\n",
    "from selenium.webdriver.common.by import By\n",
    "from selenium.webdriver.chrome.service import Service\n",
    "from webdriver_manager.chrome import ChromeDriverManager\n",
    "import time\n",
    "import cv2\n",
    "import pytesseract\n",
    "import requests\n",
    "import os\n",
    "from word2number import w2n\n",
    "import re\n",
    "\n",
    "# Khởi tạo trình duyệt\n",
    "driver = webdriver.Chrome(service=Service(ChromeDriverManager().install()))\n",
    "\n",
    "# Mở trang CAPTCHA\n",
    "driver.get(\"URL_CỦA_TRANG_CAPTCHA\")  # Cập nhật URL thực tế\n",
    "\n",
    "# Đợi CAPTCHA hiển thị (tùy trang web có thể cần điều chỉnh thời gian)\n",
    "time.sleep(3)\n",
    "\n",
    "# Tìm ảnh CAPTCHA\n",
    "captcha_img = driver.find_element(By.XPATH, \"//img[contains(@src, 'captcha')]\")  # Điều chỉnh XPATH nếu cần\n",
    "captcha_url = captcha_img.get_attribute(\"src\")\n",
    "\n",
    "# Tải ảnh về máy\n",
    "captcha_path = \"captcha.jpg\"\n",
    "response = requests.get(captcha_url)\n",
    "with open(captcha_path, \"wb\") as file:\n",
    "    file.write(response.content)\n",
    "\n",
    "# Đọc ảnh CAPTCHA\n",
    "image = cv2.imread(captcha_path)\n",
    "\n",
    "# Tiền xử lý ảnh để cải thiện OCR\n",
    "gray = cv2.cvtColor(image, cv2.COLOR_BGR2GRAY)\n",
    "thresh = cv2.threshold(gray, 0, 255, cv2.THRESH_BINARY + cv2.THRESH_OTSU)[1]\n",
    "\n",
    "# Nhận diện văn bản từ ảnh\n",
    "text = pytesseract.image_to_string(thresh)\n",
    "print(\"Văn bản trích xuất:\", text)\n",
    "\n",
    "# Tìm số trong văn bản (bao gồm cả dạng chữ)\n",
    "words = text.lower().split()\n",
    "number_list = []\n",
    "\n",
    "for word in words:\n",
    "    if word.isdigit():\n",
    "        number_list.append(int(word))\n",
    "    else:\n",
    "        try:\n",
    "            number_list.append(w2n.word_to_num(word))\n",
    "        except ValueError:\n",
    "            pass  # Bỏ qua nếu không chuyển đổi được\n",
    "\n",
    "# Lấy số nhỏ hơn trong danh sách\n",
    "if len(number_list) >= 2:\n",
    "    lower_number = min(number_list)\n",
    "    print(\"Số cần chọn:\", lower_number)\n",
    "else:\n",
    "    print(\"Không tìm thấy đủ số hợp lệ!\")\n",
    "    driver.quit()\n",
    "    exit()\n"
   ]
  },
  {
   "cell_type": "code",
   "execution_count": null,
   "metadata": {},
   "outputs": [],
   "source": [
    "from selenium.webdriver.common.action_chains import ActionChains\n",
    "\n",
    "# Tìm thanh trượt slider\n",
    "slider = driver.find_element(By.CLASS_NAME, \"slider-selector\")  # Cập nhật class thực tế\n",
    "\n",
    "# Di chuyển slider\n",
    "action = ActionChains(driver)\n",
    "\n",
    "# Điều chỉnh khoảng cách kéo (cần thử nghiệm)\n",
    "move_distance = lower_number * 10\n",
    "action.click_and_hold(slider).move_by_offset(move_distance, 0).release().perform()\n",
    "\n",
    "# Nhấn nút Submit\n",
    "submit_button = driver.find_element(By.XPATH, \"//button[contains(text(), 'Submit')]\")\n",
    "submit_button.click()\n",
    "\n",
    "# Đợi một chút để kiểm tra kết quả\n",
    "time.sleep(3)\n",
    "\n",
    "# Đóng trình duyệt\n",
    "driver.quit()\n"
   ]
  },
  {
   "cell_type": "code",
   "execution_count": 44,
   "metadata": {},
   "outputs": [],
   "source": [
    "from selenium import webdriver\n",
    "from selenium.common.exceptions import WebDriverException"
   ]
  },
  {
   "cell_type": "code",
   "execution_count": null,
   "metadata": {},
   "outputs": [
    {
     "name": "stdout",
     "output_type": "stream",
     "text": [
      "🔓 Mở trình duyệt để nhập captcha...\n",
      "⌨️ Vui lòng nhập captcha, sau đó đóng trình duyệt.\n"
     ]
    }
   ],
   "source": [
    "# Mở trình duyệt để nhập captcha\n",
    "print(\"🔓 Mở trình duyệt để nhập captcha...\")\n",
    "driver = webdriver.Chrome()\n",
    "driver.get(\"https://trade.ec.europa.eu/access-to-markets/en/search?product=0101&origin=VN&destination=AT\")  # Thay bằng URL cần mở\n",
    "print(\"⌨️ Vui lòng nhập captcha, sau đó đóng trình duyệt.\")\n",
    "\n",
    "# Đo thời gian bắt đầu\n",
    "start_captcha_time = time.time()\n",
    "wait_time = 600  # 10 phút (600 giây)\n",
    "\n",
    "# Chờ người dùng tự đóng trình duyệt, nếu quá 10 phút thì tự động đóng\n",
    "while True:\n",
    "    try:\n",
    "        if time.time() - start_captcha_time > wait_time:\n",
    "            print(\"⏳ Quá 10 phút, tự động đóng trình duyệt.\")\n",
    "            driver.quit()\n",
    "            break  # Thoát khỏi vòng lặp\n",
    "\n",
    "        # Kiểm tra trình duyệt còn mở không\n",
    "        driver.title  \n",
    "        \n",
    "        # Kiểm tra trang có bị treo không\n",
    "        if driver.execute_script(\"return document.readyState\") != \"complete\":\n",
    "            print(\"⚠️ Trang web có thể bị treo, chờ thêm...\")\n",
    "        \n",
    "    except WebDriverException:\n",
    "        print(\"✅ Trình duyệt đã được đóng.\")\n",
    "        break  # Nếu trình duyệt bị đóng, thoát vòng lặp\n",
    "    \n",
    "    time.sleep(5)  # Tránh vòng lặp chạy quá nhanh, gây tải CPU"
   ]
  }
 ],
 "metadata": {
  "kernelspec": {
   "display_name": "base",
   "language": "python",
   "name": "python3"
  },
  "language_info": {
   "codemirror_mode": {
    "name": "ipython",
    "version": 3
   },
   "file_extension": ".py",
   "mimetype": "text/x-python",
   "name": "python",
   "nbconvert_exporter": "python",
   "pygments_lexer": "ipython3",
   "version": "3.12.4"
  }
 },
 "nbformat": 4,
 "nbformat_minor": 2
}
