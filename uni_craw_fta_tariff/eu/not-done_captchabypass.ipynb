{
 "cells": [
  {
   "cell_type": "code",
   "execution_count": 1,
   "metadata": {},
   "outputs": [],
   "source": [
    "from bs4 import BeautifulSoup\n",
    "import base64"
   ]
  },
  {
   "cell_type": "code",
   "execution_count": 2,
   "metadata": {},
   "outputs": [],
   "source": [
    "import pytesseract\n",
    "from PIL import Image, ImageFilter\n",
    "import cv2\n",
    "from collections import Counter\n",
    "pytesseract.pytesseract.tesseract_cmd = r\"C:\\Program Files\\Tesseract-OCR\\tesseract.exe\""
   ]
  },
  {
   "cell_type": "code",
   "execution_count": null,
   "metadata": {},
   "outputs": [],
   "source": [
    "import time\n",
    "from selenium import webdriver\n",
    "from selenium.common.exceptions import WebDriverException\n",
    "from selenium.webdriver.common.by import By\n",
    "from selenium.webdriver.support.ui import WebDriverWait\n",
    "from selenium.webdriver.support import expected_conditions as EC\n",
    "from selenium.webdriver.common.action_chains import ActionChains"
   ]
  },
  {
   "cell_type": "code",
   "execution_count": 4,
   "metadata": {},
   "outputs": [],
   "source": [
    "def preprocess_captcha(image_path):\n",
    "    # Read the image\n",
    "    image = cv2.imread(image_path)\n",
    "    \n",
    "    # Convert to grayscale\n",
    "    gray = cv2.cvtColor(image, cv2.COLOR_BGR2GRAY)\n",
    "    \n",
    "    # Apply thresholding (binarization)\n",
    "    _, binary = cv2.threshold(gray, 150, 255, cv2.THRESH_BINARY)\n",
    "    \n",
    "    # Optionally, apply noise removal (median filter)\n",
    "    denoised = cv2.medianBlur(binary, 3)\n",
    "    \n",
    "    # Save the preprocessed image for debugging\n",
    "    preprocessed_path = \"preprocessed_captcha.png\"\n",
    "    cv2.imwrite(preprocessed_path, denoised)\n",
    "    \n",
    "    return preprocessed_path\n",
    "\n",
    "def read_captcha(captcha_path):\n",
    "    # Preprocess the captcha image\n",
    "    preprocessed_path = preprocess_captcha(captcha_path)\n",
    "    \n",
    "    # Read the preprocessed image with pytesseract\n",
    "    captcha_text = pytesseract.image_to_string(Image.open(preprocessed_path), config=\"--psm 7\")\n",
    "    \n",
    "    return captcha_text.strip()\n",
    "\n",
    "def run_multiple_captcha_attempts(captcha_patch,attempts=10):\n",
    "    results = []\n",
    "    \n",
    "    for i in range(attempts):\n",
    "        # print(f\"Attempt {i + 1}...\")\n",
    "        # Download captcha\n",
    "        # if download_captcha(captcha_url):  # This correctly downloads the captcha image\n",
    "            # Read and process the captcha\n",
    "            captcha_text = read_captcha(captcha_patch)\n",
    "            results.append(captcha_text)\n",
    "            # print(f\"Extracted CAPTCHA (Attempt {i + 1}): {captcha_text}\")\n",
    "    print(results)\n",
    "    # Determine the most repeated result\n",
    "    most_common = Counter(results).most_common(1)\n",
    "    if most_common:\n",
    "        print(f\"\\nMost repeated CAPTCHA result: {most_common[0][0].replace(\" \", \"\")}\")\n",
    "    \n",
    "    return most_common[0][0].replace(\" \", \"\")\n"
   ]
  },
  {
   "cell_type": "code",
   "execution_count": 40,
   "metadata": {},
   "outputs": [
    {
     "name": "stdout",
     "output_type": "stream",
     "text": [
      "🔓 Mở trình duyệt để nhập captcha...\n",
      "⌨️ Vui lòng nhập captcha, sau đó đóng trình duyệt.\n"
     ]
    }
   ],
   "source": [
    "# Mở trình duyệt để nhập captcha\n",
    "print(\"🔓 Mở trình duyệt để nhập captcha...\")\n",
    "driver = webdriver.Chrome()\n",
    "# driver.get(\"https://trade.ec.europa.eu/access-to-markets/en/search?product=0101&origin=VN&destination=AT\")  # Thay bằng URL cần mở\n",
    "driver.get(\"https://trade.ec.europa.eu/access-to-markets/en/captcha?redirectTo=%2Fen%2Fsearch%3Fproduct%3D0101%26origin%3DVN%26destination%3DAT\")\n",
    "print(\"⌨️ Vui lòng nhập captcha, sau đó đóng trình duyệt.\")\n",
    "\n",
    "# Đo thời gian bắt đầu\n",
    "start_captcha_time = time.time()\n",
    "wait_time = 1800  # 30 phút \n",
    "\n",
    "# # Chờ người dùng tự đóng trình duyệt, nếu quá 10 phút thì tự động đóng\n",
    "# while True:\n",
    "#     try:\n",
    "#         if time.time() - start_captcha_time > wait_time:\n",
    "#             print(\"⏳ Quá 10 phút, tự động đóng trình duyệt.\")\n",
    "#             driver.quit()\n",
    "#             break  # Thoát khỏi vòng lặp\n",
    "\n",
    "#         # Kiểm tra trình duyệt còn mở không\n",
    "#         driver.title  \n",
    "        \n",
    "#         # Kiểm tra trang có bị treo không\n",
    "#         if driver.execute_script(\"return document.readyState\") != \"complete\":\n",
    "#             print(\"⚠️ Trang web có thể bị treo, chờ thêm...\")\n",
    "        \n",
    "#     except WebDriverException:\n",
    "#         print(\"✅ Trình duyệt đã được đóng.\")\n",
    "#         break  # Nếu trình duyệt bị đóng, thoát vòng lặp\n",
    "    \n",
    "#     time.sleep(5)  # Tránh vòng lặp chạy quá nhanh, gây tải CPU"
   ]
  },
  {
   "cell_type": "code",
   "execution_count": 41,
   "metadata": {},
   "outputs": [
    {
     "name": "stdout",
     "output_type": "stream",
     "text": [
      "['4%;', '4%;', '4%;', '4%;', '4%;', '4%;', '4%;', '4%;', '4%;', '4%;']\n",
      "\n",
      "Most repeated CAPTCHA result: 4%;\n",
      "['ae', 'ae', 'ae', 'ae', 'ae', 'ae', 'ae', 'ae', 'ae', 'ae']\n",
      "\n",
      "Most repeated CAPTCHA result: ae\n",
      "Move the slider to 4%; or ae.\n"
     ]
    }
   ],
   "source": [
    "try:\n",
    "    time.sleep(2)\n",
    "    label = WebDriverWait(driver, 10).until(\n",
    "        EC.visibility_of_element_located((By.CLASS_NAME, \"wt-captcha--text-challenge\"))\n",
    "    )\n",
    "    label_html = label.get_attribute(\"outerHTML\")\n",
    "    # print(\"Nội dung của label:\", label_html)\n",
    "except Exception as e:\n",
    "    print(\"Không tìm thấy thẻ label:\", e)\n",
    "soup = BeautifulSoup(label_html, 'html.parser')\n",
    "base64_string = soup.find('img' , alt=\"First number\")['src']\n",
    "base64_string = base64_string.replace('data:image/png;base64,','')\n",
    "image_data = base64.b64decode(base64_string)\n",
    "with open(\"img1.png\", \"wb\") as file:\n",
    "    file.write(image_data)\n",
    "base64_string2 = soup.find('img' , alt=\"Second number\")['src']\n",
    "base64_string2 = base64_string2.replace('data:image/png;base64,','')\n",
    "image_data2 = base64.b64decode(base64_string2)\n",
    "with open(\"img2.png\", \"wb\") as file:\n",
    "    file.write(image_data2)\n",
    "img1_txt  =run_multiple_captcha_attempts(\"img1.png\")\n",
    "img2_txt  =run_multiple_captcha_attempts(\"img2.png\")\n",
    "# Thay thế thẻ <img> có alt=\"First number\"\n",
    "img1_tag = soup.find(\"img\", alt=\"First number\")\n",
    "if img1_tag:\n",
    "    img1_tag.replace_with(img1_txt)\n",
    "\n",
    "# Thay thế thẻ <img> có alt=\"second number\"\n",
    "img2_tag = soup.find(\"img\", alt=\"Second number\")\n",
    "if img2_tag:\n",
    "    img2_tag.replace_with(img2_txt)\n",
    "captcha_text = soup.text.replace('\\n','').strip()\n",
    "\n",
    "print(captcha_text)"
   ]
  },
  {
   "cell_type": "code",
   "execution_count": null,
   "metadata": {},
   "outputs": [
    {
     "ename": "SyntaxError",
     "evalue": "invalid syntax (2860643167.py, line 9)",
     "output_type": "error",
     "traceback": [
      "\u001b[1;36m  Cell \u001b[1;32mIn[13], line 9\u001b[1;36m\u001b[0m\n\u001b[1;33m    pass:\u001b[0m\n\u001b[1;37m        ^\u001b[0m\n\u001b[1;31mSyntaxError\u001b[0m\u001b[1;31m:\u001b[0m invalid syntax\n"
     ]
    }
   ],
   "source": [
    "try:\n",
    "    time.sleep(2)\n",
    "    error_element = WebDriverWait(driver, 10).until(\n",
    "        EC.visibility_of_element_located((By.CLASS_NAME, \"info-error\"))\n",
    "    )\n",
    "    error_text = error_element.text\n",
    "    print(error_text)\n",
    "    if error_element:\n",
    "        pass:\n",
    "except: \n",
    "    pass"
   ]
  },
  {
   "cell_type": "code",
   "execution_count": null,
   "metadata": {},
   "outputs": [],
   "source": []
  },
  {
   "cell_type": "code",
   "execution_count": 243,
   "metadata": {},
   "outputs": [],
   "source": [
    "answer_number= 12"
   ]
  },
  {
   "cell_type": "code",
   "execution_count": 244,
   "metadata": {},
   "outputs": [],
   "source": [
    "# Tìm phần tử slider (Thay XPATH bằng selector của slider)\n",
    "slider = driver.find_element(By.CLASS_NAME, \"wt-captcha__slider-slider\")\n",
    "\n"
   ]
  },
  {
   "cell_type": "code",
   "execution_count": 245,
   "metadata": {},
   "outputs": [],
   "source": [
    "slider_width = slider.size[\"width\"]\n"
   ]
  },
  {
   "cell_type": "code",
   "execution_count": 246,
   "metadata": {},
   "outputs": [
    {
     "data": {
      "text/plain": [
       "'wt_captcha_slider_text'"
      ]
     },
     "execution_count": 246,
     "metadata": {},
     "output_type": "execute_result"
    }
   ],
   "source": [
    "slider.get_attribute('name')"
   ]
  },
  {
   "cell_type": "code",
   "execution_count": 247,
   "metadata": {},
   "outputs": [
    {
     "data": {
      "text/plain": [
       "398"
      ]
     },
     "execution_count": 247,
     "metadata": {},
     "output_type": "execute_result"
    }
   ],
   "source": [
    "slider_width"
   ]
  },
  {
   "cell_type": "code",
   "execution_count": 248,
   "metadata": {},
   "outputs": [
    {
     "data": {
      "text/plain": [
       "-69.48"
      ]
     },
     "execution_count": 248,
     "metadata": {},
     "output_type": "execute_result"
    }
   ],
   "source": [
    "pixel_for_move = slider_width/50*answer_number -165\n",
    "pixel_for_move"
   ]
  },
  {
   "cell_type": "code",
   "execution_count": 249,
   "metadata": {},
   "outputs": [],
   "source": [
    "# Sử dụng ActionChains để kéo slider\n",
    "action = ActionChains(driver)\n",
    "action.click_and_hold(slider).move_by_offset(pixel_for_move, 0).release().perform()"
   ]
  },
  {
   "cell_type": "code",
   "execution_count": 250,
   "metadata": {},
   "outputs": [],
   "source": [
    "captcha_show_value = driver.find_element(By.CLASS_NAME, \"wt-noconflict\")"
   ]
  },
  {
   "cell_type": "code",
   "execution_count": 251,
   "metadata": {},
   "outputs": [],
   "source": [
    "captcha_show_value.get_attribute('name')"
   ]
  },
  {
   "cell_type": "markdown",
   "metadata": {},
   "source": [
    "#  đọc đoạn text sau khi xử lý ảnh captcha để trả về 1 chữ số\n",
    "#  kéo thanh chain đến số đã chọn tìm  mỗi số là bao nhiêu pixel\n",
    "#  chạy vòng lặp kiểm tra error_element"
   ]
  }
 ],
 "metadata": {
  "kernelspec": {
   "display_name": "base",
   "language": "python",
   "name": "python3"
  },
  "language_info": {
   "codemirror_mode": {
    "name": "ipython",
    "version": 3
   },
   "file_extension": ".py",
   "mimetype": "text/x-python",
   "name": "python",
   "nbconvert_exporter": "python",
   "pygments_lexer": "ipython3",
   "version": "3.12.4"
  }
 },
 "nbformat": 4,
 "nbformat_minor": 2
}
