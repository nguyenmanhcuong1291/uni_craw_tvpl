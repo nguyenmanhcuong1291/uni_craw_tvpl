{
 "cells": [
  {
   "cell_type": "code",
   "execution_count": null,
   "metadata": {},
   "outputs": [
    {
     "name": "stdout",
     "output_type": "stream",
     "text": [
      "[Errno 2] No such file or directory: 'org/error_stt_0.txt'\n",
      "      4digit     10digit                                               link\n",
      "0       0101  0101210010  https://www.transcustoms.com//China_HS_Code/Ch...\n",
      "1       0101  0101210090  https://www.transcustoms.com//China_HS_Code/Ch...\n",
      "2       0101  0101290010  https://www.transcustoms.com//China_HS_Code/Ch...\n",
      "3       0101  0101290090  https://www.transcustoms.com//China_HS_Code/Ch...\n",
      "4       0101  0101301010  https://www.transcustoms.com//China_HS_Code/Ch...\n",
      "...      ...         ...                                                ...\n",
      "11162   9801  9801309000  https://www.transcustoms.com//China_HS_Code/Ch...\n",
      "11163   9803  9803001000  https://www.transcustoms.com//China_HS_Code/Ch...\n",
      "11164   9803  9803002000  https://www.transcustoms.com//China_HS_Code/Ch...\n",
      "11165   9803  9803003000  https://www.transcustoms.com//China_HS_Code/Ch...\n",
      "11166   9803  9803009000  https://www.transcustoms.com//China_HS_Code/Ch...\n",
      "\n",
      "[11167 rows x 3 columns]\n"
     ]
    }
   ],
   "source": [
    "import pandas as pd\n",
    "import json\n",
    "import os\n",
    "\n",
    "# Thư mục chứa các file TXT\n",
    "directory = 'org/'  # Thay đổi thành đường dẫn thư mục chứa các file TXT của bạn\n",
    "\n",
    "# Tạo danh sách các file theo mẫu tên\n",
    "file_names = [f'error_stt_{i}.txt' for i in range(13)]\n",
    "\n",
    "# Khởi tạo danh sách để chứa dữ liệu từ tất cả các file\n",
    "all_data = []\n",
    "if file_names:\n",
    "# Đọc và xử lý từng file\n",
    "    try:\n",
    "        for file_name in file_names:\n",
    "            file_path = os.path.join(directory, file_name)\n",
    "            with open(file_path, 'r', encoding='utf-8') as file:\n",
    "                # Đọc từng dòng và chuyển đổi từ JSON thành dictionary\n",
    "                data = [json.loads(line) for line in file]\n",
    "                all_data.extend(data)  # Thêm dữ liệu từ file hiện tại vào danh sách tổng\n",
    "\n",
    "        # Chuyển tất cả dữ liệu thành DataFrame\n",
    "        df = pd.DataFrame(all_data)\n",
    "\n",
    "        # Hiển thị DataFrame\n",
    "        print(df)\n",
    "\n",
    "        # Lưu DataFrame ra file CSV nếu cần\n",
    "        df.to_csv('all_error_stt.csv', index=False, encoding='utf-8')\n",
    "    except Exception as e:\n",
    "        print(e)\n",
    "\n",
    "# Tạo danh sách các file theo mẫu tên\n",
    "file_names2 = [f'output_{i}.txt' for i in range(13)]\n",
    "\n",
    "# Khởi tạo danh sách để chứa dữ liệu từ tất cả các file\n",
    "all_data2 = []\n",
    "if file_names:\n",
    "# Đọc và xử lý từng file\n",
    "    try:\n",
    "# Đọc và xử lý từng file\n",
    "        for file_name in file_names2:\n",
    "            file_path = os.path.join(directory, file_name)\n",
    "            with open(file_path, 'r', encoding='utf-8') as file:\n",
    "                # Đọc từng dòng và chuyển đổi từ JSON thành dictionary\n",
    "                data = [json.loads(line) for line in file]\n",
    "                all_data.extend(data)  # Thêm dữ liệu từ file hiện tại vào danh sách tổng\n",
    "\n",
    "        # Chuyển tất cả dữ liệu thành DataFrame\n",
    "        df2 = pd.DataFrame(all_data)\n",
    "\n",
    "        # Hiển thị DataFrame\n",
    "        print(df2)\n",
    "\n",
    "        # Lưu DataFrame ra file CSV nếu cần\n",
    "        df2.to_csv('all_10digit_info.csv', index=False, encoding='utf-8')\n",
    "    except Exception as e:\n",
    "        print(e)"
   ]
  }
 ],
 "metadata": {
  "kernelspec": {
   "display_name": "base",
   "language": "python",
   "name": "python3"
  },
  "language_info": {
   "codemirror_mode": {
    "name": "ipython",
    "version": 3
   },
   "file_extension": ".py",
   "mimetype": "text/x-python",
   "name": "python",
   "nbconvert_exporter": "python",
   "pygments_lexer": "ipython3",
   "version": "3.12.4"
  }
 },
 "nbformat": 4,
 "nbformat_minor": 2
}
