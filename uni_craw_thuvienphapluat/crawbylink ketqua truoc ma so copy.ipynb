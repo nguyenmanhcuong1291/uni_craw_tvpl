{
 "cells": [
  {
   "cell_type": "code",
   "execution_count": 1,
   "metadata": {},
   "outputs": [],
   "source": [
    "import requests\n",
    "from bs4 import BeautifulSoup\n",
    "import re\n",
    "import os\n",
    "import pandas as pd\n",
    "from lxml import etree\n",
    "from datetime import datetime\n",
    "import openpyxl\n",
    "from openpyxl import Workbook\n",
    "from openpyxl import load_workbook\n",
    "current_directory = os.getcwd()"
   ]
  },
  {
   "cell_type": "code",
   "execution_count": 2,
   "metadata": {},
   "outputs": [],
   "source": [
    "\n",
    "def get_ma_so_link_info(link):\n",
    "    print(link)\n",
    "    response2 = requests.get(link.strip())\n",
    "    soup = BeautifulSoup(response2.text, 'html.parser')\n",
    "    content1 = soup.find('div', class_='content1')\n",
    "    tables = content1.find_all('table')\n",
    "\n",
    "    # lấy số văn bản / ngày\n",
    "    try:\n",
    "        paragraphs = tables[0].find_all('p')  # Tìm tất cả các thẻ <p> trong bảng đầu tiên\n",
    "        for para in paragraphs:\n",
    "            text = para.get_text(strip=True).replace('\\r', '').replace('\\n', '').strip()\n",
    "            if 'Số:' in text:\n",
    "                số = text.replace(\"Số:\", \"\").strip()\n",
    "                # print(số)\n",
    "                break  # Ngừng vòng lặp sau khi tìm thấy đoạn văn bản chứa 'ngày'\n",
    "        else:\n",
    "            print(\"Không tìm thấy đoạn văn bản chứa 'Số'.\")\n",
    "    except AttributeError as e:\n",
    "            print(f\"Lỗi: {e}\")\n",
    "    try:\n",
    "        paragraphs = tables[0].find_all('p')  # Tìm tất cả các thẻ <p> trong bảng đầu tiên\n",
    "        for para in paragraphs:\n",
    "            text = para.get_text(strip=True).replace('\\r', '').replace('\\n', '').strip()\n",
    "            if 'ngày' in text:\n",
    "                ngày = normalize_date(text)\n",
    "                # print(ngày)\n",
    "                break  # Ngừng vòng lặp sau khi tìm thấy đoạn văn bản chứa 'ngày'\n",
    "        else:\n",
    "            print(\"Không tìm thấy đoạn văn bản chứa 'ngày'.\")\n",
    "    except AttributeError as e:\n",
    "        print(f\"Lỗi: {e}\")\n",
    "    info_list = [link.strip(),số,ngày]\n",
    "\n",
    "    # lấy part 1\n",
    "    part1 = tables[1].find_all('p')\n",
    "    part1_part_1  = next((i for i, item in enumerate(part1) if \"1. Hàng hóa \" in item.get_text(strip=True)), -1)\n",
    "    part1_part_1_text  = part1[part1_part_1].get_text(strip=True).replace('\\r', '').replace('\\n', '').strip()\n",
    "    part1_part_2 = next((i for i, item in enumerate(part1) if \"Tên thương mại\" in item.get_text(strip=True)), -1)\n",
    "    part1_part_2_text  = part1[part1_part_2].get_text(strip=True).replace('\\r', '').replace('\\n', '').strip()\n",
    "    part1_part_3 = next((i for i, item in enumerate(part1) if \"Tên gọi theo cấu tạo\" in item.get_text(strip=True)), -1)\n",
    "    part1_part_3_text  = part1[part1_part_3].get_text(strip=True).replace('\\r', '').replace('\\n', '').strip()\n",
    "    part1_part_4 = next((i for i, item in enumerate(part1) if \"mã hiệu\" in item.get_text(strip=True)), -1)\n",
    "    part1_part_4_text  = part1[part1_part_4].get_text(strip=True).replace('\\r', '').replace('\\n', '').strip()\n",
    "    part1_part_5 = next((i for i, item in enumerate(part1) if \"Nhà sản xuất\" in item.get_text(strip=True)), -1)\n",
    "    part1_part_5_text  = part1[part1_part_5].get_text(strip=True).replace('\\r', '').replace('\\n', '').strip()\n",
    "    info_list.append(part1_part_2_text)\n",
    "    info_list.append(part1_part_3_text)\n",
    "    info_list.append(part1_part_4_text)\n",
    "    info_list.append(part1_part_5_text)\n",
    "\n",
    "    # allpart\n",
    "    allpart = tables[1].find_all('p')\n",
    "\n",
    "    # lấy part 3\n",
    "    pattern = re.compile(r'\\d{4}\\s*\\.\\s*\\d{2}\\s*\\.\\s*\\d{2}')\n",
    "    for p_tag in allpart:\n",
    "        text = p_tag.get_text(strip=True)  # Lấy văn bản từ thẻ <p> và loại bỏ khoảng trắng thừa\n",
    "        matches = pattern.findall(text)  # Tìm tất cả các dãy số khớp với pattern trong văn bản\n",
    "        if matches:\n",
    "            part3 = matches[-1]\n",
    "    # lấy part 2\n",
    "    try :\n",
    "        part2_start = next((i for i, item in enumerate(allpart) if \"2. Tóm tắt\" in item.get_text(strip=True)), -1)-1\n",
    "        # print(part2_start)\n",
    "    except:\n",
    "        part2_start = next((i for i, item in enumerate(allpart) if \"Nhà sản xuất\" in item.get_text(strip=True)), -1)\n",
    "        # print(part2_start)\n",
    "    part2_end = next((i for i, item in enumerate(allpart) if \"3. Kết quả\" in item.get_text(strip=True)), -1)\n",
    "    part2_list = []\n",
    "    for i in allpart[part2_start+1:part2_end]:\n",
    "        part2_list.append(i.get_text(strip=True))\n",
    "    part2_list\n",
    "    part2_text = '\\n'.join(part2_list)\n",
    "\n",
    "    info_list.append(part2_text)\n",
    "    info_list.append(part3)\n",
    "    print(info_list)\n",
    "    return info_list"
   ]
  },
  {
   "cell_type": "code",
   "execution_count": 3,
   "metadata": {},
   "outputs": [],
   "source": [
    "def normalize_date(text):\n",
    "    # Biểu thức chính quy để bắt ngày, tháng, năm\n",
    "    pattern = r\"(\\d{1,2})\\s*tháng\\s*(\\d{1,2})\\s*năm\\s*(\\d{4})\"\n",
    "    match = re.search(pattern, text)\n",
    "    \n",
    "    if match:\n",
    "        # Lấy ra các thành phần ngày, tháng, năm\n",
    "        day, month, year = match.groups()\n",
    "        \n",
    "        # Chuyển đổi thành định dạng dd-mm-yyyy\n",
    "        date_obj = datetime.strptime(f\"{day}-{month}-{year}\", \"%d-%m-%Y\")\n",
    "        return date_obj.strftime(\"%d-%m-%Y\")\n",
    "    return None"
   ]
  },
  {
   "cell_type": "code",
   "execution_count": 4,
   "metadata": {},
   "outputs": [],
   "source": [
    "def part_text(part,start,end):\n",
    "    part_list = []\n",
    "    for i in part[start:end]:\n",
    "        part_list.append(i.get_text(strip=True).replace('\\r', '').replace('\\n', '').strip())\n",
    "        part_text = '\\n'.join(part_list)\n",
    "    return part_text\n",
    "        "
   ]
  },
  {
   "cell_type": "code",
   "execution_count": 10,
   "metadata": {},
   "outputs": [],
   "source": [
    "with open('tesst_link.txt', 'r', encoding='utf-8') as file:\n",
    "    all_links = file.readlines()"
   ]
  },
  {
   "cell_type": "code",
   "execution_count": 11,
   "metadata": {},
   "outputs": [
    {
     "data": {
      "text/plain": [
       "['https://thuvienphapluat.vn/van-ban/Xuat-nhap-khau/Thong-bao-5146-TB-TCHQ-2023-ket-qua-xac-dinh-truoc-ma-582199.aspx\\n',\n",
       " 'https://thuvienphapluat.vn/van-ban/Xuat-nhap-khau/Thong-bao-3409-TB-TCHQ-2024-ket-qua-xac-dinh-truoc-ma-so-ACC-HHP-Flip-Cover-Protective-E-ENG-UNI-618577.aspx\\n',\n",
       " 'https://thuvienphapluat.vn/van-ban/Xuat-nhap-khau/Thong-bao-2307-TB-TCHQ-2024-ket-qua-xac-dinh-ma-so-Sac-pin-cho-dien-thoai-di-dong-va-may-tinh-bang-613113.aspx\\n',\n",
       " 'https://thuvienphapluat.vn/van-ban/Xuat-nhap-khau/Thong-bao-4239-TB-TCHQ-2021-ket-qua-xac-dinh-truoc-ma-so-Chilly-Delicato-526679.aspx\\n',\n",
       " 'https://thuvienphapluat.vn/van-ban/Xuat-nhap-khau/Thong-bao-681-TB-TCHQ-2024-ket-qua-xac-dinh-truoc-ma-so-Vong-deo-do-song-dien-nao-xung-dien-599826.aspx\\n',\n",
       " 'https://thuvienphapluat.vn/van-ban/Xuat-nhap-khau/Thong-bao-4514-TB-TCHQ-2023-ket-qua-xac-dinh-truoc-ma-so-582077.aspx\\n',\n",
       " 'https://thuvienphapluat.vn/van-ban/Xuat-nhap-khau/Thong-bao-149-TB-TCHQ-2023-dinh-chinh-Thong-bao-ket-qua-xac-dinh-truoc-ma-so-550577.aspx\\n',\n",
       " 'https://thuvienphapluat.vn/van-ban/Xuat-nhap-khau/Thong-bao-3937-TB-TCHQ-2021-dinh-chinh-Thong-bao-ket-qua-xac-dinh-truoc-ma-so-526678.aspx\\n',\n",
       " 'https://thuvienphapluat.vn/van-ban/Xuat-nhap-khau/Thong-bao-3940-TB-TCHQ-2021-ket-qua-hang-hoa-duoc-xac-dinh-truoc-ma-so-484269.aspx\\n',\n",
       " 'https://thuvienphapluat.vn/van-ban/Xuat-nhap-khau/Thong-bao-233-TB-TCHQ-2024-dinh-chinh-thong-bao-ket-qua-xac-dinh-truoc-ma-so-597108.aspx\\n',\n",
       " 'https://thuvienphapluat.vn/van-ban/Xuat-nhap-khau/Thong-bao-5123-TB-TCHQ-2022-ket-qua-xac-dinh-truoc-ma-so-New-Halogen-Free-Coverlay-HGCS-A405RB-G-A-544099.aspx\\n',\n",
       " 'https://thuvienphapluat.vn/van-ban/Xuat-nhap-khau/Cong-van-3916-TCHQ-CNTT-TKHQ-nhung-ma-so-xuat-nhap-khau-co-thay-doi-177140.aspx\\n',\n",
       " 'https://thuvienphapluat.vn/van-ban/Doanh-nghiep/Thong-bao-1684-TCHQ-CNTT-TKHQ-ma-so-xuat-nhap-khau-thay-doi-ma-so-xuat-nhap-khau-da-thu-hoi-49337.aspx\\n',\n",
       " 'https://thuvienphapluat.vn/van-ban/Thuong-mai/Thong-bao-5546-2001-TCHQ-CNTT-TKHQ-ma-so-xuat-nhap-khau-co-thay-doi-ma-so-xuat-nhap-khau-da-duoc-thu-hoi-48681.aspx\\n',\n",
       " 'https://thuvienphapluat.vn/van-ban/Xuat-nhap-khau/Thong-bao-77-TCHQ-CNTT-TKHQ-ma-so-xuat-nhap-khau-co-thay-doi-da-duoc-thu-hoi-48890.aspx\\n',\n",
       " 'https://thuvienphapluat.vn/van-ban/Doanh-nghiep/Thong-bao-3971-2001-TCHQ-CNTT-TKHQ-ma-so-doanh-nghiep-xuat-nhap-khau-co-thay-doi-ma-so-doanh-nghiep-xuat-nhap-khau-da-thu-hoi-48188.aspx\\n',\n",
       " 'https://thuvienphapluat.vn/van-ban/Xuat-nhap-khau/Thong-bao-903-TB-TCHQ-2019-ket-qua-phan-loai-doi-voi-Thep-goc-can-nong-chua-trang-phu-ma-son-522477.aspx']"
      ]
     },
     "execution_count": 11,
     "metadata": {},
     "output_type": "execute_result"
    }
   ],
   "source": [
    "all_links"
   ]
  },
  {
   "cell_type": "code",
   "execution_count": 13,
   "metadata": {},
   "outputs": [
    {
     "name": "stdout",
     "output_type": "stream",
     "text": [
      "https://thuvienphapluat.vn/van-ban/Xuat-nhap-khau/Thong-bao-5146-TB-TCHQ-2023-ket-qua-xac-dinh-truoc-ma-582199.aspx\n",
      "\n",
      "['https://thuvienphapluat.vn/van-ban/Xuat-nhap-khau/Thong-bao-5146-TB-TCHQ-2023-ket-qua-xac-dinh-truoc-ma-582199.aspx', '5146/TB-TCHQ', '05-10-2023', 'Tên thương mại: Poron pad', 'Tên gọi theo cấu tạo, công dụng: Miếng nhựa    Poron từ polyurethan xốp mềm, dính 2 mặt, chưa được gia công thêm, kích thước:    30*12*0.8mm, dùng trong sản xuất, nhằm chống thấm nước, mới 100%', 'Ký, mã hiệu, chủng loại: 540103-000584', 'Nhà sản xuất: Tonly Electronics Holding Limited', '', '3919.90.92']\n",
      "https://thuvienphapluat.vn/van-ban/Xuat-nhap-khau/Thong-bao-3409-TB-TCHQ-2024-ket-qua-xac-dinh-truoc-ma-so-ACC-HHP-Flip-Cover-Protective-E-ENG-UNI-618577.aspx\n",
      "\n",
      "https://thuvienphapluat.vn/van-ban/Xuat-nhap-khau/Thong-bao-3409-TB-TCHQ-2024-ket-qua-xac-dinh-truoc-ma-so-ACC-HHP-Flip-Cover-Protective-E-ENG-UNI-618577.aspx\n",
      "lỗi\n",
      "https://thuvienphapluat.vn/van-ban/Xuat-nhap-khau/Thong-bao-4239-TB-TCHQ-2021-ket-qua-xac-dinh-truoc-ma-so-Chilly-Delicato-526679.aspx\n",
      "\n",
      "https://thuvienphapluat.vn/van-ban/Xuat-nhap-khau/Thong-bao-4239-TB-TCHQ-2021-ket-qua-xac-dinh-truoc-ma-so-Chilly-Delicato-526679.aspx\n",
      "lỗi\n",
      "https://thuvienphapluat.vn/van-ban/Xuat-nhap-khau/Thong-bao-681-TB-TCHQ-2024-ket-qua-xac-dinh-truoc-ma-so-Vong-deo-do-song-dien-nao-xung-dien-599826.aspx\n",
      "\n",
      "https://thuvienphapluat.vn/van-ban/Xuat-nhap-khau/Thong-bao-681-TB-TCHQ-2024-ket-qua-xac-dinh-truoc-ma-so-Vong-deo-do-song-dien-nao-xung-dien-599826.aspx\n",
      "lỗi\n",
      "https://thuvienphapluat.vn/van-ban/Xuat-nhap-khau/Thong-bao-4514-TB-TCHQ-2023-ket-qua-xac-dinh-truoc-ma-so-582077.aspx\n",
      "\n",
      "https://thuvienphapluat.vn/van-ban/Xuat-nhap-khau/Thong-bao-4514-TB-TCHQ-2023-ket-qua-xac-dinh-truoc-ma-so-582077.aspx\n",
      "lỗi\n",
      "https://thuvienphapluat.vn/van-ban/Xuat-nhap-khau/Thong-bao-149-TB-TCHQ-2023-dinh-chinh-Thong-bao-ket-qua-xac-dinh-truoc-ma-so-550577.aspx\n",
      "\n",
      "https://thuvienphapluat.vn/van-ban/Xuat-nhap-khau/Thong-bao-149-TB-TCHQ-2023-dinh-chinh-Thong-bao-ket-qua-xac-dinh-truoc-ma-so-550577.aspx\n",
      "lỗi\n",
      "https://thuvienphapluat.vn/van-ban/Xuat-nhap-khau/Thong-bao-3937-TB-TCHQ-2021-dinh-chinh-Thong-bao-ket-qua-xac-dinh-truoc-ma-so-526678.aspx\n",
      "\n",
      "https://thuvienphapluat.vn/van-ban/Xuat-nhap-khau/Thong-bao-3937-TB-TCHQ-2021-dinh-chinh-Thong-bao-ket-qua-xac-dinh-truoc-ma-so-526678.aspx\n",
      "lỗi\n",
      "https://thuvienphapluat.vn/van-ban/Xuat-nhap-khau/Thong-bao-3940-TB-TCHQ-2021-ket-qua-hang-hoa-duoc-xac-dinh-truoc-ma-so-484269.aspx\n",
      "\n",
      "https://thuvienphapluat.vn/van-ban/Xuat-nhap-khau/Thong-bao-3940-TB-TCHQ-2021-ket-qua-hang-hoa-duoc-xac-dinh-truoc-ma-so-484269.aspx\n",
      "lỗi\n",
      "https://thuvienphapluat.vn/van-ban/Xuat-nhap-khau/Thong-bao-233-TB-TCHQ-2024-dinh-chinh-thong-bao-ket-qua-xac-dinh-truoc-ma-so-597108.aspx\n",
      "\n",
      "https://thuvienphapluat.vn/van-ban/Xuat-nhap-khau/Thong-bao-233-TB-TCHQ-2024-dinh-chinh-thong-bao-ket-qua-xac-dinh-truoc-ma-so-597108.aspx\n",
      "lỗi\n",
      "https://thuvienphapluat.vn/van-ban/Xuat-nhap-khau/Thong-bao-5123-TB-TCHQ-2022-ket-qua-xac-dinh-truoc-ma-so-New-Halogen-Free-Coverlay-HGCS-A405RB-G-A-544099.aspx\n",
      "\n",
      "https://thuvienphapluat.vn/van-ban/Xuat-nhap-khau/Thong-bao-5123-TB-TCHQ-2022-ket-qua-xac-dinh-truoc-ma-so-New-Halogen-Free-Coverlay-HGCS-A405RB-G-A-544099.aspx\n",
      "lỗi\n"
     ]
    }
   ],
   "source": [
    "all_maso_info_list = []\n",
    "for link in all_links:\n",
    "    if 'truoc-ma' in link:\n",
    "        try:\n",
    "            info_list = get_ma_so_link_info(link)\n",
    "            all_maso_info_list.append(info_list)\n",
    "            # write_data_to_excel(maso_sheet,info_list)\n",
    "        except:\n",
    "            print(link + \"lỗi\")\n",
    "            info_list = [link,\"lỗi\"]\n",
    "            all_maso_info_list.append([link,\"lỗi\"])\n",
    "            # write_data_to_excel(phanloai_sheet,info_list)"
   ]
  },
  {
   "cell_type": "code",
   "execution_count": 18,
   "metadata": {},
   "outputs": [
    {
     "name": "stdout",
     "output_type": "stream",
     "text": [
      "https://thuvienphapluat.vn/van-ban/Xuat-nhap-khau/Thong-bao-3940-TB-TCHQ-2021-ket-qua-hang-hoa-duoc-xac-dinh-truoc-ma-so-484269.aspx\n"
     ]
    },
    {
     "ename": "UnboundLocalError",
     "evalue": "cannot access local variable 'part3' where it is not associated with a value",
     "output_type": "error",
     "traceback": [
      "\u001b[1;31m---------------------------------------------------------------------------\u001b[0m",
      "\u001b[1;31mUnboundLocalError\u001b[0m                         Traceback (most recent call last)",
      "Cell \u001b[1;32mIn[18], line 1\u001b[0m\n\u001b[1;32m----> 1\u001b[0m get_ma_so_link_info(\u001b[38;5;124m\"\u001b[39m\u001b[38;5;124mhttps://thuvienphapluat.vn/van-ban/Xuat-nhap-khau/Thong-bao-3940-TB-TCHQ-2021-ket-qua-hang-hoa-duoc-xac-dinh-truoc-ma-so-484269.aspx\u001b[39m\u001b[38;5;124m\"\u001b[39m)\n",
      "Cell \u001b[1;32mIn[2], line 77\u001b[0m, in \u001b[0;36mget_ma_so_link_info\u001b[1;34m(link)\u001b[0m\n\u001b[0;32m     74\u001b[0m part2_text \u001b[38;5;241m=\u001b[39m \u001b[38;5;124m'\u001b[39m\u001b[38;5;130;01m\\n\u001b[39;00m\u001b[38;5;124m'\u001b[39m\u001b[38;5;241m.\u001b[39mjoin(part2_list)\n\u001b[0;32m     76\u001b[0m info_list\u001b[38;5;241m.\u001b[39mappend(part2_text)\n\u001b[1;32m---> 77\u001b[0m info_list\u001b[38;5;241m.\u001b[39mappend(part3)\n\u001b[0;32m     78\u001b[0m \u001b[38;5;28mprint\u001b[39m(info_list)\n\u001b[0;32m     79\u001b[0m \u001b[38;5;28;01mreturn\u001b[39;00m info_list\n",
      "\u001b[1;31mUnboundLocalError\u001b[0m: cannot access local variable 'part3' where it is not associated with a value"
     ]
    }
   ],
   "source": [
    "get_ma_so_link_info(\"https://thuvienphapluat.vn/van-ban/Xuat-nhap-khau/Thong-bao-3940-TB-TCHQ-2021-ket-qua-hang-hoa-duoc-xac-dinh-truoc-ma-so-484269.aspx\")"
   ]
  },
  {
   "cell_type": "code",
   "execution_count": null,
   "metadata": {},
   "outputs": [],
   "source": []
  }
 ],
 "metadata": {
  "kernelspec": {
   "display_name": "base",
   "language": "python",
   "name": "python3"
  },
  "language_info": {
   "codemirror_mode": {
    "name": "ipython",
    "version": 3
   },
   "file_extension": ".py",
   "mimetype": "text/x-python",
   "name": "python",
   "nbconvert_exporter": "python",
   "pygments_lexer": "ipython3",
   "version": "3.12.4"
  }
 },
 "nbformat": 4,
 "nbformat_minor": 2
}
