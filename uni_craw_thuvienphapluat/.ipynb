{
 "cells": [
  {
   "cell_type": "code",
   "execution_count": 2,
   "metadata": {},
   "outputs": [],
   "source": [
    "import requests\n",
    "from bs4 import BeautifulSoup\n",
    "import re\n",
    "import os\n",
    "import wget"
   ]
  },
  {
   "cell_type": "code",
   "execution_count": 74,
   "metadata": {},
   "outputs": [],
   "source": [
    "response = requests.get('https://thuvienphapluat.vn/van-ban/Xuat-nhap-khau/Thong-bao-2194-TB-TCHQ-2023-ket-qua-xac-dinh-truoc-ma-so-SPRINGER-2006-0-MG-L-567706.aspx')"
   ]
  },
  {
   "cell_type": "code",
   "execution_count": 75,
   "metadata": {},
   "outputs": [],
   "source": [
    "soup = BeautifulSoup(response.text, 'html.parser')\n"
   ]
  },
  {
   "cell_type": "code",
   "execution_count": 77,
   "metadata": {},
   "outputs": [],
   "source": [
    "tab8 = soup.find('div',id = 'tab8')"
   ]
  },
  {
   "cell_type": "code",
   "execution_count": 83,
   "metadata": {},
   "outputs": [],
   "source": [
    "dvDownloadLaws = tab8.find('div',id ='dvDownloadLaws')"
   ]
  },
  {
   "cell_type": "code",
   "execution_count": null,
   "metadata": {},
   "outputs": [
    {
     "data": {
      "text/plain": [
       "<div class=\"download\" id=\"dvDownloadLaws\" style=\"text-align: left; width: 635px;\">\n",
       "<p>\n",
       "</p>\n",
       "<p>\n",
       "<a href=\"javascript:__doPostBack('ctl00$Content$ThongTinVB$vietnameseHyperLink','')\" id=\"ctl00_Content_ThongTinVB_vietnameseHyperLink\" onmouseout=\"hideddrivetip();\" onmouseover=\"LS_Tip(29,0)\" style=\"color:#AFAFAF;\">Tải Văn bản tiếng Việt</a>\n",
       "</p>\n",
       "<p>\n",
       "</p>\n",
       "<p>\n",
       "<a class=\"aspNetDisabled\" id=\"ctl00_Content_ThongTinVB_pdfHyperLink\" onmouseout=\"hideddrivetip();\" onmouseover=\"LS_Tip(28,0)\" style=\"color:#AFAFAF;\">Tải Văn bản gốc</a></p>\n",
       "<div>\n",
       "</div>\n",
       "</div>"
      ]
     },
     "execution_count": 84,
     "metadata": {},
     "output_type": "execute_result"
    }
   ],
   "source": [
    "dvDownloadLaws.find('a',id=\"ctl00_Content_ThongTinVB_pdfHyperLink\")"
   ]
  },
  {
   "cell_type": "code",
   "execution_count": 14,
   "metadata": {},
   "outputs": [],
   "source": [
    "all_script = soup.find_all('script')"
   ]
  },
  {
   "cell_type": "code",
   "execution_count": 15,
   "metadata": {},
   "outputs": [],
   "source": [
    "pattern = r'/documents/download\\.aspx\\?id=[\\w%]+'\n",
    "\n"
   ]
  },
  {
   "cell_type": "code",
   "execution_count": 16,
   "metadata": {},
   "outputs": [
    {
     "name": "stdout",
     "output_type": "stream",
     "text": [
      "51\n",
      "['/documents/download.aspx?id=vTXlqop3T4QS17pTM18o4A%3d%3d']\n"
     ]
    }
   ],
   "source": [
    "for idx,text in enumerate(all_script):\n",
    "    if '__urldl' in text.get_text():\n",
    "        matches = re.findall(pattern, text.get_text())\n",
    "        if matches:\n",
    "        \n",
    "            print(idx)\n",
    "            # print(text.get_text())\n",
    "            print(matches)\n"
   ]
  },
  {
   "cell_type": "code",
   "execution_count": 17,
   "metadata": {},
   "outputs": [
    {
     "data": {
      "text/plain": [
       "'/documents/download.aspx?id=vTXlqop3T4QS17pTM18o4A%3d%3d'"
      ]
     },
     "execution_count": 17,
     "metadata": {},
     "output_type": "execute_result"
    }
   ],
   "source": [
    "matches[-1]"
   ]
  },
  {
   "cell_type": "code",
   "execution_count": 18,
   "metadata": {},
   "outputs": [],
   "source": [
    "download_url = f'https://thuvienphapluat.vn{matches[-1]}&part=-0'"
   ]
  },
  {
   "cell_type": "code",
   "execution_count": 73,
   "metadata": {},
   "outputs": [
    {
     "name": "stdout",
     "output_type": "stream",
     "text": [
      "Đăng nhập thành công!\n",
      "Tải file thành công và lưu thành downloaded_file.pdf\n"
     ]
    }
   ],
   "source": [
    "import requests\n",
    "\n",
    "# Đường dẫn để đăng nhập\n",
    "login_url = 'https://thuvienphapluat.vn/page/ajaxcontroler.aspx'\n",
    "\n",
    "# Dữ liệu cần gửi để đăng nhập\n",
    "payload = {\n",
    "    'l_txtUser': 'UNICUSVN',\n",
    "    'l_txtPass': 'UNIUNI',\n",
    "    'action': 'Login'\n",
    "}\n",
    "\n",
    "# Headers cần thiết cho yêu cầu\n",
    "headers = {\n",
    "    'Accept': '*/*',\n",
    "    'Accept-Language': 'en-US,en;q=0.9',\n",
    "    'Cache-Control': 'no-cache',\n",
    "    'Content-Type': 'application/x-www-form-urlencoded',\n",
    "    'DNT': '1',\n",
    "    'Origin': 'https://thuvienphapluat.vn',\n",
    "    'Pragma': 'no-cache',\n",
    "    'Referer': 'https://thuvienphapluat.vn/page/login.aspx?',\n",
    "    'Sec-CH-UA': '\"Chromium\";v=\"130\", \"Google Chrome\";v=\"130\", \"Not?A_Brand\";v=\"99\"',\n",
    "    'Sec-CH-UA-Mobile': '?0',\n",
    "    'Sec-CH-UA-Platform': '\"Windows\"',\n",
    "    'Sec-Fetch-Dest': 'empty',\n",
    "    'Sec-Fetch-Mode': 'cors',\n",
    "    'Sec-Fetch-Site': 'same-origin',\n",
    "    'User-Agent': 'Mozilla/5.0 (Windows NT 10.0; Win64; x64) AppleWebKit/537.36 (KHTML, like Gecko) Chrome/130.0.0.0 Safari/537.36',\n",
    "    'X-Requested-With': 'XMLHttpRequest'\n",
    "}\n",
    "\n",
    "# Khởi tạo session để giữ cookie\n",
    "session = requests.Session()\n",
    "\n",
    "# Gửi yêu cầu POST để đăng nhập\n",
    "login_response = session.post(login_url, data=payload, headers=headers)\n",
    "\n",
    "# Kiểm tra đăng nhập thành công\n",
    "if login_response.ok:\n",
    "    print(\"Đăng nhập thành công!\")\n",
    "\n",
    "    # Gửi yêu cầu tải file PDF\n",
    "    response = session.get(download_url, headers=headers, stream=True)\n",
    "\n",
    "    # Kiểm tra nếu yêu cầu thành công và lưu file\n",
    "    if response.ok:\n",
    "        with open(\"downloaded_file.pdf\", \"wb\") as file:\n",
    "            for chunk in response.iter_content(chunk_size=8192):\n",
    "                file.write(chunk)\n",
    "        print(\"Tải file thành công và lưu thành downloaded_file.pdf\")\n",
    "    else:\n",
    "        print(\"Lỗi khi tải file:\", response.status_code)\n",
    "else:\n",
    "    print(\"Đăng nhập thất bại:\", login_response.status_code)\n"
   ]
  }
 ],
 "metadata": {
  "kernelspec": {
   "display_name": "base",
   "language": "python",
   "name": "python3"
  },
  "language_info": {
   "codemirror_mode": {
    "name": "ipython",
    "version": 3
   },
   "file_extension": ".py",
   "mimetype": "text/x-python",
   "name": "python",
   "nbconvert_exporter": "python",
   "pygments_lexer": "ipython3",
   "version": "3.12.4"
  }
 },
 "nbformat": 4,
 "nbformat_minor": 2
}
