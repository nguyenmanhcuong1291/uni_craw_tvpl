{
 "cells": [
  {
   "cell_type": "code",
   "execution_count": 1,
   "metadata": {},
   "outputs": [],
   "source": [
    "import os\n",
    "import time\n",
    "# import undetected_chromedriver as uc\n",
    "from selenium.webdriver.common.by import By\n",
    "from selenium.webdriver.support.ui import WebDriverWait\n",
    "from selenium.webdriver.support import expected_conditions as EC\n",
    "from selenium import webdriver\n",
    "from selenium.webdriver.chrome.service import Service\n",
    "from webdriver_manager.chrome import ChromeDriverManager\n",
    "from bs4 import BeautifulSoup"
   ]
  },
  {
   "cell_type": "code",
   "execution_count": 26,
   "metadata": {},
   "outputs": [],
   "source": [
    "from selenium.webdriver.support.ui import Select"
   ]
  },
  {
   "cell_type": "code",
   "execution_count": 6,
   "metadata": {},
   "outputs": [],
   "source": [
    "options = webdriver.ChromeOptions()\n",
    "service = Service(ChromeDriverManager().install())\n",
    "driver = webdriver.Chrome(service=service, options=options)\n",
    "\n",
    "current_directory = os.getcwd()"
   ]
  },
  {
   "cell_type": "code",
   "execution_count": 7,
   "metadata": {},
   "outputs": [],
   "source": [
    "driver.get(\"https://thuvienphapluat.vn/\")\n"
   ]
  },
  {
   "cell_type": "code",
   "execution_count": 10,
   "metadata": {},
   "outputs": [],
   "source": [
    "accounttxt_path = os.path.join(current_directory, 'account.txt')\n",
    "\n",
    "with open(accounttxt_path, 'r', encoding='utf-8') as file:\n",
    "    accounttxt = file.readlines()\n",
    "    email = accounttxt[0].strip()\n",
    "    password = accounttxt[1].strip()\n"
   ]
  },
  {
   "cell_type": "code",
   "execution_count": 11,
   "metadata": {},
   "outputs": [],
   "source": [
    "time.sleep(1)\n",
    "email_input = WebDriverWait(driver, 10).until(\n",
    "    EC.element_to_be_clickable((By.XPATH, '//*[@id=\"usernameTextBox\"]'))\n",
    ")\n",
    "email_input.send_keys(email)\n",
    "\n",
    "# Đợi và điền mật khẩu\n",
    "time.sleep(1)\n",
    "password_input = WebDriverWait(driver, 10).until(\n",
    "    EC.visibility_of_element_located((By.XPATH, '//*[@id=\"passwordTextBox\"]'))\n",
    ")\n",
    "password_input.send_keys(password)"
   ]
  },
  {
   "cell_type": "code",
   "execution_count": 12,
   "metadata": {},
   "outputs": [],
   "source": [
    "time.sleep(1)\n",
    "next_button = WebDriverWait(driver, 10).until(\n",
    "    EC.element_to_be_clickable((By.XPATH, '//*[@id=\"loginButton\"]'))\n",
    ")\n",
    "next_button.click()"
   ]
  },
  {
   "cell_type": "code",
   "execution_count": 13,
   "metadata": {},
   "outputs": [],
   "source": [
    "time.sleep(1)\n",
    "next_button = WebDriverWait(driver, 10).until(\n",
    "    EC.element_to_be_clickable((By.XPATH, '/html/body/div[21]/div[3]/div/button[1]/span'))\n",
    ")\n",
    "next_button.click()\n"
   ]
  },
  {
   "cell_type": "code",
   "execution_count": 15,
   "metadata": {},
   "outputs": [],
   "source": [
    "query_txt = \"mã số\""
   ]
  },
  {
   "cell_type": "code",
   "execution_count": 16,
   "metadata": {},
   "outputs": [],
   "source": [
    "query_input = WebDriverWait(driver, 10).until(\n",
    "    EC.element_to_be_clickable((By.XPATH, '//*[@id=\"txtKeyWord\"]'))\n",
    ")\n",
    "driver.execute_script(\"arguments[0].value = arguments[1];\", query_input, query_txt)\n"
   ]
  },
  {
   "cell_type": "code",
   "execution_count": 21,
   "metadata": {},
   "outputs": [
    {
     "ename": "TimeoutException",
     "evalue": "Message: \nStacktrace:\n\tGetHandleVerifier [0x00ED8213+26163]\n\t(No symbol) [0x00E69CC4]\n\t(No symbol) [0x00D624C3]\n\t(No symbol) [0x00DA7453]\n\t(No symbol) [0x00DA762B]\n\t(No symbol) [0x00DE6B62]\n\t(No symbol) [0x00DCAD04]\n\t(No symbol) [0x00DE4661]\n\t(No symbol) [0x00DCAA56]\n\t(No symbol) [0x00D9BE89]\n\t(No symbol) [0x00D9C8CD]\n\tGetHandleVerifier [0x011AD313+2996019]\n\tGetHandleVerifier [0x01201B89+3342249]\n\tGetHandleVerifier [0x00F67AEF+614159]\n\tGetHandleVerifier [0x00F6F17C+644508]\n\t(No symbol) [0x00E727FD]\n\t(No symbol) [0x00E6F6F8]\n\t(No symbol) [0x00E6F895]\n\t(No symbol) [0x00E61C16]\n\tBaseThreadInitThunk [0x76287BA9+25]\n\tRtlInitializeExceptionChain [0x778AC11B+107]\n\tRtlClearBits [0x778AC09F+191]\n",
     "output_type": "error",
     "traceback": [
      "\u001b[1;31m---------------------------------------------------------------------------\u001b[0m",
      "\u001b[1;31mTimeoutException\u001b[0m                          Traceback (most recent call last)",
      "Cell \u001b[1;32mIn[21], line 2\u001b[0m\n\u001b[0;32m      1\u001b[0m \u001b[38;5;66;03m# time.sleep(1)\u001b[39;00m\n\u001b[1;32m----> 2\u001b[0m find_button \u001b[38;5;241m=\u001b[39m WebDriverWait(driver, \u001b[38;5;241m10\u001b[39m)\u001b[38;5;241m.\u001b[39muntil(\n\u001b[0;32m      3\u001b[0m     EC\u001b[38;5;241m.\u001b[39melement_to_be_clickable((By\u001b[38;5;241m.\u001b[39mXPATH, \u001b[38;5;124m'\u001b[39m\u001b[38;5;124m//*[@id=\u001b[39m\u001b[38;5;124m\"\u001b[39m\u001b[38;5;124mbtnKeyWordHome\u001b[39m\u001b[38;5;124m\"\u001b[39m\u001b[38;5;124m]\u001b[39m\u001b[38;5;124m'\u001b[39m))\n\u001b[0;32m      4\u001b[0m )\n\u001b[0;32m      5\u001b[0m find_button\u001b[38;5;241m.\u001b[39mclick()\n",
      "File \u001b[1;32mc:\\Users\\cuongnm\\anaconda3\\Lib\\site-packages\\selenium\\webdriver\\support\\wait.py:105\u001b[0m, in \u001b[0;36mWebDriverWait.until\u001b[1;34m(self, method, message)\u001b[0m\n\u001b[0;32m    103\u001b[0m     \u001b[38;5;28;01mif\u001b[39;00m time\u001b[38;5;241m.\u001b[39mmonotonic() \u001b[38;5;241m>\u001b[39m end_time:\n\u001b[0;32m    104\u001b[0m         \u001b[38;5;28;01mbreak\u001b[39;00m\n\u001b[1;32m--> 105\u001b[0m \u001b[38;5;28;01mraise\u001b[39;00m TimeoutException(message, screen, stacktrace)\n",
      "\u001b[1;31mTimeoutException\u001b[0m: Message: \nStacktrace:\n\tGetHandleVerifier [0x00ED8213+26163]\n\t(No symbol) [0x00E69CC4]\n\t(No symbol) [0x00D624C3]\n\t(No symbol) [0x00DA7453]\n\t(No symbol) [0x00DA762B]\n\t(No symbol) [0x00DE6B62]\n\t(No symbol) [0x00DCAD04]\n\t(No symbol) [0x00DE4661]\n\t(No symbol) [0x00DCAA56]\n\t(No symbol) [0x00D9BE89]\n\t(No symbol) [0x00D9C8CD]\n\tGetHandleVerifier [0x011AD313+2996019]\n\tGetHandleVerifier [0x01201B89+3342249]\n\tGetHandleVerifier [0x00F67AEF+614159]\n\tGetHandleVerifier [0x00F6F17C+644508]\n\t(No symbol) [0x00E727FD]\n\t(No symbol) [0x00E6F6F8]\n\t(No symbol) [0x00E6F895]\n\t(No symbol) [0x00E61C16]\n\tBaseThreadInitThunk [0x76287BA9+25]\n\tRtlInitializeExceptionChain [0x778AC11B+107]\n\tRtlClearBits [0x778AC09F+191]\n"
     ]
    }
   ],
   "source": [
    "# time.sleep(1)\n",
    "find_button = WebDriverWait(driver, 10).until(\n",
    "    EC.element_to_be_clickable((By.XPATH, '//*[@id=\"btnKeyWordHome\"]'))\n",
    ")\n",
    "find_button.click()"
   ]
  },
  {
   "cell_type": "code",
   "execution_count": 24,
   "metadata": {},
   "outputs": [],
   "source": [
    "time.sleep(1)\n",
    "add_condition_button = WebDriverWait(driver, 10).until(\n",
    "    EC.element_to_be_clickable((By.XPATH, '//*[@id=\"aMoRongTimKiem\"]'))\n",
    ")\n",
    "add_condition_button.click()"
   ]
  },
  {
   "cell_type": "code",
   "execution_count": 29,
   "metadata": {},
   "outputs": [],
   "source": [
    "type_dropdown = Select(driver.find_element(By.XPATH,'//*[@id=\"documentTypeDropDownList\"]')) \n",
    "type_dropdown.select_by_visible_text('Thông báo')"
   ]
  },
  {
   "cell_type": "code",
   "execution_count": 30,
   "metadata": {},
   "outputs": [],
   "source": [
    "# time.sleep(1)\n",
    "find_button2 = WebDriverWait(driver, 10).until(\n",
    "    EC.element_to_be_clickable((By.XPATH, '//*[@id=\"btnKeyWord\"]'))\n",
    ")\n",
    "find_button2.click()"
   ]
  },
  {
   "cell_type": "code",
   "execution_count": 31,
   "metadata": {},
   "outputs": [],
   "source": [
    "# time.sleep(1)\n",
    "xnk_button = WebDriverWait(driver, 10).until(\n",
    "    EC.element_to_be_clickable((By.XPATH, '//*[@id=\"tree\"]/li[2]/a[1]'))\n",
    ")\n",
    "xnk_button.click()"
   ]
  }
 ],
 "metadata": {
  "kernelspec": {
   "display_name": "base",
   "language": "python",
   "name": "python3"
  },
  "language_info": {
   "codemirror_mode": {
    "name": "ipython",
    "version": 3
   },
   "file_extension": ".py",
   "mimetype": "text/x-python",
   "name": "python",
   "nbconvert_exporter": "python",
   "pygments_lexer": "ipython3",
   "version": "3.12.4"
  }
 },
 "nbformat": 4,
 "nbformat_minor": 2
}
