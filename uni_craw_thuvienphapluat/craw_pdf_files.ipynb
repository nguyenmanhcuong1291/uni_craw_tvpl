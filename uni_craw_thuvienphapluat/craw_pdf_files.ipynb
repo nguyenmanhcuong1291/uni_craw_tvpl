{
 "cells": [
  {
   "cell_type": "code",
   "execution_count": 12,
   "metadata": {},
   "outputs": [],
   "source": [
    "import requests\n",
    "from bs4 import BeautifulSoup\n",
    "import re\n",
    "import pandas as pd\n"
   ]
  },
  {
   "cell_type": "code",
   "execution_count": 14,
   "metadata": {},
   "outputs": [],
   "source": [
    "excel_file = r\"vi_prod_class_22-10.xlsx\"  # Đường dẫn đến file Excel của bạn"
   ]
  },
  {
   "cell_type": "code",
   "execution_count": null,
   "metadata": {},
   "outputs": [],
   "source": [
    "df_1 = pd.read_excel(excel_file, sheet_name = r'tranformed Kqxd trước mã số', skiprows=1).iloc[:,:3].fillna('')\n",
    "df_2 = pd.read_excel(excel_file, sheet_name = r'transformed Phân loại hàng hóa ', skiprows=1).iloc[:,:3].fillna('')\n",
    "\n",
    "df = pd.concat([df_1,df_2])\n",
    "df.columns = ['link','doc_no','doc_date']\n",
    "df = df.drop_duplicates()\n",
    "df['doc_name'] = df['doc_no'].replace('/', '_', regex=True).replace('-', '_', regex=True)+'_'+df['doc_date'].replace('-', '_', regex=True)\n"
   ]
  },
  {
   "cell_type": "code",
   "execution_count": 44,
   "metadata": {},
   "outputs": [
    {
     "data": {
      "text/html": [
       "<div>\n",
       "<style scoped>\n",
       "    .dataframe tbody tr th:only-of-type {\n",
       "        vertical-align: middle;\n",
       "    }\n",
       "\n",
       "    .dataframe tbody tr th {\n",
       "        vertical-align: top;\n",
       "    }\n",
       "\n",
       "    .dataframe thead th {\n",
       "        text-align: right;\n",
       "    }\n",
       "</style>\n",
       "<table border=\"1\" class=\"dataframe\">\n",
       "  <thead>\n",
       "    <tr style=\"text-align: right;\">\n",
       "      <th></th>\n",
       "      <th>link</th>\n",
       "      <th>doc_no</th>\n",
       "      <th>doc_date</th>\n",
       "      <th>doc_name</th>\n",
       "    </tr>\n",
       "  </thead>\n",
       "  <tbody>\n",
       "    <tr>\n",
       "      <th>0</th>\n",
       "      <td>https://thuvienphapluat.vn/van-ban/Xuat-nhap-k...</td>\n",
       "      <td>3664/TB-TCHQ</td>\n",
       "      <td>29-07-2024</td>\n",
       "      <td>3664_TB_TCHQ_29_07_2024</td>\n",
       "    </tr>\n",
       "    <tr>\n",
       "      <th>1</th>\n",
       "      <td>https://thuvienphapluat.vn/van-ban/Xuat-nhap-k...</td>\n",
       "      <td>3349/TB-TCHQ</td>\n",
       "      <td>10-07-2024</td>\n",
       "      <td>3349_TB_TCHQ_10_07_2024</td>\n",
       "    </tr>\n",
       "    <tr>\n",
       "      <th>2</th>\n",
       "      <td>https://thuvienphapluat.vn/van-ban/Xuat-nhap-k...</td>\n",
       "      <td>3313/TB-TCHQ</td>\n",
       "      <td>08-07-2024</td>\n",
       "      <td>3313_TB_TCHQ_08_07_2024</td>\n",
       "    </tr>\n",
       "    <tr>\n",
       "      <th>3</th>\n",
       "      <td>https://thuvienphapluat.vn/van-ban/Xuat-nhap-k...</td>\n",
       "      <td>3312/TB-TCHQ</td>\n",
       "      <td>08-07-2024</td>\n",
       "      <td>3312_TB_TCHQ_08_07_2024</td>\n",
       "    </tr>\n",
       "    <tr>\n",
       "      <th>4</th>\n",
       "      <td>https://thuvienphapluat.vn/van-ban/Xuat-nhap-k...</td>\n",
       "      <td>2710/TB-TCHQ</td>\n",
       "      <td>12-06-2024</td>\n",
       "      <td>2710_TB_TCHQ_12_06_2024</td>\n",
       "    </tr>\n",
       "  </tbody>\n",
       "</table>\n",
       "</div>"
      ],
      "text/plain": [
       "                                                link        doc_no  \\\n",
       "0  https://thuvienphapluat.vn/van-ban/Xuat-nhap-k...  3664/TB-TCHQ   \n",
       "1  https://thuvienphapluat.vn/van-ban/Xuat-nhap-k...  3349/TB-TCHQ   \n",
       "2  https://thuvienphapluat.vn/van-ban/Xuat-nhap-k...  3313/TB-TCHQ   \n",
       "3  https://thuvienphapluat.vn/van-ban/Xuat-nhap-k...  3312/TB-TCHQ   \n",
       "4  https://thuvienphapluat.vn/van-ban/Xuat-nhap-k...  2710/TB-TCHQ   \n",
       "\n",
       "     doc_date                 doc_name  \n",
       "0  29-07-2024  3664_TB_TCHQ_29_07_2024  \n",
       "1  10-07-2024  3349_TB_TCHQ_10_07_2024  \n",
       "2  08-07-2024  3313_TB_TCHQ_08_07_2024  \n",
       "3  08-07-2024  3312_TB_TCHQ_08_07_2024  \n",
       "4  12-06-2024  2710_TB_TCHQ_12_06_2024  "
      ]
     },
     "execution_count": 44,
     "metadata": {},
     "output_type": "execute_result"
    }
   ],
   "source": [
    "df.head()"
   ]
  },
  {
   "cell_type": "code",
   "execution_count": 105,
   "metadata": {},
   "outputs": [],
   "source": [
    "df.to_excel(\"link_for_download_pdf.xlsx\",index = True)"
   ]
  },
  {
   "cell_type": "code",
   "execution_count": 102,
   "metadata": {},
   "outputs": [
    {
     "name": "stdout",
     "output_type": "stream",
     "text": [
      "Đăng nhập thành công!\n"
     ]
    }
   ],
   "source": [
    "# Đường dẫn để đăng nhập\n",
    "login_url = 'https://thuvienphapluat.vn/page/ajaxcontroler.aspx'\n",
    "\n",
    "# Dữ liệu cần gửi để đăng nhập\n",
    "payload = {\n",
    "    'l_txtUser': 'UNICUSVN',\n",
    "    'l_txtPass': 'UNIUNI',\n",
    "    'action': 'Login'\n",
    "}\n",
    "\n",
    "# Headers cần thiết cho yêu cầu\n",
    "headers = {\n",
    "    'Accept': '*/*',\n",
    "    'Accept-Language': 'en-US,en;q=0.9',\n",
    "    'Cache-Control': 'no-cache',\n",
    "    'Content-Type': 'application/x-www-form-urlencoded',\n",
    "    'DNT': '1',\n",
    "    'Origin': 'https://thuvienphapluat.vn',\n",
    "    'Pragma': 'no-cache',\n",
    "    'Referer': 'https://thuvienphapluat.vn/page/login.aspx?',\n",
    "    'Sec-CH-UA': '\"Chromium\";v=\"130\", \"Google Chrome\";v=\"130\", \"Not?A_Brand\";v=\"99\"',\n",
    "    'Sec-CH-UA-Mobile': '?0',\n",
    "    'Sec-CH-UA-Platform': '\"Windows\"',\n",
    "    'Sec-Fetch-Dest': 'empty',\n",
    "    'Sec-Fetch-Mode': 'cors',\n",
    "    'Sec-Fetch-Site': 'same-origin',\n",
    "    'User-Agent': 'Mozilla/5.0 (Windows NT 10.0; Win64; x64) AppleWebKit/537.36 (KHTML, like Gecko) Chrome/130.0.0.0 Safari/537.36',\n",
    "    'X-Requested-With': 'XMLHttpRequest'\n",
    "}\n",
    "\n",
    "# Khởi tạo session để giữ cookie\n",
    "session = requests.Session()\n",
    "\n",
    "# Gửi yêu cầu POST để đăng nhập\n",
    "login_response = session.post(login_url, data=payload, headers=headers)\n",
    "# Kiểm tra đăng nhập thành công\n",
    "if login_response.ok:\n",
    "    print(\"Đăng nhập thành công!\")\n",
    "else:\n",
    "    print(\"Đăng nhập thất bại:\", login_response.status_code)\n"
   ]
  },
  {
   "cell_type": "code",
   "execution_count": 99,
   "metadata": {},
   "outputs": [],
   "source": [
    "def get_downloadlink(link):\n",
    "    response = session.get(link)\n",
    "    soup = BeautifulSoup(response.text, 'html.parser')\n",
    "    \n",
    "    find_pdf_link = soup.find('div',id = 'tab8').find('a',id ='ctl00_Content_ThongTinVB_pdfHyperLink')\n",
    "    if find_pdf_link:\n",
    "        all_script = soup.find_all('script')\n",
    "        pattern = r'/documents/download\\.aspx\\?id=[\\w%]+'\n",
    "\n",
    "\n",
    "        for idx,text in enumerate(all_script):\n",
    "            if '__urldl' in text.get_text():\n",
    "                matches = re.findall(pattern, text.get_text())\n",
    "                if matches:\n",
    "                    print(matches)\n",
    "\n",
    "        matches[-1]\n",
    "        download_url = f'https://thuvienphapluat.vn{matches[-1]}&part=-0'\n",
    "        print(download_url)\n",
    "        return download_url\n",
    "    else:\n",
    "        print(\"không có link pdf\")"
   ]
  },
  {
   "cell_type": "code",
   "execution_count": null,
   "metadata": {},
   "outputs": [],
   "source": [
    "def download_pdf(download_link,file_name,idx):\n",
    "    path = r\"D:\\Onedrive\\OneDrive - UNI CONSULTING\\Eximhow_pdf\\\\\"\n",
    "    # Gửi yêu cầu tải file PDF\n",
    "    response = session.get(download_link, headers=headers, stream=True)\n",
    "\n",
    "    # Kiểm tra nếu yêu cầu thành công và lưu file\n",
    "    if response.ok:\n",
    "        \n",
    "        with open(f\"{path}{file_name}{}.pdf\", \"wb\") as file:\n",
    "            for chunk in response.iter_content(chunk_size=8192):\n",
    "                file.write(chunk)\n",
    "        print(f\"Tải file thành công và lưu thành {file_name}.pdf\")\n",
    "    else:\n",
    "        print(\"Lỗi khi tải file:\", response.status_code)\n"
   ]
  },
  {
   "cell_type": "code",
   "execution_count": 91,
   "metadata": {},
   "outputs": [
    {
     "data": {
      "text/html": [
       "<div>\n",
       "<style scoped>\n",
       "    .dataframe tbody tr th:only-of-type {\n",
       "        vertical-align: middle;\n",
       "    }\n",
       "\n",
       "    .dataframe tbody tr th {\n",
       "        vertical-align: top;\n",
       "    }\n",
       "\n",
       "    .dataframe thead th {\n",
       "        text-align: right;\n",
       "    }\n",
       "</style>\n",
       "<table border=\"1\" class=\"dataframe\">\n",
       "  <thead>\n",
       "    <tr style=\"text-align: right;\">\n",
       "      <th></th>\n",
       "      <th>link</th>\n",
       "      <th>doc_no</th>\n",
       "      <th>doc_date</th>\n",
       "      <th>doc_name</th>\n",
       "    </tr>\n",
       "  </thead>\n",
       "  <tbody>\n",
       "    <tr>\n",
       "      <th>10</th>\n",
       "      <td>https://thuvienphapluat.vn/van-ban/Xuat-nhap-k...</td>\n",
       "      <td>1970/TB-TCHQ</td>\n",
       "      <td>08-05-2024</td>\n",
       "      <td>1970_TB_TCHQ_08_05_2024</td>\n",
       "    </tr>\n",
       "    <tr>\n",
       "      <th>11</th>\n",
       "      <td>https://thuvienphapluat.vn/van-ban/Xuat-nhap-k...</td>\n",
       "      <td>1395/TB-TCHQ</td>\n",
       "      <td>02-04-2024</td>\n",
       "      <td>1395_TB_TCHQ_02_04_2024</td>\n",
       "    </tr>\n",
       "    <tr>\n",
       "      <th>12</th>\n",
       "      <td>https://thuvienphapluat.vn/van-ban/Xuat-nhap-k...</td>\n",
       "      <td>191/TB-TCHQ</td>\n",
       "      <td>12-01-2024</td>\n",
       "      <td>191_TB_TCHQ_12_01_2024</td>\n",
       "    </tr>\n",
       "    <tr>\n",
       "      <th>13</th>\n",
       "      <td>https://thuvienphapluat.vn/van-ban/Xuat-nhap-k...</td>\n",
       "      <td>143/TB-TCHQ</td>\n",
       "      <td>10-01-2024</td>\n",
       "      <td>143_TB_TCHQ_10_01_2024</td>\n",
       "    </tr>\n",
       "    <tr>\n",
       "      <th>14</th>\n",
       "      <td>https://thuvienphapluat.vn/van-ban/Xuat-nhap-k...</td>\n",
       "      <td>144/TB-TCHQ</td>\n",
       "      <td>10-01-2024</td>\n",
       "      <td>144_TB_TCHQ_10_01_2024</td>\n",
       "    </tr>\n",
       "    <tr>\n",
       "      <th>15</th>\n",
       "      <td>https://thuvienphapluat.vn/van-ban/Xuat-nhap-k...</td>\n",
       "      <td>64/TB-TCHQ</td>\n",
       "      <td>04-01-2024</td>\n",
       "      <td>64_TB_TCHQ_04_01_2024</td>\n",
       "    </tr>\n",
       "    <tr>\n",
       "      <th>16</th>\n",
       "      <td>https://thuvienphapluat.vn/van-ban/Xuat-nhap-k...</td>\n",
       "      <td>6201/TB-TCHQ</td>\n",
       "      <td>01-12-2023</td>\n",
       "      <td>6201_TB_TCHQ_01_12_2023</td>\n",
       "    </tr>\n",
       "    <tr>\n",
       "      <th>17</th>\n",
       "      <td>https://thuvienphapluat.vn/van-ban/Xuat-nhap-k...</td>\n",
       "      <td>6200/TB-TCHQ</td>\n",
       "      <td>01-12-2023</td>\n",
       "      <td>6200_TB_TCHQ_01_12_2023</td>\n",
       "    </tr>\n",
       "    <tr>\n",
       "      <th>18</th>\n",
       "      <td>https://thuvienphapluat.vn/van-ban/Xuat-nhap-k...</td>\n",
       "      <td>5751/TB-TCHQ</td>\n",
       "      <td>08-11-2023</td>\n",
       "      <td>5751_TB_TCHQ_08_11_2023</td>\n",
       "    </tr>\n",
       "    <tr>\n",
       "      <th>19</th>\n",
       "      <td>https://thuvienphapluat.vn/van-ban/Xuat-nhap-k...</td>\n",
       "      <td>4945/TB-TCHQ</td>\n",
       "      <td>22-09-2023</td>\n",
       "      <td>4945_TB_TCHQ_22_09_2023</td>\n",
       "    </tr>\n",
       "  </tbody>\n",
       "</table>\n",
       "</div>"
      ],
      "text/plain": [
       "                                                 link        doc_no  \\\n",
       "10  https://thuvienphapluat.vn/van-ban/Xuat-nhap-k...  1970/TB-TCHQ   \n",
       "11  https://thuvienphapluat.vn/van-ban/Xuat-nhap-k...  1395/TB-TCHQ   \n",
       "12  https://thuvienphapluat.vn/van-ban/Xuat-nhap-k...   191/TB-TCHQ   \n",
       "13  https://thuvienphapluat.vn/van-ban/Xuat-nhap-k...   143/TB-TCHQ   \n",
       "14  https://thuvienphapluat.vn/van-ban/Xuat-nhap-k...   144/TB-TCHQ   \n",
       "15  https://thuvienphapluat.vn/van-ban/Xuat-nhap-k...    64/TB-TCHQ   \n",
       "16  https://thuvienphapluat.vn/van-ban/Xuat-nhap-k...  6201/TB-TCHQ   \n",
       "17  https://thuvienphapluat.vn/van-ban/Xuat-nhap-k...  6200/TB-TCHQ   \n",
       "18  https://thuvienphapluat.vn/van-ban/Xuat-nhap-k...  5751/TB-TCHQ   \n",
       "19  https://thuvienphapluat.vn/van-ban/Xuat-nhap-k...  4945/TB-TCHQ   \n",
       "\n",
       "      doc_date                 doc_name  \n",
       "10  08-05-2024  1970_TB_TCHQ_08_05_2024  \n",
       "11  02-04-2024  1395_TB_TCHQ_02_04_2024  \n",
       "12  12-01-2024   191_TB_TCHQ_12_01_2024  \n",
       "13  10-01-2024   143_TB_TCHQ_10_01_2024  \n",
       "14  10-01-2024   144_TB_TCHQ_10_01_2024  \n",
       "15  04-01-2024    64_TB_TCHQ_04_01_2024  \n",
       "16  01-12-2023  6201_TB_TCHQ_01_12_2023  \n",
       "17  01-12-2023  6200_TB_TCHQ_01_12_2023  \n",
       "18  08-11-2023  5751_TB_TCHQ_08_11_2023  \n",
       "19  22-09-2023  4945_TB_TCHQ_22_09_2023  "
      ]
     },
     "execution_count": 91,
     "metadata": {},
     "output_type": "execute_result"
    }
   ],
   "source": [
    "df.iloc[10:20,:]"
   ]
  },
  {
   "cell_type": "code",
   "execution_count": 96,
   "metadata": {},
   "outputs": [
    {
     "name": "stdout",
     "output_type": "stream",
     "text": [
      "10\n",
      "https://thuvienphapluat.vn/van-ban/Xuat-nhap-khau/Thong-bao-1970-TB-TCHQ-2024-ket-qua-xac-dinh-truoc-ma-so-doi-voi-SPEED-SENSOR-ASSY-610283.aspx\n"
     ]
    },
    {
     "name": "stderr",
     "output_type": "stream",
     "text": [
      "C:\\Users\\nguye\\AppData\\Local\\Temp\\ipykernel_21292\\683674137.py:3: FutureWarning: Series.__getitem__ treating keys as positions is deprecated. In a future version, integer keys will always be treated as labels (consistent with DataFrame behavior). To access a value by position, use `ser.iloc[pos]`\n",
      "  print(row[0])\n",
      "C:\\Users\\nguye\\AppData\\Local\\Temp\\ipykernel_21292\\683674137.py:4: FutureWarning: Series.__getitem__ treating keys as positions is deprecated. In a future version, integer keys will always be treated as labels (consistent with DataFrame behavior). To access a value by position, use `ser.iloc[pos]`\n",
      "  download_link= get_downloadlink(row[0])\n"
     ]
    },
    {
     "name": "stdout",
     "output_type": "stream",
     "text": [
      "51\n",
      "['/documents/download.aspx?id=KrnOQruGxkbQVRjg%2bmoe8g%3d%3d']\n",
      "https://thuvienphapluat.vn/documents/download.aspx?id=KrnOQruGxkbQVRjg%2bmoe8g%3d%3d&part=-0\n",
      "1970_TB_TCHQ_08_05_2024\n",
      "Tải file thành công và lưu thành downloaded_file.pdf\n",
      "11\n",
      "https://thuvienphapluat.vn/van-ban/Xuat-nhap-khau/Thong-bao-1395-TB-TCHQ-2024-ket-qua-xac-dinh-truoc-ma-so-Green-Energy-607239.aspx\n"
     ]
    },
    {
     "name": "stderr",
     "output_type": "stream",
     "text": [
      "C:\\Users\\nguye\\AppData\\Local\\Temp\\ipykernel_21292\\683674137.py:5: FutureWarning: Series.__getitem__ treating keys as positions is deprecated. In a future version, integer keys will always be treated as labels (consistent with DataFrame behavior). To access a value by position, use `ser.iloc[pos]`\n",
      "  print(row[3])\n",
      "C:\\Users\\nguye\\AppData\\Local\\Temp\\ipykernel_21292\\683674137.py:6: FutureWarning: Series.__getitem__ treating keys as positions is deprecated. In a future version, integer keys will always be treated as labels (consistent with DataFrame behavior). To access a value by position, use `ser.iloc[pos]`\n",
      "  file_name = row[3]\n"
     ]
    },
    {
     "name": "stdout",
     "output_type": "stream",
     "text": [
      "51\n",
      "['/documents/download.aspx?id=0rCbuO0Rpgrcl5G3dK2Clg%3d%3d']\n",
      "https://thuvienphapluat.vn/documents/download.aspx?id=0rCbuO0Rpgrcl5G3dK2Clg%3d%3d&part=-0\n",
      "1395_TB_TCHQ_02_04_2024\n",
      "Tải file thành công và lưu thành downloaded_file.pdf\n",
      "12\n",
      "https://thuvienphapluat.vn/van-ban/Xuat-nhap-khau/Thong-bao-191-TB-TCHQ-2024-ket-qua-xac-dinh-truoc-ma-so-Glentaz-Forte-596694.aspx\n",
      "51\n",
      "['/documents/download.aspx?id=exAFs0zAVSokJLDh6bfnYQ%3d%3d']\n",
      "https://thuvienphapluat.vn/documents/download.aspx?id=exAFs0zAVSokJLDh6bfnYQ%3d%3d&part=-0\n",
      "191_TB_TCHQ_12_01_2024\n",
      "Tải file thành công và lưu thành downloaded_file.pdf\n",
      "13\n",
      "https://thuvienphapluat.vn/van-ban/Xuat-nhap-khau/Thong-bao-143-TB-TCHQ-2024-ket-qua-xac-dinh-truoc-ma-so-KLENZIT-MS-596867.aspx\n",
      "51\n",
      "['/documents/download.aspx?id=hEOaeYaowYzhqBWvqHioZQ%3d%3d']\n",
      "https://thuvienphapluat.vn/documents/download.aspx?id=hEOaeYaowYzhqBWvqHioZQ%3d%3d&part=-0\n",
      "143_TB_TCHQ_10_01_2024\n",
      "Tải file thành công và lưu thành downloaded_file.pdf\n",
      "14\n",
      "https://thuvienphapluat.vn/van-ban/Xuat-nhap-khau/Thong-bao-144-TB-TCHQ-2024-ket-qua-xac-dinh-truoc-ma-so-SYSTANE-Gel-Drops-596874.aspx\n",
      "51\n",
      "['/documents/download.aspx?id=vYew2%2bh%2botrinqYr7CIL6g%3d%3d']\n",
      "https://thuvienphapluat.vn/documents/download.aspx?id=vYew2%2bh%2botrinqYr7CIL6g%3d%3d&part=-0\n",
      "144_TB_TCHQ_10_01_2024\n",
      "Tải file thành công và lưu thành downloaded_file.pdf\n",
      "15\n",
      "https://thuvienphapluat.vn/van-ban/Xuat-nhap-khau/Thong-bao-64-TB-TCHQ-2024-ket-qua-xac-dinh-truoc-ma-so-Mang-nhua-EVA-596691.aspx\n",
      "51\n",
      "['/documents/download.aspx?id=tp1OaT2VxeuoJj9ziLdIRA%3d%3d']\n",
      "https://thuvienphapluat.vn/documents/download.aspx?id=tp1OaT2VxeuoJj9ziLdIRA%3d%3d&part=-0\n",
      "64_TB_TCHQ_04_01_2024\n",
      "Tải file thành công và lưu thành downloaded_file.pdf\n",
      "16\n",
      "https://thuvienphapluat.vn/van-ban/Xuat-nhap-khau/Thong-bao-6201-TB-TCHQ-2023-ket-qua-xac-dinh-truoc-ma-so-Terminal-590466.aspx\n",
      "51\n",
      "['/documents/download.aspx?id=cR3Nsd048EP5aHIUxMYcyQ%3d%3d']\n",
      "https://thuvienphapluat.vn/documents/download.aspx?id=cR3Nsd048EP5aHIUxMYcyQ%3d%3d&part=-0\n",
      "6201_TB_TCHQ_01_12_2023\n",
      "Tải file thành công và lưu thành downloaded_file.pdf\n",
      "17\n",
      "https://thuvienphapluat.vn/van-ban/Xuat-nhap-khau/Thong-bao-6200-TB-TCHQ-2023-ket-qua-xac-dinh-truoc-ma-so-Terminal-590465.aspx\n",
      "51\n",
      "['/documents/download.aspx?id=82Iz5kHizRCH8yHQMJ21RQ%3d%3d']\n",
      "https://thuvienphapluat.vn/documents/download.aspx?id=82Iz5kHizRCH8yHQMJ21RQ%3d%3d&part=-0\n",
      "6200_TB_TCHQ_01_12_2023\n",
      "Tải file thành công và lưu thành downloaded_file.pdf\n",
      "18\n",
      "https://thuvienphapluat.vn/van-ban/Xuat-nhap-khau/Thong-bao-5751-TB-TCHQ-2023-ket-qua-xac-dinh-truoc-ma-so-VISMED%c2%ae-586403.aspx\n",
      "51\n",
      "['/documents/download.aspx?id=2CQ3JuooOvJ6xduUCEegBg%3d%3d']\n",
      "https://thuvienphapluat.vn/documents/download.aspx?id=2CQ3JuooOvJ6xduUCEegBg%3d%3d&part=-0\n",
      "5751_TB_TCHQ_08_11_2023\n",
      "Tải file thành công và lưu thành downloaded_file.pdf\n",
      "19\n",
      "https://thuvienphapluat.vn/van-ban/Xuat-nhap-khau/Thong-bao-4945-TB-TCHQ-2023-ket-qua-xac-dinh-truoc-ma-so-580862.aspx\n",
      "51\n",
      "['/documents/download.aspx?id=WMDqVYD2bGAMRi%2f8YsAJig%3d%3d']\n",
      "https://thuvienphapluat.vn/documents/download.aspx?id=WMDqVYD2bGAMRi%2f8YsAJig%3d%3d&part=-0\n",
      "4945_TB_TCHQ_22_09_2023\n",
      "Tải file thành công và lưu thành downloaded_file.pdf\n"
     ]
    }
   ],
   "source": [
    "for idx,row in df.iloc[10:20,:].iterrows():\n",
    "    print (idx)\n",
    "    print(row[0])\n",
    "    download_link= get_downloadlink(row[0])\n",
    "    print(row[3])\n",
    "    file_name = row[3]\n",
    "    download_pdf(download_link,file_name)"
   ]
  },
  {
   "cell_type": "code",
   "execution_count": 100,
   "metadata": {},
   "outputs": [
    {
     "name": "stdout",
     "output_type": "stream",
     "text": [
      "['/documents/download.aspx?id=KrnOQruGxkbQVRjg%2bmoe8g%3d%3d']\n",
      "https://thuvienphapluat.vn/documents/download.aspx?id=KrnOQruGxkbQVRjg%2bmoe8g%3d%3d&part=-0\n"
     ]
    }
   ],
   "source": [
    "test = get_downloadlink('https://thuvienphapluat.vn/van-ban/Xuat-nhap-khau/Thong-bao-1970-TB-TCHQ-2024-ket-qua-xac-dinh-truoc-ma-so-doi-voi-SPEED-SENSOR-ASSY-610283.aspx')"
   ]
  },
  {
   "cell_type": "code",
   "execution_count": 104,
   "metadata": {},
   "outputs": [
    {
     "name": "stdout",
     "output_type": "stream",
     "text": [
      "Tải file thành công và lưu thành test.pdf\n"
     ]
    }
   ],
   "source": [
    "download_pdf(test,\"test\")"
   ]
  }
 ],
 "metadata": {
  "kernelspec": {
   "display_name": "base",
   "language": "python",
   "name": "python3"
  },
  "language_info": {
   "codemirror_mode": {
    "name": "ipython",
    "version": 3
   },
   "file_extension": ".py",
   "mimetype": "text/x-python",
   "name": "python",
   "nbconvert_exporter": "python",
   "pygments_lexer": "ipython3",
   "version": "3.12.4"
  }
 },
 "nbformat": 4,
 "nbformat_minor": 2
}
