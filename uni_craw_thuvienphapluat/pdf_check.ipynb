{
 "cells": [
  {
   "cell_type": "code",
   "execution_count": 18,
   "metadata": {},
   "outputs": [],
   "source": [
    "import os\n",
    "from PyPDF2 import PdfReader\n",
    "import numpy as np\n",
    "import pandas as pd\n",
    "import re\n"
   ]
  },
  {
   "cell_type": "code",
   "execution_count": 35,
   "metadata": {},
   "outputs": [],
   "source": [
    "links = []\n",
    "err_links = []\n",
    "def is_pdf_valid(file_path):\n",
    "    try:\n",
    "        # Mở và kiểm tra file PDF\n",
    "        with open(file_path, \"rb\") as f:\n",
    "            pdf = PdfReader(f)\n",
    "            pdf.pages[0]  # Kiểm tra trang đầu tiên để xác nhận file không lỗi\n",
    "        return True  # File PDF hợp lệ\n",
    "    except Exception as e:\n",
    "        print(f\"File PDF {file_path} có lỗi: {e}\")\n",
    "        return False  # File PDF không hợp lệ\n",
    "\n",
    "def clean_invalid_pdfs(folder_path):\n",
    "    for file_name in os.listdir(folder_path):\n",
    "        # Chỉ kiểm tra file có phần mở rộng .pdf\n",
    "        if file_name.lower().endswith('.pdf'):\n",
    "            file_path = os.path.join(folder_path, file_name)\n",
    "            \n",
    "            # Kiểm tra tính hợp lệ của file PDF\n",
    "            if not is_pdf_valid(file_path):\n",
    "                err_links.append(file_path)\n",
    "                print(f\"Xóa file bị lỗi: {file_path}\")\n",
    "                os.remove(file_path)  # Xóa file nếu không hợp lệ\n",
    "            else: \n",
    "                link = {}\n",
    "                link[\"file_name\"] = file_name\n",
    "                link[\"file_name_2\"] = re.sub(r'_\\d+(?=\\.pdf)', '', file_name)\n",
    "                links.append(link)\n",
    "                \n",
    "# Đường dẫn tới thư mục chứa các file PDF\n",
    "download_folder = r\"D:\\Onedrive\\OneDrive - UNI CONSULTING\\Eximhow_pdf\\\\\"\n",
    "clean_invalid_pdfs(download_folder)\n",
    "\n",
    "\n"
   ]
  },
  {
   "cell_type": "code",
   "execution_count": 38,
   "metadata": {},
   "outputs": [],
   "source": [
    "df= pd.DataFrame(links,columns=[\"file_name\",\"file_name_2\"])"
   ]
  },
  {
   "cell_type": "code",
   "execution_count": null,
   "metadata": {},
   "outputs": [],
   "source": [
    "# df.to_excel(\"downloaded_links.xlsx\", index=False)\n"
   ]
  }
 ],
 "metadata": {
  "kernelspec": {
   "display_name": "base",
   "language": "python",
   "name": "python3"
  },
  "language_info": {
   "codemirror_mode": {
    "name": "ipython",
    "version": 3
   },
   "file_extension": ".py",
   "mimetype": "text/x-python",
   "name": "python",
   "nbconvert_exporter": "python",
   "pygments_lexer": "ipython3",
   "version": "3.12.4"
  }
 },
 "nbformat": 4,
 "nbformat_minor": 2
}
