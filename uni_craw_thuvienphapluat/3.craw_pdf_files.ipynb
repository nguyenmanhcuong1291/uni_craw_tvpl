{
 "cells": [
  {
   "cell_type": "code",
   "execution_count": 38,
   "metadata": {},
   "outputs": [],
   "source": [
    "import requests\n",
    "from bs4 import BeautifulSoup\n",
    "import re\n",
    "import pandas as pd\n",
    "import os\n",
    "from PyPDF2 import PdfReader\n",
    "import numpy as np"
   ]
  },
  {
   "cell_type": "code",
   "execution_count": null,
   "metadata": {},
   "outputs": [],
   "source": [
    "df_1 = pd.read_excel('truoc_ma_so_1802025.xlsx', skiprows=0).iloc[:,:3].fillna('')\n",
    "df_2 = pd.read_excel('phan_loai_1802025.xlsx', skiprows=0).iloc[:,:3].fillna('')\n",
    "\n",
    "df = pd.concat([df_1,df_2])\n",
    "df.columns = ['link','doc_no','doc_date']\n",
    "df = df.loc[df[\"doc_no\"] != \"lỗi\"]\n",
    "df = df.drop_duplicates()\n",
    "df['doc_name'] = df['doc_no'].replace('/', '_', regex=True).replace('-', '_', regex=True)+'_'+df['doc_date'].replace('-', '_', regex=True)\n"
   ]
  },
  {
   "cell_type": "code",
   "execution_count": 26,
   "metadata": {},
   "outputs": [],
   "source": [
    "df.to_excel(\"link_for_download_pdf_18022025.xlsx\",index = True)"
   ]
  },
  {
   "cell_type": "code",
   "execution_count": 27,
   "metadata": {},
   "outputs": [
    {
     "name": "stdout",
     "output_type": "stream",
     "text": [
      "Đăng nhập thành công!\n"
     ]
    }
   ],
   "source": [
    "# Đường dẫn để đăng nhập\n",
    "login_url = 'https://thuvienphapluat.vn/page/ajaxcontroler.aspx'\n",
    "\n",
    "# Dữ liệu cần gửi để đăng nhập\n",
    "payload = {\n",
    "    'l_txtUser': 'UNICUSVN',\n",
    "    'l_txtPass': 'UNIUNI',\n",
    "    'action': 'Login'\n",
    "}\n",
    "\n",
    "# Headers cần thiết cho yêu cầu\n",
    "headers = {\n",
    "    'Accept': '*/*',\n",
    "    'Accept-Language': 'en-US,en;q=0.9',\n",
    "    'Cache-Control': 'no-cache',\n",
    "    'Content-Type': 'application/x-www-form-urlencoded',\n",
    "    'DNT': '1',\n",
    "    'Origin': 'https://thuvienphapluat.vn',\n",
    "    'Pragma': 'no-cache',\n",
    "    'Referer': 'https://thuvienphapluat.vn/page/login.aspx?',\n",
    "    'Sec-CH-UA': '\"Chromium\";v=\"130\", \"Google Chrome\";v=\"130\", \"Not?A_Brand\";v=\"99\"',\n",
    "    'Sec-CH-UA-Mobile': '?0',\n",
    "    'Sec-CH-UA-Platform': '\"Windows\"',\n",
    "    'Sec-Fetch-Dest': 'empty',\n",
    "    'Sec-Fetch-Mode': 'cors',\n",
    "    'Sec-Fetch-Site': 'same-origin',\n",
    "    'User-Agent': 'Mozilla/5.0 (Windows NT 10.0; Win64; x64) AppleWebKit/537.36 (KHTML, like Gecko) Chrome/130.0.0.0 Safari/537.36',\n",
    "    'X-Requested-With': 'XMLHttpRequest'\n",
    "}\n",
    "\n",
    "# Khởi tạo session để giữ cookie\n",
    "session = requests.Session()\n",
    "\n",
    "# Gửi yêu cầu POST để đăng nhập\n",
    "login_response = session.post(login_url, data=payload, headers=headers)\n",
    "# Kiểm tra đăng nhập thành công\n",
    "if login_response.ok:\n",
    "    print(\"Đăng nhập thành công!\")\n",
    "else:\n",
    "    print(\"Đăng nhập thất bại:\", login_response.status_code)\n"
   ]
  },
  {
   "cell_type": "code",
   "execution_count": 28,
   "metadata": {},
   "outputs": [],
   "source": [
    "def get_downloadlink(link):\n",
    "    response = session.get(link)\n",
    "    soup = BeautifulSoup(response.text, 'html.parser')\n",
    "    try:\n",
    "        find_pdf_link = soup.find('div',id = 'tab8').find('a',id ='ctl00_Content_ThongTinVB_pdfHyperLink')\n",
    "        if find_pdf_link:\n",
    "            all_script = soup.find_all('script')\n",
    "            pattern = r'/documents/download\\.aspx\\?id=[\\w%]+'\n",
    "\n",
    "\n",
    "            for idx,text in enumerate(all_script):\n",
    "                if '__urldl' in text.get_text():\n",
    "                    matches = re.findall(pattern, text.get_text())\n",
    "                    if matches:\n",
    "                        print(matches)\n",
    "\n",
    "            matches[-1]\n",
    "            download_url = f'https://thuvienphapluat.vn{matches[-1]}&part=-0'\n",
    "            print(download_url)\n",
    "            return download_url\n",
    "        else:\n",
    "            print(\"không có link pdf\")\n",
    "    except  Exception as e:\n",
    "        print(e)"
   ]
  },
  {
   "cell_type": "code",
   "execution_count": 29,
   "metadata": {},
   "outputs": [],
   "source": [
    "def download_pdf(download_link,file_name,idx):\n",
    "    path = r\"D:\\\\Onedrive\\\\OneDrive - UNI CONSULTING\\\\Eximhow_pdf\\\\18022025\\\\\"\n",
    "    # Gửi yêu cầu tải file PDF\n",
    "    response = session.get(download_link, headers=headers, stream=True)\n",
    "\n",
    "    # Kiểm tra nếu yêu cầu thành công và lưu file\n",
    "    if response.ok:\n",
    "        \n",
    "        with open(f\"{path}{file_name}_{idx}.pdf\", \"wb\") as file:\n",
    "            for chunk in response.iter_content(chunk_size=8192):\n",
    "                file.write(chunk)\n",
    "        print(f\"Tải file thành công và lưu thành {file_name}.pdf\")\n",
    "    else:\n",
    "        print(\"Lỗi khi tải file:\", response.status_code)\n",
    "        \n"
   ]
  },
  {
   "cell_type": "code",
   "execution_count": 30,
   "metadata": {},
   "outputs": [
    {
     "data": {
      "text/plain": [
       "'https://thuvienphapluat.vn/van-ban/Xuat-nhap-khau/Thong-bao-6331-TB-TCHQ-2024-ket-qua-xac-dinh-truoc-ma-so-FLUX-TLF-800M-1-6-638902.aspx'"
      ]
     },
     "execution_count": 30,
     "metadata": {},
     "output_type": "execute_result"
    }
   ],
   "source": [
    "df.iloc[20,0]"
   ]
  },
  {
   "cell_type": "code",
   "execution_count": 31,
   "metadata": {},
   "outputs": [
    {
     "name": "stdout",
     "output_type": "stream",
     "text": [
      "['/documents/download.aspx?id=xm03heuqAlTrDAcYznWPiA%3d%3d']\n",
      "https://thuvienphapluat.vn/documents/download.aspx?id=xm03heuqAlTrDAcYznWPiA%3d%3d&part=-0\n"
     ]
    },
    {
     "data": {
      "text/plain": [
       "'https://thuvienphapluat.vn/documents/download.aspx?id=xm03heuqAlTrDAcYznWPiA%3d%3d&part=-0'"
      ]
     },
     "execution_count": 31,
     "metadata": {},
     "output_type": "execute_result"
    }
   ],
   "source": [
    "get_downloadlink(df.iloc[20,0])"
   ]
  },
  {
   "cell_type": "code",
   "execution_count": 32,
   "metadata": {},
   "outputs": [
    {
     "data": {
      "application/vnd.microsoft.datawrangler.viewer.v0+json": {
       "columns": [
        {
         "name": "index",
         "rawType": "int64",
         "type": "integer"
        },
        {
         "name": "link",
         "rawType": "object",
         "type": "string"
        },
        {
         "name": "doc_no",
         "rawType": "object",
         "type": "string"
        },
        {
         "name": "doc_date",
         "rawType": "object",
         "type": "string"
        },
        {
         "name": "doc_name",
         "rawType": "object",
         "type": "string"
        }
       ],
       "conversionMethod": "pd.DataFrame",
       "ref": "95693c18-f627-463b-a97a-b349472a2133",
       "rows": [
        [
         "0",
         "https://thuvienphapluat.vn/van-ban/Xuat-nhap-khau/Thong-bao-6450-TB-TCHQ-2024-ket-qua-xac-dinh-truoc-ma-so-APTAMIL-PROFUTURA-CESARBIOTIK-639434.aspx",
         "6450/TB-TCHQ",
         "23-12-2024",
         "6450_TB_TCHQ_23_12_2024"
        ],
        [
         "2",
         "https://thuvienphapluat.vn/van-ban/Xuat-nhap-khau/Thong-bao-5951-TB-TCHQ-2024-ket-qua-xac-dinh-truoc-ma-so-Con-lan-giam-chan-636300.aspx",
         "5951/TB-TCHQ",
         "29-11-2024",
         "5951_TB_TCHQ_29_11_2024"
        ],
        [
         "3",
         "https://thuvienphapluat.vn/van-ban/Xuat-nhap-khau/Thong-bao-5317-TB-TCHQ-2024-ket-qua-xac-dinh-truoc-ma-so-Quercetin-dihydrate-632002.aspx",
         "5317/TB-TCHQ",
         "31-10-2024",
         "5317_TB_TCHQ_31_10_2024"
        ],
        [
         "4",
         "https://thuvienphapluat.vn/van-ban/Xuat-nhap-khau/Thong-bao-284-TB-TCHQ-2025-ket-qua-xac-dinh-truoc-ma-so-Nap-nhua-bao-ve-day-dien-xe-hoi-641781.aspx",
         "284/TB-TCHQ",
         "17-01-2025",
         "284_TB_TCHQ_17_01_2025"
        ],
        [
         "5",
         "https://thuvienphapluat.vn/van-ban/Xuat-nhap-khau/Thong-bao-6058-TB-TCHQ-2024-ket-qua-xac-dinh-truoc-ma-so-doi-voi-Than-voi-chau-rua-tu-dong-637080.aspx",
         "6058/TB-TCHQ",
         "04-12-2024",
         "6058_TB_TCHQ_04_12_2024"
        ],
        [
         "6",
         "https://thuvienphapluat.vn/van-ban/Xuat-nhap-khau/Thong-bao-6017-TB-TCHQ-2024-ket-qua-xac-dinh-truoc-ma-so-636319.aspx",
         "6017/TB-TCHQ",
         "02-12-2024",
         "6017_TB_TCHQ_02_12_2024"
        ],
        [
         "7",
         "https://thuvienphapluat.vn/van-ban/Xuat-nhap-khau/Thong-bao-516-TB-TCHQ-2025-ket-qua-xac-dinh-truoc-ma-so-Thuc-pham-bao-ve-suc-khoe-642339.aspx",
         "516/TB-TCHQ",
         "05-02-2025",
         "516_TB_TCHQ_05_02_2025"
        ],
        [
         "8",
         "https://thuvienphapluat.vn/van-ban/Xuat-nhap-khau/Thong-bao-285-TB-TCHQ-2025-ket-qua-xac-dinh-truoc-ma-so-Nap-nhua-bao-ve-day-dien-xe-hoi-641785.aspx",
         "285/TB-TCHQ",
         "17-01-2025",
         "285_TB_TCHQ_17_01_2025"
        ],
        [
         "9",
         "https://thuvienphapluat.vn/van-ban/Xuat-nhap-khau/Thong-bao-5968-TB-TCHQ-2024-ket-qua-xac-dinh-truoc-ma-so-Tai-nghe-bluetooth-Huawei-FreeClip-636303.aspx",
         "5968/TB-TCHQ",
         "29-11-2024",
         "5968_TB_TCHQ_29_11_2024"
        ],
        [
         "10",
         "https://thuvienphapluat.vn/van-ban/Xuat-nhap-khau/Thong-bao-123-TB-TCHQ-2025-ket-qua-xac-dinh-truoc-ma-so-Bo-cang-xich-cam-thuy-luc-640062.aspx",
         "123/TB-TCHQ",
         "08-01-2025",
         "123_TB_TCHQ_08_01_2025"
        ],
        [
         "11",
         "https://thuvienphapluat.vn/van-ban/Xuat-nhap-khau/Thong-bao-5973-TB-TCHQ-2024-ket-qua-xac-dinh-truoc-ma-so-636313.aspx",
         "5973/TB-TCHQ",
         "29-11-2024",
         "5973_TB_TCHQ_29_11_2024"
        ],
        [
         "12",
         "https://thuvienphapluat.vn/van-ban/Xuat-nhap-khau/Thong-bao-513-TB-TCHQ-2025-ket-qua-xac-dinh-truoc-ma-so-Optibac-For-Women-642337.aspx",
         "513/TB-TCHQ",
         "05-02-2025",
         "513_TB_TCHQ_05_02_2025"
        ],
        [
         "13",
         "https://thuvienphapluat.vn/van-ban/Xuat-nhap-khau/Thong-bao-6489-TB-TCHQ-2024-ket-qua-xac-dinh-truoc-ma-so-Freeze-Dried-Rice-Crispy-Lod-Chong-637438.aspx",
         "6489/TB-TCHQ",
         "25-12-2024",
         "6489_TB_TCHQ_25_12_2024"
        ],
        [
         "14",
         "https://thuvienphapluat.vn/van-ban/Xuat-nhap-khau/Thong-bao-288-TB-TCHQ-2025-ket-qua-xac-dinh-truoc-ma-so-Thuc-pham-bao-ve-suc-khoe-Imochild-DHA-641790.aspx",
         "288/TB-TCHQ",
         "17-01-2025",
         "288_TB_TCHQ_17_01_2025"
        ],
        [
         "15",
         "https://thuvienphapluat.vn/van-ban/Xuat-nhap-khau/Thong-bao-437-TB-TCHQ-2025-ket-qua-xac-dinh-truoc-ma-so-HPE-Synergy-12000-Frame-641868.aspx",
         "437/TB-TCHQ",
         "23-01-2025",
         "437_TB_TCHQ_23_01_2025"
        ],
        [
         "16",
         "https://thuvienphapluat.vn/van-ban/Xuat-nhap-khau/Thong-bao-6012-TB-TCHQ-2024-ket-qua-xac-dinh-truoc-ma-so-doi-voi-H4-Coiler-Dial-G-634662.aspx",
         "6012/TB-TCHQ",
         "02-12-2024",
         "6012_TB_TCHQ_02_12_2024"
        ],
        [
         "17",
         "https://thuvienphapluat.vn/van-ban/Xuat-nhap-khau/Thong-bao-529-TB-TCHQ-2025-ket-qua-xac-dinh-truoc-ma-so-O-cung-di-dong-Samsung-642335.aspx",
         "529/TB-TCHQ",
         "06-02-2025",
         "529_TB_TCHQ_06_02_2025"
        ],
        [
         "18",
         "https://thuvienphapluat.vn/van-ban/Xuat-nhap-khau/Thong-bao-20-TB-TCHQ-2025-ket-qua-xac-dinh-truoc-ma-so-H4-Bayonet-Tongue-Coiler-639432.aspx",
         "20/TB-TCHQ",
         "02-01-2025",
         "20_TB_TCHQ_02_01_2025"
        ],
        [
         "19",
         "https://thuvienphapluat.vn/van-ban/Xuat-nhap-khau/Thong-bao-6015-TB-TCHQ-2024-ket-qua-xac-dinh-truoc-ma-so-Humiome-Post-LB-634659.aspx",
         "6015/TB-TCHQ",
         "02-12-2024",
         "6015_TB_TCHQ_02_12_2024"
        ],
        [
         "20",
         "https://thuvienphapluat.vn/van-ban/Xuat-nhap-khau/Thong-bao-512-TB-TCHQ-2025-ket-qua-xac-dinh-truoc-ma-so-Optibac-For-Those-On-Antibiotics-642342.aspx",
         "512/TB-TCHQ",
         "05-02-2025",
         "512_TB_TCHQ_05_02_2025"
        ],
        [
         "21",
         "https://thuvienphapluat.vn/van-ban/Xuat-nhap-khau/Thong-bao-6331-TB-TCHQ-2024-ket-qua-xac-dinh-truoc-ma-so-FLUX-TLF-800M-1-6-638902.aspx",
         "6331/TB-TCHQ",
         "17-12-2024",
         "6331_TB_TCHQ_17_12_2024"
        ],
        [
         "22",
         "https://thuvienphapluat.vn/van-ban/Xuat-nhap-khau/Thong-bao-302-TB-TCHQ-2025-ket-qua-xac-dinh-truoc-ma-so-doi-voi-Nap-nhua-bao-ve-day-dien-xe-hoi-641795.aspx",
         "302/TB-TCHQ",
         "17-01-2025",
         "302_TB_TCHQ_17_01_2025"
        ],
        [
         "23",
         "https://thuvienphapluat.vn/van-ban/Xuat-nhap-khau/Thong-bao-5967-TB-TCHQ-2024-ket-qua-xac-dinh-truoc-ma-so-tai-nghe-Huawei-Freebuds-6i-636301.aspx",
         "5967/TB-TCHQ",
         "29-11-2024",
         "5967_TB_TCHQ_29_11_2024"
        ],
        [
         "25",
         "https://thuvienphapluat.vn/van-ban/Xuat-nhap-khau/Thong-bao-306-TB-TCHQ-2025-ket-qua-xac-dinh-truoc-ma-so-Power-Socket-O-cam-dien-642509.aspx",
         "306/TB-TCHQ",
         "17-01-2025",
         "306_TB_TCHQ_17_01_2025"
        ],
        [
         "26",
         "https://thuvienphapluat.vn/van-ban/Xuat-nhap-khau/Thong-bao-280-TB-TCHQ-2025-ket-qua-xac-dinh-truoc-ma-so-doi-voi-Nap-nhua-bao-ve-day-dien-xe-hoi-641764.aspx",
         "280/TB-TCHQ",
         "17-01-2025",
         "280_TB_TCHQ_17_01_2025"
        ],
        [
         "27",
         "https://thuvienphapluat.vn/van-ban/Xuat-nhap-khau/Thong-bao-6443-TB-TCHQ-2024-ket-qua-xac-dinh-truoc-ma-so-deo-tay-Huawei-Watch-GT-5-Pro-640068.aspx",
         "6443/TB-TCHQ",
         "23-12-2024",
         "6443_TB_TCHQ_23_12_2024"
        ],
        [
         "28",
         "https://thuvienphapluat.vn/van-ban/Xuat-nhap-khau/Thong-bao-286-TB-TCHQ-2025-ket-qua-xac-dinh-truoc-ma-so-Nap-nhua-bao-ve-day-dien-xe-hoi-641788.aspx",
         "286/TB-TCHQ",
         "17-01-2025",
         "286_TB_TCHQ_17_01_2025"
        ],
        [
         "29",
         "https://thuvienphapluat.vn/van-ban/Xuat-nhap-khau/Thong-bao-6313-TB-TCHQ-2024-ket-qua-xac-dinh-truoc-ma-so-Freeze-Dried-Rice-Crispy-Durian-636754.aspx",
         "6313/TB-TCHQ",
         "17-12-2024",
         "6313_TB_TCHQ_17_12_2024"
        ],
        [
         "30",
         "https://thuvienphapluat.vn/van-ban/Xuat-nhap-khau/Thong-bao-5523-TB-TCHQ-2024-ket-qua-xac-dinh-truoc-ma-so-ageLOC-TRME-TRIMSHAKE-632060.aspx",
         "5523/TB-TCHQ",
         "08-11-2024",
         "5523_TB_TCHQ_08_11_2024"
        ],
        [
         "31",
         "https://thuvienphapluat.vn/van-ban/Xuat-nhap-khau/Thong-bao-6014-TB-TCHQ-2024-ket-qua-xac-dinh-truoc-ma-so-M-2-PowerPull-R-Remote-Dial-A-No-Lace-Lock-634658.aspx",
         "6014/TB-TCHQ",
         "02-12-2024",
         "6014_TB_TCHQ_02_12_2024"
        ],
        [
         "32",
         "https://thuvienphapluat.vn/van-ban/Xuat-nhap-khau/Thong-bao-362-TB-TCHQ-2025-ket-qua-xac-dinh-truoc-ma-so-Powdered-Cooked-Chicken-C-100B-AR-641865.aspx",
         "362/TB-TCHQ",
         "21-01-2025",
         "362_TB_TCHQ_21_01_2025"
        ],
        [
         "33",
         "https://thuvienphapluat.vn/van-ban/Xuat-nhap-khau/Thong-bao-185-TB-TCHQ-2025-ket-qua-xac-dinh-truoc-ma-so-doi-voi-Khay-dung-ly-640135.aspx",
         "185/TB-TCHQ",
         "10-01-2025",
         "185_TB_TCHQ_10_01_2025"
        ],
        [
         "34",
         "https://thuvienphapluat.vn/van-ban/Xuat-nhap-khau/Thong-bao-5922-TB-TCHQ-2024-ket-qua-xac-dinh-truoc-ma-so-May-phan-tich-co-the-Tanita-DC-430MA-633956.aspx",
         "5922/TB-TCHQ",
         "28-11-2024",
         "5922_TB_TCHQ_28_11_2024"
        ],
        [
         "35",
         "https://thuvienphapluat.vn/van-ban/Xuat-nhap-khau/Thong-bao-5433-TB-TCHQ-2024-ket-qua-xac-dinh-truoc-ma-so-doi-voi-WASHER-631992.aspx",
         "5433/TB-TCHQ",
         "06-11-2024",
         "5433_TB_TCHQ_06_11_2024"
        ],
        [
         "36",
         "https://thuvienphapluat.vn/van-ban/Xuat-nhap-khau/Thong-bao-514-TB-TCHQ-2025-ket-qua-xac-dinh-truoc-ma-so-Optibac-Pregnancy-642341.aspx",
         "514/TB-TCHQ",
         "05-02-2025",
         "514_TB_TCHQ_05_02_2025"
        ],
        [
         "37",
         "https://thuvienphapluat.vn/van-ban/Xuat-nhap-khau/Thong-bao-281-TB-TCHQ-2025-ket-qua-xac-dinh-truoc-ma-so-doi-voi-Thuc-pham-bao-ve-suc-khoe-Imochild-641766.aspx",
         "281/TB-TCHQ",
         "17-01-2025",
         "281_TB_TCHQ_17_01_2025"
        ],
        [
         "38",
         "https://thuvienphapluat.vn/van-ban/Xuat-nhap-khau/Thong-bao-5970-TB-TCHQ-2024-ket-qua-xac-dinh-truoc-ma-so-FREQ-CIRCULATOR-636310.aspx",
         "5970/TB-TCHQ",
         "29-11-2024",
         "5970_TB_TCHQ_29_11_2024"
        ],
        [
         "39",
         "https://thuvienphapluat.vn/van-ban/Xuat-nhap-khau/Thong-bao-6444-TB-TCHQ-2024-ket-qua-xac-dinh-truoc-ma-so-640161.aspx",
         "6444/TB-TCHQ",
         "23-12-2024",
         "6444_TB_TCHQ_23_12_2024"
        ],
        [
         "40",
         "https://thuvienphapluat.vn/van-ban/Xuat-nhap-khau/Thong-bao-6490-TB-TCHQ-2024-ket-qua-xac-dinh-truoc-ma-so-Freeze-Dried-Rice-Crispy-Mango-637437.aspx",
         "6490/TB-TCHQ",
         "25-12-2024",
         "6490_TB_TCHQ_25_12_2024"
        ],
        [
         "41",
         "https://thuvienphapluat.vn/van-ban/Xuat-nhap-khau/Thong-bao-282-TB-TCHQ-2025-ket-qua-xac-dinh-truoc-ma-so-doi-voi-Nap-nhua-bao-ve-day-dien-xe-hoi-641776.aspx",
         "282/TB-TCHQ",
         "17-01-2025",
         "282_TB_TCHQ_17_01_2025"
        ],
        [
         "42",
         "https://thuvienphapluat.vn/van-ban/Xuat-nhap-khau/Thong-bao-6059-TB-TCHQ-2024-ket-qua-xac-dinh-truoc-ma-so-Than-cua-voi-chau-rua-634650.aspx",
         "6059/TB-TCHQ",
         "04-12-2024",
         "6059_TB_TCHQ_04_12_2024"
        ],
        [
         "43",
         "https://thuvienphapluat.vn/van-ban/Xuat-nhap-khau/Thong-bao-535-TB-TCHQ-2025-ket-qua-xac-dinh-truoc-ma-so-Semi-finished-PCB-for-TV-642336.aspx",
         "535/TB-TCHQ",
         "06-02-2025",
         "535_TB_TCHQ_06_02_2025"
        ],
        [
         "44",
         "https://thuvienphapluat.vn/van-ban/Xuat-nhap-khau/Thong-bao-6158-TB-TCHQ-2024-ket-qua-xac-dinh-truoc-ma-so-Omega-3-SUPRA-KAPSELN-636332.aspx",
         "6158/TB-TCHQ",
         "09-12-2024",
         "6158_TB_TCHQ_09_12_2024"
        ],
        [
         "45",
         "https://thuvienphapluat.vn/van-ban/Xuat-nhap-khau/Thong-bao-6101-TB-TCHQ-2024-ket-qua-xac-dinh-truoc-ma-so-doi-voi-Colpofix-635173.aspx",
         "6101/TB-TCHQ",
         "05-12-2024",
         "6101_TB_TCHQ_05_12_2024"
        ],
        [
         "46",
         "https://thuvienphapluat.vn/van-ban/Xuat-nhap-khau/Thong-bao-511-TB-TCHQ-2025-ket-qua-xac-dinh-truoc-ma-so-Thuc-pham-bao-ve-suc-khoe-642344.aspx",
         "511/TB-TCHQ",
         "05-02-2025",
         "511_TB_TCHQ_05_02_2025"
        ],
        [
         "47",
         "https://thuvienphapluat.vn/van-ban/Xuat-nhap-khau/Thong-bao-119-TB-TCHQ-2025-ket-qua-xac-dinh-truoc-ma-so-640061.aspx",
         "119/TB-TCHQ",
         "08-01-2025",
         "119_TB_TCHQ_08_01_2025"
        ],
        [
         "48",
         "https://thuvienphapluat.vn/van-ban/Xuat-nhap-khau/Thong-bao-6311-TB-TCHQ-2024-ket-qua-xac-dinh-truoc-ma-so-doi-voi-Rhodium-Solution-636752.aspx",
         "6311/TB-TCHQ",
         "17-12-2024",
         "6311_TB_TCHQ_17_12_2024"
        ],
        [
         "49",
         "https://thuvienphapluat.vn/van-ban/Xuat-nhap-khau/Thong-bao-5282-TB-TCHQ-2024-ket-qua-xac-dinh-truoc-ma-so-SheffCoat-EC-White-5Y00462-632007.aspx",
         "5282/TB-TCHQ",
         "30-10-2024",
         "5282_TB_TCHQ_30_10_2024"
        ],
        [
         "50",
         "https://thuvienphapluat.vn/van-ban/Xuat-nhap-khau/Thong-bao-6442-TB-TCHQ-2024-ket-qua-xac-dinh-truoc-ma-so-640067.aspx",
         "6442/TB-TCHQ",
         "23-12-2024",
         "6442_TB_TCHQ_23_12_2024"
        ],
        [
         "51",
         "https://thuvienphapluat.vn/van-ban/Xuat-nhap-khau/Thong-bao-5969-TB-TCHQ-2024-ket-qua-xac-dinh-truoc-ma-so-636306.aspx",
         "5969/TB-TCHQ",
         "29-11-2024",
         "5969_TB_TCHQ_29_11_2024"
        ]
       ],
       "shape": {
        "columns": 4,
        "rows": 86
       }
      },
      "text/html": [
       "<div>\n",
       "<style scoped>\n",
       "    .dataframe tbody tr th:only-of-type {\n",
       "        vertical-align: middle;\n",
       "    }\n",
       "\n",
       "    .dataframe tbody tr th {\n",
       "        vertical-align: top;\n",
       "    }\n",
       "\n",
       "    .dataframe thead th {\n",
       "        text-align: right;\n",
       "    }\n",
       "</style>\n",
       "<table border=\"1\" class=\"dataframe\">\n",
       "  <thead>\n",
       "    <tr style=\"text-align: right;\">\n",
       "      <th></th>\n",
       "      <th>link</th>\n",
       "      <th>doc_no</th>\n",
       "      <th>doc_date</th>\n",
       "      <th>doc_name</th>\n",
       "    </tr>\n",
       "  </thead>\n",
       "  <tbody>\n",
       "    <tr>\n",
       "      <th>0</th>\n",
       "      <td>https://thuvienphapluat.vn/van-ban/Xuat-nhap-k...</td>\n",
       "      <td>6450/TB-TCHQ</td>\n",
       "      <td>23-12-2024</td>\n",
       "      <td>6450_TB_TCHQ_23_12_2024</td>\n",
       "    </tr>\n",
       "    <tr>\n",
       "      <th>2</th>\n",
       "      <td>https://thuvienphapluat.vn/van-ban/Xuat-nhap-k...</td>\n",
       "      <td>5951/TB-TCHQ</td>\n",
       "      <td>29-11-2024</td>\n",
       "      <td>5951_TB_TCHQ_29_11_2024</td>\n",
       "    </tr>\n",
       "    <tr>\n",
       "      <th>3</th>\n",
       "      <td>https://thuvienphapluat.vn/van-ban/Xuat-nhap-k...</td>\n",
       "      <td>5317/TB-TCHQ</td>\n",
       "      <td>31-10-2024</td>\n",
       "      <td>5317_TB_TCHQ_31_10_2024</td>\n",
       "    </tr>\n",
       "    <tr>\n",
       "      <th>4</th>\n",
       "      <td>https://thuvienphapluat.vn/van-ban/Xuat-nhap-k...</td>\n",
       "      <td>284/TB-TCHQ</td>\n",
       "      <td>17-01-2025</td>\n",
       "      <td>284_TB_TCHQ_17_01_2025</td>\n",
       "    </tr>\n",
       "    <tr>\n",
       "      <th>5</th>\n",
       "      <td>https://thuvienphapluat.vn/van-ban/Xuat-nhap-k...</td>\n",
       "      <td>6058/TB-TCHQ</td>\n",
       "      <td>04-12-2024</td>\n",
       "      <td>6058_TB_TCHQ_04_12_2024</td>\n",
       "    </tr>\n",
       "    <tr>\n",
       "      <th>...</th>\n",
       "      <td>...</td>\n",
       "      <td>...</td>\n",
       "      <td>...</td>\n",
       "      <td>...</td>\n",
       "    </tr>\n",
       "    <tr>\n",
       "      <th>86</th>\n",
       "      <td>https://thuvienphapluat.vn/van-ban/Xuat-nhap-k...</td>\n",
       "      <td>6208/TB-TCHQ</td>\n",
       "      <td>11-12-2024</td>\n",
       "      <td>6208_TB_TCHQ_11_12_2024</td>\n",
       "    </tr>\n",
       "    <tr>\n",
       "      <th>87</th>\n",
       "      <td>https://thuvienphapluat.vn/van-ban/Xuat-nhap-k...</td>\n",
       "      <td>301/TB-TCHQ</td>\n",
       "      <td>17-01-2025</td>\n",
       "      <td>301_TB_TCHQ_17_01_2025</td>\n",
       "    </tr>\n",
       "    <tr>\n",
       "      <th>88</th>\n",
       "      <td>https://thuvienphapluat.vn/van-ban/Xuat-nhap-k...</td>\n",
       "      <td>6011/TB-TCHQ</td>\n",
       "      <td>02-12-2024</td>\n",
       "      <td>6011_TB_TCHQ_02_12_2024</td>\n",
       "    </tr>\n",
       "    <tr>\n",
       "      <th>89</th>\n",
       "      <td>https://thuvienphapluat.vn/van-ban/Xuat-nhap-k...</td>\n",
       "      <td>6440/TB-TCHQ</td>\n",
       "      <td>23-12-2024</td>\n",
       "      <td>6440_TB_TCHQ_23_12_2024</td>\n",
       "    </tr>\n",
       "    <tr>\n",
       "      <th>90</th>\n",
       "      <td>https://thuvienphapluat.vn/van-ban/Xuat-nhap-k...</td>\n",
       "      <td>5432/TB-TCHQ</td>\n",
       "      <td>06-11-2024</td>\n",
       "      <td>5432_TB_TCHQ_06_11_2024</td>\n",
       "    </tr>\n",
       "  </tbody>\n",
       "</table>\n",
       "<p>86 rows × 4 columns</p>\n",
       "</div>"
      ],
      "text/plain": [
       "                                                 link        doc_no  \\\n",
       "0   https://thuvienphapluat.vn/van-ban/Xuat-nhap-k...  6450/TB-TCHQ   \n",
       "2   https://thuvienphapluat.vn/van-ban/Xuat-nhap-k...  5951/TB-TCHQ   \n",
       "3   https://thuvienphapluat.vn/van-ban/Xuat-nhap-k...  5317/TB-TCHQ   \n",
       "4   https://thuvienphapluat.vn/van-ban/Xuat-nhap-k...   284/TB-TCHQ   \n",
       "5   https://thuvienphapluat.vn/van-ban/Xuat-nhap-k...  6058/TB-TCHQ   \n",
       "..                                                ...           ...   \n",
       "86  https://thuvienphapluat.vn/van-ban/Xuat-nhap-k...  6208/TB-TCHQ   \n",
       "87  https://thuvienphapluat.vn/van-ban/Xuat-nhap-k...   301/TB-TCHQ   \n",
       "88  https://thuvienphapluat.vn/van-ban/Xuat-nhap-k...  6011/TB-TCHQ   \n",
       "89  https://thuvienphapluat.vn/van-ban/Xuat-nhap-k...  6440/TB-TCHQ   \n",
       "90  https://thuvienphapluat.vn/van-ban/Xuat-nhap-k...  5432/TB-TCHQ   \n",
       "\n",
       "      doc_date                 doc_name  \n",
       "0   23-12-2024  6450_TB_TCHQ_23_12_2024  \n",
       "2   29-11-2024  5951_TB_TCHQ_29_11_2024  \n",
       "3   31-10-2024  5317_TB_TCHQ_31_10_2024  \n",
       "4   17-01-2025   284_TB_TCHQ_17_01_2025  \n",
       "5   04-12-2024  6058_TB_TCHQ_04_12_2024  \n",
       "..         ...                      ...  \n",
       "86  11-12-2024  6208_TB_TCHQ_11_12_2024  \n",
       "87  17-01-2025   301_TB_TCHQ_17_01_2025  \n",
       "88  02-12-2024  6011_TB_TCHQ_02_12_2024  \n",
       "89  23-12-2024  6440_TB_TCHQ_23_12_2024  \n",
       "90  06-11-2024  5432_TB_TCHQ_06_11_2024  \n",
       "\n",
       "[86 rows x 4 columns]"
      ]
     },
     "execution_count": 32,
     "metadata": {},
     "output_type": "execute_result"
    }
   ],
   "source": [
    "df"
   ]
  },
  {
   "cell_type": "code",
   "execution_count": 33,
   "metadata": {},
   "outputs": [
    {
     "name": "stdout",
     "output_type": "stream",
     "text": [
      "77\n",
      "https://thuvienphapluat.vn/van-ban/Xuat-nhap-khau/Thong-bao-6317-TB-TCHQ-2024-ket-qua-xac-dinh-truoc-ma-so-doi-voi-Li2-L-Eyestay-Dial-A-640017.aspx\n"
     ]
    },
    {
     "name": "stderr",
     "output_type": "stream",
     "text": [
      "C:\\Users\\nguye\\AppData\\Local\\Temp\\ipykernel_26984\\1446626439.py:3: FutureWarning: Series.__getitem__ treating keys as positions is deprecated. In a future version, integer keys will always be treated as labels (consistent with DataFrame behavior). To access a value by position, use `ser.iloc[pos]`\n",
      "  print(row[0])\n",
      "C:\\Users\\nguye\\AppData\\Local\\Temp\\ipykernel_26984\\1446626439.py:4: FutureWarning: Series.__getitem__ treating keys as positions is deprecated. In a future version, integer keys will always be treated as labels (consistent with DataFrame behavior). To access a value by position, use `ser.iloc[pos]`\n",
      "  download_link= get_downloadlink(row[0])\n"
     ]
    },
    {
     "name": "stdout",
     "output_type": "stream",
     "text": [
      "['/documents/download.aspx?id=63txNnQgCKyNNsZgqlHcwQ%3d%3d']\n",
      "https://thuvienphapluat.vn/documents/download.aspx?id=63txNnQgCKyNNsZgqlHcwQ%3d%3d&part=-0\n",
      "6317_TB_TCHQ_17_12_2024\n"
     ]
    },
    {
     "name": "stderr",
     "output_type": "stream",
     "text": [
      "C:\\Users\\nguye\\AppData\\Local\\Temp\\ipykernel_26984\\1446626439.py:5: FutureWarning: Series.__getitem__ treating keys as positions is deprecated. In a future version, integer keys will always be treated as labels (consistent with DataFrame behavior). To access a value by position, use `ser.iloc[pos]`\n",
      "  print(row[3])\n",
      "C:\\Users\\nguye\\AppData\\Local\\Temp\\ipykernel_26984\\1446626439.py:6: FutureWarning: Series.__getitem__ treating keys as positions is deprecated. In a future version, integer keys will always be treated as labels (consistent with DataFrame behavior). To access a value by position, use `ser.iloc[pos]`\n",
      "  file_name = row[3]\n"
     ]
    },
    {
     "name": "stdout",
     "output_type": "stream",
     "text": [
      "Tải file thành công và lưu thành 6317_TB_TCHQ_17_12_2024.pdf\n",
      "78\n",
      "https://thuvienphapluat.vn/van-ban/Xuat-nhap-khau/Thong-bao-6316-TB-TCHQ-2024-ket-qua-xac-dinh-truoc-ma-so-doi-voi-H-i1-PowerPull-L-Dial-A-640016.aspx\n",
      "['/documents/download.aspx?id=TbAnntxbgmajoOsexT2QHw%3d%3d']\n",
      "https://thuvienphapluat.vn/documents/download.aspx?id=TbAnntxbgmajoOsexT2QHw%3d%3d&part=-0\n",
      "6316_TB_TCHQ_17_12_2024\n",
      "Tải file thành công và lưu thành 6316_TB_TCHQ_17_12_2024.pdf\n",
      "79\n",
      "https://thuvienphapluat.vn/van-ban/Xuat-nhap-khau/Thong-bao-19-TB-TCHQ-2025-ket-qua-xac-dinh-truoc-ma-so-doi-voi-Lace-Guide-Web-15mm-Soft-Nylon-639597.aspx\n",
      "['/documents/download.aspx?id=%2bT%2fLr8K7etkfRRVcfKieQA%3d%3d']\n",
      "https://thuvienphapluat.vn/documents/download.aspx?id=%2bT%2fLr8K7etkfRRVcfKieQA%3d%3d&part=-0\n",
      "19_TB_TCHQ_02_01_2025\n",
      "Tải file thành công và lưu thành 19_TB_TCHQ_02_01_2025.pdf\n",
      "80\n",
      "https://thuvienphapluat.vn/van-ban/Xuat-nhap-khau/Thong-bao-6207-TB-TCHQ-2024-ket-qua-xac-dinh-truoc-ma-so-doi-voi-Hyalo4-Skin-Gel-635578.aspx\n",
      "['/documents/download.aspx?id=jRhqDfNmUx07JR66E1agIw%3d%3d']\n",
      "https://thuvienphapluat.vn/documents/download.aspx?id=jRhqDfNmUx07JR66E1agIw%3d%3d&part=-0\n",
      "6207_TB_TCHQ_11_12_2024\n",
      "Tải file thành công và lưu thành 6207_TB_TCHQ_11_12_2024.pdf\n",
      "81\n",
      "https://thuvienphapluat.vn/van-ban/Xuat-nhap-khau/Thong-bao-287-TB-TCHQ-2025-ket-qua-xac-dinh-truoc-ma-so-doi-voi-Nap-nhua-bao-ve-day-dien-xe-hoi-641789.aspx\n",
      "không có link pdf\n",
      "287_TB_TCHQ_17_01_2025\n",
      "Invalid URL 'None': No scheme supplied. Perhaps you meant https://None?\n",
      "82\n",
      "https://thuvienphapluat.vn/van-ban/Xuat-nhap-khau/Thong-bao-6159-TB-TCHQ-2024-ket-qua-xac-dinh-truoc-ma-so-doi-voi-Hangtag-TT-QR-635577.aspx\n",
      "['/documents/download.aspx?id=EkiDxKzXaXTOZ20hQcuSMQ%3d%3d']\n",
      "https://thuvienphapluat.vn/documents/download.aspx?id=EkiDxKzXaXTOZ20hQcuSMQ%3d%3d&part=-0\n",
      "6159_TB_TCHQ_09_12_2024\n",
      "Tải file thành công và lưu thành 6159_TB_TCHQ_09_12_2024.pdf\n",
      "83\n",
      "https://thuvienphapluat.vn/van-ban/Xuat-nhap-khau/Thong-bao-221-TB-TCHQ-2025-ket-qua-xac-dinh-truoc-ma-so-doi-voi-MEG-3%e2%84%a2-1048rTG-641755.aspx\n",
      "không có link pdf\n",
      "221_TB_TCHQ_14_01_2025\n",
      "Invalid URL 'None': No scheme supplied. Perhaps you meant https://None?\n",
      "84\n",
      "https://thuvienphapluat.vn/van-ban/Xuat-nhap-khau/Thong-bao-6439-TB-TCHQ-2024-ket-qua-xac-dinh-truoc-ma-so-APTAMIL-PROFUTURA-CESARBIOTIK-637435.aspx\n",
      "['/documents/download.aspx?id=T%2fEYVPwIHTKchwQHtESPmg%3d%3d']\n",
      "https://thuvienphapluat.vn/documents/download.aspx?id=T%2fEYVPwIHTKchwQHtESPmg%3d%3d&part=-0\n",
      "6439_TB_TCHQ_23_12_2024\n",
      "Tải file thành công và lưu thành 6439_TB_TCHQ_23_12_2024.pdf\n",
      "85\n",
      "https://thuvienphapluat.vn/van-ban/Xuat-nhap-khau/Thong-bao-5876-TB-TCHQ-2024-ket-qua-xac-dinh-truoc-ma-so-doi-voi-Cover-Panel-633328.aspx\n",
      "['/documents/download.aspx?id=1W0YtQwkrioI%2fvms7sENUw%3d%3d']\n",
      "https://thuvienphapluat.vn/documents/download.aspx?id=1W0YtQwkrioI%2fvms7sENUw%3d%3d&part=-0\n",
      "5876_TB_TCHQ_26_11_2024\n",
      "Tải file thành công và lưu thành 5876_TB_TCHQ_26_11_2024.pdf\n",
      "86\n",
      "https://thuvienphapluat.vn/van-ban/Xuat-nhap-khau/Thong-bao-6208-TB-TCHQ-2024-ket-qua-xac-dinh-truoc-ma-so-doi-voi-Hyalo4-Plus-Cream-635580.aspx\n",
      "['/documents/download.aspx?id=uEedeCVaJTk3ejLaJt800Q%3d%3d']\n",
      "https://thuvienphapluat.vn/documents/download.aspx?id=uEedeCVaJTk3ejLaJt800Q%3d%3d&part=-0\n",
      "6208_TB_TCHQ_11_12_2024\n",
      "Tải file thành công và lưu thành 6208_TB_TCHQ_11_12_2024.pdf\n",
      "87\n",
      "https://thuvienphapluat.vn/van-ban/Xuat-nhap-khau/Thong-bao-301-TB-TCHQ-2025-ket-qua-xac-dinh-truoc-ma-so-doi-voi-Nap-nhua-bao-ve-day-dien-xe-hoi-641794.aspx\n",
      "không có link pdf\n",
      "301_TB_TCHQ_17_01_2025\n",
      "Invalid URL 'None': No scheme supplied. Perhaps you meant https://None?\n",
      "88\n",
      "https://thuvienphapluat.vn/van-ban/Xuat-nhap-khau/Thong-bao-6011-TB-TCHQ-2024-ket-qua-xac-dinh-truoc-ma-so-L-1-R-Tongue-Dial-D-Lace-Lock-1-634657.aspx\n",
      "['/documents/download.aspx?id=u2kd70pCdI7mCyYem0i22Q%3d%3d']\n",
      "https://thuvienphapluat.vn/documents/download.aspx?id=u2kd70pCdI7mCyYem0i22Q%3d%3d&part=-0\n",
      "6011_TB_TCHQ_02_12_2024\n",
      "Tải file thành công và lưu thành 6011_TB_TCHQ_02_12_2024.pdf\n",
      "89\n",
      "https://thuvienphapluat.vn/van-ban/Xuat-nhap-khau/Thong-bao-6440-TB-TCHQ-2024-ket-qua-xac-dinh-truoc-ma-so-Thiet-bi-deo-tay-Huawei-Watch-GT-5-640065.aspx\n",
      "['/documents/download.aspx?id=b39RcKBXlz57KZYjtA0u8A%3d%3d']\n",
      "https://thuvienphapluat.vn/documents/download.aspx?id=b39RcKBXlz57KZYjtA0u8A%3d%3d&part=-0\n",
      "6440_TB_TCHQ_23_12_2024\n",
      "Tải file thành công và lưu thành 6440_TB_TCHQ_23_12_2024.pdf\n",
      "90\n",
      "https://thuvienphapluat.vn/van-ban/Xuat-nhap-khau/Thong-bao-5432-TB-TCHQ-2024-ket-qua-xac-dinh-truoc-ma-so-doi-voi-LEAD-FREE-FLUX-631993.aspx\n",
      "['/documents/download.aspx?id=ihtxmL0S0%2bBL%2bDfHGyd%2bjg%3d%3d']\n",
      "https://thuvienphapluat.vn/documents/download.aspx?id=ihtxmL0S0%2bBL%2bDfHGyd%2bjg%3d%3d&part=-0\n",
      "5432_TB_TCHQ_06_11_2024\n",
      "Tải file thành công và lưu thành 5432_TB_TCHQ_06_11_2024.pdf\n"
     ]
    }
   ],
   "source": [
    "for idx,row in df.iloc[72:,:].iterrows():\n",
    "    print (idx)\n",
    "    print(row[0])\n",
    "    download_link= get_downloadlink(row[0])\n",
    "    print(row[3])\n",
    "    file_name = row[3]\n",
    "    try:\n",
    "        download_pdf(download_link,file_name,idx)\n",
    "    except Exception as e:\n",
    "        print(e)"
   ]
  },
  {
   "cell_type": "code",
   "execution_count": 35,
   "metadata": {},
   "outputs": [],
   "source": [
    "df.to_excel(\"link_pdf_file_mapping.xlsx\",index = True)"
   ]
  },
  {
   "cell_type": "code",
   "execution_count": 34,
   "metadata": {},
   "outputs": [
    {
     "name": "stdout",
     "output_type": "stream",
     "text": [
      "['/documents/download.aspx?id=ihtxmL0S0%2bBL%2bDfHGyd%2bjg%3d%3d']\n",
      "https://thuvienphapluat.vn/documents/download.aspx?id=ihtxmL0S0%2bBL%2bDfHGyd%2bjg%3d%3d&part=-0\n"
     ]
    },
    {
     "data": {
      "text/plain": [
       "'https://thuvienphapluat.vn/documents/download.aspx?id=ihtxmL0S0%2bBL%2bDfHGyd%2bjg%3d%3d&part=-0'"
      ]
     },
     "execution_count": 34,
     "metadata": {},
     "output_type": "execute_result"
    }
   ],
   "source": [
    "get_downloadlink('https://thuvienphapluat.vn/van-ban/Xuat-nhap-khau/Thong-bao-5432-TB-TCHQ-2024-ket-qua-xac-dinh-truoc-ma-so-doi-voi-LEAD-FREE-FLUX-631993.aspx')"
   ]
  },
  {
   "cell_type": "code",
   "execution_count": 39,
   "metadata": {},
   "outputs": [],
   "source": [
    "links = []\n",
    "err_links = []\n",
    "def is_pdf_valid(file_path):\n",
    "    try:\n",
    "        # Mở và kiểm tra file PDF\n",
    "        with open(file_path, \"rb\") as f:\n",
    "            pdf = PdfReader(f)\n",
    "            pdf.pages[0]  # Kiểm tra trang đầu tiên để xác nhận file không lỗi\n",
    "        return True  # File PDF hợp lệ\n",
    "    except Exception as e:\n",
    "        print(f\"File PDF {file_path} có lỗi: {e}\")\n",
    "        return False  # File PDF không hợp lệ\n",
    "\n",
    "def clean_invalid_pdfs(folder_path):\n",
    "    for file_name in os.listdir(folder_path):\n",
    "        # Chỉ kiểm tra file có phần mở rộng .pdf\n",
    "        if file_name.lower().endswith('.pdf'):\n",
    "            file_path = os.path.join(folder_path, file_name)\n",
    "            \n",
    "            # Kiểm tra tính hợp lệ của file PDF\n",
    "            if not is_pdf_valid(file_path):\n",
    "                err_links.append(file_path)\n",
    "                print(f\"Xóa file bị lỗi: {file_path}\")\n",
    "                os.remove(file_path)  # Xóa file nếu không hợp lệ\n",
    "            else: \n",
    "                link = {}\n",
    "                link[\"file_name\"] = file_name\n",
    "                link[\"file_name_2\"] = re.sub(r'_\\d+\\.pdf', '', file_name)\n",
    "                links.append(link)\n",
    "                \n",
    "# Đường dẫn tới thư mục chứa các file PDF\n",
    "download_folder = r\"D:\\\\Onedrive\\\\OneDrive - UNI CONSULTING\\\\Eximhow_pdf\\\\18022025\\\\\"\n",
    "clean_invalid_pdfs(download_folder)\n"
   ]
  },
  {
   "cell_type": "code",
   "execution_count": 40,
   "metadata": {},
   "outputs": [],
   "source": [
    "download_link_df= pd.DataFrame(links,columns=[\"file_name\",\"file_name_2\"])"
   ]
  },
  {
   "cell_type": "code",
   "execution_count": 41,
   "metadata": {},
   "outputs": [
    {
     "data": {
      "application/vnd.microsoft.datawrangler.viewer.v0+json": {
       "columns": [
        {
         "name": "index",
         "rawType": "int64",
         "type": "integer"
        },
        {
         "name": "file_name",
         "rawType": "object",
         "type": "string"
        },
        {
         "name": "file_name_2",
         "rawType": "object",
         "type": "string"
        }
       ],
       "conversionMethod": "pd.DataFrame",
       "ref": "c575a01d-2992-4a81-8d99-c044a9b2bb89",
       "rows": [
        [
         "0",
         "119_TB_TCHQ_08_01_2025_47.pdf",
         "119_TB_TCHQ_08_01_2025"
        ],
        [
         "1",
         "123_TB_TCHQ_08_01_2025_10.pdf",
         "123_TB_TCHQ_08_01_2025"
        ],
        [
         "2",
         "185_TB_TCHQ_10_01_2025_33.pdf",
         "185_TB_TCHQ_10_01_2025"
        ],
        [
         "3",
         "19_TB_TCHQ_02_01_2025_79.pdf",
         "19_TB_TCHQ_02_01_2025"
        ],
        [
         "4",
         "20_TB_TCHQ_02_01_2025_18.pdf",
         "20_TB_TCHQ_02_01_2025"
        ],
        [
         "5",
         "5282_TB_TCHQ_30_10_2024_49.pdf",
         "5282_TB_TCHQ_30_10_2024"
        ],
        [
         "6",
         "5317_TB_TCHQ_31_10_2024_3.pdf",
         "5317_TB_TCHQ_31_10_2024"
        ],
        [
         "7",
         "5432_TB_TCHQ_06_11_2024_90.pdf",
         "5432_TB_TCHQ_06_11_2024"
        ],
        [
         "8",
         "5433_TB_TCHQ_06_11_2024_35.pdf",
         "5433_TB_TCHQ_06_11_2024"
        ],
        [
         "9",
         "5510_TB_TCHQ_08_11_2024_62.pdf",
         "5510_TB_TCHQ_08_11_2024"
        ],
        [
         "10",
         "5523_TB_TCHQ_08_11_2024_30.pdf",
         "5523_TB_TCHQ_08_11_2024"
        ],
        [
         "11",
         "5875_TB_TCHQ_26_11_2024_71.pdf",
         "5875_TB_TCHQ_26_11_2024"
        ],
        [
         "12",
         "5876_TB_TCHQ_26_11_2024_85.pdf",
         "5876_TB_TCHQ_26_11_2024"
        ],
        [
         "13",
         "5919_TB_TCHQ_28_11_2024_69.pdf",
         "5919_TB_TCHQ_28_11_2024"
        ],
        [
         "14",
         "5921_TB_TCHQ_28_11_2024_63.pdf",
         "5921_TB_TCHQ_28_11_2024"
        ],
        [
         "15",
         "5922_TB_TCHQ_28_11_2024_34.pdf",
         "5922_TB_TCHQ_28_11_2024"
        ],
        [
         "16",
         "5950_TB_TCHQ_29_11_2024_67.pdf",
         "5950_TB_TCHQ_29_11_2024"
        ],
        [
         "17",
         "5951_TB_TCHQ_29_11_2024_2.pdf",
         "5951_TB_TCHQ_29_11_2024"
        ],
        [
         "18",
         "5967_TB_TCHQ_29_11_2024_23.pdf",
         "5967_TB_TCHQ_29_11_2024"
        ],
        [
         "19",
         "5968_TB_TCHQ_29_11_2024_9.pdf",
         "5968_TB_TCHQ_29_11_2024"
        ],
        [
         "20",
         "5969_TB_TCHQ_29_11_2024_51.pdf",
         "5969_TB_TCHQ_29_11_2024"
        ],
        [
         "21",
         "5970_TB_TCHQ_29_11_2024_38.pdf",
         "5970_TB_TCHQ_29_11_2024"
        ],
        [
         "22",
         "5971_TB_TCHQ_29_11_2024_55.pdf",
         "5971_TB_TCHQ_29_11_2024"
        ],
        [
         "23",
         "5973_TB_TCHQ_29_11_2024_11.pdf",
         "5973_TB_TCHQ_29_11_2024"
        ],
        [
         "24",
         "6011_TB_TCHQ_02_12_2024_88.pdf",
         "6011_TB_TCHQ_02_12_2024"
        ],
        [
         "25",
         "6012_TB_TCHQ_02_12_2024_16.pdf",
         "6012_TB_TCHQ_02_12_2024"
        ],
        [
         "26",
         "6014_TB_TCHQ_02_12_2024_31.pdf",
         "6014_TB_TCHQ_02_12_2024"
        ],
        [
         "27",
         "6015_TB_TCHQ_02_12_2024_19.pdf",
         "6015_TB_TCHQ_02_12_2024"
        ],
        [
         "28",
         "6017_TB_TCHQ_02_12_2024_6.pdf",
         "6017_TB_TCHQ_02_12_2024"
        ],
        [
         "29",
         "6059_TB_TCHQ_04_12_2024_42.pdf",
         "6059_TB_TCHQ_04_12_2024"
        ],
        [
         "30",
         "6101_TB_TCHQ_05_12_2024_45.pdf",
         "6101_TB_TCHQ_05_12_2024"
        ],
        [
         "31",
         "6132_TB_TCHQ_06_12_2024_64.pdf",
         "6132_TB_TCHQ_06_12_2024"
        ],
        [
         "32",
         "6157_TB_TCHQ_09_12_2024_65.pdf",
         "6157_TB_TCHQ_09_12_2024"
        ],
        [
         "33",
         "6158_TB_TCHQ_09_12_2024_44.pdf",
         "6158_TB_TCHQ_09_12_2024"
        ],
        [
         "34",
         "6159_TB_TCHQ_09_12_2024_82.pdf",
         "6159_TB_TCHQ_09_12_2024"
        ],
        [
         "35",
         "6207_TB_TCHQ_11_12_2024_80.pdf",
         "6207_TB_TCHQ_11_12_2024"
        ],
        [
         "36",
         "6208_TB_TCHQ_11_12_2024_86.pdf",
         "6208_TB_TCHQ_11_12_2024"
        ],
        [
         "37",
         "6305_TB_TCHQ_17_12_2024_54.pdf",
         "6305_TB_TCHQ_17_12_2024"
        ],
        [
         "38",
         "6311_TB_TCHQ_17_12_2024_48.pdf",
         "6311_TB_TCHQ_17_12_2024"
        ],
        [
         "39",
         "6313_TB_TCHQ_17_12_2024_29.pdf",
         "6313_TB_TCHQ_17_12_2024"
        ],
        [
         "40",
         "6316_TB_TCHQ_17_12_2024_78.pdf",
         "6316_TB_TCHQ_17_12_2024"
        ],
        [
         "41",
         "6317_TB_TCHQ_17_12_2024_77.pdf",
         "6317_TB_TCHQ_17_12_2024"
        ],
        [
         "42",
         "6331_TB_TCHQ_17_12_2024_21.pdf",
         "6331_TB_TCHQ_17_12_2024"
        ],
        [
         "43",
         "6439_TB_TCHQ_23_12_2024_84.pdf",
         "6439_TB_TCHQ_23_12_2024"
        ],
        [
         "44",
         "6440_TB_TCHQ_23_12_2024_89.pdf",
         "6440_TB_TCHQ_23_12_2024"
        ],
        [
         "45",
         "6442_TB_TCHQ_23_12_2024_50.pdf",
         "6442_TB_TCHQ_23_12_2024"
        ],
        [
         "46",
         "6443_TB_TCHQ_23_12_2024_27.pdf",
         "6443_TB_TCHQ_23_12_2024"
        ],
        [
         "47",
         "6444_TB_TCHQ_23_12_2024_39.pdf",
         "6444_TB_TCHQ_23_12_2024"
        ],
        [
         "48",
         "6449_TB_TCHQ_23_12_2024_60.pdf",
         "6449_TB_TCHQ_23_12_2024"
        ],
        [
         "49",
         "6450_TB_TCHQ_23_12_2024_0.pdf",
         "6450_TB_TCHQ_23_12_2024"
        ]
       ],
       "shape": {
        "columns": 2,
        "rows": 53
       }
      },
      "text/html": [
       "<div>\n",
       "<style scoped>\n",
       "    .dataframe tbody tr th:only-of-type {\n",
       "        vertical-align: middle;\n",
       "    }\n",
       "\n",
       "    .dataframe tbody tr th {\n",
       "        vertical-align: top;\n",
       "    }\n",
       "\n",
       "    .dataframe thead th {\n",
       "        text-align: right;\n",
       "    }\n",
       "</style>\n",
       "<table border=\"1\" class=\"dataframe\">\n",
       "  <thead>\n",
       "    <tr style=\"text-align: right;\">\n",
       "      <th></th>\n",
       "      <th>file_name</th>\n",
       "      <th>file_name_2</th>\n",
       "    </tr>\n",
       "  </thead>\n",
       "  <tbody>\n",
       "    <tr>\n",
       "      <th>0</th>\n",
       "      <td>119_TB_TCHQ_08_01_2025_47.pdf</td>\n",
       "      <td>119_TB_TCHQ_08_01_2025</td>\n",
       "    </tr>\n",
       "    <tr>\n",
       "      <th>1</th>\n",
       "      <td>123_TB_TCHQ_08_01_2025_10.pdf</td>\n",
       "      <td>123_TB_TCHQ_08_01_2025</td>\n",
       "    </tr>\n",
       "    <tr>\n",
       "      <th>2</th>\n",
       "      <td>185_TB_TCHQ_10_01_2025_33.pdf</td>\n",
       "      <td>185_TB_TCHQ_10_01_2025</td>\n",
       "    </tr>\n",
       "    <tr>\n",
       "      <th>3</th>\n",
       "      <td>19_TB_TCHQ_02_01_2025_79.pdf</td>\n",
       "      <td>19_TB_TCHQ_02_01_2025</td>\n",
       "    </tr>\n",
       "    <tr>\n",
       "      <th>4</th>\n",
       "      <td>20_TB_TCHQ_02_01_2025_18.pdf</td>\n",
       "      <td>20_TB_TCHQ_02_01_2025</td>\n",
       "    </tr>\n",
       "    <tr>\n",
       "      <th>5</th>\n",
       "      <td>5282_TB_TCHQ_30_10_2024_49.pdf</td>\n",
       "      <td>5282_TB_TCHQ_30_10_2024</td>\n",
       "    </tr>\n",
       "    <tr>\n",
       "      <th>6</th>\n",
       "      <td>5317_TB_TCHQ_31_10_2024_3.pdf</td>\n",
       "      <td>5317_TB_TCHQ_31_10_2024</td>\n",
       "    </tr>\n",
       "    <tr>\n",
       "      <th>7</th>\n",
       "      <td>5432_TB_TCHQ_06_11_2024_90.pdf</td>\n",
       "      <td>5432_TB_TCHQ_06_11_2024</td>\n",
       "    </tr>\n",
       "    <tr>\n",
       "      <th>8</th>\n",
       "      <td>5433_TB_TCHQ_06_11_2024_35.pdf</td>\n",
       "      <td>5433_TB_TCHQ_06_11_2024</td>\n",
       "    </tr>\n",
       "    <tr>\n",
       "      <th>9</th>\n",
       "      <td>5510_TB_TCHQ_08_11_2024_62.pdf</td>\n",
       "      <td>5510_TB_TCHQ_08_11_2024</td>\n",
       "    </tr>\n",
       "    <tr>\n",
       "      <th>10</th>\n",
       "      <td>5523_TB_TCHQ_08_11_2024_30.pdf</td>\n",
       "      <td>5523_TB_TCHQ_08_11_2024</td>\n",
       "    </tr>\n",
       "    <tr>\n",
       "      <th>11</th>\n",
       "      <td>5875_TB_TCHQ_26_11_2024_71.pdf</td>\n",
       "      <td>5875_TB_TCHQ_26_11_2024</td>\n",
       "    </tr>\n",
       "    <tr>\n",
       "      <th>12</th>\n",
       "      <td>5876_TB_TCHQ_26_11_2024_85.pdf</td>\n",
       "      <td>5876_TB_TCHQ_26_11_2024</td>\n",
       "    </tr>\n",
       "    <tr>\n",
       "      <th>13</th>\n",
       "      <td>5919_TB_TCHQ_28_11_2024_69.pdf</td>\n",
       "      <td>5919_TB_TCHQ_28_11_2024</td>\n",
       "    </tr>\n",
       "    <tr>\n",
       "      <th>14</th>\n",
       "      <td>5921_TB_TCHQ_28_11_2024_63.pdf</td>\n",
       "      <td>5921_TB_TCHQ_28_11_2024</td>\n",
       "    </tr>\n",
       "    <tr>\n",
       "      <th>15</th>\n",
       "      <td>5922_TB_TCHQ_28_11_2024_34.pdf</td>\n",
       "      <td>5922_TB_TCHQ_28_11_2024</td>\n",
       "    </tr>\n",
       "    <tr>\n",
       "      <th>16</th>\n",
       "      <td>5950_TB_TCHQ_29_11_2024_67.pdf</td>\n",
       "      <td>5950_TB_TCHQ_29_11_2024</td>\n",
       "    </tr>\n",
       "    <tr>\n",
       "      <th>17</th>\n",
       "      <td>5951_TB_TCHQ_29_11_2024_2.pdf</td>\n",
       "      <td>5951_TB_TCHQ_29_11_2024</td>\n",
       "    </tr>\n",
       "    <tr>\n",
       "      <th>18</th>\n",
       "      <td>5967_TB_TCHQ_29_11_2024_23.pdf</td>\n",
       "      <td>5967_TB_TCHQ_29_11_2024</td>\n",
       "    </tr>\n",
       "    <tr>\n",
       "      <th>19</th>\n",
       "      <td>5968_TB_TCHQ_29_11_2024_9.pdf</td>\n",
       "      <td>5968_TB_TCHQ_29_11_2024</td>\n",
       "    </tr>\n",
       "    <tr>\n",
       "      <th>20</th>\n",
       "      <td>5969_TB_TCHQ_29_11_2024_51.pdf</td>\n",
       "      <td>5969_TB_TCHQ_29_11_2024</td>\n",
       "    </tr>\n",
       "    <tr>\n",
       "      <th>21</th>\n",
       "      <td>5970_TB_TCHQ_29_11_2024_38.pdf</td>\n",
       "      <td>5970_TB_TCHQ_29_11_2024</td>\n",
       "    </tr>\n",
       "    <tr>\n",
       "      <th>22</th>\n",
       "      <td>5971_TB_TCHQ_29_11_2024_55.pdf</td>\n",
       "      <td>5971_TB_TCHQ_29_11_2024</td>\n",
       "    </tr>\n",
       "    <tr>\n",
       "      <th>23</th>\n",
       "      <td>5973_TB_TCHQ_29_11_2024_11.pdf</td>\n",
       "      <td>5973_TB_TCHQ_29_11_2024</td>\n",
       "    </tr>\n",
       "    <tr>\n",
       "      <th>24</th>\n",
       "      <td>6011_TB_TCHQ_02_12_2024_88.pdf</td>\n",
       "      <td>6011_TB_TCHQ_02_12_2024</td>\n",
       "    </tr>\n",
       "    <tr>\n",
       "      <th>25</th>\n",
       "      <td>6012_TB_TCHQ_02_12_2024_16.pdf</td>\n",
       "      <td>6012_TB_TCHQ_02_12_2024</td>\n",
       "    </tr>\n",
       "    <tr>\n",
       "      <th>26</th>\n",
       "      <td>6014_TB_TCHQ_02_12_2024_31.pdf</td>\n",
       "      <td>6014_TB_TCHQ_02_12_2024</td>\n",
       "    </tr>\n",
       "    <tr>\n",
       "      <th>27</th>\n",
       "      <td>6015_TB_TCHQ_02_12_2024_19.pdf</td>\n",
       "      <td>6015_TB_TCHQ_02_12_2024</td>\n",
       "    </tr>\n",
       "    <tr>\n",
       "      <th>28</th>\n",
       "      <td>6017_TB_TCHQ_02_12_2024_6.pdf</td>\n",
       "      <td>6017_TB_TCHQ_02_12_2024</td>\n",
       "    </tr>\n",
       "    <tr>\n",
       "      <th>29</th>\n",
       "      <td>6059_TB_TCHQ_04_12_2024_42.pdf</td>\n",
       "      <td>6059_TB_TCHQ_04_12_2024</td>\n",
       "    </tr>\n",
       "    <tr>\n",
       "      <th>30</th>\n",
       "      <td>6101_TB_TCHQ_05_12_2024_45.pdf</td>\n",
       "      <td>6101_TB_TCHQ_05_12_2024</td>\n",
       "    </tr>\n",
       "    <tr>\n",
       "      <th>31</th>\n",
       "      <td>6132_TB_TCHQ_06_12_2024_64.pdf</td>\n",
       "      <td>6132_TB_TCHQ_06_12_2024</td>\n",
       "    </tr>\n",
       "    <tr>\n",
       "      <th>32</th>\n",
       "      <td>6157_TB_TCHQ_09_12_2024_65.pdf</td>\n",
       "      <td>6157_TB_TCHQ_09_12_2024</td>\n",
       "    </tr>\n",
       "    <tr>\n",
       "      <th>33</th>\n",
       "      <td>6158_TB_TCHQ_09_12_2024_44.pdf</td>\n",
       "      <td>6158_TB_TCHQ_09_12_2024</td>\n",
       "    </tr>\n",
       "    <tr>\n",
       "      <th>34</th>\n",
       "      <td>6159_TB_TCHQ_09_12_2024_82.pdf</td>\n",
       "      <td>6159_TB_TCHQ_09_12_2024</td>\n",
       "    </tr>\n",
       "    <tr>\n",
       "      <th>35</th>\n",
       "      <td>6207_TB_TCHQ_11_12_2024_80.pdf</td>\n",
       "      <td>6207_TB_TCHQ_11_12_2024</td>\n",
       "    </tr>\n",
       "    <tr>\n",
       "      <th>36</th>\n",
       "      <td>6208_TB_TCHQ_11_12_2024_86.pdf</td>\n",
       "      <td>6208_TB_TCHQ_11_12_2024</td>\n",
       "    </tr>\n",
       "    <tr>\n",
       "      <th>37</th>\n",
       "      <td>6305_TB_TCHQ_17_12_2024_54.pdf</td>\n",
       "      <td>6305_TB_TCHQ_17_12_2024</td>\n",
       "    </tr>\n",
       "    <tr>\n",
       "      <th>38</th>\n",
       "      <td>6311_TB_TCHQ_17_12_2024_48.pdf</td>\n",
       "      <td>6311_TB_TCHQ_17_12_2024</td>\n",
       "    </tr>\n",
       "    <tr>\n",
       "      <th>39</th>\n",
       "      <td>6313_TB_TCHQ_17_12_2024_29.pdf</td>\n",
       "      <td>6313_TB_TCHQ_17_12_2024</td>\n",
       "    </tr>\n",
       "    <tr>\n",
       "      <th>40</th>\n",
       "      <td>6316_TB_TCHQ_17_12_2024_78.pdf</td>\n",
       "      <td>6316_TB_TCHQ_17_12_2024</td>\n",
       "    </tr>\n",
       "    <tr>\n",
       "      <th>41</th>\n",
       "      <td>6317_TB_TCHQ_17_12_2024_77.pdf</td>\n",
       "      <td>6317_TB_TCHQ_17_12_2024</td>\n",
       "    </tr>\n",
       "    <tr>\n",
       "      <th>42</th>\n",
       "      <td>6331_TB_TCHQ_17_12_2024_21.pdf</td>\n",
       "      <td>6331_TB_TCHQ_17_12_2024</td>\n",
       "    </tr>\n",
       "    <tr>\n",
       "      <th>43</th>\n",
       "      <td>6439_TB_TCHQ_23_12_2024_84.pdf</td>\n",
       "      <td>6439_TB_TCHQ_23_12_2024</td>\n",
       "    </tr>\n",
       "    <tr>\n",
       "      <th>44</th>\n",
       "      <td>6440_TB_TCHQ_23_12_2024_89.pdf</td>\n",
       "      <td>6440_TB_TCHQ_23_12_2024</td>\n",
       "    </tr>\n",
       "    <tr>\n",
       "      <th>45</th>\n",
       "      <td>6442_TB_TCHQ_23_12_2024_50.pdf</td>\n",
       "      <td>6442_TB_TCHQ_23_12_2024</td>\n",
       "    </tr>\n",
       "    <tr>\n",
       "      <th>46</th>\n",
       "      <td>6443_TB_TCHQ_23_12_2024_27.pdf</td>\n",
       "      <td>6443_TB_TCHQ_23_12_2024</td>\n",
       "    </tr>\n",
       "    <tr>\n",
       "      <th>47</th>\n",
       "      <td>6444_TB_TCHQ_23_12_2024_39.pdf</td>\n",
       "      <td>6444_TB_TCHQ_23_12_2024</td>\n",
       "    </tr>\n",
       "    <tr>\n",
       "      <th>48</th>\n",
       "      <td>6449_TB_TCHQ_23_12_2024_60.pdf</td>\n",
       "      <td>6449_TB_TCHQ_23_12_2024</td>\n",
       "    </tr>\n",
       "    <tr>\n",
       "      <th>49</th>\n",
       "      <td>6450_TB_TCHQ_23_12_2024_0.pdf</td>\n",
       "      <td>6450_TB_TCHQ_23_12_2024</td>\n",
       "    </tr>\n",
       "    <tr>\n",
       "      <th>50</th>\n",
       "      <td>6488_TB_TCHQ_25_12_2024_58.pdf</td>\n",
       "      <td>6488_TB_TCHQ_25_12_2024</td>\n",
       "    </tr>\n",
       "    <tr>\n",
       "      <th>51</th>\n",
       "      <td>6489_TB_TCHQ_25_12_2024_13.pdf</td>\n",
       "      <td>6489_TB_TCHQ_25_12_2024</td>\n",
       "    </tr>\n",
       "    <tr>\n",
       "      <th>52</th>\n",
       "      <td>6490_TB_TCHQ_25_12_2024_40.pdf</td>\n",
       "      <td>6490_TB_TCHQ_25_12_2024</td>\n",
       "    </tr>\n",
       "  </tbody>\n",
       "</table>\n",
       "</div>"
      ],
      "text/plain": [
       "                         file_name              file_name_2\n",
       "0    119_TB_TCHQ_08_01_2025_47.pdf   119_TB_TCHQ_08_01_2025\n",
       "1    123_TB_TCHQ_08_01_2025_10.pdf   123_TB_TCHQ_08_01_2025\n",
       "2    185_TB_TCHQ_10_01_2025_33.pdf   185_TB_TCHQ_10_01_2025\n",
       "3     19_TB_TCHQ_02_01_2025_79.pdf    19_TB_TCHQ_02_01_2025\n",
       "4     20_TB_TCHQ_02_01_2025_18.pdf    20_TB_TCHQ_02_01_2025\n",
       "5   5282_TB_TCHQ_30_10_2024_49.pdf  5282_TB_TCHQ_30_10_2024\n",
       "6    5317_TB_TCHQ_31_10_2024_3.pdf  5317_TB_TCHQ_31_10_2024\n",
       "7   5432_TB_TCHQ_06_11_2024_90.pdf  5432_TB_TCHQ_06_11_2024\n",
       "8   5433_TB_TCHQ_06_11_2024_35.pdf  5433_TB_TCHQ_06_11_2024\n",
       "9   5510_TB_TCHQ_08_11_2024_62.pdf  5510_TB_TCHQ_08_11_2024\n",
       "10  5523_TB_TCHQ_08_11_2024_30.pdf  5523_TB_TCHQ_08_11_2024\n",
       "11  5875_TB_TCHQ_26_11_2024_71.pdf  5875_TB_TCHQ_26_11_2024\n",
       "12  5876_TB_TCHQ_26_11_2024_85.pdf  5876_TB_TCHQ_26_11_2024\n",
       "13  5919_TB_TCHQ_28_11_2024_69.pdf  5919_TB_TCHQ_28_11_2024\n",
       "14  5921_TB_TCHQ_28_11_2024_63.pdf  5921_TB_TCHQ_28_11_2024\n",
       "15  5922_TB_TCHQ_28_11_2024_34.pdf  5922_TB_TCHQ_28_11_2024\n",
       "16  5950_TB_TCHQ_29_11_2024_67.pdf  5950_TB_TCHQ_29_11_2024\n",
       "17   5951_TB_TCHQ_29_11_2024_2.pdf  5951_TB_TCHQ_29_11_2024\n",
       "18  5967_TB_TCHQ_29_11_2024_23.pdf  5967_TB_TCHQ_29_11_2024\n",
       "19   5968_TB_TCHQ_29_11_2024_9.pdf  5968_TB_TCHQ_29_11_2024\n",
       "20  5969_TB_TCHQ_29_11_2024_51.pdf  5969_TB_TCHQ_29_11_2024\n",
       "21  5970_TB_TCHQ_29_11_2024_38.pdf  5970_TB_TCHQ_29_11_2024\n",
       "22  5971_TB_TCHQ_29_11_2024_55.pdf  5971_TB_TCHQ_29_11_2024\n",
       "23  5973_TB_TCHQ_29_11_2024_11.pdf  5973_TB_TCHQ_29_11_2024\n",
       "24  6011_TB_TCHQ_02_12_2024_88.pdf  6011_TB_TCHQ_02_12_2024\n",
       "25  6012_TB_TCHQ_02_12_2024_16.pdf  6012_TB_TCHQ_02_12_2024\n",
       "26  6014_TB_TCHQ_02_12_2024_31.pdf  6014_TB_TCHQ_02_12_2024\n",
       "27  6015_TB_TCHQ_02_12_2024_19.pdf  6015_TB_TCHQ_02_12_2024\n",
       "28   6017_TB_TCHQ_02_12_2024_6.pdf  6017_TB_TCHQ_02_12_2024\n",
       "29  6059_TB_TCHQ_04_12_2024_42.pdf  6059_TB_TCHQ_04_12_2024\n",
       "30  6101_TB_TCHQ_05_12_2024_45.pdf  6101_TB_TCHQ_05_12_2024\n",
       "31  6132_TB_TCHQ_06_12_2024_64.pdf  6132_TB_TCHQ_06_12_2024\n",
       "32  6157_TB_TCHQ_09_12_2024_65.pdf  6157_TB_TCHQ_09_12_2024\n",
       "33  6158_TB_TCHQ_09_12_2024_44.pdf  6158_TB_TCHQ_09_12_2024\n",
       "34  6159_TB_TCHQ_09_12_2024_82.pdf  6159_TB_TCHQ_09_12_2024\n",
       "35  6207_TB_TCHQ_11_12_2024_80.pdf  6207_TB_TCHQ_11_12_2024\n",
       "36  6208_TB_TCHQ_11_12_2024_86.pdf  6208_TB_TCHQ_11_12_2024\n",
       "37  6305_TB_TCHQ_17_12_2024_54.pdf  6305_TB_TCHQ_17_12_2024\n",
       "38  6311_TB_TCHQ_17_12_2024_48.pdf  6311_TB_TCHQ_17_12_2024\n",
       "39  6313_TB_TCHQ_17_12_2024_29.pdf  6313_TB_TCHQ_17_12_2024\n",
       "40  6316_TB_TCHQ_17_12_2024_78.pdf  6316_TB_TCHQ_17_12_2024\n",
       "41  6317_TB_TCHQ_17_12_2024_77.pdf  6317_TB_TCHQ_17_12_2024\n",
       "42  6331_TB_TCHQ_17_12_2024_21.pdf  6331_TB_TCHQ_17_12_2024\n",
       "43  6439_TB_TCHQ_23_12_2024_84.pdf  6439_TB_TCHQ_23_12_2024\n",
       "44  6440_TB_TCHQ_23_12_2024_89.pdf  6440_TB_TCHQ_23_12_2024\n",
       "45  6442_TB_TCHQ_23_12_2024_50.pdf  6442_TB_TCHQ_23_12_2024\n",
       "46  6443_TB_TCHQ_23_12_2024_27.pdf  6443_TB_TCHQ_23_12_2024\n",
       "47  6444_TB_TCHQ_23_12_2024_39.pdf  6444_TB_TCHQ_23_12_2024\n",
       "48  6449_TB_TCHQ_23_12_2024_60.pdf  6449_TB_TCHQ_23_12_2024\n",
       "49   6450_TB_TCHQ_23_12_2024_0.pdf  6450_TB_TCHQ_23_12_2024\n",
       "50  6488_TB_TCHQ_25_12_2024_58.pdf  6488_TB_TCHQ_25_12_2024\n",
       "51  6489_TB_TCHQ_25_12_2024_13.pdf  6489_TB_TCHQ_25_12_2024\n",
       "52  6490_TB_TCHQ_25_12_2024_40.pdf  6490_TB_TCHQ_25_12_2024"
      ]
     },
     "execution_count": 41,
     "metadata": {},
     "output_type": "execute_result"
    }
   ],
   "source": [
    "download_link_df"
   ]
  },
  {
   "cell_type": "code",
   "execution_count": 42,
   "metadata": {},
   "outputs": [
    {
     "data": {
      "application/vnd.microsoft.datawrangler.viewer.v0+json": {
       "columns": [
        {
         "name": "index",
         "rawType": "int64",
         "type": "integer"
        },
        {
         "name": "link",
         "rawType": "object",
         "type": "string"
        },
        {
         "name": "doc_no",
         "rawType": "object",
         "type": "string"
        },
        {
         "name": "doc_date",
         "rawType": "object",
         "type": "string"
        },
        {
         "name": "doc_name",
         "rawType": "object",
         "type": "string"
        }
       ],
       "conversionMethod": "pd.DataFrame",
       "ref": "f313e3f1-081f-46be-bdfe-6626d03b61d0",
       "rows": [
        [
         "0",
         "https://thuvienphapluat.vn/van-ban/Xuat-nhap-khau/Thong-bao-6450-TB-TCHQ-2024-ket-qua-xac-dinh-truoc-ma-so-APTAMIL-PROFUTURA-CESARBIOTIK-639434.aspx",
         "6450/TB-TCHQ",
         "23-12-2024",
         "6450_TB_TCHQ_23_12_2024"
        ],
        [
         "2",
         "https://thuvienphapluat.vn/van-ban/Xuat-nhap-khau/Thong-bao-5951-TB-TCHQ-2024-ket-qua-xac-dinh-truoc-ma-so-Con-lan-giam-chan-636300.aspx",
         "5951/TB-TCHQ",
         "29-11-2024",
         "5951_TB_TCHQ_29_11_2024"
        ],
        [
         "3",
         "https://thuvienphapluat.vn/van-ban/Xuat-nhap-khau/Thong-bao-5317-TB-TCHQ-2024-ket-qua-xac-dinh-truoc-ma-so-Quercetin-dihydrate-632002.aspx",
         "5317/TB-TCHQ",
         "31-10-2024",
         "5317_TB_TCHQ_31_10_2024"
        ],
        [
         "4",
         "https://thuvienphapluat.vn/van-ban/Xuat-nhap-khau/Thong-bao-284-TB-TCHQ-2025-ket-qua-xac-dinh-truoc-ma-so-Nap-nhua-bao-ve-day-dien-xe-hoi-641781.aspx",
         "284/TB-TCHQ",
         "17-01-2025",
         "284_TB_TCHQ_17_01_2025"
        ],
        [
         "5",
         "https://thuvienphapluat.vn/van-ban/Xuat-nhap-khau/Thong-bao-6058-TB-TCHQ-2024-ket-qua-xac-dinh-truoc-ma-so-doi-voi-Than-voi-chau-rua-tu-dong-637080.aspx",
         "6058/TB-TCHQ",
         "04-12-2024",
         "6058_TB_TCHQ_04_12_2024"
        ],
        [
         "6",
         "https://thuvienphapluat.vn/van-ban/Xuat-nhap-khau/Thong-bao-6017-TB-TCHQ-2024-ket-qua-xac-dinh-truoc-ma-so-636319.aspx",
         "6017/TB-TCHQ",
         "02-12-2024",
         "6017_TB_TCHQ_02_12_2024"
        ],
        [
         "7",
         "https://thuvienphapluat.vn/van-ban/Xuat-nhap-khau/Thong-bao-516-TB-TCHQ-2025-ket-qua-xac-dinh-truoc-ma-so-Thuc-pham-bao-ve-suc-khoe-642339.aspx",
         "516/TB-TCHQ",
         "05-02-2025",
         "516_TB_TCHQ_05_02_2025"
        ],
        [
         "8",
         "https://thuvienphapluat.vn/van-ban/Xuat-nhap-khau/Thong-bao-285-TB-TCHQ-2025-ket-qua-xac-dinh-truoc-ma-so-Nap-nhua-bao-ve-day-dien-xe-hoi-641785.aspx",
         "285/TB-TCHQ",
         "17-01-2025",
         "285_TB_TCHQ_17_01_2025"
        ],
        [
         "9",
         "https://thuvienphapluat.vn/van-ban/Xuat-nhap-khau/Thong-bao-5968-TB-TCHQ-2024-ket-qua-xac-dinh-truoc-ma-so-Tai-nghe-bluetooth-Huawei-FreeClip-636303.aspx",
         "5968/TB-TCHQ",
         "29-11-2024",
         "5968_TB_TCHQ_29_11_2024"
        ],
        [
         "10",
         "https://thuvienphapluat.vn/van-ban/Xuat-nhap-khau/Thong-bao-123-TB-TCHQ-2025-ket-qua-xac-dinh-truoc-ma-so-Bo-cang-xich-cam-thuy-luc-640062.aspx",
         "123/TB-TCHQ",
         "08-01-2025",
         "123_TB_TCHQ_08_01_2025"
        ],
        [
         "11",
         "https://thuvienphapluat.vn/van-ban/Xuat-nhap-khau/Thong-bao-5973-TB-TCHQ-2024-ket-qua-xac-dinh-truoc-ma-so-636313.aspx",
         "5973/TB-TCHQ",
         "29-11-2024",
         "5973_TB_TCHQ_29_11_2024"
        ],
        [
         "12",
         "https://thuvienphapluat.vn/van-ban/Xuat-nhap-khau/Thong-bao-513-TB-TCHQ-2025-ket-qua-xac-dinh-truoc-ma-so-Optibac-For-Women-642337.aspx",
         "513/TB-TCHQ",
         "05-02-2025",
         "513_TB_TCHQ_05_02_2025"
        ],
        [
         "13",
         "https://thuvienphapluat.vn/van-ban/Xuat-nhap-khau/Thong-bao-6489-TB-TCHQ-2024-ket-qua-xac-dinh-truoc-ma-so-Freeze-Dried-Rice-Crispy-Lod-Chong-637438.aspx",
         "6489/TB-TCHQ",
         "25-12-2024",
         "6489_TB_TCHQ_25_12_2024"
        ],
        [
         "14",
         "https://thuvienphapluat.vn/van-ban/Xuat-nhap-khau/Thong-bao-288-TB-TCHQ-2025-ket-qua-xac-dinh-truoc-ma-so-Thuc-pham-bao-ve-suc-khoe-Imochild-DHA-641790.aspx",
         "288/TB-TCHQ",
         "17-01-2025",
         "288_TB_TCHQ_17_01_2025"
        ],
        [
         "15",
         "https://thuvienphapluat.vn/van-ban/Xuat-nhap-khau/Thong-bao-437-TB-TCHQ-2025-ket-qua-xac-dinh-truoc-ma-so-HPE-Synergy-12000-Frame-641868.aspx",
         "437/TB-TCHQ",
         "23-01-2025",
         "437_TB_TCHQ_23_01_2025"
        ],
        [
         "16",
         "https://thuvienphapluat.vn/van-ban/Xuat-nhap-khau/Thong-bao-6012-TB-TCHQ-2024-ket-qua-xac-dinh-truoc-ma-so-doi-voi-H4-Coiler-Dial-G-634662.aspx",
         "6012/TB-TCHQ",
         "02-12-2024",
         "6012_TB_TCHQ_02_12_2024"
        ],
        [
         "17",
         "https://thuvienphapluat.vn/van-ban/Xuat-nhap-khau/Thong-bao-529-TB-TCHQ-2025-ket-qua-xac-dinh-truoc-ma-so-O-cung-di-dong-Samsung-642335.aspx",
         "529/TB-TCHQ",
         "06-02-2025",
         "529_TB_TCHQ_06_02_2025"
        ],
        [
         "18",
         "https://thuvienphapluat.vn/van-ban/Xuat-nhap-khau/Thong-bao-20-TB-TCHQ-2025-ket-qua-xac-dinh-truoc-ma-so-H4-Bayonet-Tongue-Coiler-639432.aspx",
         "20/TB-TCHQ",
         "02-01-2025",
         "20_TB_TCHQ_02_01_2025"
        ],
        [
         "19",
         "https://thuvienphapluat.vn/van-ban/Xuat-nhap-khau/Thong-bao-6015-TB-TCHQ-2024-ket-qua-xac-dinh-truoc-ma-so-Humiome-Post-LB-634659.aspx",
         "6015/TB-TCHQ",
         "02-12-2024",
         "6015_TB_TCHQ_02_12_2024"
        ],
        [
         "20",
         "https://thuvienphapluat.vn/van-ban/Xuat-nhap-khau/Thong-bao-512-TB-TCHQ-2025-ket-qua-xac-dinh-truoc-ma-so-Optibac-For-Those-On-Antibiotics-642342.aspx",
         "512/TB-TCHQ",
         "05-02-2025",
         "512_TB_TCHQ_05_02_2025"
        ],
        [
         "21",
         "https://thuvienphapluat.vn/van-ban/Xuat-nhap-khau/Thong-bao-6331-TB-TCHQ-2024-ket-qua-xac-dinh-truoc-ma-so-FLUX-TLF-800M-1-6-638902.aspx",
         "6331/TB-TCHQ",
         "17-12-2024",
         "6331_TB_TCHQ_17_12_2024"
        ],
        [
         "22",
         "https://thuvienphapluat.vn/van-ban/Xuat-nhap-khau/Thong-bao-302-TB-TCHQ-2025-ket-qua-xac-dinh-truoc-ma-so-doi-voi-Nap-nhua-bao-ve-day-dien-xe-hoi-641795.aspx",
         "302/TB-TCHQ",
         "17-01-2025",
         "302_TB_TCHQ_17_01_2025"
        ],
        [
         "23",
         "https://thuvienphapluat.vn/van-ban/Xuat-nhap-khau/Thong-bao-5967-TB-TCHQ-2024-ket-qua-xac-dinh-truoc-ma-so-tai-nghe-Huawei-Freebuds-6i-636301.aspx",
         "5967/TB-TCHQ",
         "29-11-2024",
         "5967_TB_TCHQ_29_11_2024"
        ],
        [
         "25",
         "https://thuvienphapluat.vn/van-ban/Xuat-nhap-khau/Thong-bao-306-TB-TCHQ-2025-ket-qua-xac-dinh-truoc-ma-so-Power-Socket-O-cam-dien-642509.aspx",
         "306/TB-TCHQ",
         "17-01-2025",
         "306_TB_TCHQ_17_01_2025"
        ],
        [
         "26",
         "https://thuvienphapluat.vn/van-ban/Xuat-nhap-khau/Thong-bao-280-TB-TCHQ-2025-ket-qua-xac-dinh-truoc-ma-so-doi-voi-Nap-nhua-bao-ve-day-dien-xe-hoi-641764.aspx",
         "280/TB-TCHQ",
         "17-01-2025",
         "280_TB_TCHQ_17_01_2025"
        ],
        [
         "27",
         "https://thuvienphapluat.vn/van-ban/Xuat-nhap-khau/Thong-bao-6443-TB-TCHQ-2024-ket-qua-xac-dinh-truoc-ma-so-deo-tay-Huawei-Watch-GT-5-Pro-640068.aspx",
         "6443/TB-TCHQ",
         "23-12-2024",
         "6443_TB_TCHQ_23_12_2024"
        ],
        [
         "28",
         "https://thuvienphapluat.vn/van-ban/Xuat-nhap-khau/Thong-bao-286-TB-TCHQ-2025-ket-qua-xac-dinh-truoc-ma-so-Nap-nhua-bao-ve-day-dien-xe-hoi-641788.aspx",
         "286/TB-TCHQ",
         "17-01-2025",
         "286_TB_TCHQ_17_01_2025"
        ],
        [
         "29",
         "https://thuvienphapluat.vn/van-ban/Xuat-nhap-khau/Thong-bao-6313-TB-TCHQ-2024-ket-qua-xac-dinh-truoc-ma-so-Freeze-Dried-Rice-Crispy-Durian-636754.aspx",
         "6313/TB-TCHQ",
         "17-12-2024",
         "6313_TB_TCHQ_17_12_2024"
        ],
        [
         "30",
         "https://thuvienphapluat.vn/van-ban/Xuat-nhap-khau/Thong-bao-5523-TB-TCHQ-2024-ket-qua-xac-dinh-truoc-ma-so-ageLOC-TRME-TRIMSHAKE-632060.aspx",
         "5523/TB-TCHQ",
         "08-11-2024",
         "5523_TB_TCHQ_08_11_2024"
        ],
        [
         "31",
         "https://thuvienphapluat.vn/van-ban/Xuat-nhap-khau/Thong-bao-6014-TB-TCHQ-2024-ket-qua-xac-dinh-truoc-ma-so-M-2-PowerPull-R-Remote-Dial-A-No-Lace-Lock-634658.aspx",
         "6014/TB-TCHQ",
         "02-12-2024",
         "6014_TB_TCHQ_02_12_2024"
        ],
        [
         "32",
         "https://thuvienphapluat.vn/van-ban/Xuat-nhap-khau/Thong-bao-362-TB-TCHQ-2025-ket-qua-xac-dinh-truoc-ma-so-Powdered-Cooked-Chicken-C-100B-AR-641865.aspx",
         "362/TB-TCHQ",
         "21-01-2025",
         "362_TB_TCHQ_21_01_2025"
        ],
        [
         "33",
         "https://thuvienphapluat.vn/van-ban/Xuat-nhap-khau/Thong-bao-185-TB-TCHQ-2025-ket-qua-xac-dinh-truoc-ma-so-doi-voi-Khay-dung-ly-640135.aspx",
         "185/TB-TCHQ",
         "10-01-2025",
         "185_TB_TCHQ_10_01_2025"
        ],
        [
         "34",
         "https://thuvienphapluat.vn/van-ban/Xuat-nhap-khau/Thong-bao-5922-TB-TCHQ-2024-ket-qua-xac-dinh-truoc-ma-so-May-phan-tich-co-the-Tanita-DC-430MA-633956.aspx",
         "5922/TB-TCHQ",
         "28-11-2024",
         "5922_TB_TCHQ_28_11_2024"
        ],
        [
         "35",
         "https://thuvienphapluat.vn/van-ban/Xuat-nhap-khau/Thong-bao-5433-TB-TCHQ-2024-ket-qua-xac-dinh-truoc-ma-so-doi-voi-WASHER-631992.aspx",
         "5433/TB-TCHQ",
         "06-11-2024",
         "5433_TB_TCHQ_06_11_2024"
        ],
        [
         "36",
         "https://thuvienphapluat.vn/van-ban/Xuat-nhap-khau/Thong-bao-514-TB-TCHQ-2025-ket-qua-xac-dinh-truoc-ma-so-Optibac-Pregnancy-642341.aspx",
         "514/TB-TCHQ",
         "05-02-2025",
         "514_TB_TCHQ_05_02_2025"
        ],
        [
         "37",
         "https://thuvienphapluat.vn/van-ban/Xuat-nhap-khau/Thong-bao-281-TB-TCHQ-2025-ket-qua-xac-dinh-truoc-ma-so-doi-voi-Thuc-pham-bao-ve-suc-khoe-Imochild-641766.aspx",
         "281/TB-TCHQ",
         "17-01-2025",
         "281_TB_TCHQ_17_01_2025"
        ],
        [
         "38",
         "https://thuvienphapluat.vn/van-ban/Xuat-nhap-khau/Thong-bao-5970-TB-TCHQ-2024-ket-qua-xac-dinh-truoc-ma-so-FREQ-CIRCULATOR-636310.aspx",
         "5970/TB-TCHQ",
         "29-11-2024",
         "5970_TB_TCHQ_29_11_2024"
        ],
        [
         "39",
         "https://thuvienphapluat.vn/van-ban/Xuat-nhap-khau/Thong-bao-6444-TB-TCHQ-2024-ket-qua-xac-dinh-truoc-ma-so-640161.aspx",
         "6444/TB-TCHQ",
         "23-12-2024",
         "6444_TB_TCHQ_23_12_2024"
        ],
        [
         "40",
         "https://thuvienphapluat.vn/van-ban/Xuat-nhap-khau/Thong-bao-6490-TB-TCHQ-2024-ket-qua-xac-dinh-truoc-ma-so-Freeze-Dried-Rice-Crispy-Mango-637437.aspx",
         "6490/TB-TCHQ",
         "25-12-2024",
         "6490_TB_TCHQ_25_12_2024"
        ],
        [
         "41",
         "https://thuvienphapluat.vn/van-ban/Xuat-nhap-khau/Thong-bao-282-TB-TCHQ-2025-ket-qua-xac-dinh-truoc-ma-so-doi-voi-Nap-nhua-bao-ve-day-dien-xe-hoi-641776.aspx",
         "282/TB-TCHQ",
         "17-01-2025",
         "282_TB_TCHQ_17_01_2025"
        ],
        [
         "42",
         "https://thuvienphapluat.vn/van-ban/Xuat-nhap-khau/Thong-bao-6059-TB-TCHQ-2024-ket-qua-xac-dinh-truoc-ma-so-Than-cua-voi-chau-rua-634650.aspx",
         "6059/TB-TCHQ",
         "04-12-2024",
         "6059_TB_TCHQ_04_12_2024"
        ],
        [
         "43",
         "https://thuvienphapluat.vn/van-ban/Xuat-nhap-khau/Thong-bao-535-TB-TCHQ-2025-ket-qua-xac-dinh-truoc-ma-so-Semi-finished-PCB-for-TV-642336.aspx",
         "535/TB-TCHQ",
         "06-02-2025",
         "535_TB_TCHQ_06_02_2025"
        ],
        [
         "44",
         "https://thuvienphapluat.vn/van-ban/Xuat-nhap-khau/Thong-bao-6158-TB-TCHQ-2024-ket-qua-xac-dinh-truoc-ma-so-Omega-3-SUPRA-KAPSELN-636332.aspx",
         "6158/TB-TCHQ",
         "09-12-2024",
         "6158_TB_TCHQ_09_12_2024"
        ],
        [
         "45",
         "https://thuvienphapluat.vn/van-ban/Xuat-nhap-khau/Thong-bao-6101-TB-TCHQ-2024-ket-qua-xac-dinh-truoc-ma-so-doi-voi-Colpofix-635173.aspx",
         "6101/TB-TCHQ",
         "05-12-2024",
         "6101_TB_TCHQ_05_12_2024"
        ],
        [
         "46",
         "https://thuvienphapluat.vn/van-ban/Xuat-nhap-khau/Thong-bao-511-TB-TCHQ-2025-ket-qua-xac-dinh-truoc-ma-so-Thuc-pham-bao-ve-suc-khoe-642344.aspx",
         "511/TB-TCHQ",
         "05-02-2025",
         "511_TB_TCHQ_05_02_2025"
        ],
        [
         "47",
         "https://thuvienphapluat.vn/van-ban/Xuat-nhap-khau/Thong-bao-119-TB-TCHQ-2025-ket-qua-xac-dinh-truoc-ma-so-640061.aspx",
         "119/TB-TCHQ",
         "08-01-2025",
         "119_TB_TCHQ_08_01_2025"
        ],
        [
         "48",
         "https://thuvienphapluat.vn/van-ban/Xuat-nhap-khau/Thong-bao-6311-TB-TCHQ-2024-ket-qua-xac-dinh-truoc-ma-so-doi-voi-Rhodium-Solution-636752.aspx",
         "6311/TB-TCHQ",
         "17-12-2024",
         "6311_TB_TCHQ_17_12_2024"
        ],
        [
         "49",
         "https://thuvienphapluat.vn/van-ban/Xuat-nhap-khau/Thong-bao-5282-TB-TCHQ-2024-ket-qua-xac-dinh-truoc-ma-so-SheffCoat-EC-White-5Y00462-632007.aspx",
         "5282/TB-TCHQ",
         "30-10-2024",
         "5282_TB_TCHQ_30_10_2024"
        ],
        [
         "50",
         "https://thuvienphapluat.vn/van-ban/Xuat-nhap-khau/Thong-bao-6442-TB-TCHQ-2024-ket-qua-xac-dinh-truoc-ma-so-640067.aspx",
         "6442/TB-TCHQ",
         "23-12-2024",
         "6442_TB_TCHQ_23_12_2024"
        ],
        [
         "51",
         "https://thuvienphapluat.vn/van-ban/Xuat-nhap-khau/Thong-bao-5969-TB-TCHQ-2024-ket-qua-xac-dinh-truoc-ma-so-636306.aspx",
         "5969/TB-TCHQ",
         "29-11-2024",
         "5969_TB_TCHQ_29_11_2024"
        ]
       ],
       "shape": {
        "columns": 4,
        "rows": 86
       }
      },
      "text/html": [
       "<div>\n",
       "<style scoped>\n",
       "    .dataframe tbody tr th:only-of-type {\n",
       "        vertical-align: middle;\n",
       "    }\n",
       "\n",
       "    .dataframe tbody tr th {\n",
       "        vertical-align: top;\n",
       "    }\n",
       "\n",
       "    .dataframe thead th {\n",
       "        text-align: right;\n",
       "    }\n",
       "</style>\n",
       "<table border=\"1\" class=\"dataframe\">\n",
       "  <thead>\n",
       "    <tr style=\"text-align: right;\">\n",
       "      <th></th>\n",
       "      <th>link</th>\n",
       "      <th>doc_no</th>\n",
       "      <th>doc_date</th>\n",
       "      <th>doc_name</th>\n",
       "    </tr>\n",
       "  </thead>\n",
       "  <tbody>\n",
       "    <tr>\n",
       "      <th>0</th>\n",
       "      <td>https://thuvienphapluat.vn/van-ban/Xuat-nhap-k...</td>\n",
       "      <td>6450/TB-TCHQ</td>\n",
       "      <td>23-12-2024</td>\n",
       "      <td>6450_TB_TCHQ_23_12_2024</td>\n",
       "    </tr>\n",
       "    <tr>\n",
       "      <th>2</th>\n",
       "      <td>https://thuvienphapluat.vn/van-ban/Xuat-nhap-k...</td>\n",
       "      <td>5951/TB-TCHQ</td>\n",
       "      <td>29-11-2024</td>\n",
       "      <td>5951_TB_TCHQ_29_11_2024</td>\n",
       "    </tr>\n",
       "    <tr>\n",
       "      <th>3</th>\n",
       "      <td>https://thuvienphapluat.vn/van-ban/Xuat-nhap-k...</td>\n",
       "      <td>5317/TB-TCHQ</td>\n",
       "      <td>31-10-2024</td>\n",
       "      <td>5317_TB_TCHQ_31_10_2024</td>\n",
       "    </tr>\n",
       "    <tr>\n",
       "      <th>4</th>\n",
       "      <td>https://thuvienphapluat.vn/van-ban/Xuat-nhap-k...</td>\n",
       "      <td>284/TB-TCHQ</td>\n",
       "      <td>17-01-2025</td>\n",
       "      <td>284_TB_TCHQ_17_01_2025</td>\n",
       "    </tr>\n",
       "    <tr>\n",
       "      <th>5</th>\n",
       "      <td>https://thuvienphapluat.vn/van-ban/Xuat-nhap-k...</td>\n",
       "      <td>6058/TB-TCHQ</td>\n",
       "      <td>04-12-2024</td>\n",
       "      <td>6058_TB_TCHQ_04_12_2024</td>\n",
       "    </tr>\n",
       "    <tr>\n",
       "      <th>...</th>\n",
       "      <td>...</td>\n",
       "      <td>...</td>\n",
       "      <td>...</td>\n",
       "      <td>...</td>\n",
       "    </tr>\n",
       "    <tr>\n",
       "      <th>86</th>\n",
       "      <td>https://thuvienphapluat.vn/van-ban/Xuat-nhap-k...</td>\n",
       "      <td>6208/TB-TCHQ</td>\n",
       "      <td>11-12-2024</td>\n",
       "      <td>6208_TB_TCHQ_11_12_2024</td>\n",
       "    </tr>\n",
       "    <tr>\n",
       "      <th>87</th>\n",
       "      <td>https://thuvienphapluat.vn/van-ban/Xuat-nhap-k...</td>\n",
       "      <td>301/TB-TCHQ</td>\n",
       "      <td>17-01-2025</td>\n",
       "      <td>301_TB_TCHQ_17_01_2025</td>\n",
       "    </tr>\n",
       "    <tr>\n",
       "      <th>88</th>\n",
       "      <td>https://thuvienphapluat.vn/van-ban/Xuat-nhap-k...</td>\n",
       "      <td>6011/TB-TCHQ</td>\n",
       "      <td>02-12-2024</td>\n",
       "      <td>6011_TB_TCHQ_02_12_2024</td>\n",
       "    </tr>\n",
       "    <tr>\n",
       "      <th>89</th>\n",
       "      <td>https://thuvienphapluat.vn/van-ban/Xuat-nhap-k...</td>\n",
       "      <td>6440/TB-TCHQ</td>\n",
       "      <td>23-12-2024</td>\n",
       "      <td>6440_TB_TCHQ_23_12_2024</td>\n",
       "    </tr>\n",
       "    <tr>\n",
       "      <th>90</th>\n",
       "      <td>https://thuvienphapluat.vn/van-ban/Xuat-nhap-k...</td>\n",
       "      <td>5432/TB-TCHQ</td>\n",
       "      <td>06-11-2024</td>\n",
       "      <td>5432_TB_TCHQ_06_11_2024</td>\n",
       "    </tr>\n",
       "  </tbody>\n",
       "</table>\n",
       "<p>86 rows × 4 columns</p>\n",
       "</div>"
      ],
      "text/plain": [
       "                                                 link        doc_no  \\\n",
       "0   https://thuvienphapluat.vn/van-ban/Xuat-nhap-k...  6450/TB-TCHQ   \n",
       "2   https://thuvienphapluat.vn/van-ban/Xuat-nhap-k...  5951/TB-TCHQ   \n",
       "3   https://thuvienphapluat.vn/van-ban/Xuat-nhap-k...  5317/TB-TCHQ   \n",
       "4   https://thuvienphapluat.vn/van-ban/Xuat-nhap-k...   284/TB-TCHQ   \n",
       "5   https://thuvienphapluat.vn/van-ban/Xuat-nhap-k...  6058/TB-TCHQ   \n",
       "..                                                ...           ...   \n",
       "86  https://thuvienphapluat.vn/van-ban/Xuat-nhap-k...  6208/TB-TCHQ   \n",
       "87  https://thuvienphapluat.vn/van-ban/Xuat-nhap-k...   301/TB-TCHQ   \n",
       "88  https://thuvienphapluat.vn/van-ban/Xuat-nhap-k...  6011/TB-TCHQ   \n",
       "89  https://thuvienphapluat.vn/van-ban/Xuat-nhap-k...  6440/TB-TCHQ   \n",
       "90  https://thuvienphapluat.vn/van-ban/Xuat-nhap-k...  5432/TB-TCHQ   \n",
       "\n",
       "      doc_date                 doc_name  \n",
       "0   23-12-2024  6450_TB_TCHQ_23_12_2024  \n",
       "2   29-11-2024  5951_TB_TCHQ_29_11_2024  \n",
       "3   31-10-2024  5317_TB_TCHQ_31_10_2024  \n",
       "4   17-01-2025   284_TB_TCHQ_17_01_2025  \n",
       "5   04-12-2024  6058_TB_TCHQ_04_12_2024  \n",
       "..         ...                      ...  \n",
       "86  11-12-2024  6208_TB_TCHQ_11_12_2024  \n",
       "87  17-01-2025   301_TB_TCHQ_17_01_2025  \n",
       "88  02-12-2024  6011_TB_TCHQ_02_12_2024  \n",
       "89  23-12-2024  6440_TB_TCHQ_23_12_2024  \n",
       "90  06-11-2024  5432_TB_TCHQ_06_11_2024  \n",
       "\n",
       "[86 rows x 4 columns]"
      ]
     },
     "execution_count": 42,
     "metadata": {},
     "output_type": "execute_result"
    }
   ],
   "source": [
    "df"
   ]
  },
  {
   "cell_type": "code",
   "execution_count": 43,
   "metadata": {},
   "outputs": [],
   "source": [
    "df_copy = df.merge(download_link_df, left_on='doc_name', right_on='file_name_2', how='left')"
   ]
  },
  {
   "cell_type": "code",
   "execution_count": 44,
   "metadata": {},
   "outputs": [
    {
     "data": {
      "application/vnd.microsoft.datawrangler.viewer.v0+json": {
       "columns": [
        {
         "name": "index",
         "rawType": "int64",
         "type": "integer"
        },
        {
         "name": "link",
         "rawType": "object",
         "type": "string"
        },
        {
         "name": "doc_no",
         "rawType": "object",
         "type": "string"
        },
        {
         "name": "doc_date",
         "rawType": "object",
         "type": "string"
        },
        {
         "name": "doc_name",
         "rawType": "object",
         "type": "string"
        },
        {
         "name": "file_name",
         "rawType": "object",
         "type": "unknown"
        },
        {
         "name": "file_name_2",
         "rawType": "object",
         "type": "unknown"
        }
       ],
       "conversionMethod": "pd.DataFrame",
       "ref": "2bacfc0b-1630-4ab7-b194-3fc70046800b",
       "rows": [
        [
         "0",
         "https://thuvienphapluat.vn/van-ban/Xuat-nhap-khau/Thong-bao-6450-TB-TCHQ-2024-ket-qua-xac-dinh-truoc-ma-so-APTAMIL-PROFUTURA-CESARBIOTIK-639434.aspx",
         "6450/TB-TCHQ",
         "23-12-2024",
         "6450_TB_TCHQ_23_12_2024",
         "6450_TB_TCHQ_23_12_2024_0.pdf",
         "6450_TB_TCHQ_23_12_2024"
        ],
        [
         "1",
         "https://thuvienphapluat.vn/van-ban/Xuat-nhap-khau/Thong-bao-5951-TB-TCHQ-2024-ket-qua-xac-dinh-truoc-ma-so-Con-lan-giam-chan-636300.aspx",
         "5951/TB-TCHQ",
         "29-11-2024",
         "5951_TB_TCHQ_29_11_2024",
         "5951_TB_TCHQ_29_11_2024_2.pdf",
         "5951_TB_TCHQ_29_11_2024"
        ],
        [
         "2",
         "https://thuvienphapluat.vn/van-ban/Xuat-nhap-khau/Thong-bao-5317-TB-TCHQ-2024-ket-qua-xac-dinh-truoc-ma-so-Quercetin-dihydrate-632002.aspx",
         "5317/TB-TCHQ",
         "31-10-2024",
         "5317_TB_TCHQ_31_10_2024",
         "5317_TB_TCHQ_31_10_2024_3.pdf",
         "5317_TB_TCHQ_31_10_2024"
        ],
        [
         "3",
         "https://thuvienphapluat.vn/van-ban/Xuat-nhap-khau/Thong-bao-284-TB-TCHQ-2025-ket-qua-xac-dinh-truoc-ma-so-Nap-nhua-bao-ve-day-dien-xe-hoi-641781.aspx",
         "284/TB-TCHQ",
         "17-01-2025",
         "284_TB_TCHQ_17_01_2025",
         null,
         null
        ],
        [
         "4",
         "https://thuvienphapluat.vn/van-ban/Xuat-nhap-khau/Thong-bao-6058-TB-TCHQ-2024-ket-qua-xac-dinh-truoc-ma-so-doi-voi-Than-voi-chau-rua-tu-dong-637080.aspx",
         "6058/TB-TCHQ",
         "04-12-2024",
         "6058_TB_TCHQ_04_12_2024",
         null,
         null
        ],
        [
         "5",
         "https://thuvienphapluat.vn/van-ban/Xuat-nhap-khau/Thong-bao-6017-TB-TCHQ-2024-ket-qua-xac-dinh-truoc-ma-so-636319.aspx",
         "6017/TB-TCHQ",
         "02-12-2024",
         "6017_TB_TCHQ_02_12_2024",
         "6017_TB_TCHQ_02_12_2024_6.pdf",
         "6017_TB_TCHQ_02_12_2024"
        ],
        [
         "6",
         "https://thuvienphapluat.vn/van-ban/Xuat-nhap-khau/Thong-bao-516-TB-TCHQ-2025-ket-qua-xac-dinh-truoc-ma-so-Thuc-pham-bao-ve-suc-khoe-642339.aspx",
         "516/TB-TCHQ",
         "05-02-2025",
         "516_TB_TCHQ_05_02_2025",
         null,
         null
        ],
        [
         "7",
         "https://thuvienphapluat.vn/van-ban/Xuat-nhap-khau/Thong-bao-285-TB-TCHQ-2025-ket-qua-xac-dinh-truoc-ma-so-Nap-nhua-bao-ve-day-dien-xe-hoi-641785.aspx",
         "285/TB-TCHQ",
         "17-01-2025",
         "285_TB_TCHQ_17_01_2025",
         null,
         null
        ],
        [
         "8",
         "https://thuvienphapluat.vn/van-ban/Xuat-nhap-khau/Thong-bao-5968-TB-TCHQ-2024-ket-qua-xac-dinh-truoc-ma-so-Tai-nghe-bluetooth-Huawei-FreeClip-636303.aspx",
         "5968/TB-TCHQ",
         "29-11-2024",
         "5968_TB_TCHQ_29_11_2024",
         "5968_TB_TCHQ_29_11_2024_9.pdf",
         "5968_TB_TCHQ_29_11_2024"
        ],
        [
         "9",
         "https://thuvienphapluat.vn/van-ban/Xuat-nhap-khau/Thong-bao-123-TB-TCHQ-2025-ket-qua-xac-dinh-truoc-ma-so-Bo-cang-xich-cam-thuy-luc-640062.aspx",
         "123/TB-TCHQ",
         "08-01-2025",
         "123_TB_TCHQ_08_01_2025",
         "123_TB_TCHQ_08_01_2025_10.pdf",
         "123_TB_TCHQ_08_01_2025"
        ],
        [
         "10",
         "https://thuvienphapluat.vn/van-ban/Xuat-nhap-khau/Thong-bao-5973-TB-TCHQ-2024-ket-qua-xac-dinh-truoc-ma-so-636313.aspx",
         "5973/TB-TCHQ",
         "29-11-2024",
         "5973_TB_TCHQ_29_11_2024",
         "5973_TB_TCHQ_29_11_2024_11.pdf",
         "5973_TB_TCHQ_29_11_2024"
        ],
        [
         "11",
         "https://thuvienphapluat.vn/van-ban/Xuat-nhap-khau/Thong-bao-513-TB-TCHQ-2025-ket-qua-xac-dinh-truoc-ma-so-Optibac-For-Women-642337.aspx",
         "513/TB-TCHQ",
         "05-02-2025",
         "513_TB_TCHQ_05_02_2025",
         null,
         null
        ],
        [
         "12",
         "https://thuvienphapluat.vn/van-ban/Xuat-nhap-khau/Thong-bao-6489-TB-TCHQ-2024-ket-qua-xac-dinh-truoc-ma-so-Freeze-Dried-Rice-Crispy-Lod-Chong-637438.aspx",
         "6489/TB-TCHQ",
         "25-12-2024",
         "6489_TB_TCHQ_25_12_2024",
         "6489_TB_TCHQ_25_12_2024_13.pdf",
         "6489_TB_TCHQ_25_12_2024"
        ],
        [
         "13",
         "https://thuvienphapluat.vn/van-ban/Xuat-nhap-khau/Thong-bao-288-TB-TCHQ-2025-ket-qua-xac-dinh-truoc-ma-so-Thuc-pham-bao-ve-suc-khoe-Imochild-DHA-641790.aspx",
         "288/TB-TCHQ",
         "17-01-2025",
         "288_TB_TCHQ_17_01_2025",
         null,
         null
        ],
        [
         "14",
         "https://thuvienphapluat.vn/van-ban/Xuat-nhap-khau/Thong-bao-437-TB-TCHQ-2025-ket-qua-xac-dinh-truoc-ma-so-HPE-Synergy-12000-Frame-641868.aspx",
         "437/TB-TCHQ",
         "23-01-2025",
         "437_TB_TCHQ_23_01_2025",
         null,
         null
        ],
        [
         "15",
         "https://thuvienphapluat.vn/van-ban/Xuat-nhap-khau/Thong-bao-6012-TB-TCHQ-2024-ket-qua-xac-dinh-truoc-ma-so-doi-voi-H4-Coiler-Dial-G-634662.aspx",
         "6012/TB-TCHQ",
         "02-12-2024",
         "6012_TB_TCHQ_02_12_2024",
         "6012_TB_TCHQ_02_12_2024_16.pdf",
         "6012_TB_TCHQ_02_12_2024"
        ],
        [
         "16",
         "https://thuvienphapluat.vn/van-ban/Xuat-nhap-khau/Thong-bao-529-TB-TCHQ-2025-ket-qua-xac-dinh-truoc-ma-so-O-cung-di-dong-Samsung-642335.aspx",
         "529/TB-TCHQ",
         "06-02-2025",
         "529_TB_TCHQ_06_02_2025",
         null,
         null
        ],
        [
         "17",
         "https://thuvienphapluat.vn/van-ban/Xuat-nhap-khau/Thong-bao-20-TB-TCHQ-2025-ket-qua-xac-dinh-truoc-ma-so-H4-Bayonet-Tongue-Coiler-639432.aspx",
         "20/TB-TCHQ",
         "02-01-2025",
         "20_TB_TCHQ_02_01_2025",
         "20_TB_TCHQ_02_01_2025_18.pdf",
         "20_TB_TCHQ_02_01_2025"
        ],
        [
         "18",
         "https://thuvienphapluat.vn/van-ban/Xuat-nhap-khau/Thong-bao-6015-TB-TCHQ-2024-ket-qua-xac-dinh-truoc-ma-so-Humiome-Post-LB-634659.aspx",
         "6015/TB-TCHQ",
         "02-12-2024",
         "6015_TB_TCHQ_02_12_2024",
         "6015_TB_TCHQ_02_12_2024_19.pdf",
         "6015_TB_TCHQ_02_12_2024"
        ],
        [
         "19",
         "https://thuvienphapluat.vn/van-ban/Xuat-nhap-khau/Thong-bao-512-TB-TCHQ-2025-ket-qua-xac-dinh-truoc-ma-so-Optibac-For-Those-On-Antibiotics-642342.aspx",
         "512/TB-TCHQ",
         "05-02-2025",
         "512_TB_TCHQ_05_02_2025",
         null,
         null
        ],
        [
         "20",
         "https://thuvienphapluat.vn/van-ban/Xuat-nhap-khau/Thong-bao-6331-TB-TCHQ-2024-ket-qua-xac-dinh-truoc-ma-so-FLUX-TLF-800M-1-6-638902.aspx",
         "6331/TB-TCHQ",
         "17-12-2024",
         "6331_TB_TCHQ_17_12_2024",
         "6331_TB_TCHQ_17_12_2024_21.pdf",
         "6331_TB_TCHQ_17_12_2024"
        ],
        [
         "21",
         "https://thuvienphapluat.vn/van-ban/Xuat-nhap-khau/Thong-bao-302-TB-TCHQ-2025-ket-qua-xac-dinh-truoc-ma-so-doi-voi-Nap-nhua-bao-ve-day-dien-xe-hoi-641795.aspx",
         "302/TB-TCHQ",
         "17-01-2025",
         "302_TB_TCHQ_17_01_2025",
         null,
         null
        ],
        [
         "22",
         "https://thuvienphapluat.vn/van-ban/Xuat-nhap-khau/Thong-bao-5967-TB-TCHQ-2024-ket-qua-xac-dinh-truoc-ma-so-tai-nghe-Huawei-Freebuds-6i-636301.aspx",
         "5967/TB-TCHQ",
         "29-11-2024",
         "5967_TB_TCHQ_29_11_2024",
         "5967_TB_TCHQ_29_11_2024_23.pdf",
         "5967_TB_TCHQ_29_11_2024"
        ],
        [
         "23",
         "https://thuvienphapluat.vn/van-ban/Xuat-nhap-khau/Thong-bao-306-TB-TCHQ-2025-ket-qua-xac-dinh-truoc-ma-so-Power-Socket-O-cam-dien-642509.aspx",
         "306/TB-TCHQ",
         "17-01-2025",
         "306_TB_TCHQ_17_01_2025",
         null,
         null
        ],
        [
         "24",
         "https://thuvienphapluat.vn/van-ban/Xuat-nhap-khau/Thong-bao-280-TB-TCHQ-2025-ket-qua-xac-dinh-truoc-ma-so-doi-voi-Nap-nhua-bao-ve-day-dien-xe-hoi-641764.aspx",
         "280/TB-TCHQ",
         "17-01-2025",
         "280_TB_TCHQ_17_01_2025",
         null,
         null
        ],
        [
         "25",
         "https://thuvienphapluat.vn/van-ban/Xuat-nhap-khau/Thong-bao-6443-TB-TCHQ-2024-ket-qua-xac-dinh-truoc-ma-so-deo-tay-Huawei-Watch-GT-5-Pro-640068.aspx",
         "6443/TB-TCHQ",
         "23-12-2024",
         "6443_TB_TCHQ_23_12_2024",
         "6443_TB_TCHQ_23_12_2024_27.pdf",
         "6443_TB_TCHQ_23_12_2024"
        ],
        [
         "26",
         "https://thuvienphapluat.vn/van-ban/Xuat-nhap-khau/Thong-bao-286-TB-TCHQ-2025-ket-qua-xac-dinh-truoc-ma-so-Nap-nhua-bao-ve-day-dien-xe-hoi-641788.aspx",
         "286/TB-TCHQ",
         "17-01-2025",
         "286_TB_TCHQ_17_01_2025",
         null,
         null
        ],
        [
         "27",
         "https://thuvienphapluat.vn/van-ban/Xuat-nhap-khau/Thong-bao-6313-TB-TCHQ-2024-ket-qua-xac-dinh-truoc-ma-so-Freeze-Dried-Rice-Crispy-Durian-636754.aspx",
         "6313/TB-TCHQ",
         "17-12-2024",
         "6313_TB_TCHQ_17_12_2024",
         "6313_TB_TCHQ_17_12_2024_29.pdf",
         "6313_TB_TCHQ_17_12_2024"
        ],
        [
         "28",
         "https://thuvienphapluat.vn/van-ban/Xuat-nhap-khau/Thong-bao-5523-TB-TCHQ-2024-ket-qua-xac-dinh-truoc-ma-so-ageLOC-TRME-TRIMSHAKE-632060.aspx",
         "5523/TB-TCHQ",
         "08-11-2024",
         "5523_TB_TCHQ_08_11_2024",
         "5523_TB_TCHQ_08_11_2024_30.pdf",
         "5523_TB_TCHQ_08_11_2024"
        ],
        [
         "29",
         "https://thuvienphapluat.vn/van-ban/Xuat-nhap-khau/Thong-bao-6014-TB-TCHQ-2024-ket-qua-xac-dinh-truoc-ma-so-M-2-PowerPull-R-Remote-Dial-A-No-Lace-Lock-634658.aspx",
         "6014/TB-TCHQ",
         "02-12-2024",
         "6014_TB_TCHQ_02_12_2024",
         "6014_TB_TCHQ_02_12_2024_31.pdf",
         "6014_TB_TCHQ_02_12_2024"
        ],
        [
         "30",
         "https://thuvienphapluat.vn/van-ban/Xuat-nhap-khau/Thong-bao-362-TB-TCHQ-2025-ket-qua-xac-dinh-truoc-ma-so-Powdered-Cooked-Chicken-C-100B-AR-641865.aspx",
         "362/TB-TCHQ",
         "21-01-2025",
         "362_TB_TCHQ_21_01_2025",
         null,
         null
        ],
        [
         "31",
         "https://thuvienphapluat.vn/van-ban/Xuat-nhap-khau/Thong-bao-185-TB-TCHQ-2025-ket-qua-xac-dinh-truoc-ma-so-doi-voi-Khay-dung-ly-640135.aspx",
         "185/TB-TCHQ",
         "10-01-2025",
         "185_TB_TCHQ_10_01_2025",
         "185_TB_TCHQ_10_01_2025_33.pdf",
         "185_TB_TCHQ_10_01_2025"
        ],
        [
         "32",
         "https://thuvienphapluat.vn/van-ban/Xuat-nhap-khau/Thong-bao-5922-TB-TCHQ-2024-ket-qua-xac-dinh-truoc-ma-so-May-phan-tich-co-the-Tanita-DC-430MA-633956.aspx",
         "5922/TB-TCHQ",
         "28-11-2024",
         "5922_TB_TCHQ_28_11_2024",
         "5922_TB_TCHQ_28_11_2024_34.pdf",
         "5922_TB_TCHQ_28_11_2024"
        ],
        [
         "33",
         "https://thuvienphapluat.vn/van-ban/Xuat-nhap-khau/Thong-bao-5433-TB-TCHQ-2024-ket-qua-xac-dinh-truoc-ma-so-doi-voi-WASHER-631992.aspx",
         "5433/TB-TCHQ",
         "06-11-2024",
         "5433_TB_TCHQ_06_11_2024",
         "5433_TB_TCHQ_06_11_2024_35.pdf",
         "5433_TB_TCHQ_06_11_2024"
        ],
        [
         "34",
         "https://thuvienphapluat.vn/van-ban/Xuat-nhap-khau/Thong-bao-514-TB-TCHQ-2025-ket-qua-xac-dinh-truoc-ma-so-Optibac-Pregnancy-642341.aspx",
         "514/TB-TCHQ",
         "05-02-2025",
         "514_TB_TCHQ_05_02_2025",
         null,
         null
        ],
        [
         "35",
         "https://thuvienphapluat.vn/van-ban/Xuat-nhap-khau/Thong-bao-281-TB-TCHQ-2025-ket-qua-xac-dinh-truoc-ma-so-doi-voi-Thuc-pham-bao-ve-suc-khoe-Imochild-641766.aspx",
         "281/TB-TCHQ",
         "17-01-2025",
         "281_TB_TCHQ_17_01_2025",
         null,
         null
        ],
        [
         "36",
         "https://thuvienphapluat.vn/van-ban/Xuat-nhap-khau/Thong-bao-5970-TB-TCHQ-2024-ket-qua-xac-dinh-truoc-ma-so-FREQ-CIRCULATOR-636310.aspx",
         "5970/TB-TCHQ",
         "29-11-2024",
         "5970_TB_TCHQ_29_11_2024",
         "5970_TB_TCHQ_29_11_2024_38.pdf",
         "5970_TB_TCHQ_29_11_2024"
        ],
        [
         "37",
         "https://thuvienphapluat.vn/van-ban/Xuat-nhap-khau/Thong-bao-6444-TB-TCHQ-2024-ket-qua-xac-dinh-truoc-ma-so-640161.aspx",
         "6444/TB-TCHQ",
         "23-12-2024",
         "6444_TB_TCHQ_23_12_2024",
         "6444_TB_TCHQ_23_12_2024_39.pdf",
         "6444_TB_TCHQ_23_12_2024"
        ],
        [
         "38",
         "https://thuvienphapluat.vn/van-ban/Xuat-nhap-khau/Thong-bao-6490-TB-TCHQ-2024-ket-qua-xac-dinh-truoc-ma-so-Freeze-Dried-Rice-Crispy-Mango-637437.aspx",
         "6490/TB-TCHQ",
         "25-12-2024",
         "6490_TB_TCHQ_25_12_2024",
         "6490_TB_TCHQ_25_12_2024_40.pdf",
         "6490_TB_TCHQ_25_12_2024"
        ],
        [
         "39",
         "https://thuvienphapluat.vn/van-ban/Xuat-nhap-khau/Thong-bao-282-TB-TCHQ-2025-ket-qua-xac-dinh-truoc-ma-so-doi-voi-Nap-nhua-bao-ve-day-dien-xe-hoi-641776.aspx",
         "282/TB-TCHQ",
         "17-01-2025",
         "282_TB_TCHQ_17_01_2025",
         null,
         null
        ],
        [
         "40",
         "https://thuvienphapluat.vn/van-ban/Xuat-nhap-khau/Thong-bao-6059-TB-TCHQ-2024-ket-qua-xac-dinh-truoc-ma-so-Than-cua-voi-chau-rua-634650.aspx",
         "6059/TB-TCHQ",
         "04-12-2024",
         "6059_TB_TCHQ_04_12_2024",
         "6059_TB_TCHQ_04_12_2024_42.pdf",
         "6059_TB_TCHQ_04_12_2024"
        ],
        [
         "41",
         "https://thuvienphapluat.vn/van-ban/Xuat-nhap-khau/Thong-bao-535-TB-TCHQ-2025-ket-qua-xac-dinh-truoc-ma-so-Semi-finished-PCB-for-TV-642336.aspx",
         "535/TB-TCHQ",
         "06-02-2025",
         "535_TB_TCHQ_06_02_2025",
         null,
         null
        ],
        [
         "42",
         "https://thuvienphapluat.vn/van-ban/Xuat-nhap-khau/Thong-bao-6158-TB-TCHQ-2024-ket-qua-xac-dinh-truoc-ma-so-Omega-3-SUPRA-KAPSELN-636332.aspx",
         "6158/TB-TCHQ",
         "09-12-2024",
         "6158_TB_TCHQ_09_12_2024",
         "6158_TB_TCHQ_09_12_2024_44.pdf",
         "6158_TB_TCHQ_09_12_2024"
        ],
        [
         "43",
         "https://thuvienphapluat.vn/van-ban/Xuat-nhap-khau/Thong-bao-6101-TB-TCHQ-2024-ket-qua-xac-dinh-truoc-ma-so-doi-voi-Colpofix-635173.aspx",
         "6101/TB-TCHQ",
         "05-12-2024",
         "6101_TB_TCHQ_05_12_2024",
         "6101_TB_TCHQ_05_12_2024_45.pdf",
         "6101_TB_TCHQ_05_12_2024"
        ],
        [
         "44",
         "https://thuvienphapluat.vn/van-ban/Xuat-nhap-khau/Thong-bao-511-TB-TCHQ-2025-ket-qua-xac-dinh-truoc-ma-so-Thuc-pham-bao-ve-suc-khoe-642344.aspx",
         "511/TB-TCHQ",
         "05-02-2025",
         "511_TB_TCHQ_05_02_2025",
         null,
         null
        ],
        [
         "45",
         "https://thuvienphapluat.vn/van-ban/Xuat-nhap-khau/Thong-bao-119-TB-TCHQ-2025-ket-qua-xac-dinh-truoc-ma-so-640061.aspx",
         "119/TB-TCHQ",
         "08-01-2025",
         "119_TB_TCHQ_08_01_2025",
         "119_TB_TCHQ_08_01_2025_47.pdf",
         "119_TB_TCHQ_08_01_2025"
        ],
        [
         "46",
         "https://thuvienphapluat.vn/van-ban/Xuat-nhap-khau/Thong-bao-6311-TB-TCHQ-2024-ket-qua-xac-dinh-truoc-ma-so-doi-voi-Rhodium-Solution-636752.aspx",
         "6311/TB-TCHQ",
         "17-12-2024",
         "6311_TB_TCHQ_17_12_2024",
         "6311_TB_TCHQ_17_12_2024_48.pdf",
         "6311_TB_TCHQ_17_12_2024"
        ],
        [
         "47",
         "https://thuvienphapluat.vn/van-ban/Xuat-nhap-khau/Thong-bao-5282-TB-TCHQ-2024-ket-qua-xac-dinh-truoc-ma-so-SheffCoat-EC-White-5Y00462-632007.aspx",
         "5282/TB-TCHQ",
         "30-10-2024",
         "5282_TB_TCHQ_30_10_2024",
         "5282_TB_TCHQ_30_10_2024_49.pdf",
         "5282_TB_TCHQ_30_10_2024"
        ],
        [
         "48",
         "https://thuvienphapluat.vn/van-ban/Xuat-nhap-khau/Thong-bao-6442-TB-TCHQ-2024-ket-qua-xac-dinh-truoc-ma-so-640067.aspx",
         "6442/TB-TCHQ",
         "23-12-2024",
         "6442_TB_TCHQ_23_12_2024",
         "6442_TB_TCHQ_23_12_2024_50.pdf",
         "6442_TB_TCHQ_23_12_2024"
        ],
        [
         "49",
         "https://thuvienphapluat.vn/van-ban/Xuat-nhap-khau/Thong-bao-5969-TB-TCHQ-2024-ket-qua-xac-dinh-truoc-ma-so-636306.aspx",
         "5969/TB-TCHQ",
         "29-11-2024",
         "5969_TB_TCHQ_29_11_2024",
         "5969_TB_TCHQ_29_11_2024_51.pdf",
         "5969_TB_TCHQ_29_11_2024"
        ]
       ],
       "shape": {
        "columns": 6,
        "rows": 86
       }
      },
      "text/html": [
       "<div>\n",
       "<style scoped>\n",
       "    .dataframe tbody tr th:only-of-type {\n",
       "        vertical-align: middle;\n",
       "    }\n",
       "\n",
       "    .dataframe tbody tr th {\n",
       "        vertical-align: top;\n",
       "    }\n",
       "\n",
       "    .dataframe thead th {\n",
       "        text-align: right;\n",
       "    }\n",
       "</style>\n",
       "<table border=\"1\" class=\"dataframe\">\n",
       "  <thead>\n",
       "    <tr style=\"text-align: right;\">\n",
       "      <th></th>\n",
       "      <th>link</th>\n",
       "      <th>doc_no</th>\n",
       "      <th>doc_date</th>\n",
       "      <th>doc_name</th>\n",
       "      <th>file_name</th>\n",
       "      <th>file_name_2</th>\n",
       "    </tr>\n",
       "  </thead>\n",
       "  <tbody>\n",
       "    <tr>\n",
       "      <th>0</th>\n",
       "      <td>https://thuvienphapluat.vn/van-ban/Xuat-nhap-k...</td>\n",
       "      <td>6450/TB-TCHQ</td>\n",
       "      <td>23-12-2024</td>\n",
       "      <td>6450_TB_TCHQ_23_12_2024</td>\n",
       "      <td>6450_TB_TCHQ_23_12_2024_0.pdf</td>\n",
       "      <td>6450_TB_TCHQ_23_12_2024</td>\n",
       "    </tr>\n",
       "    <tr>\n",
       "      <th>1</th>\n",
       "      <td>https://thuvienphapluat.vn/van-ban/Xuat-nhap-k...</td>\n",
       "      <td>5951/TB-TCHQ</td>\n",
       "      <td>29-11-2024</td>\n",
       "      <td>5951_TB_TCHQ_29_11_2024</td>\n",
       "      <td>5951_TB_TCHQ_29_11_2024_2.pdf</td>\n",
       "      <td>5951_TB_TCHQ_29_11_2024</td>\n",
       "    </tr>\n",
       "    <tr>\n",
       "      <th>2</th>\n",
       "      <td>https://thuvienphapluat.vn/van-ban/Xuat-nhap-k...</td>\n",
       "      <td>5317/TB-TCHQ</td>\n",
       "      <td>31-10-2024</td>\n",
       "      <td>5317_TB_TCHQ_31_10_2024</td>\n",
       "      <td>5317_TB_TCHQ_31_10_2024_3.pdf</td>\n",
       "      <td>5317_TB_TCHQ_31_10_2024</td>\n",
       "    </tr>\n",
       "    <tr>\n",
       "      <th>3</th>\n",
       "      <td>https://thuvienphapluat.vn/van-ban/Xuat-nhap-k...</td>\n",
       "      <td>284/TB-TCHQ</td>\n",
       "      <td>17-01-2025</td>\n",
       "      <td>284_TB_TCHQ_17_01_2025</td>\n",
       "      <td>NaN</td>\n",
       "      <td>NaN</td>\n",
       "    </tr>\n",
       "    <tr>\n",
       "      <th>4</th>\n",
       "      <td>https://thuvienphapluat.vn/van-ban/Xuat-nhap-k...</td>\n",
       "      <td>6058/TB-TCHQ</td>\n",
       "      <td>04-12-2024</td>\n",
       "      <td>6058_TB_TCHQ_04_12_2024</td>\n",
       "      <td>NaN</td>\n",
       "      <td>NaN</td>\n",
       "    </tr>\n",
       "    <tr>\n",
       "      <th>...</th>\n",
       "      <td>...</td>\n",
       "      <td>...</td>\n",
       "      <td>...</td>\n",
       "      <td>...</td>\n",
       "      <td>...</td>\n",
       "      <td>...</td>\n",
       "    </tr>\n",
       "    <tr>\n",
       "      <th>81</th>\n",
       "      <td>https://thuvienphapluat.vn/van-ban/Xuat-nhap-k...</td>\n",
       "      <td>6208/TB-TCHQ</td>\n",
       "      <td>11-12-2024</td>\n",
       "      <td>6208_TB_TCHQ_11_12_2024</td>\n",
       "      <td>6208_TB_TCHQ_11_12_2024_86.pdf</td>\n",
       "      <td>6208_TB_TCHQ_11_12_2024</td>\n",
       "    </tr>\n",
       "    <tr>\n",
       "      <th>82</th>\n",
       "      <td>https://thuvienphapluat.vn/van-ban/Xuat-nhap-k...</td>\n",
       "      <td>301/TB-TCHQ</td>\n",
       "      <td>17-01-2025</td>\n",
       "      <td>301_TB_TCHQ_17_01_2025</td>\n",
       "      <td>NaN</td>\n",
       "      <td>NaN</td>\n",
       "    </tr>\n",
       "    <tr>\n",
       "      <th>83</th>\n",
       "      <td>https://thuvienphapluat.vn/van-ban/Xuat-nhap-k...</td>\n",
       "      <td>6011/TB-TCHQ</td>\n",
       "      <td>02-12-2024</td>\n",
       "      <td>6011_TB_TCHQ_02_12_2024</td>\n",
       "      <td>6011_TB_TCHQ_02_12_2024_88.pdf</td>\n",
       "      <td>6011_TB_TCHQ_02_12_2024</td>\n",
       "    </tr>\n",
       "    <tr>\n",
       "      <th>84</th>\n",
       "      <td>https://thuvienphapluat.vn/van-ban/Xuat-nhap-k...</td>\n",
       "      <td>6440/TB-TCHQ</td>\n",
       "      <td>23-12-2024</td>\n",
       "      <td>6440_TB_TCHQ_23_12_2024</td>\n",
       "      <td>6440_TB_TCHQ_23_12_2024_89.pdf</td>\n",
       "      <td>6440_TB_TCHQ_23_12_2024</td>\n",
       "    </tr>\n",
       "    <tr>\n",
       "      <th>85</th>\n",
       "      <td>https://thuvienphapluat.vn/van-ban/Xuat-nhap-k...</td>\n",
       "      <td>5432/TB-TCHQ</td>\n",
       "      <td>06-11-2024</td>\n",
       "      <td>5432_TB_TCHQ_06_11_2024</td>\n",
       "      <td>5432_TB_TCHQ_06_11_2024_90.pdf</td>\n",
       "      <td>5432_TB_TCHQ_06_11_2024</td>\n",
       "    </tr>\n",
       "  </tbody>\n",
       "</table>\n",
       "<p>86 rows × 6 columns</p>\n",
       "</div>"
      ],
      "text/plain": [
       "                                                 link        doc_no  \\\n",
       "0   https://thuvienphapluat.vn/van-ban/Xuat-nhap-k...  6450/TB-TCHQ   \n",
       "1   https://thuvienphapluat.vn/van-ban/Xuat-nhap-k...  5951/TB-TCHQ   \n",
       "2   https://thuvienphapluat.vn/van-ban/Xuat-nhap-k...  5317/TB-TCHQ   \n",
       "3   https://thuvienphapluat.vn/van-ban/Xuat-nhap-k...   284/TB-TCHQ   \n",
       "4   https://thuvienphapluat.vn/van-ban/Xuat-nhap-k...  6058/TB-TCHQ   \n",
       "..                                                ...           ...   \n",
       "81  https://thuvienphapluat.vn/van-ban/Xuat-nhap-k...  6208/TB-TCHQ   \n",
       "82  https://thuvienphapluat.vn/van-ban/Xuat-nhap-k...   301/TB-TCHQ   \n",
       "83  https://thuvienphapluat.vn/van-ban/Xuat-nhap-k...  6011/TB-TCHQ   \n",
       "84  https://thuvienphapluat.vn/van-ban/Xuat-nhap-k...  6440/TB-TCHQ   \n",
       "85  https://thuvienphapluat.vn/van-ban/Xuat-nhap-k...  5432/TB-TCHQ   \n",
       "\n",
       "      doc_date                 doc_name                       file_name  \\\n",
       "0   23-12-2024  6450_TB_TCHQ_23_12_2024   6450_TB_TCHQ_23_12_2024_0.pdf   \n",
       "1   29-11-2024  5951_TB_TCHQ_29_11_2024   5951_TB_TCHQ_29_11_2024_2.pdf   \n",
       "2   31-10-2024  5317_TB_TCHQ_31_10_2024   5317_TB_TCHQ_31_10_2024_3.pdf   \n",
       "3   17-01-2025   284_TB_TCHQ_17_01_2025                             NaN   \n",
       "4   04-12-2024  6058_TB_TCHQ_04_12_2024                             NaN   \n",
       "..         ...                      ...                             ...   \n",
       "81  11-12-2024  6208_TB_TCHQ_11_12_2024  6208_TB_TCHQ_11_12_2024_86.pdf   \n",
       "82  17-01-2025   301_TB_TCHQ_17_01_2025                             NaN   \n",
       "83  02-12-2024  6011_TB_TCHQ_02_12_2024  6011_TB_TCHQ_02_12_2024_88.pdf   \n",
       "84  23-12-2024  6440_TB_TCHQ_23_12_2024  6440_TB_TCHQ_23_12_2024_89.pdf   \n",
       "85  06-11-2024  5432_TB_TCHQ_06_11_2024  5432_TB_TCHQ_06_11_2024_90.pdf   \n",
       "\n",
       "                file_name_2  \n",
       "0   6450_TB_TCHQ_23_12_2024  \n",
       "1   5951_TB_TCHQ_29_11_2024  \n",
       "2   5317_TB_TCHQ_31_10_2024  \n",
       "3                       NaN  \n",
       "4                       NaN  \n",
       "..                      ...  \n",
       "81  6208_TB_TCHQ_11_12_2024  \n",
       "82                      NaN  \n",
       "83  6011_TB_TCHQ_02_12_2024  \n",
       "84  6440_TB_TCHQ_23_12_2024  \n",
       "85  5432_TB_TCHQ_06_11_2024  \n",
       "\n",
       "[86 rows x 6 columns]"
      ]
     },
     "execution_count": 44,
     "metadata": {},
     "output_type": "execute_result"
    }
   ],
   "source": [
    "df_copy"
   ]
  },
  {
   "cell_type": "code",
   "execution_count": 45,
   "metadata": {},
   "outputs": [],
   "source": [
    "df_copy.to_excel(\"downloaded_links_18022025.xlsx\", index=False)\n"
   ]
  }
 ],
 "metadata": {
  "kernelspec": {
   "display_name": "base",
   "language": "python",
   "name": "python3"
  },
  "language_info": {
   "codemirror_mode": {
    "name": "ipython",
    "version": 3
   },
   "file_extension": ".py",
   "mimetype": "text/x-python",
   "name": "python",
   "nbconvert_exporter": "python",
   "pygments_lexer": "ipython3",
   "version": "3.12.4"
  }
 },
 "nbformat": 4,
 "nbformat_minor": 2
}
