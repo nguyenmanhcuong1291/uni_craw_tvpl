{
 "cells": [
  {
   "cell_type": "code",
   "execution_count": 8,
   "metadata": {},
   "outputs": [],
   "source": [
    "import requests\n",
    "from bs4 import BeautifulSoup\n",
    "import re\n",
    "import os\n",
    "import pandas as pd\n",
    "from lxml import etree\n",
    "from datetime import datetime\n",
    "import openpyxl\n",
    "from openpyxl import Workbook\n",
    "from openpyxl import load_workbook\n",
    "current_directory = os.getcwd()"
   ]
  },
  {
   "cell_type": "code",
   "execution_count": 13,
   "metadata": {},
   "outputs": [],
   "source": [
    "def normalize_date(text):\n",
    "    # Biểu thức chính quy để bắt ngày, tháng, năm\n",
    "    pattern = r\"(\\d{1,2})\\s*tháng\\s*(\\d{1,2})\\s*năm\\s*(\\d{4})\"\n",
    "    match = re.search(pattern, text)\n",
    "    \n",
    "    if match:\n",
    "        # Lấy ra các thành phần ngày, tháng, năm\n",
    "        day, month, year = match.groups()\n",
    "        \n",
    "        # Chuyển đổi thành định dạng dd-mm-yyyy\n",
    "        date_obj = datetime.strptime(f\"{day}-{month}-{year}\", \"%d-%m-%Y\")\n",
    "        return date_obj.strftime(\"%d-%m-%Y\")\n",
    "    return None"
   ]
  },
  {
   "cell_type": "code",
   "execution_count": 80,
   "metadata": {},
   "outputs": [],
   "source": [
    "def part_text(part,start,end):\n",
    "    part_list = []\n",
    "    for i in part[start:end]:\n",
    "        part_list.append(i.get_text(strip=True).replace('\\r', '').replace('\\n', '').strip())\n",
    "        part_text = '\\n'.join(part_list)\n",
    "    return part_text\n",
    "        "
   ]
  },
  {
   "cell_type": "code",
   "execution_count": 97,
   "metadata": {},
   "outputs": [
    {
     "name": "stdout",
     "output_type": "stream",
     "text": [
      "https://thuvienphapluat.vn/van-ban/Xuat-nhap-khau/Thong-bao-12576-TB-TCHQ-2014-ket-qua-phan-loai-phoi-lieu-de-nau-thuy-tinh-men-xuat-nhap-khau-254591.aspx\n",
      "['https://thuvienphapluat.vn/van-ban/Xuat-nhap-khau/Thong-bao-12576-TB-TCHQ-2014-ket-qua-phan-loai-phoi-lieu-de-nau-thuy-tinh-men-xuat-nhap-khau-254591.aspx', '12576/TB-TCHQ', '15-10-2014', '1. Tên hàng theo khai báo: Phối liệu để  nấu thủy tinh men Ceramic Frit UF- T39', '2. Đơn vị nhập khẩu:Công ty cổ phần  Gạch men V.T.C; Địa chỉ: Lô 9, Khu công nghiệp Gò Dầu, Huyện Long Thành, Tỉnh  Đồng Nai; Mã số thuế: 3600723398', '3. Số, ngày tờ khai hải quan:  10010414600/A12 ngày 20/8/2014 tại Chi cục Hải quan Long Thành - Cục Hải quan  Tỉnh Đồng Nai', '4, Tóm tắt mô tả và đặc tính hàng hóa:  Men đã được Frit hóa dạng mảnh vỡ thủy tinh, thành phần gồm SiO251,2%, CaO 23,4%, TiO217,1%, Al2O33.4 %Na2O  2,4%, K2O 1,2%, ZrO20,1%, MgO 0,8%, Fe2O30,4%', '3207.20.10']\n"
     ]
    }
   ],
   "source": [
    "link = 'https://thuvienphapluat.vn/van-ban/Xuat-nhap-khau/Thong-bao-12576-TB-TCHQ-2014-ket-qua-phan-loai-phoi-lieu-de-nau-thuy-tinh-men-xuat-nhap-khau-254591.aspx'\n",
    "print(link)\n",
    "response2 = requests.get(link.strip())\n",
    "soup = BeautifulSoup(response2.text, 'html.parser')\n",
    "content1 = soup.find('div', class_='content1')\n",
    "tables = content1.find_all('table')\n",
    "\n",
    "# lấy số văn bản / ngày\n",
    "try:\n",
    "    paragraphs = tables[0].find_all('p')  # Tìm tất cả các thẻ <p> trong bảng đầu tiên\n",
    "    for para in paragraphs:\n",
    "        text = para.get_text(strip=True).replace('\\r', '').replace('\\n', '').strip()\n",
    "        if 'Số:' in text:\n",
    "            số = text.replace(\"Số:\", \"\").strip()\n",
    "            # print(số)\n",
    "            break  # Ngừng vòng lặp sau khi tìm thấy đoạn văn bản chứa 'ngày'\n",
    "    else:\n",
    "        print(\"Không tìm thấy đoạn văn bản chứa 'Số'.\")\n",
    "except AttributeError as e:\n",
    "        print(f\"Lỗi: {e}\")\n",
    "try:\n",
    "    paragraphs = tables[0].find_all('p')  # Tìm tất cả các thẻ <p> trong bảng đầu tiên\n",
    "    for para in paragraphs:\n",
    "        text = para.get_text(strip=True).replace('\\r', '').replace('\\n', '').strip()\n",
    "        if 'ngày' in text or 'Ngày' in text:\n",
    "            ngày = normalize_date(text)\n",
    "            # print(ngày)\n",
    "            break  # Ngừng vòng lặp sau khi tìm thấy đoạn văn bản chứa 'ngày'\n",
    "    else:\n",
    "        print(\"Không tìm thấy đoạn văn bản chứa 'ngày'.\")\n",
    "except AttributeError as e:\n",
    "    print(f\"Lỗi: {e}\")\n",
    "info_list = [link.strip(),số,ngày]\n",
    "\n",
    "# lấy part 1\n",
    "part1 = tables[1].find_all('p')       \n",
    "part1_1_pattern = re.compile(r\"1\\.\\s*[Tt]ên\\s*[Hh]àng\")\n",
    "for p_tag in part1:\n",
    "    text = p_tag.get_text(strip=True)  # Lấy văn bản từ thẻ <p> và loại bỏ khoảng trắng thừa\n",
    "    matches = part1_1_pattern.findall(text)  # Tìm tất cả các dãy số khớp với pattern trong văn bản\n",
    "    if matches:\n",
    "        part1_1_index = part1.index(p_tag)\n",
    "part1_2_pattern = re.compile(r\"2\\.\\s*Đơn\\s*vị\")\n",
    "for p_tag in part1:\n",
    "    text = p_tag.get_text(strip=True)  # Lấy văn bản từ thẻ <p> và loại bỏ khoảng trắng thừa\n",
    "    matches = part1_2_pattern.findall(text)  # Tìm tất cả các dãy số khớp với pattern trong văn bản\n",
    "    if matches:\n",
    "        part1_2_index = part1.index(p_tag)\n",
    "part1_3_pattern = re.compile(r\"3\\.\\s*Số\")\n",
    "part1_3_pattern_2 = re.compile(r\"3\\.\\s*Tờ\\s*khai\")\n",
    "for p_tag in part1:\n",
    "    text = p_tag.get_text(strip=True)  # Lấy văn bản từ thẻ <p> và loại bỏ khoảng trắng thừa\n",
    "    matches = part1_3_pattern.findall(text) or part1_3_pattern_2.findall(text) # Tìm tất cả các dãy số khớp với pattern trong văn bản\n",
    "    if matches:\n",
    "        part1_3_index = part1.index(p_tag)\n",
    "\n",
    "part1_4_pattern = re.compile(r\"4\\.\\s*Tóm\\s*tắt\")\n",
    "for p_tag in part1:\n",
    "    text = p_tag.get_text(strip=True)  # Lấy văn bản từ thẻ <p> và loại bỏ khoảng trắng thừa\n",
    "    matches = part1_4_pattern.findall(text)  # Tìm tất cả các dãy số khớp với pattern trong văn bản\n",
    "    if matches:\n",
    "        part1_4_index = part1.index(p_tag)\n",
    "\n",
    "part1_5_pattern = re.compile(r\"5\\.\\s*Kết\\s*quả\")\n",
    "for p_tag in part1:\n",
    "    text = p_tag.get_text(strip=True)  # Lấy văn bản từ thẻ <p> và loại bỏ khoảng trắng thừa\n",
    "    matches = part1_5_pattern.findall(text)  # Tìm tất cả các dãy số khớp với pattern trong văn bản\n",
    "    if matches:\n",
    "        part1_5_index = part1.index(p_tag)\n",
    "\n",
    "part_1_text = part_text(part1,part1_1_index,part1_2_index)\n",
    "part_2_text = part_text(part1,part1_2_index,part1_3_index)\n",
    "part_3_text = part_text(part1,part1_3_index,part1_4_index)\n",
    "part_4_text = part_text(part1,part1_4_index,part1_5_index)\n",
    "\n",
    "pattern = re.compile(r'\\d{4}\\s*\\.\\s*\\d{2}\\s*\\.\\s*\\d{2}')\n",
    "for p_tag in part1[part1_5_index:]:\n",
    "    text = p_tag.get_text(strip=True)  # Lấy văn bản từ thẻ <p> và loại bỏ khoảng trắng thừa\n",
    "    matches = pattern.findall(text)  # Tìm tất cả các dãy số khớp với pattern trong văn bản\n",
    "    if matches:\n",
    "        part_5_text = matches[-1]\n",
    "\n",
    "info_list.append(part_1_text)\n",
    "info_list.append(part_2_text)\n",
    "info_list.append(part_3_text)\n",
    "info_list.append(part_4_text)\n",
    "info_list.append(part_5_text)\n",
    "\n",
    "print(info_list)\n"
   ]
  },
  {
   "cell_type": "code",
   "execution_count": 98,
   "metadata": {},
   "outputs": [
    {
     "data": {
      "text/plain": [
       "[<p style=\"margin-bottom:6.0pt\"><b>1. Tên hàng theo khai báo</b>: Phối liệu để\n",
       "   nấu thủy tinh men Ceramic Frit UF- T39</p>,\n",
       " <p style=\"margin-bottom:6.0pt\"><b>2. Đơn vị nhập khẩu:</b> Công ty cổ phần\n",
       "   Gạch men V.T.C; Địa chỉ: Lô 9, Khu công nghiệp Gò Dầu, Huyện Long Thành, Tỉnh\n",
       "   Đồng Nai; Mã số thuế: 3600723398</p>,\n",
       " <p style=\"margin-bottom:6.0pt\"><b>3. Số, ngày tờ khai hải quan</b>:\n",
       "   10010414600/A12 ngày 20/8/2014 tại Chi cục Hải quan Long Thành - Cục Hải quan\n",
       "   Tỉnh Đồng Nai</p>,\n",
       " <p style=\"margin-bottom:6.0pt\"><b>4, Tóm tắt mô tả và đặc tính hàng hóa</b>:\n",
       "   Men đã được Frit hóa dạng mảnh vỡ thủy tinh, thành phần gồm SiO<sub>2</sub>\n",
       "   51,2%, CaO 23,4%, TiO<sub>2</sub> 17,1%, Al<sub>2</sub>O<sub>3</sub> 3.4 %Na<sub>2</sub>O\n",
       "   2,4%, K<sub>2</sub>O 1,2%, ZrO<sub>2</sub> 0,1%, MgO 0,8%, Fe<sub>2</sub>O<sub>3</sub>\n",
       "   0,4%</p>,\n",
       " <p style=\"margin-bottom:6.0pt\"><b><span lang=\"EN-GB\">5. Kết quả phân loại:</span></b></p>,\n",
       " <p style=\"margin-bottom:6.0pt\">Tên thương mại: Ceramic Frit</p>,\n",
       " <p style=\"margin-bottom:6.0pt\">Tên gọi theo cấu tạo, công dụng: Men đã được\n",
       "   Frit hóa dạng mảnh vỡ thủy tinh, thành phần gồm SiO<sub>2</sub> 51,2%, CaO\n",
       "   23,4%, TiO<sub>2</sub> 17,1%, Al<sub>2</sub>O<sub>3</sub> 3.4% Na<sub>2</sub>O\n",
       "   2,4%, K<sub>2</sub>O 1,2%, ZrO<sub>2</sub> 0,1%, MgO 0,8%, Fe<sub>2</sub>O<sub>3</sub>\n",
       "   0,4%</p>,\n",
       " <p style=\"margin-bottom:6.0pt\">Ký, mã hiệu, chủng loại: Không có thông\n",
       "   tin            \n",
       "   Nhà sản xuất: Không có thông tin</p>,\n",
       " <p style=\"margin-bottom:6.0pt\">thuộc nhóm <b>3207</b> \"<i>Thuốc màu đã\n",
       "   pha chế, các chất cản quang đã pha chế và các loại màu đã pha chế, các chất\n",
       "   men kính và men sứ, men sành, các chất láng bóng dạng lỏng và các chế phẩm\n",
       "   tương tự dùng trong công nghiệp gốm sứ; tráng men hoặc thủy tinh; phối liệu\n",
       "   để nấu thủy tinh và thủy tinh khác, ở dạng bột, hạt hoặc vẩy\"</i> phân nhóm\n",
       "   <b>3207.20</b> \" -<i> Men kính và men sứ, men sành (slips) và các chế\n",
       "   phẩm tương tự\"</i> mã số <b>3207.20.10</b> \"-- <i>Phối liệu men\n",
       "   kính</i>\" tại Danh mục hàng hóa xuất khẩu, nhập khẩu Việt Nam và Biểu\n",
       "   thuế nhập khẩu ưu đãi.</p>]"
      ]
     },
     "execution_count": 98,
     "metadata": {},
     "output_type": "execute_result"
    }
   ],
   "source": [
    "part1"
   ]
  },
  {
   "cell_type": "code",
   "execution_count": 93,
   "metadata": {},
   "outputs": [
    {
     "name": "stdout",
     "output_type": "stream",
     "text": [
      "CÔNG CHỨC PTPLNguyễn Ngọc Huân\n",
      "[]\n",
      "GIÁM ĐỐC TRUNG TÂM PHÂN TÍCH PHÂN LOẠIHÀNG HOÁ XUẤT KHẨU, NHẬP KHẨU MIỀN BẮCNguyễn Hữu Xuân\n",
      "[]\n"
     ]
    }
   ],
   "source": [
    "part1_3_pattern = re.compile(r\"3\\.\\s*Số\")\n",
    "part1_3_pattern_2 = re.compile(r\"3\\.\\s*Tờ\\s*khai\")\n",
    "for p_tag in part1:\n",
    "    text = p_tag.get_text(strip=True)  # Lấy văn bản từ thẻ <p> và loại bỏ khoảng trắng thừa\n",
    "    print(text)\n",
    "    matches = part1_3_pattern.findall(text) or part1_3_pattern_2.findall(text) # Tìm tất cả các dãy số khớp với pattern trong văn bản\n",
    "    print(matches)\n",
    "    if matches:\n",
    "        part1_3_index = part1.index(p_tag)\n",
    "        print(part1_3_index)"
   ]
  },
  {
   "cell_type": "code",
   "execution_count": 83,
   "metadata": {},
   "outputs": [
    {
     "name": "stdout",
     "output_type": "stream",
     "text": [
      "1. Tên hàng theo khai báo:Vải thun (theokết quảchứng\n",
      "  thư giám định tìnhtrạng số 15G10ND00496-301 ngày 18/9/2015) hàng chưa qua sử dụng. (Mục 1 Phụ lục Tờ khai)\n",
      "[]\n",
      "2. Đơnvị nhập khẩu:Công ty\n",
      "  cổ phần Thiết bị và Vật tư Miền Nam - Địa chỉ: 259 Lê Văn Lương, phường Tân\n",
      "  Quy, Quận 7, TP. Hồ Chí Minh. MST: 0312057516.\n",
      "[]\n",
      "3. Tờ khai số:10059048581/A11 ngày 14/10/2015 đăng ký tại Chi cục HQ CK Cảng Cái\n",
      "  Mép-Cục Hải quan tỉnh BàRịa -\n",
      "  Vũng Tàu.\n",
      "[]\n",
      "4. Tóm tắt mô tả và đặc tính hàng hóa:Vải dệt kim sợi ngang từ bông, đã in các sọc màu, trọng lượng vải =\n",
      "  204 g/m2.\n",
      "['4. Tóm tắt']\n",
      "3\n",
      "5.Kết\n",
      "  quảphân loại:\n",
      "[]\n",
      "Tên gọi theo cấu tạo, công dụng:\n",
      "  Vải dệt kim sợi ngang từ bông, đã in các sọc màu, trọng lượng vải = 204 g/m2.\n",
      "[]\n",
      "thuộc nhóm60.06“Vải dệt\n",
      "  kim hoặc móc khác”;phân nhóm“-Từ bông”, mã số6006.24.00“-\n",
      "  -Đã in”tại Danh mục hàng hóa xuất khẩu, nhập khẩu Việt Nam.\n",
      "[]\n"
     ]
    }
   ],
   "source": [
    "part1_4_pattern = re.compile(r\"4\\.\\s*Tóm\\s*tắt\")\n",
    "for p_tag in part1:\n",
    "    text = p_tag.get_text(strip=True)  # Lấy văn bản từ thẻ <p> và loại bỏ khoảng trắng thừa\n",
    "    print(text)\n",
    "    matches = part1_4_pattern.findall(text)  # Tìm tất cả các dãy số khớp với pattern trong văn bản\n",
    "    print(matches)\n",
    "    if matches:\n",
    "        part1_4_index = part1.index(p_tag)\n",
    "        print(part1_4_index)"
   ]
  },
  {
   "cell_type": "code",
   "execution_count": 74,
   "metadata": {},
   "outputs": [
    {
     "data": {
      "text/plain": [
       "5"
      ]
     },
     "execution_count": 74,
     "metadata": {},
     "output_type": "execute_result"
    }
   ],
   "source": [
    "part1_4_index"
   ]
  },
  {
   "cell_type": "code",
   "execution_count": 75,
   "metadata": {},
   "outputs": [
    {
     "name": "stdout",
     "output_type": "stream",
     "text": [
      "1. Tên hàng theo khai báo:Nhựa coumarone-indene, dạng nguyên sinh (EScron G-90).\n",
      "[]\n",
      "2. Đơn vị nhập khẩu:Công\n",
      "  ty TNHH Việt Nam NOK.\n",
      "[]\n",
      "Đ/c: Lô 208, KCN Amata, huyện\n",
      "  Long Bình, tỉnh Đồng Nai.\n",
      "[]\n",
      "MST: 3600689323.\n",
      "[]\n",
      "3. Số, ngày tờ khai hải quan:12554/NKD05 ngày 01/11/2013 tại Chi cục Hải quan Biên Hòa.\n",
      "[]\n",
      "4. Tóm tắt mô tả và đặc tính\n",
      "  hàng hóa:Nhựa coumarone-indene, dạng nguyên sinh (EScron G-90).\n",
      "[]\n",
      "5. Kết quả phân loại:\n",
      "['5. Kết quả']\n",
      "6\n",
      "Tên thương mại: ESCRON G-90.\n",
      "[]\n",
      "Tên gọi theo cấu tạo, bản chất,\n",
      "  công dụng: Nhựa coumarone-indene, dạng hạt.\n",
      "[]\n",
      "Ký, mã hiệu, chủng loại:\n",
      "  RM00-124002.\n",
      "[]\n",
      "Nhà sản xuất: Ouchi Shinko\n",
      "  Chemical Industrial Co., LTD\n",
      "[]\n",
      "thuộc Chương 39 \"Plastic và\n",
      "  các sản phẩm bằng plastic\", nhóm 39.11 \"Nhựa từ dầu mỏ, nhựa\n",
      "  Coumarone-indene, polyterpen, polysulphua, polysunphon và các sản phẩm khác\n",
      "  đã nêu trong chú giải 3 của Chương này, chưa được chi tiết hoặc ghi ở nơi\n",
      "  khác, dạng nguyên sinh\", mã số 39.11.10.00 \"- Nhựa từ dầu mỏ, nhựa\n",
      "  cumaron, nhựa inden hoặc nhựa cumaron-iden và polyterpen\" tại Danh mục\n",
      "  hàng hóa xuất khẩu, nhập khẩu Việt Nam và Biểu thuế xuất khẩu, Biểu thuế nhập\n",
      "  khẩu ưu đãi.\n",
      "[]\n"
     ]
    }
   ],
   "source": [
    "part1_5_pattern = re.compile(r\"5\\.\\s*Kết\\s*quả\")\n",
    "for p_tag in part1:\n",
    "    text = p_tag.get_text(strip=True)  # Lấy văn bản từ thẻ <p> và loại bỏ khoảng trắng thừa\n",
    "    print(text)\n",
    "    matches = part1_5_pattern.findall(text)  # Tìm tất cả các dãy số khớp với pattern trong văn bản\n",
    "    print(matches)\n",
    "    if matches:\n",
    "        part1_5_index = part1.index(p_tag)\n",
    "        print(part1_5_index)"
   ]
  },
  {
   "cell_type": "code",
   "execution_count": 76,
   "metadata": {},
   "outputs": [
    {
     "data": {
      "text/plain": [
       "6"
      ]
     },
     "execution_count": 76,
     "metadata": {},
     "output_type": "execute_result"
    }
   ],
   "source": [
    "part1_5_index"
   ]
  },
  {
   "cell_type": "code",
   "execution_count": 64,
   "metadata": {},
   "outputs": [],
   "source": [
    "pattern = re.compile(r'\\d{4}\\s*\\.\\s*\\d{2}\\s*\\.\\s*\\d{2}')\n",
    "for p_tag in part1[part1_5_index:]:\n",
    "    text = p_tag.get_text(strip=True)  # Lấy văn bản từ thẻ <p> và loại bỏ khoảng trắng thừa\n",
    "    matches = pattern.findall(text)  # Tìm tất cả các dãy số khớp với pattern trong văn bản\n",
    "    if matches:\n",
    "        part_5_text = matches[-1]"
   ]
  },
  {
   "cell_type": "code",
   "execution_count": 65,
   "metadata": {},
   "outputs": [
    {
     "data": {
      "text/plain": [
       "'3823.19.90'"
      ]
     },
     "execution_count": 65,
     "metadata": {},
     "output_type": "execute_result"
    }
   ],
   "source": [
    "part_5_text"
   ]
  },
  {
   "cell_type": "code",
   "execution_count": null,
   "metadata": {},
   "outputs": [],
   "source": []
  }
 ],
 "metadata": {
  "kernelspec": {
   "display_name": "base",
   "language": "python",
   "name": "python3"
  },
  "language_info": {
   "codemirror_mode": {
    "name": "ipython",
    "version": 3
   },
   "file_extension": ".py",
   "mimetype": "text/x-python",
   "name": "python",
   "nbconvert_exporter": "python",
   "pygments_lexer": "ipython3",
   "version": "3.12.4"
  }
 },
 "nbformat": 4,
 "nbformat_minor": 2
}
