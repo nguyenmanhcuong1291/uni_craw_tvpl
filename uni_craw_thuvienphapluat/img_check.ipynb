{
 "cells": [
  {
   "cell_type": "code",
   "execution_count": 1,
   "metadata": {},
   "outputs": [],
   "source": [
    "from PIL import Image\n",
    "import os"
   ]
  },
  {
   "cell_type": "code",
   "execution_count": 1,
   "metadata": {},
   "outputs": [],
   "source": [
    "# def check_image(file_path):\n",
    "#     try:\n",
    "#         # Mở tệp ảnh\n",
    "#         with Image.open(file_path) as img:\n",
    "#             img.verify()  # Kiểm tra xem tệp có hợp lệ không\n",
    "#         return True  # Tệp hợp lệ\n",
    "#     except (IOError, SyntaxError) as e:\n",
    "#         # Xử lý lỗi nếu tệp không thể mở hoặc không phải ảnh hợp lệ\n",
    "#         print(f\"Error with file {file_path}: {e}\")\n",
    "#         return False  # Tệp bị lỗi\n",
    "\n",
    "# # Kiểm tra nhiều tệp ảnh trong thư mục\n",
    "# directory = r'D:\\Onedrive\\OneDrive - UNI CONSULTING\\Eximhow_img'  # Thay bằng đường dẫn thư mục chứa các tệp ảnh\n",
    "# image_files = os.listdir(directory)\n",
    "# # Lọc các tệp ảnh và kiểm tra\n",
    "# for file_name in image_files:\n",
    "#     file_path = os.path.join(directory, file_name)\n",
    "#     if file_path.lower().endswith(('.jpg', '.jpeg', '.png', '.gif', '.bmp')):\n",
    "#         if not check_image(file_path):\n",
    "#             print(f\"Image {file_name} is corrupted or invalid.\")\n",
    "#         else:\n",
    "#             print(f\"Image {file_name} is valid.\")\n"
   ]
  },
  {
   "cell_type": "code",
   "execution_count": 3,
   "metadata": {},
   "outputs": [
    {
     "name": "stdout",
     "output_type": "stream",
     "text": [
      "Lỗi: Không thể mở ảnh D:\\Onedrive\\OneDrive - UNI CONSULTING\\Eximhow_img\\PCA-20171130-00001800208wOP1e.jpg. Lỗi: cannot identify image file 'D:\\\\Onedrive\\\\OneDrive - UNI CONSULTING\\\\Eximhow_img\\\\PCA-20171130-00001800208wOP1e.jpg'\n",
      "Lỗi: Không thể mở ảnh D:\\Onedrive\\OneDrive - UNI CONSULTING\\Eximhow_img\\PCA-20210531-00004236100RBaBR.jpg. Lỗi: cannot identify image file 'D:\\\\Onedrive\\\\OneDrive - UNI CONSULTING\\\\Eximhow_img\\\\PCA-20210531-00004236100RBaBR.jpg'\n",
      "Các file ảnh không hợp lệ: ['D:\\\\Onedrive\\\\OneDrive - UNI CONSULTING\\\\Eximhow_img\\\\PCA-20171130-00001800208wOP1e.jpg', 'D:\\\\Onedrive\\\\OneDrive - UNI CONSULTING\\\\Eximhow_img\\\\PCA-20210531-00004236100RBaBR.jpg']\n"
     ]
    }
   ],
   "source": [
    "from PIL import Image\n",
    "import os\n",
    "\n",
    "def check_image_files_in_directory(directory_path):\n",
    "    \"\"\"Kiểm tra các file ảnh trong thư mục và thông báo lỗi nếu không thể mở.\"\"\"\n",
    "    invalid_files = []  # Danh sách các file ảnh không thể mở\n",
    "\n",
    "    # Lặp qua các file trong thư mục\n",
    "    for root, dirs, files in os.walk(directory_path):\n",
    "        for file in files:\n",
    "            # Kiểm tra nếu file có đuôi .jpg, .jpeg, .png, .gif, .bmp (hoặc các định dạng khác bạn muốn kiểm tra)\n",
    "            if file.lower().endswith(('jpg', 'jpeg', 'png', 'gif', 'bmp')):\n",
    "                file_path = os.path.join(root, file)\n",
    "                try:\n",
    "                    # Thử mở ảnh\n",
    "                    with Image.open(file_path) as img:\n",
    "                        img.verify()  # Kiểm tra xem file có phải ảnh hợp lệ không\n",
    "                except (IOError, SyntaxError) as e:\n",
    "                    # Nếu không mở được ảnh, thêm vào danh sách invalid_files\n",
    "                    invalid_files.append(file_path)\n",
    "                    print(f\"Lỗi: Không thể mở ảnh {file_path}. Lỗi: {e}\")\n",
    "\n",
    "    if not invalid_files:\n",
    "        print(\"Tất cả các file ảnh trong thư mục đều hợp lệ.\")\n",
    "    else:\n",
    "        print(f\"Các file ảnh không hợp lệ: {invalid_files}\")\n",
    "\n",
    "# Ví dụ gọi hàm\n",
    "directory_path = r'D:\\Onedrive\\OneDrive - UNI CONSULTING\\Eximhow_img'  # Thay thế bằng đường dẫn đến thư mục chứa ảnh\n",
    "check_image_files_in_directory(directory_path)\n"
   ]
  },
  {
   "cell_type": "code",
   "execution_count": null,
   "metadata": {},
   "outputs": [],
   "source": []
  }
 ],
 "metadata": {
  "kernelspec": {
   "display_name": "base",
   "language": "python",
   "name": "python3"
  },
  "language_info": {
   "codemirror_mode": {
    "name": "ipython",
    "version": 3
   },
   "file_extension": ".py",
   "mimetype": "text/x-python",
   "name": "python",
   "nbconvert_exporter": "python",
   "pygments_lexer": "ipython3",
   "version": "3.12.4"
  }
 },
 "nbformat": 4,
 "nbformat_minor": 2
}
