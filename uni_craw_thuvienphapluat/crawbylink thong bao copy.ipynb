{
 "cells": [
  {
   "cell_type": "code",
   "execution_count": 4,
   "metadata": {},
   "outputs": [],
   "source": [
    "import requests\n",
    "from bs4 import BeautifulSoup\n",
    "import re\n",
    "import os\n",
    "import pandas as pd\n",
    "from lxml import etree\n",
    "from datetime import datetime\n",
    "import openpyxl\n",
    "from openpyxl import Workbook\n",
    "from openpyxl import load_workbook\n",
    "current_directory = os.getcwd()"
   ]
  },
  {
   "cell_type": "code",
   "execution_count": 5,
   "metadata": {},
   "outputs": [],
   "source": [
    "def normalize_date(text):\n",
    "    # Biểu thức chính quy để bắt ngày, tháng, năm\n",
    "    pattern = r\"(\\d{1,2})\\s*tháng\\s*(\\d{1,2})\\s*năm\\s*(\\d{4})\"\n",
    "    match = re.search(pattern, text)\n",
    "    \n",
    "    if match:\n",
    "        # Lấy ra các thành phần ngày, tháng, năm\n",
    "        day, month, year = match.groups()\n",
    "        \n",
    "        # Chuyển đổi thành định dạng dd-mm-yyyy\n",
    "        date_obj = datetime.strptime(f\"{day}-{month}-{year}\", \"%d-%m-%Y\")\n",
    "        return date_obj.strftime(\"%d-%m-%Y\")\n",
    "    return None"
   ]
  },
  {
   "cell_type": "code",
   "execution_count": 6,
   "metadata": {},
   "outputs": [],
   "source": [
    "def part_text(part,start,end):\n",
    "    part_list = []\n",
    "    for i in part[start:end]:\n",
    "        part_list.append(i.get_text(strip=True).replace('\\r', '').replace('\\n', '').strip())\n",
    "        part_text = '\\n'.join(part_list)\n",
    "    return part_text\n",
    "        "
   ]
  },
  {
   "cell_type": "code",
   "execution_count": 18,
   "metadata": {},
   "outputs": [],
   "source": [
    "link = 'https://thuvienphapluat.vn/van-ban/Xuat-nhap-khau/Thong-bao-13851-TB-TCHQ-2014-ket-qua-phan-loai-Hoa-chat-cong-nghiep-xuat-nhap-khau-258405.aspx'"
   ]
  },
  {
   "cell_type": "code",
   "execution_count": 22,
   "metadata": {},
   "outputs": [],
   "source": [
    "def get_phanloai_link_info(link):\n",
    "    response2 = requests.get(link.strip())\n",
    "    soup = BeautifulSoup(response2.text, 'html.parser')\n",
    "    content1 = soup.find('div', class_='content1')\n",
    "    tables = content1.find_all('table')\n",
    "\n",
    "    # Khởi tạo các biến trước để tránh lỗi khi không tìm thấy\n",
    "    số = \"Không tìm thấy 'Số'\"\n",
    "    ngày = \"Không tìm thấy 'Ngày'\"\n",
    "    part_1_text = \"Không tìm thấy part 1\"\n",
    "    part_2_text = \"Không tìm thấy part 2\"\n",
    "    part_3_text = \"Không tìm thấy part 3\"\n",
    "    part_4_text = \"Không tìm thấy part 4\"\n",
    "    part_5_text = \"Không tìm thấy thông tin phần 5\"\n",
    "\n",
    "    # Lấy số văn bản / ngày\n",
    "    try:\n",
    "        paragraphs = tables[0].find_all('p')  # Tìm tất cả các thẻ <p> trong bảng đầu tiên\n",
    "        for para in paragraphs:\n",
    "            text = para.get_text(strip=True).replace('\\r', '').replace('\\n', '').strip()\n",
    "            if 'Số:' in text:\n",
    "                số = text.replace(\"Số:\", \"\").strip()\n",
    "                break  # Ngừng vòng lặp sau khi tìm thấy đoạn văn bản chứa 'Số'\n",
    "    except AttributeError as e:\n",
    "        print(f\"Lỗi khi tìm 'Số': {e}\")\n",
    "\n",
    "    try:\n",
    "        paragraphs = tables[0].find_all('p')  # Tìm tất cả các thẻ <p> trong bảng đầu tiên\n",
    "        for para in paragraphs:\n",
    "            text = para.get_text(strip=True).replace('\\r', '').replace('\\n', '').strip()\n",
    "            if 'ngày' in text or 'Ngày' in text:\n",
    "                ngày = normalize_date(text)\n",
    "                break  # Ngừng vòng lặp sau khi tìm thấy đoạn văn bản chứa 'ngày'\n",
    "    except AttributeError as e:\n",
    "        print(f\"Lỗi khi tìm 'ngày': {e}\")\n",
    "\n",
    "    # Lấy part 1\n",
    "    part1 = tables[1].find_all('p')       \n",
    "    part1_1_pattern = re.compile(r\"1\\.\\s*[Tt]ên\\s*[Hh]àng\")\n",
    "    part1_2_pattern = re.compile(r\"2\\.\\s*Đơn\\s*vị\")\n",
    "    part1_3_pattern = re.compile(r\"3\\.\\s*Số\")\n",
    "    part1_3_pattern_2 = re.compile(r\"3\\.\\s*Tờ\\s*khai\")\n",
    "    part1_4_pattern = re.compile(r\"4\\.\\s*Tóm\\s*tắt\")\n",
    "    part1_5_pattern = re.compile(r\"5\\.\\s*Kết\\s*quả\")\n",
    "\n",
    "    # Tìm index các phần\n",
    "    part1_1_index = next((i for i, p_tag in enumerate(part1) if part1_1_pattern.search(p_tag.get_text(strip=True))), None)\n",
    "    part1_2_index = next((i for i, p_tag in enumerate(part1) if part1_2_pattern.search(p_tag.get_text(strip=True))), None)\n",
    "    part1_3_index = next((i for i, p_tag in enumerate(part1) if part1_3_pattern.search(p_tag.get_text(strip=True)) or part1_3_pattern_2.search(p_tag.get_text(strip=True))), None)\n",
    "    part1_4_index = next((i for i, p_tag in enumerate(part1) if part1_4_pattern.search(p_tag.get_text(strip=True))), None)\n",
    "    part1_5_index = next((i for i, p_tag in enumerate(part1) if part1_5_pattern.search(p_tag.get_text(strip=True))), None)\n",
    "\n",
    "    # Kiểm tra nếu các chỉ mục có tồn tại, nếu không gán giá trị thông báo không tìm thấy\n",
    "    if part1_1_index is not None and part1_2_index is not None:\n",
    "        part_1_text = part_text(part1, part1_1_index, part1_2_index)\n",
    "    if part1_2_index is not None and part1_3_index is not None:\n",
    "        part_2_text = part_text(part1, part1_2_index, part1_3_index)\n",
    "    if part1_3_index is not None and part1_4_index is not None:\n",
    "        part_3_text = part_text(part1, part1_3_index, part1_4_index)\n",
    "    if part1_4_index is not None and part1_5_index is not None:\n",
    "        part_4_text = part_text(part1, part1_4_index, part1_5_index)\n",
    "\n",
    "    # Lấy thông tin phần 5 nếu tìm thấy index\n",
    "    if part1_5_index is not None:\n",
    "        pattern = re.compile(r'\\d{4}\\s*\\.\\s*\\d{2}\\s*\\.\\s*\\d{2}')\n",
    "        for p_tag in part1[part1_5_index:]:\n",
    "            text = p_tag.get_text(strip=True)  # Lấy văn bản từ thẻ <p> và loại bỏ khoảng trắng thừa\n",
    "            matches = pattern.findall(text)  # Tìm tất cả các dãy số khớp với pattern trong văn bản\n",
    "            if matches:\n",
    "                part_5_text = matches[-1]  # Lấy kết quả cuối cùng khớp với pattern\n",
    "\n",
    "    # Tạo danh sách chứa thông tin\n",
    "    info_list = [link.strip(), số, ngày, part_1_text, part_2_text, part_3_text, part_4_text, part_5_text]\n",
    "    print(link)\n",
    "    print(info_list)\n",
    "    return info_list\n"
   ]
  },
  {
   "cell_type": "code",
   "execution_count": 23,
   "metadata": {},
   "outputs": [
    {
     "data": {
      "text/plain": [
       "['https://thuvienphapluat.vn/van-ban/Thuong-mai/Thong-bao-2706-TB-TCHQ-2015-phan-loai-hang-xuat-nhap-khau-che-pham-mau-huu-co-dang-bot-min-285178.aspx',\n",
       " '2706/TB-TCHQ',\n",
       " '31-03-2015',\n",
       " 'Không tìm thấy part 1',\n",
       " '2. Đơn vị nhập khẩu:Công ty TNHH Yung Chi  Paint & Varnish MFG (Việt Nam); địa chỉ: Lô 219, KCN Amata, Long Bình, Biên  Hòa, Đồng Nai; Mã số thuế: 3600725726.',\n",
       " '3. Số, ngày tờ khai hải quan:10021008514/A12 ngày 20/11/2014 đăng ký tại Chi cục HQ Biên Hòa, Cục Hải quan  tỉnh Đồng Nai.',\n",
       " '4. Tóm tắt mô tả và đặc tính hàng hóa:Chế  phẩm thuốc màu hữu cơ, dạng bột, màu đỏ.',\n",
       " '3204.17.00']"
      ]
     },
     "execution_count": 23,
     "metadata": {},
     "output_type": "execute_result"
    }
   ],
   "source": [
    "get_phanloai_link_info(\"https://thuvienphapluat.vn/van-ban/Thuong-mai/Thong-bao-2706-TB-TCHQ-2015-phan-loai-hang-xuat-nhap-khau-che-pham-mau-huu-co-dang-bot-min-285178.aspx\")"
   ]
  },
  {
   "cell_type": "code",
   "execution_count": 21,
   "metadata": {},
   "outputs": [
    {
     "ename": "NameError",
     "evalue": "name 'part1' is not defined",
     "output_type": "error",
     "traceback": [
      "\u001b[1;31m---------------------------------------------------------------------------\u001b[0m",
      "\u001b[1;31mNameError\u001b[0m                                 Traceback (most recent call last)",
      "Cell \u001b[1;32mIn[21], line 1\u001b[0m\n\u001b[1;32m----> 1\u001b[0m part1\n",
      "\u001b[1;31mNameError\u001b[0m: name 'part1' is not defined"
     ]
    }
   ],
   "source": [
    "part1"
   ]
  },
  {
   "cell_type": "code",
   "execution_count": 6,
   "metadata": {},
   "outputs": [
    {
     "name": "stdout",
     "output_type": "stream",
     "text": [
      "1. Tên hàng theo khai báo:Phân bón đa vi lượng All purpose\n",
      "  Plantfood 15-30-15 (1 kg/hộp; 18 hộp/thùng) (Mục 1)\n",
      "[]\n",
      "2. Đơn vị nhập khẩu: Công ty TNHH Grow More; Địa chỉ:\n",
      "  370 Trần Hưng Đạo, Phường 11 Quận 5, TP. Hồ Chí Minh; Mã số thuế: 0312257378\n",
      "[]\n",
      "3. Số, ngày tờ khai hải quan: 10017802046/A11 ngày 24/10/2014\n",
      "  tại Chi cục Hải quan Cửa khẩu càng Sải Gòn KVI - Cục Hải quan TP. Hồ Chí Minh\n",
      "['3. Số']\n",
      "2\n",
      "4. Tóm tắt mô tả và đặc tính hàng hóa: Phân bón dạng hạt nhỏ\n",
      "  được đóng gói với trọng lượng cả bì là 1 kg, thành phần gồm Urê, amoni\n",
      "  phosphat, kali clorua, urê phosphat và các nguyên tố vi lượng như kẽm, đồng,\n",
      "  silic, mangan...(trong đó hàm lượng Nitơ»15%; P205»30%; K20»15%)\n",
      "[]\n",
      "5. Kết quả phân loại:\n",
      "[]\n",
      "Tên thương mại: All purpose Plantfood 15-30-15\n",
      "[]\n",
      "Tên gọi theo cấu tạo, công dụng: Phân bón dạng hạt nhỏ\n",
      "    được đóng gói với trọng lượng cả bì là 1 kg, thành phần gồm Urê, amoni\n",
      "    phosphat, kali clorua, urê phosphat và các nguyên tố vi lượng như kẽm,\n",
      "    đồng, silic, mangan...(trong đó hàm lượng Nitơ ~15%; P205~\n",
      "    30%; K20 ~ 15%)\n",
      "[]\n",
      "Ký, mã hiệu, chủng loại: Không có thông tin\n",
      "[]\n",
      "Nhà sản xuất: Không có thông tin\n",
      "[]\n",
      "thuộc nhóm31.05\"Phân khoáng hoặc phân hóa\n",
      "  học chứa hai hoặc ba nguyên tố cấu thành phân bón là nitơ, phospho và kali;\n",
      "  phân bón khác; các mặt hàng của Chương này ở dạng viên hoặc các dạng tương tự\n",
      "  hoặc đóng gói với trọng lượng cả bì không quả 10 kg. \", phân nhóm3105.10\" - Các mặt hàng của Chương này ở dạng viên hoặc các dạng tương tự hoặc\n",
      "  đóng gói với trọng lượng cả bì không quá 10 kg\", mã số3105.10.2\"- - Phân khoáng hoặc phân hóa học có chứa hai hoặc ba trong số các nguyên\n",
      "  tố nitơ, phospho và kali \"tại Danh mục hàng hóa xuất khẩu, nhập\n",
      "  khẩu Việt Nam và Biểu thuế nhập khẩu ưu đãi.\n",
      "[]\n"
     ]
    }
   ],
   "source": [
    "part1_3_pattern = re.compile(r\"3\\.\\s*Số\")\n",
    "part1_3_pattern_2 = re.compile(r\"3\\.\\s*Tờ\\s*khai\")\n",
    "for p_tag in part1:\n",
    "    text = p_tag.get_text(strip=True)  # Lấy văn bản từ thẻ <p> và loại bỏ khoảng trắng thừa\n",
    "    print(text)\n",
    "    matches = part1_3_pattern.findall(text) or part1_3_pattern_2.findall(text) # Tìm tất cả các dãy số khớp với pattern trong văn bản\n",
    "    print(matches)\n",
    "    if matches:\n",
    "        part1_3_index = part1.index(p_tag)\n",
    "        print(part1_3_index)"
   ]
  },
  {
   "cell_type": "code",
   "execution_count": 7,
   "metadata": {},
   "outputs": [
    {
     "name": "stdout",
     "output_type": "stream",
     "text": [
      "1. Tên hàng theo khai báo:Phân bón đa vi lượng All purpose\n",
      "  Plantfood 15-30-15 (1 kg/hộp; 18 hộp/thùng) (Mục 1)\n",
      "[]\n",
      "2. Đơn vị nhập khẩu: Công ty TNHH Grow More; Địa chỉ:\n",
      "  370 Trần Hưng Đạo, Phường 11 Quận 5, TP. Hồ Chí Minh; Mã số thuế: 0312257378\n",
      "[]\n",
      "3. Số, ngày tờ khai hải quan: 10017802046/A11 ngày 24/10/2014\n",
      "  tại Chi cục Hải quan Cửa khẩu càng Sải Gòn KVI - Cục Hải quan TP. Hồ Chí Minh\n",
      "[]\n",
      "4. Tóm tắt mô tả và đặc tính hàng hóa: Phân bón dạng hạt nhỏ\n",
      "  được đóng gói với trọng lượng cả bì là 1 kg, thành phần gồm Urê, amoni\n",
      "  phosphat, kali clorua, urê phosphat và các nguyên tố vi lượng như kẽm, đồng,\n",
      "  silic, mangan...(trong đó hàm lượng Nitơ»15%; P205»30%; K20»15%)\n",
      "['4. Tóm tắt']\n",
      "3\n",
      "5. Kết quả phân loại:\n",
      "[]\n",
      "Tên thương mại: All purpose Plantfood 15-30-15\n",
      "[]\n",
      "Tên gọi theo cấu tạo, công dụng: Phân bón dạng hạt nhỏ\n",
      "    được đóng gói với trọng lượng cả bì là 1 kg, thành phần gồm Urê, amoni\n",
      "    phosphat, kali clorua, urê phosphat và các nguyên tố vi lượng như kẽm,\n",
      "    đồng, silic, mangan...(trong đó hàm lượng Nitơ ~15%; P205~\n",
      "    30%; K20 ~ 15%)\n",
      "[]\n",
      "Ký, mã hiệu, chủng loại: Không có thông tin\n",
      "[]\n",
      "Nhà sản xuất: Không có thông tin\n",
      "[]\n",
      "thuộc nhóm31.05\"Phân khoáng hoặc phân hóa\n",
      "  học chứa hai hoặc ba nguyên tố cấu thành phân bón là nitơ, phospho và kali;\n",
      "  phân bón khác; các mặt hàng của Chương này ở dạng viên hoặc các dạng tương tự\n",
      "  hoặc đóng gói với trọng lượng cả bì không quả 10 kg. \", phân nhóm3105.10\" - Các mặt hàng của Chương này ở dạng viên hoặc các dạng tương tự hoặc\n",
      "  đóng gói với trọng lượng cả bì không quá 10 kg\", mã số3105.10.2\"- - Phân khoáng hoặc phân hóa học có chứa hai hoặc ba trong số các nguyên\n",
      "  tố nitơ, phospho và kali \"tại Danh mục hàng hóa xuất khẩu, nhập\n",
      "  khẩu Việt Nam và Biểu thuế nhập khẩu ưu đãi.\n",
      "[]\n"
     ]
    }
   ],
   "source": [
    "part1_4_pattern = re.compile(r\"4\\.\\s*Tóm\\s*tắt\")\n",
    "for p_tag in part1:\n",
    "    text = p_tag.get_text(strip=True)  # Lấy văn bản từ thẻ <p> và loại bỏ khoảng trắng thừa\n",
    "    print(text)\n",
    "    matches = part1_4_pattern.findall(text)  # Tìm tất cả các dãy số khớp với pattern trong văn bản\n",
    "    print(matches)\n",
    "    if matches:\n",
    "        part1_4_index = part1.index(p_tag)\n",
    "        print(part1_4_index)"
   ]
  },
  {
   "cell_type": "code",
   "execution_count": 8,
   "metadata": {},
   "outputs": [
    {
     "data": {
      "text/plain": [
       "3"
      ]
     },
     "execution_count": 8,
     "metadata": {},
     "output_type": "execute_result"
    }
   ],
   "source": [
    "part1_4_index"
   ]
  },
  {
   "cell_type": "code",
   "execution_count": 9,
   "metadata": {},
   "outputs": [
    {
     "name": "stdout",
     "output_type": "stream",
     "text": [
      "1. Tên hàng theo khai báo:Phân bón đa vi lượng All purpose\n",
      "  Plantfood 15-30-15 (1 kg/hộp; 18 hộp/thùng) (Mục 1)\n",
      "[]\n",
      "2. Đơn vị nhập khẩu: Công ty TNHH Grow More; Địa chỉ:\n",
      "  370 Trần Hưng Đạo, Phường 11 Quận 5, TP. Hồ Chí Minh; Mã số thuế: 0312257378\n",
      "[]\n",
      "3. Số, ngày tờ khai hải quan: 10017802046/A11 ngày 24/10/2014\n",
      "  tại Chi cục Hải quan Cửa khẩu càng Sải Gòn KVI - Cục Hải quan TP. Hồ Chí Minh\n",
      "[]\n",
      "4. Tóm tắt mô tả và đặc tính hàng hóa: Phân bón dạng hạt nhỏ\n",
      "  được đóng gói với trọng lượng cả bì là 1 kg, thành phần gồm Urê, amoni\n",
      "  phosphat, kali clorua, urê phosphat và các nguyên tố vi lượng như kẽm, đồng,\n",
      "  silic, mangan...(trong đó hàm lượng Nitơ»15%; P205»30%; K20»15%)\n",
      "[]\n",
      "5. Kết quả phân loại:\n",
      "['5. Kết quả']\n",
      "4\n",
      "Tên thương mại: All purpose Plantfood 15-30-15\n",
      "[]\n",
      "Tên gọi theo cấu tạo, công dụng: Phân bón dạng hạt nhỏ\n",
      "    được đóng gói với trọng lượng cả bì là 1 kg, thành phần gồm Urê, amoni\n",
      "    phosphat, kali clorua, urê phosphat và các nguyên tố vi lượng như kẽm,\n",
      "    đồng, silic, mangan...(trong đó hàm lượng Nitơ ~15%; P205~\n",
      "    30%; K20 ~ 15%)\n",
      "[]\n",
      "Ký, mã hiệu, chủng loại: Không có thông tin\n",
      "[]\n",
      "Nhà sản xuất: Không có thông tin\n",
      "[]\n",
      "thuộc nhóm31.05\"Phân khoáng hoặc phân hóa\n",
      "  học chứa hai hoặc ba nguyên tố cấu thành phân bón là nitơ, phospho và kali;\n",
      "  phân bón khác; các mặt hàng của Chương này ở dạng viên hoặc các dạng tương tự\n",
      "  hoặc đóng gói với trọng lượng cả bì không quả 10 kg. \", phân nhóm3105.10\" - Các mặt hàng của Chương này ở dạng viên hoặc các dạng tương tự hoặc\n",
      "  đóng gói với trọng lượng cả bì không quá 10 kg\", mã số3105.10.2\"- - Phân khoáng hoặc phân hóa học có chứa hai hoặc ba trong số các nguyên\n",
      "  tố nitơ, phospho và kali \"tại Danh mục hàng hóa xuất khẩu, nhập\n",
      "  khẩu Việt Nam và Biểu thuế nhập khẩu ưu đãi.\n",
      "[]\n"
     ]
    }
   ],
   "source": [
    "part1_5_pattern = re.compile(r\"5\\.\\s*Kết\\s*quả\")\n",
    "for p_tag in part1:\n",
    "    text = p_tag.get_text(strip=True)  # Lấy văn bản từ thẻ <p> và loại bỏ khoảng trắng thừa\n",
    "    print(text)\n",
    "    matches = part1_5_pattern.findall(text)  # Tìm tất cả các dãy số khớp với pattern trong văn bản\n",
    "    print(matches)\n",
    "    if matches:\n",
    "        part1_5_index = part1.index(p_tag)\n",
    "        print(part1_5_index)"
   ]
  },
  {
   "cell_type": "code",
   "execution_count": 10,
   "metadata": {},
   "outputs": [
    {
     "data": {
      "text/plain": [
       "4"
      ]
     },
     "execution_count": 10,
     "metadata": {},
     "output_type": "execute_result"
    }
   ],
   "source": [
    "part1_5_index"
   ]
  },
  {
   "cell_type": "code",
   "execution_count": 13,
   "metadata": {},
   "outputs": [],
   "source": [
    "pattern = re.compile(r'\\d{4}\\s*\\.\\s*\\d{2}\\s*\\.\\s*\\d{2}')\n",
    "for p_tag in part1[part1_5_index:]:\n",
    "    text = p_tag.get_text(strip=True)  # Lấy văn bản từ thẻ <p> và loại bỏ khoảng trắng thừa\n",
    "    matches = pattern.findall(text)  # Tìm tất cả các dãy số khớp với pattern trong văn bản\n",
    "    if matches:\n",
    "        part_5_text = matches[-1]"
   ]
  },
  {
   "cell_type": "code",
   "execution_count": 7,
   "metadata": {},
   "outputs": [
    {
     "ename": "NameError",
     "evalue": "name 'part_5_text' is not defined",
     "output_type": "error",
     "traceback": [
      "\u001b[1;31m---------------------------------------------------------------------------\u001b[0m",
      "\u001b[1;31mNameError\u001b[0m                                 Traceback (most recent call last)",
      "Cell \u001b[1;32mIn[7], line 1\u001b[0m\n\u001b[1;32m----> 1\u001b[0m part_5_text\n",
      "\u001b[1;31mNameError\u001b[0m: name 'part_5_text' is not defined"
     ]
    }
   ],
   "source": [
    "part_5_text"
   ]
  }
 ],
 "metadata": {
  "kernelspec": {
   "display_name": "base",
   "language": "python",
   "name": "python3"
  },
  "language_info": {
   "codemirror_mode": {
    "name": "ipython",
    "version": 3
   },
   "file_extension": ".py",
   "mimetype": "text/x-python",
   "name": "python",
   "nbconvert_exporter": "python",
   "pygments_lexer": "ipython3",
   "version": "3.12.4"
  }
 },
 "nbformat": 4,
 "nbformat_minor": 2
}
