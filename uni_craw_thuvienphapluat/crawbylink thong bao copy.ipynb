{
 "cells": [
  {
   "cell_type": "code",
   "execution_count": 4,
   "metadata": {},
   "outputs": [],
   "source": [
    "import requests\n",
    "from bs4 import BeautifulSoup\n",
    "import re\n",
    "import os\n",
    "import pandas as pd\n",
    "from lxml import etree\n",
    "from datetime import datetime\n",
    "import openpyxl\n",
    "from openpyxl import Workbook\n",
    "from openpyxl import load_workbook\n",
    "current_directory = os.getcwd()"
   ]
  },
  {
   "cell_type": "code",
   "execution_count": 5,
   "metadata": {},
   "outputs": [],
   "source": [
    "def normalize_date(text):\n",
    "    # Biểu thức chính quy để bắt ngày, tháng, năm\n",
    "    pattern = r\"(\\d{1,2})\\s*tháng\\s*(\\d{1,2})\\s*năm\\s*(\\d{4})\"\n",
    "    match = re.search(pattern, text)\n",
    "    \n",
    "    if match:\n",
    "        # Lấy ra các thành phần ngày, tháng, năm\n",
    "        day, month, year = match.groups()\n",
    "        \n",
    "        # Chuyển đổi thành định dạng dd-mm-yyyy\n",
    "        date_obj = datetime.strptime(f\"{day}-{month}-{year}\", \"%d-%m-%Y\")\n",
    "        return date_obj.strftime(\"%d-%m-%Y\")\n",
    "    return None"
   ]
  },
  {
   "cell_type": "code",
   "execution_count": 6,
   "metadata": {},
   "outputs": [],
   "source": [
    "def part_text(part,start,end):\n",
    "    part_list = []\n",
    "    for i in part[start:end]:\n",
    "        part_list.append(i.get_text(strip=True).replace('\\r', '').replace('\\n', '').strip())\n",
    "        part_text = '\\n'.join(part_list)\n",
    "    return part_text\n",
    "        "
   ]
  },
  {
   "cell_type": "code",
   "execution_count": 22,
   "metadata": {},
   "outputs": [],
   "source": [
    "def get_phanloai_link_info(link):\n",
    "    response2 = requests.get(link.strip())\n",
    "    soup = BeautifulSoup(response2.text, 'html.parser')\n",
    "    content1 = soup.find('div', class_='content1')\n",
    "    tables = content1.find_all('table')\n",
    "\n",
    "    # Khởi tạo các biến trước để tránh lỗi khi không tìm thấy\n",
    "    số = \"Không tìm thấy 'Số'\"\n",
    "    ngày = \"Không tìm thấy 'Ngày'\"\n",
    "    part_1_text = \"Không tìm thấy part 1\"\n",
    "    part_2_text = \"Không tìm thấy part 2\"\n",
    "    part_3_text = \"Không tìm thấy part 3\"\n",
    "    part_4_text = \"Không tìm thấy part 4\"\n",
    "    part_5_text = \"Không tìm thấy thông tin phần 5\"\n",
    "\n",
    "    # Lấy số văn bản / ngày\n",
    "    try:\n",
    "        paragraphs = tables[0].find_all('p')  # Tìm tất cả các thẻ <p> trong bảng đầu tiên\n",
    "        for para in paragraphs:\n",
    "            text = para.get_text(strip=True).replace('\\r', '').replace('\\n', '').strip()\n",
    "            if 'Số:' in text:\n",
    "                số = text.replace(\"Số:\", \"\").strip()\n",
    "                break  # Ngừng vòng lặp sau khi tìm thấy đoạn văn bản chứa 'Số'\n",
    "    except AttributeError as e:\n",
    "        print(f\"Lỗi khi tìm 'Số': {e}\")\n",
    "\n",
    "    try:\n",
    "        paragraphs = tables[0].find_all('p')  # Tìm tất cả các thẻ <p> trong bảng đầu tiên\n",
    "        for para in paragraphs:\n",
    "            text = para.get_text(strip=True).replace('\\r', '').replace('\\n', '').strip()\n",
    "            if 'ngày' in text or 'Ngày' in text:\n",
    "                ngày = normalize_date(text)\n",
    "                break  # Ngừng vòng lặp sau khi tìm thấy đoạn văn bản chứa 'ngày'\n",
    "    except AttributeError as e:\n",
    "        print(f\"Lỗi khi tìm 'ngày': {e}\")\n",
    "\n",
    "    # Lấy part 1 - bảng đầu của trang\n",
    "    part1 = tables[1].find_all('p')       \n",
    "    part1_1_pattern = re.compile(r\"1\\.\\s*[Tt]ên\\s*[Hh]àng\")\n",
    "    part1_2_pattern = re.compile(r\"2\\.\\s*Đơn\\s*vị\")\n",
    "    part1_3_pattern = re.compile(r\"3\\.\\s*Số\")\n",
    "    part1_3_pattern_2 = re.compile(r\"3\\.\\s*Tờ\\s*khai\")\n",
    "    part1_4_pattern = re.compile(r\"4\\.\\s*Tóm\\s*tắt\")\n",
    "    part1_5_pattern = re.compile(r\"5\\.\\s*Kết\\s*quả\")\n",
    "\n",
    "    # Tìm index các phần\n",
    "    part1_1_index = next((i for i, p_tag in enumerate(part1) if part1_1_pattern.search(p_tag.get_text(strip=True))), None)\n",
    "    part1_2_index = next((i for i, p_tag in enumerate(part1) if part1_2_pattern.search(p_tag.get_text(strip=True))), None)\n",
    "    part1_3_index = next((i for i, p_tag in enumerate(part1) if part1_3_pattern.search(p_tag.get_text(strip=True)) or part1_3_pattern_2.search(p_tag.get_text(strip=True))), None)\n",
    "    part1_4_index = next((i for i, p_tag in enumerate(part1) if part1_4_pattern.search(p_tag.get_text(strip=True))), None)\n",
    "    part1_5_index = next((i for i, p_tag in enumerate(part1) if part1_5_pattern.search(p_tag.get_text(strip=True))), None)\n",
    "\n",
    "    # Kiểm tra nếu các chỉ mục có tồn tại, nếu không gán giá trị thông báo không tìm thấy\n",
    "    if part1_1_index is not None and part1_2_index is not None:\n",
    "        part_1_text = part_text(part1, part1_1_index, part1_2_index)\n",
    "    if part1_2_index is not None and part1_3_index is not None:\n",
    "        part_2_text = part_text(part1, part1_2_index, part1_3_index)\n",
    "    if part1_3_index is not None and part1_4_index is not None:\n",
    "        part_3_text = part_text(part1, part1_3_index, part1_4_index)\n",
    "    if part1_4_index is not None and part1_5_index is not None:\n",
    "        part_4_text = part_text(part1, part1_4_index, part1_5_index)\n",
    "\n",
    "    # Lấy thông tin phần 5 nếu tìm thấy index\n",
    "    if part1_5_index is not None:\n",
    "        pattern = re.compile(r'\\d{4}\\s*\\.\\s*\\d{2}\\s*\\.\\s*\\d{2}')\n",
    "        for p_tag in part1[part1_5_index:]:\n",
    "            text = p_tag.get_text(strip=True)  # Lấy văn bản từ thẻ <p> và loại bỏ khoảng trắng thừa\n",
    "            matches = pattern.findall(text)  # Tìm tất cả các dãy số khớp với pattern trong văn bản\n",
    "            if matches:\n",
    "                part_5_text = matches[-1]  # Lấy kết quả cuối cùng khớp với pattern\n",
    "\n",
    "    # Tạo danh sách chứa thông tin\n",
    "    info_list = [link.strip(), số, ngày, part_1_text, part_2_text, part_3_text, part_4_text, part_5_text]\n",
    "    print(link)\n",
    "    print(info_list)\n",
    "    return info_list\n"
   ]
  },
  {
   "cell_type": "code",
   "execution_count": 67,
   "metadata": {},
   "outputs": [],
   "source": [
    "link = \"https://thuvienphapluat.vn/van-ban/Xuat-nhap-khau/Thong-bao-13850-TB-TCHQ-2014-ket-qua-phan-loai-Thuoc-mau-vo-co-tu-dioxit-titan-xuat-nhap-khau-258404.aspx\""
   ]
  },
  {
   "cell_type": "code",
   "execution_count": 68,
   "metadata": {},
   "outputs": [
    {
     "data": {
      "text/plain": [
       "['https://thuvienphapluat.vn/van-ban/Xuat-nhap-khau/Thong-bao-13850-TB-TCHQ-2014-ket-qua-phan-loai-Thuoc-mau-vo-co-tu-dioxit-titan-xuat-nhap-khau-258404.aspx',\n",
       " '13850/TB-TCHQ',\n",
       " '17-11-2014',\n",
       " 'Không tìm thấy part 1',\n",
       " '2. Đơn vị nhập khẩu: Công ty TNHH IL  Sam Việt Nam; Đ/c: Đường 3, KCN Long Thanh; MST: 3600855877',\n",
       " '3. Số, ngày tờ khai hải quan:10015727423/A12 ngày 06/10/2014 đăng ký tại Chi cục HQ Long Thành - Cục Hải  quan Đồng Nai',\n",
       " '4. Tóm tắt mô tả và đặc tính hàng hóa:  Thuốc màu vô cơ đi từ titan điôxit, hàm lượng titan điôxit 97,6%, dạng bột,  đã xử lý bề mặt',\n",
       " '3206.11.10']"
      ]
     },
     "execution_count": 68,
     "metadata": {},
     "output_type": "execute_result"
    }
   ],
   "source": [
    "get_phanloai_link_info(link)"
   ]
  },
  {
   "cell_type": "code",
   "execution_count": 37,
   "metadata": {},
   "outputs": [],
   "source": [
    "response2 = requests.get(link.strip())\n",
    "soup = BeautifulSoup(response2.text, 'html.parser')\n",
    "content1 = soup.find('div', class_='content1')\n",
    "tables = content1.find_all('table')\n",
    "\n",
    "# Khởi tạo các biến trước để tránh lỗi khi không tìm thấy\n",
    "số = \"Không tìm thấy 'Số'\"\n",
    "ngày = \"Không tìm thấy 'Ngày'\"\n",
    "part_1_text = \"Không tìm thấy part 1\"\n",
    "part_2_text = \"Không tìm thấy part 2\"\n",
    "part_3_text = \"Không tìm thấy part 3\"\n",
    "part_4_text = \"Không tìm thấy part 4\"\n",
    "part_5_text = \"Không tìm thấy thông tin phần 5\"\n",
    "\n",
    "# Lấy số văn bản / ngày\n",
    "try:\n",
    "    paragraphs = tables[0].find_all('p')  # Tìm tất cả các thẻ <p> trong bảng đầu tiên\n",
    "    for para in paragraphs:\n",
    "        text = para.get_text(strip=True).replace('\\r', '').replace('\\n', '').strip()\n",
    "        if 'Số:' in text:\n",
    "            số = text.replace(\"Số:\", \"\").strip()\n",
    "            break  # Ngừng vòng lặp sau khi tìm thấy đoạn văn bản chứa 'Số'\n",
    "except AttributeError as e:\n",
    "    print(f\"Lỗi khi tìm 'Số': {e}\")\n",
    "\n",
    "try:\n",
    "    paragraphs = tables[0].find_all('p')  # Tìm tất cả các thẻ <p> trong bảng đầu tiên\n",
    "    for para in paragraphs:\n",
    "        text = para.get_text(strip=True).replace('\\r', '').replace('\\n', '').strip()\n",
    "        if 'ngày' in text or 'Ngày' in text:\n",
    "            ngày = normalize_date(text)\n",
    "            break  # Ngừng vòng lặp sau khi tìm thấy đoạn văn bản chứa 'ngày'\n",
    "except AttributeError as e:\n",
    "    print(f\"Lỗi khi tìm 'ngày': {e}\")\n",
    "\n",
    "# Lấy part 1 - bảng đầu của trang\n",
    "part1 = tables[1].find_all('p')       \n",
    "part1_1_pattern = re.compile(r\"1\\.\\s*[Tt]ên\\s*[Hh]àng\")\n",
    "part1_2_pattern = re.compile(r\"2\\.\\s*Đơn\\s*vị\")\n",
    "part1_3_pattern = re.compile(r\"3\\.\\s*Số\")\n",
    "part1_3_pattern_2 = re.compile(r\"3\\.\\s*Tờ\\s*khai\")\n",
    "part1_4_pattern = re.compile(r\"4\\.\\s*Tóm\\s*tắt\")\n",
    "part1_5_pattern = re.compile(r\"5\\.\\s*Kết\\s*quả\")\n"
   ]
  },
  {
   "cell_type": "code",
   "execution_count": 38,
   "metadata": {},
   "outputs": [
    {
     "data": {
      "text/plain": [
       "[<p style=\"margin-bottom:6.0pt\"><b>1. Tên hàng theo khai báo</b>: Phối liệu để\n",
       "   nấu thủy tinh men Ceramic Frit UF- T39</p>,\n",
       " <p style=\"margin-bottom:6.0pt\"><b>2. Đơn vị nhập khẩu:</b> Công ty cổ phần\n",
       "   Gạch men V.T.C; Địa chỉ: Lô 9, Khu công nghiệp Gò Dầu, Huyện Long Thành, Tỉnh\n",
       "   Đồng Nai; Mã số thuế: 3600723398</p>,\n",
       " <p style=\"margin-bottom:6.0pt\"><b>3. Số, ngày tờ khai hải quan</b>:\n",
       "   10010414600/A12 ngày 20/8/2014 tại Chi cục Hải quan Long Thành - Cục Hải quan\n",
       "   Tỉnh Đồng Nai</p>,\n",
       " <p style=\"margin-bottom:6.0pt\"><b>4, Tóm tắt mô tả và đặc tính hàng hóa</b>:\n",
       "   Men đã được Frit hóa dạng mảnh vỡ thủy tinh, thành phần gồm SiO<sub>2</sub>\n",
       "   51,2%, CaO 23,4%, TiO<sub>2</sub> 17,1%, Al<sub>2</sub>O<sub>3</sub> 3.4 %Na<sub>2</sub>O\n",
       "   2,4%, K<sub>2</sub>O 1,2%, ZrO<sub>2</sub> 0,1%, MgO 0,8%, Fe<sub>2</sub>O<sub>3</sub>\n",
       "   0,4%</p>,\n",
       " <p style=\"margin-bottom:6.0pt\"><b><span lang=\"EN-GB\">5. Kết quả phân loại:</span></b></p>,\n",
       " <p style=\"margin-bottom:6.0pt\">Tên thương mại: Ceramic Frit</p>,\n",
       " <p style=\"margin-bottom:6.0pt\">Tên gọi theo cấu tạo, công dụng: Men đã được\n",
       "   Frit hóa dạng mảnh vỡ thủy tinh, thành phần gồm SiO<sub>2</sub> 51,2%, CaO\n",
       "   23,4%, TiO<sub>2</sub> 17,1%, Al<sub>2</sub>O<sub>3</sub> 3.4% Na<sub>2</sub>O\n",
       "   2,4%, K<sub>2</sub>O 1,2%, ZrO<sub>2</sub> 0,1%, MgO 0,8%, Fe<sub>2</sub>O<sub>3</sub>\n",
       "   0,4%</p>,\n",
       " <p style=\"margin-bottom:6.0pt\">Ký, mã hiệu, chủng loại: Không có thông\n",
       "   tin            \n",
       "   Nhà sản xuất: Không có thông tin</p>,\n",
       " <p style=\"margin-bottom:6.0pt\">thuộc nhóm <b>3207</b> \"<i>Thuốc màu đã\n",
       "   pha chế, các chất cản quang đã pha chế và các loại màu đã pha chế, các chất\n",
       "   men kính và men sứ, men sành, các chất láng bóng dạng lỏng và các chế phẩm\n",
       "   tương tự dùng trong công nghiệp gốm sứ; tráng men hoặc thủy tinh; phối liệu\n",
       "   để nấu thủy tinh và thủy tinh khác, ở dạng bột, hạt hoặc vẩy\"</i> phân nhóm\n",
       "   <b>3207.20</b> \" -<i> Men kính và men sứ, men sành (slips) và các chế\n",
       "   phẩm tương tự\"</i> mã số <b>3207.20.10</b> \"-- <i>Phối liệu men\n",
       "   kính</i>\" tại Danh mục hàng hóa xuất khẩu, nhập khẩu Việt Nam và Biểu\n",
       "   thuế nhập khẩu ưu đãi.</p>]"
      ]
     },
     "execution_count": 38,
     "metadata": {},
     "output_type": "execute_result"
    }
   ],
   "source": [
    "part1"
   ]
  },
  {
   "cell_type": "code",
   "execution_count": 39,
   "metadata": {},
   "outputs": [
    {
     "name": "stdout",
     "output_type": "stream",
     "text": [
      "1. Tên hàng theo khai báo: Phối liệu để\n",
      "  nấu thủy tinh men Ceramic Frit UF- T39\n",
      "[]\n",
      "2. Đơn vị nhập khẩu:Công ty cổ phần\n",
      "  Gạch men V.T.C; Địa chỉ: Lô 9, Khu công nghiệp Gò Dầu, Huyện Long Thành, Tỉnh\n",
      "  Đồng Nai; Mã số thuế: 3600723398\n",
      "[]\n",
      "3. Số, ngày tờ khai hải quan:\n",
      "  10010414600/A12 ngày 20/8/2014 tại Chi cục Hải quan Long Thành - Cục Hải quan\n",
      "  Tỉnh Đồng Nai\n",
      "['3. Số']\n",
      "2\n",
      "4, Tóm tắt mô tả và đặc tính hàng hóa:\n",
      "  Men đã được Frit hóa dạng mảnh vỡ thủy tinh, thành phần gồm SiO251,2%, CaO 23,4%, TiO217,1%, Al2O33.4 %Na2O\n",
      "  2,4%, K2O 1,2%, ZrO20,1%, MgO 0,8%, Fe2O30,4%\n",
      "[]\n",
      "5. Kết quả phân loại:\n",
      "[]\n",
      "Tên thương mại: Ceramic Frit\n",
      "[]\n",
      "Tên gọi theo cấu tạo, công dụng: Men đã được\n",
      "  Frit hóa dạng mảnh vỡ thủy tinh, thành phần gồm SiO251,2%, CaO\n",
      "  23,4%, TiO217,1%, Al2O33.4% Na2O\n",
      "  2,4%, K2O 1,2%, ZrO20,1%, MgO 0,8%, Fe2O30,4%\n",
      "[]\n",
      "Ký, mã hiệu, chủng loại: Không có thông\n",
      "  tin            \n",
      "  Nhà sản xuất: Không có thông tin\n",
      "[]\n",
      "thuộc nhóm3207\"Thuốc màu đã\n",
      "  pha chế, các chất cản quang đã pha chế và các loại màu đã pha chế, các chất\n",
      "  men kính và men sứ, men sành, các chất láng bóng dạng lỏng và các chế phẩm\n",
      "  tương tự dùng trong công nghiệp gốm sứ; tráng men hoặc thủy tinh; phối liệu\n",
      "  để nấu thủy tinh và thủy tinh khác, ở dạng bột, hạt hoặc vẩy\"phân nhóm3207.20\" -Men kính và men sứ, men sành (slips) và các chế\n",
      "  phẩm tương tự\"mã số3207.20.10\"--Phối liệu men\n",
      "  kính\" tại Danh mục hàng hóa xuất khẩu, nhập khẩu Việt Nam và Biểu\n",
      "  thuế nhập khẩu ưu đãi.\n",
      "[]\n"
     ]
    }
   ],
   "source": [
    "part1_3_pattern = re.compile(r\"3\\.\\s*Số\")\n",
    "part1_3_pattern_2 = re.compile(r\"3\\.\\s*Tờ\\s*khai\")\n",
    "for p_tag in part1:\n",
    "    text = p_tag.get_text(strip=True)  # Lấy văn bản từ thẻ <p> và loại bỏ khoảng trắng thừa\n",
    "    print(text)\n",
    "    matches = part1_3_pattern.findall(text) or part1_3_pattern_2.findall(text) # Tìm tất cả các dãy số khớp với pattern trong văn bản\n",
    "    print(matches)\n",
    "    if matches:\n",
    "        part1_3_index = part1.index(p_tag)\n",
    "        print(part1_3_index)"
   ]
  },
  {
   "cell_type": "code",
   "execution_count": 40,
   "metadata": {},
   "outputs": [
    {
     "name": "stdout",
     "output_type": "stream",
     "text": [
      "1. Tên hàng theo khai báo: Phối liệu để\n",
      "  nấu thủy tinh men Ceramic Frit UF- T39\n",
      "[]\n",
      "2. Đơn vị nhập khẩu:Công ty cổ phần\n",
      "  Gạch men V.T.C; Địa chỉ: Lô 9, Khu công nghiệp Gò Dầu, Huyện Long Thành, Tỉnh\n",
      "  Đồng Nai; Mã số thuế: 3600723398\n",
      "[]\n",
      "3. Số, ngày tờ khai hải quan:\n",
      "  10010414600/A12 ngày 20/8/2014 tại Chi cục Hải quan Long Thành - Cục Hải quan\n",
      "  Tỉnh Đồng Nai\n",
      "[]\n",
      "4, Tóm tắt mô tả và đặc tính hàng hóa:\n",
      "  Men đã được Frit hóa dạng mảnh vỡ thủy tinh, thành phần gồm SiO251,2%, CaO 23,4%, TiO217,1%, Al2O33.4 %Na2O\n",
      "  2,4%, K2O 1,2%, ZrO20,1%, MgO 0,8%, Fe2O30,4%\n",
      "[]\n",
      "5. Kết quả phân loại:\n",
      "[]\n",
      "Tên thương mại: Ceramic Frit\n",
      "[]\n",
      "Tên gọi theo cấu tạo, công dụng: Men đã được\n",
      "  Frit hóa dạng mảnh vỡ thủy tinh, thành phần gồm SiO251,2%, CaO\n",
      "  23,4%, TiO217,1%, Al2O33.4% Na2O\n",
      "  2,4%, K2O 1,2%, ZrO20,1%, MgO 0,8%, Fe2O30,4%\n",
      "[]\n",
      "Ký, mã hiệu, chủng loại: Không có thông\n",
      "  tin            \n",
      "  Nhà sản xuất: Không có thông tin\n",
      "[]\n",
      "thuộc nhóm3207\"Thuốc màu đã\n",
      "  pha chế, các chất cản quang đã pha chế và các loại màu đã pha chế, các chất\n",
      "  men kính và men sứ, men sành, các chất láng bóng dạng lỏng và các chế phẩm\n",
      "  tương tự dùng trong công nghiệp gốm sứ; tráng men hoặc thủy tinh; phối liệu\n",
      "  để nấu thủy tinh và thủy tinh khác, ở dạng bột, hạt hoặc vẩy\"phân nhóm3207.20\" -Men kính và men sứ, men sành (slips) và các chế\n",
      "  phẩm tương tự\"mã số3207.20.10\"--Phối liệu men\n",
      "  kính\" tại Danh mục hàng hóa xuất khẩu, nhập khẩu Việt Nam và Biểu\n",
      "  thuế nhập khẩu ưu đãi.\n",
      "[]\n"
     ]
    }
   ],
   "source": [
    "part1_4_pattern = re.compile(r\"4\\.\\s*Tóm\\s*tắt\")\n",
    "for p_tag in part1:\n",
    "    text = p_tag.get_text(strip=True)  # Lấy văn bản từ thẻ <p> và loại bỏ khoảng trắng thừa\n",
    "    print(text)\n",
    "    matches = part1_4_pattern.findall(text)  # Tìm tất cả các dãy số khớp với pattern trong văn bản\n",
    "    print(matches)\n",
    "    if matches:\n",
    "        part1_4_index = part1.index(p_tag)\n",
    "        print(part1_4_index)"
   ]
  },
  {
   "cell_type": "code",
   "execution_count": 41,
   "metadata": {},
   "outputs": [
    {
     "data": {
      "text/plain": [
       "3"
      ]
     },
     "execution_count": 41,
     "metadata": {},
     "output_type": "execute_result"
    }
   ],
   "source": [
    "part1_4_index"
   ]
  },
  {
   "cell_type": "code",
   "execution_count": 42,
   "metadata": {},
   "outputs": [
    {
     "name": "stdout",
     "output_type": "stream",
     "text": [
      "1. Tên hàng theo khai báo: Phối liệu để\n",
      "  nấu thủy tinh men Ceramic Frit UF- T39\n",
      "[]\n",
      "2. Đơn vị nhập khẩu:Công ty cổ phần\n",
      "  Gạch men V.T.C; Địa chỉ: Lô 9, Khu công nghiệp Gò Dầu, Huyện Long Thành, Tỉnh\n",
      "  Đồng Nai; Mã số thuế: 3600723398\n",
      "[]\n",
      "3. Số, ngày tờ khai hải quan:\n",
      "  10010414600/A12 ngày 20/8/2014 tại Chi cục Hải quan Long Thành - Cục Hải quan\n",
      "  Tỉnh Đồng Nai\n",
      "[]\n",
      "4, Tóm tắt mô tả và đặc tính hàng hóa:\n",
      "  Men đã được Frit hóa dạng mảnh vỡ thủy tinh, thành phần gồm SiO251,2%, CaO 23,4%, TiO217,1%, Al2O33.4 %Na2O\n",
      "  2,4%, K2O 1,2%, ZrO20,1%, MgO 0,8%, Fe2O30,4%\n",
      "[]\n",
      "5. Kết quả phân loại:\n",
      "['5. Kết quả']\n",
      "4\n",
      "Tên thương mại: Ceramic Frit\n",
      "[]\n",
      "Tên gọi theo cấu tạo, công dụng: Men đã được\n",
      "  Frit hóa dạng mảnh vỡ thủy tinh, thành phần gồm SiO251,2%, CaO\n",
      "  23,4%, TiO217,1%, Al2O33.4% Na2O\n",
      "  2,4%, K2O 1,2%, ZrO20,1%, MgO 0,8%, Fe2O30,4%\n",
      "[]\n",
      "Ký, mã hiệu, chủng loại: Không có thông\n",
      "  tin            \n",
      "  Nhà sản xuất: Không có thông tin\n",
      "[]\n",
      "thuộc nhóm3207\"Thuốc màu đã\n",
      "  pha chế, các chất cản quang đã pha chế và các loại màu đã pha chế, các chất\n",
      "  men kính và men sứ, men sành, các chất láng bóng dạng lỏng và các chế phẩm\n",
      "  tương tự dùng trong công nghiệp gốm sứ; tráng men hoặc thủy tinh; phối liệu\n",
      "  để nấu thủy tinh và thủy tinh khác, ở dạng bột, hạt hoặc vẩy\"phân nhóm3207.20\" -Men kính và men sứ, men sành (slips) và các chế\n",
      "  phẩm tương tự\"mã số3207.20.10\"--Phối liệu men\n",
      "  kính\" tại Danh mục hàng hóa xuất khẩu, nhập khẩu Việt Nam và Biểu\n",
      "  thuế nhập khẩu ưu đãi.\n",
      "[]\n"
     ]
    }
   ],
   "source": [
    "part1_5_pattern = re.compile(r\"5\\.\\s*Kết\\s*quả\")\n",
    "for p_tag in part1:\n",
    "    text = p_tag.get_text(strip=True)  # Lấy văn bản từ thẻ <p> và loại bỏ khoảng trắng thừa\n",
    "    print(text)\n",
    "    matches = part1_5_pattern.findall(text)  # Tìm tất cả các dãy số khớp với pattern trong văn bản\n",
    "    print(matches)\n",
    "    if matches:\n",
    "        part1_5_index = part1.index(p_tag)\n",
    "        print(part1_5_index)"
   ]
  },
  {
   "cell_type": "code",
   "execution_count": 43,
   "metadata": {},
   "outputs": [
    {
     "data": {
      "text/plain": [
       "4"
      ]
     },
     "execution_count": 43,
     "metadata": {},
     "output_type": "execute_result"
    }
   ],
   "source": [
    "part1_5_index"
   ]
  },
  {
   "cell_type": "code",
   "execution_count": 34,
   "metadata": {},
   "outputs": [],
   "source": [
    "pattern = re.compile(r'\\d{4}\\s*\\.\\s*\\d{2}\\s*\\.\\s*\\d{2}')\n",
    "for p_tag in part1[part1_5_index:]:\n",
    "    text = p_tag.get_text(strip=True)  # Lấy văn bản từ thẻ <p> và loại bỏ khoảng trắng thừa\n",
    "    matches = pattern.findall(text)  # Tìm tất cả các dãy số khớp với pattern trong văn bản\n",
    "    if matches:\n",
    "        part_5_text = matches[-1]"
   ]
  },
  {
   "cell_type": "code",
   "execution_count": 35,
   "metadata": {},
   "outputs": [
    {
     "data": {
      "text/plain": [
       "'2841.30.00'"
      ]
     },
     "execution_count": 35,
     "metadata": {},
     "output_type": "execute_result"
    }
   ],
   "source": [
    "part_5_text"
   ]
  }
 ],
 "metadata": {
  "kernelspec": {
   "display_name": "base",
   "language": "python",
   "name": "python3"
  },
  "language_info": {
   "codemirror_mode": {
    "name": "ipython",
    "version": 3
   },
   "file_extension": ".py",
   "mimetype": "text/x-python",
   "name": "python",
   "nbconvert_exporter": "python",
   "pygments_lexer": "ipython3",
   "version": "3.12.4"
  }
 },
 "nbformat": 4,
 "nbformat_minor": 2
}
