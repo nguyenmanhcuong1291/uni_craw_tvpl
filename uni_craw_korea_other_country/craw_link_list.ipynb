{
 "cells": [
  {
   "cell_type": "code",
   "execution_count": 1,
   "metadata": {},
   "outputs": [],
   "source": [
    "import openpyxl\n",
    "from openpyxl.styles import Alignment\n",
    "import requests\n",
    "from bs4 import BeautifulSoup\n",
    "import json\n",
    "import concurrent.futures\n",
    "import os\n",
    "import json\n",
    "import pandas as pd\n",
    "from requests.adapters import HTTPAdapter\n",
    "from urllib3.util.retry import Retry\n",
    "import time\n"
   ]
  },
  {
   "cell_type": "code",
   "execution_count": 2,
   "metadata": {},
   "outputs": [],
   "source": [
    "cntyCds = {\"CH\",\"BD\",\"CA\",\"IN\",\"KH\",\"PH\",\"SG\",\"TH\",\"AU\",\"CL\",\"TW\",\"JP\",\"CN\",\"GB\",\"EU\",\"US\"}"
   ]
  },
  {
   "cell_type": "code",
   "execution_count": 3,
   "metadata": {},
   "outputs": [],
   "source": [
    "reffNoNm_lists = []"
   ]
  },
  {
   "cell_type": "code",
   "execution_count": null,
   "metadata": {},
   "outputs": [],
   "source": [
    "import requests\n",
    "import pandas as pd\n",
    "\n",
    "# URL của API\n",
    "url = \"https://unipass.customs.go.kr/clip/prlstclsfsrch/retrievePrlstClsfCaseLst.do\"\n",
    "\n",
    "# Headers của yêu cầu\n",
    "headers = {\n",
    "    'Accept': 'application/json, text/javascript, */*; q=0.01',\n",
    "    'Accept-Language': 'en-US,en;q=0.9,vi-VN;q=0.8,vi;q=0.7,fr-FR;q=0.6,fr;q=0.5',\n",
    "    'Connection': 'keep-alive',\n",
    "    'Content-Type': 'application/x-www-form-urlencoded; charset=UTF-8',\n",
    "    'Origin': 'https://unipass.customs.go.kr',\n",
    "    'Referer': 'https://unipass.customs.go.kr/clip/index.do',\n",
    "    'User-Agent': 'Mozilla/5.0 (Macintosh; Intel Mac OS X 10_15_7) AppleWebKit/537.36 (KHTML, like Gecko) Chrome/128.0.0.0 Safari/537.36',\n",
    "    'X-Requested-With': 'XMLHttpRequest',\n",
    "}\n",
    "\n",
    "# Danh sách cntyCd và nơi lưu các trang đã quét\n",
    "pages_info = {}\n",
    "\n",
    "# Lần đầu tiên, ghi nhận startPage và totalPage\n",
    "for cntyCd in cntyCds:\n",
    "    pageIndex = 1\n",
    "    # Thực hiện yêu cầu POST đầu tiên để lấy tổng số trang\n",
    "    data = {\n",
    "        'pageIndex': pageIndex,\n",
    "        'pageUnit': 1000,\n",
    "        'orderColumns': 'ENFR_DT desc',\n",
    "        'cntyCd': cntyCd,\n",
    "        'srchYn': 'Y',\n",
    "        'scrnTp': 'WDTH',\n",
    "        'lngaTp': 'org',\n",
    "        'srchDtrmHsSgn':'+' \n",
    "    }\n",
    "    response = requests.post(url, headers=headers, data=data, timeout=60).json()\n",
    "    \n",
    "    totalPageCount = response[\"paginationInfo\"][\"totalPageCount\"]\n",
    "    pages_info[cntyCd] = {'startPage': 1, 'totalPage': totalPageCount}\n",
    "\n",
    "    print(f\"Đã ghi nhận {cntyCd}: {totalPageCount} trang.\")\n",
    "\n",
    "# Lần tiếp theo, duyệt từng trang từ startPage đến totalPage\n",
    "for cntyCd, page_data in pages_info.items():\n",
    "    for pageIndex in range(page_data['startPage'], page_data['totalPage'] + 1):\n",
    "        data = {\n",
    "            'pageIndex': pageIndex,\n",
    "            'pageUnit': 1000,\n",
    "            'orderColumns': 'ENFR_DT desc',\n",
    "            'cntyCd': cntyCd,\n",
    "            'srchYn': 'Y',\n",
    "            'scrnTp': 'WDTH',\n",
    "            'lngaTp': 'org',\n",
    "            'srchDtrmHsSgn':'+' \n",
    "        }\n",
    "        totalPageCount = response[\"paginationInfo\"][\"totalPageCount\"]\n",
    "        response = requests.post(url, headers=headers, data=data, timeout=60).json()\n",
    "        print(f\"Đang tải {cntyCd}, trang {pageIndex}/{totalPageCount}. Số lượng: {response['uls_over']['count']} ,firstRecordIndex: {response[\"paginationInfo\"][\"firstRecordIndex\"]}, lastRecordIndex: {response[\"paginationInfo\"][\"lastRecordIndex\"]}\")\n",
    "\n",
    "        for item in response['uls_over'][\"itemList\"]:\n",
    "            item_info = {\n",
    "                'area': cntyCd,\n",
    "                'page': pageIndex,\n",
    "                'cntyCd': item['CNTY_CD'],\n",
    "                'baseYy': item['BASE_YY'],\n",
    "                'reffNoNm': item['REFF_NO_NM_ORI'],\n",
    "                'prlstClsfSrno': item['PRLST_CLSF_SRNO'],\n",
    "            }\n",
    "            print(item_info)\n",
    "            reffNoNm_lists.append(item_info)\n",
    "\n"
   ]
  },
  {
   "cell_type": "code",
   "execution_count": null,
   "metadata": {},
   "outputs": [],
   "source": [
    "# Tạo DataFrame từ danh sách\n",
    "df = pd.DataFrame(reffNoNm_lists)\n",
    "df.to_csv(\"all_link_list.csv\",index = True)"
   ]
  }
 ],
 "metadata": {
  "kernelspec": {
   "display_name": "base",
   "language": "python",
   "name": "python3"
  },
  "language_info": {
   "codemirror_mode": {
    "name": "ipython",
    "version": 3
   },
   "file_extension": ".py",
   "mimetype": "text/x-python",
   "name": "python",
   "nbconvert_exporter": "python",
   "pygments_lexer": "ipython3",
   "version": "3.12.4"
  }
 },
 "nbformat": 4,
 "nbformat_minor": 2
}
