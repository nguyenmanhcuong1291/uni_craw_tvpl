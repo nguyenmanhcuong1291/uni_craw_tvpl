{
 "cells": [
  {
   "cell_type": "code",
   "execution_count": 1,
   "metadata": {},
   "outputs": [],
   "source": [
    "import openpyxl\n",
    "from openpyxl.styles import Alignment\n",
    "import requests\n",
    "from bs4 import BeautifulSoup\n",
    "import json\n",
    "import concurrent.futures\n",
    "import os\n",
    "import json\n",
    "import pandas as pd\n",
    "\n"
   ]
  },
  {
   "cell_type": "code",
   "execution_count": 64,
   "metadata": {},
   "outputs": [],
   "source": [
    "def detailinforequest():\n",
    "# URL của API\n",
    "    url = 'https://unipass.customs.go.kr/clip/prlstclsfsrch/retrievePrlstClsfCaseDtl.do'\n",
    "\n",
    "    # Headers\n",
    "    headers = {\n",
    "        'Accept': 'text/html, */*; q=0.01',\n",
    "        'Accept-Language': 'en-US,en;q=0.9,vi;q=0.8,vi-VN;q=0.7',\n",
    "        'Connection': 'keep-alive',\n",
    "        'Content-Type': 'application/x-www-form-urlencoded; charset=UTF-8',\n",
    "        'Cookie': 'WMONID=N_4A3dINH0I; JSESSIONID=0001O2y8S-yyQQ_lga-knblPV6Lb2QN6662ivRFJ_jK2FPRlLOTKNEsnuhZe_QxBEKq-8U03_kah8EgUgb-_Exa4dmevvhJHEKeNuIq9prRxpJht6ugFASENgz3p_AdMPw4_:eul21',\n",
    "        'DNT': '1',\n",
    "        'Origin': 'https://unipass.customs.go.kr',\n",
    "        'Referer': 'https://unipass.customs.go.kr/clip/index.do',\n",
    "        'Sec-Fetch-Dest': 'empty',\n",
    "        'Sec-Fetch-Mode': 'cors',\n",
    "        'Sec-Fetch-Site': 'same-origin',\n",
    "        'User-Agent': 'Mozilla/5.0 (Windows NT 10.0; Win64; x64) AppleWebKit/537.36 (KHTML, like Gecko) Chrome/129.0.0.0 Safari/537.36',\n",
    "        'X-Requested-With': 'XMLHttpRequest',\n",
    "        'isAjax': 'true',\n",
    "        'sec-ch-ua': '\"Google Chrome\";v=\"129\", \"Not=A?Brand\";v=\"8\", \"Chromium\";v=\"129\"',\n",
    "        'sec-ch-ua-mobile': '?0',\n",
    "        'sec-ch-ua-platform': '\"Windows\"'\n",
    "    }\n",
    "\n",
    "    # Dữ liệu trong body của yêu cầu\n",
    "    payload = {\n",
    "        'cntyCd':'US',\n",
    "        'baseYy':'2005',\n",
    "        'reffNoNm':'NY L81580',\n",
    "        'prlstClsfSrno':'655'\n",
    "    }\n",
    "\n",
    "    # Gửi yêu cầu POST với headers và dữ liệu body\n",
    "    response = requests.post(url, headers=headers, data=payload)\n",
    "    \n",
    "    # Kiểm tra phản hồi từ API\n",
    "    if response.status_code == 200:\n",
    "        return response.text\n",
    "    else:\n",
    "        print(rrdcNo + \" Lỗi\")\n",
    "\n"
   ]
  },
  {
   "cell_type": "code",
   "execution_count": 69,
   "metadata": {},
   "outputs": [],
   "source": [
    "def extract_data_from_html(html_content):\n",
    "    soup = BeautifulSoup(html_content, 'html.parser')\n",
    "    org_table = soup.find(\"table\", class_='org')\n",
    "    result = {} \n",
    "    \n",
    "    #tìm danh sách các kết quả cần lấy\n",
    "    soup.find_all(\"p\",) # Tìm thẻ <p> chứa từ khóa \"상세결과 항목 :\"\n",
    "    p_tag = soup.find('p', text=lambda x: x and \"상세결과 항목 :\" in x)\n",
    "\n",
    "    if p_tag:\n",
    "        # Tách nội dung sau dấu \":\"\n",
    "        content = p_tag.text.split(\"상세결과 항목 :\")[1].strip()\n",
    "        # Chuyển nội dung thành set\n",
    "        result_set = set(content.split(', '))\n",
    "        print(result_set)\n",
    "    else:\n",
    "        print(\"Không tìm thấy thẻ <p> phù hợp.\")\n",
    "        \n",
    "    org_table = soup.find(\"table\", class_='org')\n",
    "    result = {} \n",
    "\n",
    "    for catalog in result_set:\n",
    "        print(f\"Đang xử lý: {catalog}\")\n",
    "\n",
    "        if catalog == '관련이미지':\n",
    "            th_element = org_table.find('th', text='관련 이미지')\n",
    "            if th_element:  # Kiểm tra nếu thẻ <th> tồn tại\n",
    "                image_elements = th_element.find_next_sibling('td').find_all('img')\n",
    "                image_links = [img['src'] for img in image_elements]\n",
    "                result[catalog] = image_links\n",
    "            else:\n",
    "                print(f\"Không tìm thấy thẻ <th> cho '{catalog}'\")\n",
    "\n",
    "        else:  # Trường hợp xử lý các catalog khác\n",
    "            th_element = org_table.find('th', text=catalog)\n",
    "            if th_element:  # Kiểm tra nếu tìm thấy thẻ <th>\n",
    "                elems_html_info = th_element.find_next_sibling('td')\n",
    "                for elem in elems_html_info:\n",
    "                    if elem.name == 'a':  # Đổi thẻ <a> thành văn bản\n",
    "                        elem.replace_with(elem.text)\n",
    "                    elif elem.name == 'br':  # Giữ lại thẻ <br>\n",
    "                        continue\n",
    "                elem_text = elems_html_info.decode_contents().replace('\\r', '').replace('\\t', '').replace('\\n', '').strip()\n",
    "                result[catalog] = elem_text\n",
    "            else:\n",
    "                print(f\"Không tìm thấy thẻ <th> cho '{catalog}'\")\n",
    "    return result\n"
   ]
  },
  {
   "cell_type": "code",
   "execution_count": null,
   "metadata": {},
   "outputs": [],
   "source": [
    "def save_state(states, thread_index):\n",
    "    with open(state_file_template.format(thread_index), \"w\") as f:\n",
    "        json.dump(states, f)\n",
    "\n",
    "# Hàm để tải trạng thái, bao gồm cả trạng thái hiện tại trong chunk\n",
    "def load_state(thread_index):\n",
    "    try:\n",
    "        with open(state_file_template.format(thread_index), \"r\") as f:\n",
    "            states = json.load(f)\n",
    "            if isinstance(states, dict) and \"start_index\" in states:\n",
    "                return states  # Trả về trạng thái nếu hợp lệ\n",
    "            else:\n",
    "                return {\"start_index\": 0}  # Nếu không có start_index, trả về 0\n",
    "    except FileNotFoundError:\n",
    "        return {\"start_index\": 0}  # Nếu không có file trạng thái, bắt đầu từ đầu\n",
    "\n",
    "\n",
    "# Hàm xử lý từng phần dữ liệu\n",
    "def process_data_chunk(data_chunk, thread_index, start_index):\n",
    "    all_detail_output = []\n",
    "    current_index = start_index  # Bắt đầu từ trạng thái lưu trước đó\n",
    "\n",
    "    for idx, rrdcNo in enumerate(data_chunk[start_index:], start=start_index):\n",
    "        try:\n",
    "            # Xử lý logic chính\n",
    "            html_content,rrdcNo_output = detailinforequest(rrdcNo)\n",
    "            detail_output = extract_data_from_html(html_content)\n",
    "            detail_output[\"rrdcNo\"] = rrdcNo_output\n",
    "            all_detail_output.append(detail_output)\n",
    "\n",
    "            # Ghi kết quả vào file riêng cho thread\n",
    "            with open(output_file_template.format(thread_index), \"a\", encoding='utf-8') as f:\n",
    "                f.write(json.dumps(detail_output, ensure_ascii=False) + \"\\n\")\n",
    "\n",
    "            current_index = idx + 1  # Cập nhật chỉ số đã xử lý\n",
    "\n",
    "        except Exception as e:\n",
    "            print(f\"Error processing {rrdcNo}: {e}\")\n",
    "            # Lưu trạng thái khi có lỗi, bao gồm index hiện tại\n",
    "            save_state({\"start_index\": current_index}, thread_index)\n",
    "            break  # Dừng lại nếu có lỗi để không làm hỏng chunk này\n",
    "\n",
    "        # Lưu trạng thái sau khi xử lý xong một phần tử\n",
    "        save_state({\"start_index\": current_index}, thread_index)\n",
    "\n",
    "    return all_detail_output, current_index"
   ]
  },
  {
   "cell_type": "code",
   "execution_count": 2,
   "metadata": {},
   "outputs": [
    {
     "name": "stdout",
     "output_type": "stream",
     "text": [
      "767703\n"
     ]
    }
   ],
   "source": [
    "# Đọc file Excel\n",
    "list_file = \"all_items.xlsx\"\n",
    "df = pd.read_excel(list_file).iloc[:,0:4]\n",
    "\n",
    "print(len(df))\n"
   ]
  },
  {
   "cell_type": "code",
   "execution_count": null,
   "metadata": {},
   "outputs": [
    {
     "name": "stdout",
     "output_type": "stream",
     "text": [
      "<class 'pandas.core.frame.DataFrame'>\n",
      "RangeIndex: 767703 entries, 0 to 767702\n",
      "Data columns (total 4 columns):\n",
      " #   Column         Non-Null Count   Dtype  \n",
      "---  ------         --------------   -----  \n",
      " 0   cntyCd         767703 non-null  object \n",
      " 1   baseYy         767702 non-null  float64\n",
      " 2   reffNoNm       767701 non-null  object \n",
      " 3   prlstClsfSrno  767701 non-null  float64\n",
      "dtypes: float64(2), object(2)\n",
      "memory usage: 23.4+ MB\n"
     ]
    }
   ],
   "source": [
    "df"
   ]
  },
  {
   "cell_type": "code",
   "execution_count": null,
   "metadata": {},
   "outputs": [],
   "source": [
    "\"\"\"\n",
    "Cell generated by Data Wrangler.\n",
    "\"\"\"\n",
    "def clean_data(df):\n",
    "    # Change column type to string for columns: 'cntyCd', 'baseYy' and 2 other columns\n",
    "    df = df.astype({'cntyCd': 'string', 'baseYy': 'string', 'reffNoNm': 'string', 'prlstClsfSrno': 'string'})\n",
    "    # Replace all instances of \".0\" with \"\" in column: 'baseYy'\n",
    "    df['baseYy'] = df['baseYy'].str.replace(\".0\", \"\", case=False, regex=False)\n",
    "    # Replace all instances of \".0\" with \"\" in column: 'prlstClsfSrno'\n",
    "    df['prlstClsfSrno'] = df['prlstClsfSrno'].str.replace(\".0\", \"\", case=False, regex=False)\n",
    "    return df\n",
    "\n",
    "df_ = clean_data(df.copy())\n",
    "df_clean.head()"
   ]
  },
  {
   "cell_type": "code",
   "execution_count": 7,
   "metadata": {},
   "outputs": [
    {
     "name": "stdout",
     "output_type": "stream",
     "text": [
      "1 TW 2024.0\n",
      "2 TW 2024.0\n",
      "3 TW 2024.0\n",
      "4 TW 2024.0\n",
      "5 TW 2024.0\n",
      "6 TW 2024.0\n",
      "7 TW 2024.0\n",
      "8 TW 2024.0\n",
      "9 TW 2024.0\n"
     ]
    },
    {
     "name": "stderr",
     "output_type": "stream",
     "text": [
      "C:\\Users\\nguye\\AppData\\Local\\Temp\\ipykernel_3624\\547567648.py:3: FutureWarning: Series.__getitem__ treating keys as positions is deprecated. In a future version, integer keys will always be treated as labels (consistent with DataFrame behavior). To access a value by position, use `ser.iloc[pos]`\n",
      "  print (index,row[0],row[1])\n"
     ]
    }
   ],
   "source": [
    "for index, row in df.iloc[1:10,:].iterrows():\n",
    "    row_dict = row.to_dict()\n",
    "    print (index,row[0],row[1])\n",
    "    # print(row_dict)"
   ]
  },
  {
   "cell_type": "code",
   "execution_count": null,
   "metadata": {},
   "outputs": [],
   "source": [
    "# Thư mục để lưu trạng thái và kết quả\n",
    "output_dir = \"org\"\n",
    "os.makedirs(output_dir, exist_ok=True)\n",
    "\n",
    "# File để lưu trạng thái của vòng lặp\n",
    "state_file_template = os.path.join(output_dir, \"loop_state_{}.json\")\n",
    "output_file_template = os.path.join(output_dir, \"output_data_{}.txt\")\n",
    "final_output_file = \"final_output_data_org.txt\"  # File tổng kết quả\n",
    "# Bắt đầu vòng lặp từ trạng thái đã lưu\n",
    "chunk_size = 500\n",
    "data_chunks = [data_list[i:i + chunk_size] for i in range(0, len(data_list), chunk_size)]\n",
    "\n",
    "# Bắt đầu vòng lặp từ trạng thái đã lưu\n",
    "saved_states = [load_state(i) for i in range(len(data_chunks))]  # Giả sử có 54 threads\n",
    "\n",
    "# Sử dụng multithreading để xử lý từng chunk\n",
    "all_results = []\n",
    "states = {}\n",
    "with concurrent.futures.ThreadPoolExecutor(max_workers=len(data_chunks)) as executor:\n",
    "    futures = {\n",
    "        executor.submit(process_data_chunk, chunk, idx, saved_states[idx][\"start_index\"]): idx\n",
    "        for idx, chunk in enumerate(data_chunks)\n",
    "    }\n",
    "    for future in concurrent.futures.as_completed(futures):\n",
    "        thread_index = futures[future]\n",
    "        try:\n",
    "            results, current_index = future.result()\n",
    "            all_results.extend(results)\n",
    "            states[thread_index] = {\"start_index\": current_index}  # Lưu trạng thái của thread\n",
    "        except Exception as e:\n",
    "            print(f\"Thread {thread_index} encountered an error: {e}\")\n",
    "            # Nếu gặp lỗi trong thread, vẫn lưu trạng thái\n",
    "            save_state(states[thread_index], thread_index)\n"
   ]
  }
 ],
 "metadata": {
  "kernelspec": {
   "display_name": "base",
   "language": "python",
   "name": "python3"
  },
  "language_info": {
   "codemirror_mode": {
    "name": "ipython",
    "version": 3
   },
   "file_extension": ".py",
   "mimetype": "text/x-python",
   "name": "python",
   "nbconvert_exporter": "python",
   "pygments_lexer": "ipython3",
   "version": "3.12.4"
  }
 },
 "nbformat": 4,
 "nbformat_minor": 2
}
