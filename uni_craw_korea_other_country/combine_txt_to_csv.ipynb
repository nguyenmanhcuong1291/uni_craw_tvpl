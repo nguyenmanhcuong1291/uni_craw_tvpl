{
 "cells": [
  {
   "cell_type": "code",
   "execution_count": 2,
   "metadata": {},
   "outputs": [
    {
     "name": "stdout",
     "output_type": "stream",
     "text": [
      "                                                      0\n",
      "0                                                  2634\n",
      "1                                                  2655\n",
      "2     {'stt': 14944, 'error': 'HTTPSConnectionPool(h...\n",
      "3     {'stt': 19592, 'error': 'HTTPSConnectionPool(h...\n",
      "4     {'stt': 21605, 'error': 'HTTPSConnectionPool(h...\n",
      "...                                                 ...\n",
      "3207  {'stt': 1154064, 'error': '('Connection aborte...\n",
      "3208  {'stt': 1154821, 'error': '('Connection aborte...\n",
      "3209  {'stt': 1155120, 'error': '('Connection aborte...\n",
      "3210  {'stt': 1155278, 'error': '('Connection aborte...\n",
      "3211  {'stt': 1155801, 'error': '('Connection aborte...\n",
      "\n",
      "[3212 rows x 1 columns]\n"
     ]
    }
   ],
   "source": [
    "import pandas as pd\n",
    "import json\n",
    "import os\n",
    "\n",
    "# Thư mục chứa các file TXT\n",
    "directory = 'org/'  # Thay đổi thành đường dẫn thư mục chứa các file TXT của bạn\n",
    "\n",
    "# Tạo danh sách các file theo mẫu tên\n",
    "file_names = [f'error_stt_{i}.txt' for i in range(12)]\n",
    "\n",
    "# Khởi tạo danh sách để chứa dữ liệu từ tất cả các file\n",
    "all_data = []\n",
    "\n",
    "# Đọc và xử lý từng file\n",
    "for file_name in file_names:\n",
    "    file_path = os.path.join(directory, file_name)\n",
    "    with open(file_path, 'r', encoding='utf-8') as file:\n",
    "        # Đọc từng dòng và chuyển đổi từ JSON thành dictionary\n",
    "        data = [json.loads(line) for line in file]\n",
    "        all_data.extend(data)  # Thêm dữ liệu từ file hiện tại vào danh sách tổng\n",
    "\n",
    "# Chuyển tất cả dữ liệu thành DataFrame\n",
    "df = pd.DataFrame(all_data)\n",
    "\n",
    "# Hiển thị DataFrame\n",
    "print(df)\n",
    "\n",
    "# Lưu DataFrame ra file CSV nếu cần\n",
    "df.to_csv('all_error_stt.csv', index=False, encoding='utf-8')\n"
   ]
  }
 ],
 "metadata": {
  "kernelspec": {
   "display_name": "base",
   "language": "python",
   "name": "python3"
  },
  "language_info": {
   "codemirror_mode": {
    "name": "ipython",
    "version": 3
   },
   "file_extension": ".py",
   "mimetype": "text/x-python",
   "name": "python",
   "nbconvert_exporter": "python",
   "pygments_lexer": "ipython3",
   "version": "3.12.4"
  }
 },
 "nbformat": 4,
 "nbformat_minor": 2
}
