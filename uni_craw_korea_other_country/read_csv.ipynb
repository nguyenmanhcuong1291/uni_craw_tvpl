{
 "cells": [
  {
   "cell_type": "code",
   "execution_count": 67,
   "metadata": {},
   "outputs": [],
   "source": [
    "import pandas as pd\n",
    "import json\n",
    "import ast"
   ]
  },
  {
   "cell_type": "code",
   "execution_count": 42,
   "metadata": {},
   "outputs": [
    {
     "name": "stderr",
     "output_type": "stream",
     "text": [
      "C:\\Users\\nguye\\AppData\\Local\\Temp\\ipykernel_12352\\4171856240.py:3: DtypeWarning: Columns (1,2,3,4,7,8,9,10,13,14,15,16,19,20,21,22,23,24,25,26,27,28,29,30,31,32,33,34,35,36,37,38,39,40,41,42,43,44,45,46,47,48,49,50,51,52,53,54,55,56,57,58,59,60,61,62,63,64,65,66) have mixed types. Specify dtype option on import or set low_memory=False.\n",
      "  df = pd.read_csv(r'd:\\Onedrive\\OneDrive - UNI CONSULTING\\Attachments\\Code\\uni_craw_tvpl\\uni_craw_korea_other_country\\all_output_data_2.csv')\n"
     ]
    }
   ],
   "source": [
    "df = pd.read_csv(r'd:\\Onedrive\\OneDrive - UNI CONSULTING\\Attachments\\Code\\uni_craw_tvpl\\uni_craw_korea_other_country\\all_output_data_2.csv')"
   ]
  },
  {
   "cell_type": "code",
   "execution_count": 43,
   "metadata": {},
   "outputs": [
    {
     "data": {
      "text/plain": [
       "1152758"
      ]
     },
     "execution_count": 43,
     "metadata": {},
     "output_type": "execute_result"
    }
   ],
   "source": [
    "len(df)"
   ]
  },
  {
   "cell_type": "code",
   "execution_count": 44,
   "metadata": {},
   "outputs": [],
   "source": [
    "org_df = df[['stt'] + [col for col in df.columns if '_org' in col]]\n",
    "eng_df = df[['stt'] + [col for col in df.columns if '_eng' in col]]\n",
    "kor_df = df[['stt'] + [col for col in df.columns if '_kor' in col]]"
   ]
  },
  {
   "cell_type": "code",
   "execution_count": null,
   "metadata": {},
   "outputs": [],
   "source": [
    "eng_df"
   ]
  },
  {
   "cell_type": "code",
   "execution_count": null,
   "metadata": {},
   "outputs": [],
   "source": [
    "kor_df"
   ]
  },
  {
   "cell_type": "code",
   "execution_count": 87,
   "metadata": {},
   "outputs": [],
   "source": [
    "def clean_data(df,language):\n",
    "    df = df.rename(columns={f'기준년도_{language}': 'năm'})\n",
    "    df = df.rename(columns={f'참조번호_{language}': 'số tham chiếu'})\n",
    "    df = df.rename(columns={f'결정세번_{language}': 'quyết định'})\n",
    "    df = df.rename(columns={f'품명_{language}': 'tên sản phẩm'})\n",
    "    df = df.rename(columns={f'기타품명_{language}': 'tên sản phẩm khác'})\n",
    "    df = df.rename(columns={f'관련 이미지_{language}': 'hình ảnh'})\n",
    "    df = df.rename(columns={f'시행일자_{language}': 'ngày hiệu lực'})\n",
    "    df = df.rename(columns={f'물품설명_{language}': 'mô tả sản phẩm'})\n",
    "    df = df.rename(columns={f'결정사유_{language}': 'lý do quyết định'})\n",
    "    df = df.rename(columns={f'키워드_{language}': 'từ khóa'})\n",
    "    df = df.rename(columns={f'다른이름_{language}': 'tên khác'})\n",
    "    df = df.rename(columns={f'이슈장소_{language}': 'nơi phát hành'})\n",
    "    df = df.rename(columns={f'등록일자_{language}': 'ngày đăng ký'})\n",
    "    df = df.rename(columns={f'품명선언_{language}': 'tên sản phẩm khai báo'})\n",
    "    df = df.rename(columns={f'재질성분_{language}': 'thành phần vật liệu'})\n",
    "    df = df.rename(columns={f'용도_{language}': 'sử dụng'})\n",
    "    df = df.rename(columns={f'분류사유_{language}': 'lý do phân loại'})\n",
    "    df = df.rename(columns={f'세관_{language}': 'hải quan'})\n",
    "    df = df.rename(columns={f'Category_{language}': 'Category'})\n",
    "    df = df.rename(columns={f'회신_{language}': 'hồi đáp'})\n",
    "    df = df.rename(columns={f'물품설명 및 결정사유_{language}': 'Mô tả sản phẩm và lý do quyết định'})\n",
    "    df = df.rename(columns={f'시행기관_{language}': 'Cơ quan thực hiện'})\n",
    "    \n",
    "    # Replace missing values with \"\" in column: 'ngày hiệu lực'\n",
    "    df = df.fillna({'ngày hiệu lực': df['năm']})\n",
    "    df = df.rename(columns={'ngày hiệu lực': 'doc_date'})\n",
    "    \n",
    "    # Rename column 'số tham chiếu' to 'doc_no'\n",
    "    df = df.rename(columns={'số tham chiếu': 'doc_no'})\n",
    "    df = df[df['doc_no'].notna()]\n",
    "    \n",
    "    # Rename column 'tên sản phẩm' to 'product_name'\n",
    "    df = df.rename(columns={'tên sản phẩm': 'product_name'})\n",
    "    \n",
    "    # Rename column 'quyết định' to 'hs'\n",
    "    df = df.rename(columns={'quyết định': 'hs'})\n",
    "    \n",
    "    # Derive column 'implementing_organization' from columns: 'hải quan', 'Cơ quan thực hiện'\n",
    "    df.insert(\n",
    "        23,  \n",
    "        'implementing_organization',\n",
    "        df.apply(\n",
    "            lambda row: row['Cơ quan thực hiện'] \n",
    "            if pd.notnull(row['Cơ quan thực hiện']) and row['Cơ quan thực hiện'] != '' \n",
    "            else (row['hải quan'] if pd.notnull(row['hải quan']) and row['hải quan'] != '' else ''),\n",
    "            axis=1\n",
    "        )\n",
    "    )\n",
    "    \n",
    "    # Derive column 'product_properties' from columns: mô tả sản phẩm, 'thành phần vật liệu'\n",
    "    df.insert(\n",
    "        24, \n",
    "        'product_properties',\n",
    "        df.apply(\n",
    "            lambda row: row['mô tả sản phẩm'] \n",
    "            if pd.notnull(row['mô tả sản phẩm']) and row['mô tả sản phẩm'] != '' \n",
    "            else (row['thành phần vật liệu'] if pd.notnull(row['thành phần vật liệu']) and row['thành phần vật liệu'] != '' else ''),\n",
    "            axis=1\n",
    "        )\n",
    "    )\n",
    "    \n",
    "    # Derive column 'decision_reason' from columns: 'lý do phân loại', 'Mô tả sản phẩm và lý do quyết định'\n",
    "    df.insert(\n",
    "        25,  # Vị trí cột\n",
    "        'decision_reason',\n",
    "        df.apply(\n",
    "            lambda row: row['lý do phân loại'] \n",
    "            if pd.notnull(row['lý do phân loại']) and row['lý do phân loại'] != '' \n",
    "            else (row['Mô tả sản phẩm và lý do quyết định'] if pd.notnull(row['Mô tả sản phẩm và lý do quyết định']) and row['Mô tả sản phẩm và lý do quyết định'] != '' else ''),\n",
    "            axis=1\n",
    "        )\n",
    "    )\n",
    "    \n",
    "    # Replace all instances of \"/clip/framework/filedownload/\" with \"https://unipass.customs.go.kr/clip/framework/filedownload/\" in column: 'hình ảnh'\n",
    "    df.insert(\n",
    "        26,  # Vị trí cột\n",
    "        'original_link',\n",
    "        df['hình ảnh'].str.replace(\n",
    "            \"/clip/framework/filedownload/\", \n",
    "            \"https://unipass.customs.go.kr/clip/framework/filedownload/\", \n",
    "            case=False, \n",
    "            regex=False\n",
    "        )\n",
    "    )\n",
    "    df.fillna('')\n",
    "    return df"
   ]
  },
  {
   "cell_type": "code",
   "execution_count": 107,
   "metadata": {},
   "outputs": [],
   "source": [
    "def toRealList(strList):\n",
    "    if pd.isna(strList) or strList == '':\n",
    "        return\n",
    "    lst = ast.literal_eval(strList)\n",
    "    return json.loads(json.dumps(lst))\n",
    "def tolist(df,col):\n",
    "    df[col] = df[col].apply(lambda x: str(x).split(\"<br/>\"))"
   ]
  },
  {
   "cell_type": "code",
   "execution_count": 132,
   "metadata": {},
   "outputs": [],
   "source": [
    "def make_json_temp(df):\n",
    "    df = df.applymap(lambda x: x.strip(\"<br/>\") if isinstance(x, str) else x)\n",
    "    df['id'] = df.reset_index().index + 1\n",
    "    id = df.pop(\"id\")\n",
    "    df.insert(0, id.name, id)\n",
    "    df = df.map(lambda x: x.replace('\\n', '<br/>').replace('\\xa0','') if isinstance(x, str) else x)\n",
    "    df[\"hs\"] = df[\"hs\"].str.replace(r\"(<br/>\\s*)+\", \" \", regex=True)\n",
    "    df[\"product_properties\"] = df[\"product_properties\"].str.replace(r\"(<br/>\\s*)+\", \"<br/> \", regex=True)\n",
    "    df[\"decision_reason\"] = df[\"decision_reason\"].str.replace(r\"(<br/>\\s*)+\", \"<br/> \", regex=True)\n",
    "    df['img_links'] = df['img_links'].apply(lambda x: toRealList(x))\n",
    "    # print(df)\n",
    "    for col in ['product_name','product_properties','decision_reason']:\n",
    "        tolist(df,col)\n",
    "    return df\n"
   ]
  },
  {
   "cell_type": "code",
   "execution_count": 47,
   "metadata": {},
   "outputs": [],
   "source": [
    "all_link_df = pd.read_csv(r'd:\\Onedrive\\OneDrive - UNI CONSULTING\\Attachments\\Code\\uni_craw_tvpl\\uni_craw_korea_other_country\\all_link_list.csv')"
   ]
  },
  {
   "cell_type": "code",
   "execution_count": 50,
   "metadata": {},
   "outputs": [],
   "source": [
    "nation_name_df = pd.read_excel(r'd:\\Onedrive\\OneDrive - UNI CONSULTING\\Attachments\\Code\\uni_craw_tvpl\\uni_craw_korea_other_country\\nation_name.xlsx')"
   ]
  },
  {
   "cell_type": "code",
   "execution_count": 52,
   "metadata": {},
   "outputs": [],
   "source": [
    "all_link_df_with_nation_name_df = pd.merge(all_link_df,nation_name_df,how='left',left_on='area',right_on='code')"
   ]
  },
  {
   "cell_type": "code",
   "execution_count": 136,
   "metadata": {},
   "outputs": [
    {
     "data": {
      "text/html": [
       "<div>\n",
       "<style scoped>\n",
       "    .dataframe tbody tr th:only-of-type {\n",
       "        vertical-align: middle;\n",
       "    }\n",
       "\n",
       "    .dataframe tbody tr th {\n",
       "        vertical-align: top;\n",
       "    }\n",
       "\n",
       "    .dataframe thead th {\n",
       "        text-align: right;\n",
       "    }\n",
       "</style>\n",
       "<table border=\"1\" class=\"dataframe\">\n",
       "  <thead>\n",
       "    <tr style=\"text-align: right;\">\n",
       "      <th></th>\n",
       "      <th>doc_no</th>\n",
       "      <th>doc_date</th>\n",
       "      <th>implementing_organization</th>\n",
       "      <th>hs</th>\n",
       "      <th>product_name</th>\n",
       "      <th>product_properties</th>\n",
       "      <th>decision_reason</th>\n",
       "      <th>img_links</th>\n",
       "      <th>nation</th>\n",
       "    </tr>\n",
       "  </thead>\n",
       "  <tbody>\n",
       "    <tr>\n",
       "      <th>0</th>\n",
       "      <td>2022_04</td>\n",
       "      <td>2022.0</td>\n",
       "      <td></td>\n",
       "      <td>8471.41.90</td>\n",
       "      <td>PlanetSpark EdgeAI Box X7</td>\n",
       "      <td></td>\n",
       "      <td></td>\n",
       "      <td>[]</td>\n",
       "      <td>Singapore</td>\n",
       "    </tr>\n",
       "    <tr>\n",
       "      <th>1</th>\n",
       "      <td>2022_02</td>\n",
       "      <td>2022.0</td>\n",
       "      <td></td>\n",
       "      <td>9030.82.90</td>\n",
       "      <td>Core Development Platform (CDP)</td>\n",
       "      <td></td>\n",
       "      <td></td>\n",
       "      <td>[]</td>\n",
       "      <td>Singapore</td>\n",
       "    </tr>\n",
       "    <tr>\n",
       "      <th>2</th>\n",
       "      <td>2022_03</td>\n",
       "      <td>2022.0</td>\n",
       "      <td></td>\n",
       "      <td>8542.31.00</td>\n",
       "      <td>Qualcomm Automotive Module</td>\n",
       "      <td></td>\n",
       "      <td></td>\n",
       "      <td>[]</td>\n",
       "      <td>Singapore</td>\n",
       "    </tr>\n",
       "    <tr>\n",
       "      <th>3</th>\n",
       "      <td>2022_01</td>\n",
       "      <td>2022.0</td>\n",
       "      <td></td>\n",
       "      <td>9030.40.00</td>\n",
       "      <td>Mobile Test Platform (MTP)</td>\n",
       "      <td></td>\n",
       "      <td></td>\n",
       "      <td>[]</td>\n",
       "      <td>Singapore</td>\n",
       "    </tr>\n",
       "    <tr>\n",
       "      <th>4</th>\n",
       "      <td>2018_20</td>\n",
       "      <td>2018.0</td>\n",
       "      <td></td>\n",
       "      <td>3809.91.90</td>\n",
       "      <td>Agion® AM-HBR 4 Slurry</td>\n",
       "      <td></td>\n",
       "      <td></td>\n",
       "      <td>[]</td>\n",
       "      <td>Singapore</td>\n",
       "    </tr>\n",
       "  </tbody>\n",
       "</table>\n",
       "</div>"
      ],
      "text/plain": [
       "    doc_no doc_date implementing_organization          hs  \\\n",
       "0  2022_04   2022.0                            8471.41.90   \n",
       "1  2022_02   2022.0                            9030.82.90   \n",
       "2  2022_03   2022.0                            8542.31.00   \n",
       "3  2022_01   2022.0                            9030.40.00   \n",
       "4  2018_20   2018.0                            3809.91.90   \n",
       "\n",
       "                      product_name product_properties decision_reason  \\\n",
       "0        PlanetSpark EdgeAI Box X7                                      \n",
       "1  Core Development Platform (CDP)                                      \n",
       "2       Qualcomm Automotive Module                                      \n",
       "3       Mobile Test Platform (MTP)                                      \n",
       "4           Agion® AM-HBR 4 Slurry                                      \n",
       "\n",
       "  img_links     nation  \n",
       "0        []  Singapore  \n",
       "1        []  Singapore  \n",
       "2        []  Singapore  \n",
       "3        []  Singapore  \n",
       "4        []  Singapore  "
      ]
     },
     "execution_count": 136,
     "metadata": {},
     "output_type": "execute_result"
    }
   ],
   "source": [
    "org_df_clean = clean_data(org_df.copy(),'org')\n",
    "org_df_clean = pd.merge(org_df_clean,all_link_df_with_nation_name_df,how='left',on='stt')\n",
    "org_df_final = org_df_clean[['doc_no','doc_date','implementing_organization','hs','product_name','product_properties','decision_reason','original_link','Eng_nation_name']].rename(columns={'Eng_nation_name': 'nation','original_link': 'img_links'}).fillna('')\n",
    "org_df_final.head(5)"
   ]
  },
  {
   "cell_type": "code",
   "execution_count": 137,
   "metadata": {},
   "outputs": [
    {
     "data": {
      "text/html": [
       "<div>\n",
       "<style scoped>\n",
       "    .dataframe tbody tr th:only-of-type {\n",
       "        vertical-align: middle;\n",
       "    }\n",
       "\n",
       "    .dataframe tbody tr th {\n",
       "        vertical-align: top;\n",
       "    }\n",
       "\n",
       "    .dataframe thead th {\n",
       "        text-align: right;\n",
       "    }\n",
       "</style>\n",
       "<table border=\"1\" class=\"dataframe\">\n",
       "  <thead>\n",
       "    <tr style=\"text-align: right;\">\n",
       "      <th></th>\n",
       "      <th>doc_no</th>\n",
       "      <th>doc_date</th>\n",
       "      <th>implementing_organization</th>\n",
       "      <th>hs</th>\n",
       "      <th>product_name</th>\n",
       "      <th>product_properties</th>\n",
       "      <th>decision_reason</th>\n",
       "      <th>img_links</th>\n",
       "      <th>nation</th>\n",
       "    </tr>\n",
       "  </thead>\n",
       "  <tbody>\n",
       "    <tr>\n",
       "      <th>0</th>\n",
       "      <td>2022_04</td>\n",
       "      <td>2022.0</td>\n",
       "      <td></td>\n",
       "      <td>8471.41.90</td>\n",
       "      <td>PlanetSpark EdgeAI Box X7</td>\n",
       "      <td></td>\n",
       "      <td></td>\n",
       "      <td>[]</td>\n",
       "      <td>Singapore</td>\n",
       "    </tr>\n",
       "    <tr>\n",
       "      <th>1</th>\n",
       "      <td>2022_02</td>\n",
       "      <td>2022.0</td>\n",
       "      <td></td>\n",
       "      <td>9030.82.90</td>\n",
       "      <td>Core Development Platform (CDP)</td>\n",
       "      <td></td>\n",
       "      <td></td>\n",
       "      <td>[]</td>\n",
       "      <td>Singapore</td>\n",
       "    </tr>\n",
       "    <tr>\n",
       "      <th>2</th>\n",
       "      <td>2022_03</td>\n",
       "      <td>2022.0</td>\n",
       "      <td></td>\n",
       "      <td>8542.31.00</td>\n",
       "      <td>Qualcomm Automotive Module</td>\n",
       "      <td></td>\n",
       "      <td></td>\n",
       "      <td>[]</td>\n",
       "      <td>Singapore</td>\n",
       "    </tr>\n",
       "    <tr>\n",
       "      <th>3</th>\n",
       "      <td>2022_01</td>\n",
       "      <td>2022.0</td>\n",
       "      <td></td>\n",
       "      <td>9030.40.00</td>\n",
       "      <td>Mobile Test Platform (MTP)</td>\n",
       "      <td></td>\n",
       "      <td></td>\n",
       "      <td>[]</td>\n",
       "      <td>Singapore</td>\n",
       "    </tr>\n",
       "    <tr>\n",
       "      <th>4</th>\n",
       "      <td>2018_20</td>\n",
       "      <td>2018.0</td>\n",
       "      <td></td>\n",
       "      <td>3809.91.90</td>\n",
       "      <td>Agion® AM-HBR 4 Slurry</td>\n",
       "      <td></td>\n",
       "      <td></td>\n",
       "      <td>[]</td>\n",
       "      <td>Singapore</td>\n",
       "    </tr>\n",
       "  </tbody>\n",
       "</table>\n",
       "</div>"
      ],
      "text/plain": [
       "    doc_no doc_date implementing_organization          hs  \\\n",
       "0  2022_04   2022.0                            8471.41.90   \n",
       "1  2022_02   2022.0                            9030.82.90   \n",
       "2  2022_03   2022.0                            8542.31.00   \n",
       "3  2022_01   2022.0                            9030.40.00   \n",
       "4  2018_20   2018.0                            3809.91.90   \n",
       "\n",
       "                      product_name product_properties decision_reason  \\\n",
       "0        PlanetSpark EdgeAI Box X7                                      \n",
       "1  Core Development Platform (CDP)                                      \n",
       "2       Qualcomm Automotive Module                                      \n",
       "3       Mobile Test Platform (MTP)                                      \n",
       "4           Agion® AM-HBR 4 Slurry                                      \n",
       "\n",
       "  img_links     nation  \n",
       "0        []  Singapore  \n",
       "1        []  Singapore  \n",
       "2        []  Singapore  \n",
       "3        []  Singapore  \n",
       "4        []  Singapore  "
      ]
     },
     "execution_count": 137,
     "metadata": {},
     "output_type": "execute_result"
    }
   ],
   "source": [
    "eng_df_clean = clean_data(eng_df.copy(),'eng')\n",
    "eng_df_clean = pd.merge(eng_df_clean,all_link_df_with_nation_name_df,how='left',on='stt')\n",
    "eng_df_final = eng_df_clean[['doc_no','doc_date','implementing_organization','hs','product_name','product_properties','decision_reason','original_link','Eng_nation_name']].rename(columns={'Eng_nation_name': 'nation','original_link': 'img_links'}).fillna('')\n",
    "eng_df_final.head(5)"
   ]
  },
  {
   "cell_type": "code",
   "execution_count": 138,
   "metadata": {},
   "outputs": [
    {
     "data": {
      "text/html": [
       "<div>\n",
       "<style scoped>\n",
       "    .dataframe tbody tr th:only-of-type {\n",
       "        vertical-align: middle;\n",
       "    }\n",
       "\n",
       "    .dataframe tbody tr th {\n",
       "        vertical-align: top;\n",
       "    }\n",
       "\n",
       "    .dataframe thead th {\n",
       "        text-align: right;\n",
       "    }\n",
       "</style>\n",
       "<table border=\"1\" class=\"dataframe\">\n",
       "  <thead>\n",
       "    <tr style=\"text-align: right;\">\n",
       "      <th></th>\n",
       "      <th>doc_no</th>\n",
       "      <th>doc_date</th>\n",
       "      <th>implementing_organization</th>\n",
       "      <th>hs</th>\n",
       "      <th>product_name</th>\n",
       "      <th>product_properties</th>\n",
       "      <th>decision_reason</th>\n",
       "      <th>img_links</th>\n",
       "      <th>nation</th>\n",
       "    </tr>\n",
       "  </thead>\n",
       "  <tbody>\n",
       "    <tr>\n",
       "      <th>0</th>\n",
       "      <td>2022_04</td>\n",
       "      <td>2022.0</td>\n",
       "      <td></td>\n",
       "      <td>8471.41.90</td>\n",
       "      <td>PlanetSpark EdgeAI 상자 X7</td>\n",
       "      <td></td>\n",
       "      <td></td>\n",
       "      <td>[]</td>\n",
       "      <td>싱가포르</td>\n",
       "    </tr>\n",
       "    <tr>\n",
       "      <th>1</th>\n",
       "      <td>2022_02</td>\n",
       "      <td>2022.0</td>\n",
       "      <td></td>\n",
       "      <td>9030.82.90</td>\n",
       "      <td>핵심 개발 플랫폼 (CDP)</td>\n",
       "      <td></td>\n",
       "      <td></td>\n",
       "      <td>[]</td>\n",
       "      <td>싱가포르</td>\n",
       "    </tr>\n",
       "    <tr>\n",
       "      <th>2</th>\n",
       "      <td>2022_03</td>\n",
       "      <td>2022.0</td>\n",
       "      <td></td>\n",
       "      <td>8542.31.00</td>\n",
       "      <td>퀄컴 자동차 모듈</td>\n",
       "      <td></td>\n",
       "      <td></td>\n",
       "      <td>[]</td>\n",
       "      <td>싱가포르</td>\n",
       "    </tr>\n",
       "    <tr>\n",
       "      <th>3</th>\n",
       "      <td>2022_01</td>\n",
       "      <td>2022.0</td>\n",
       "      <td></td>\n",
       "      <td>9030.40.00</td>\n",
       "      <td>모바일 시험 플랫폼 (MTP)</td>\n",
       "      <td></td>\n",
       "      <td></td>\n",
       "      <td>[]</td>\n",
       "      <td>싱가포르</td>\n",
       "    </tr>\n",
       "    <tr>\n",
       "      <th>4</th>\n",
       "      <td>2018_20</td>\n",
       "      <td>2018.0</td>\n",
       "      <td></td>\n",
       "      <td>3809.91.90</td>\n",
       "      <td>Agion® AM-HBR 4 슬러리</td>\n",
       "      <td></td>\n",
       "      <td></td>\n",
       "      <td>[]</td>\n",
       "      <td>싱가포르</td>\n",
       "    </tr>\n",
       "  </tbody>\n",
       "</table>\n",
       "</div>"
      ],
      "text/plain": [
       "    doc_no doc_date implementing_organization          hs  \\\n",
       "0  2022_04   2022.0                            8471.41.90   \n",
       "1  2022_02   2022.0                            9030.82.90   \n",
       "2  2022_03   2022.0                            8542.31.00   \n",
       "3  2022_01   2022.0                            9030.40.00   \n",
       "4  2018_20   2018.0                            3809.91.90   \n",
       "\n",
       "               product_name product_properties decision_reason img_links  \\\n",
       "0  PlanetSpark EdgeAI 상자 X7                                           []   \n",
       "1           핵심 개발 플랫폼 (CDP)                                           []   \n",
       "2                 퀄컴 자동차 모듈                                           []   \n",
       "3          모바일 시험 플랫폼 (MTP)                                           []   \n",
       "4       Agion® AM-HBR 4 슬러리                                           []   \n",
       "\n",
       "  nation  \n",
       "0   싱가포르  \n",
       "1   싱가포르  \n",
       "2   싱가포르  \n",
       "3   싱가포르  \n",
       "4   싱가포르  "
      ]
     },
     "execution_count": 138,
     "metadata": {},
     "output_type": "execute_result"
    }
   ],
   "source": [
    "kor_df_clean = clean_data(kor_df.copy(),'kor')\n",
    "kor_df_clean = pd.merge(kor_df_clean,all_link_df_with_nation_name_df,how='left',on='stt')\n",
    "kor_df_final = kor_df_clean[['doc_no','doc_date','implementing_organization','hs','product_name','product_properties','decision_reason','original_link','Kr_nation_name']].rename(columns={'Kr_nation_name': 'nation','original_link': 'img_links'}).fillna('')\n",
    "kor_df_final.head(5)"
   ]
  },
  {
   "cell_type": "code",
   "execution_count": 108,
   "metadata": {},
   "outputs": [],
   "source": [
    "old_kor_data = pd.read_excel(\"ko_prod_class_22-10_with_imglink.xlsx\",\n",
    "                    sheet_name=\"Sheet1\",\n",
    "                    skiprows=2).fillna(\"\").iloc[:,1:10]"
   ]
  },
  {
   "cell_type": "code",
   "execution_count": 110,
   "metadata": {},
   "outputs": [],
   "source": [
    "kor_data = pd.concat([kor_df_final,old_kor_data],ignore_index=True)"
   ]
  },
  {
   "cell_type": "code",
   "execution_count": 114,
   "metadata": {},
   "outputs": [
    {
     "name": "stderr",
     "output_type": "stream",
     "text": [
      "C:\\Users\\nguye\\AppData\\Local\\Temp\\ipykernel_12352\\749152255.py:2: FutureWarning: DataFrame.applymap has been deprecated. Use DataFrame.map instead.\n",
      "  df = df.applymap(lambda x: x.strip(\"<br/>\") if isinstance(x, str) else x)\n"
     ]
    }
   ],
   "source": [
    "kor_data_json_final  = make_json_temp(kor_data)"
   ]
  },
  {
   "cell_type": "code",
   "execution_count": 118,
   "metadata": {},
   "outputs": [],
   "source": [
    "with open('ko_prod_class_06_01.json', 'w') as f:\n",
    "    json.dump(json.loads(kor_data_json_final.to_json(orient=\"records\")), f)"
   ]
  },
  {
   "cell_type": "code",
   "execution_count": 139,
   "metadata": {},
   "outputs": [],
   "source": [
    "old_eng_data = pd.read_excel(\"en_prod_class.xlsx\",\n",
    "                    sheet_name=\"Sheet1\",\n",
    "                    skiprows=2).fillna(\"\").iloc[:,1:10]"
   ]
  },
  {
   "cell_type": "code",
   "execution_count": 140,
   "metadata": {},
   "outputs": [],
   "source": [
    "eng_data = pd.concat([eng_df_final,old_eng_data],ignore_index=True)"
   ]
  },
  {
   "cell_type": "code",
   "execution_count": 141,
   "metadata": {},
   "outputs": [
    {
     "name": "stderr",
     "output_type": "stream",
     "text": [
      "C:\\Users\\nguye\\AppData\\Local\\Temp\\ipykernel_12352\\749152255.py:2: FutureWarning: DataFrame.applymap has been deprecated. Use DataFrame.map instead.\n",
      "  df = df.applymap(lambda x: x.strip(\"<br/>\") if isinstance(x, str) else x)\n"
     ]
    }
   ],
   "source": [
    "eng_data_json_final  = make_json_temp(eng_data)"
   ]
  },
  {
   "cell_type": "code",
   "execution_count": 143,
   "metadata": {},
   "outputs": [
    {
     "data": {
      "text/plain": [
       "1204993"
      ]
     },
     "execution_count": 143,
     "metadata": {},
     "output_type": "execute_result"
    }
   ],
   "source": [
    "len(eng_data_json_final)"
   ]
  },
  {
   "cell_type": "code",
   "execution_count": 142,
   "metadata": {},
   "outputs": [],
   "source": [
    "with open('eng_prod_class_06_01.json', 'w') as f:\n",
    "    json.dump(json.loads(eng_data_json_final.to_json(orient=\"records\")), f)"
   ]
  }
 ],
 "metadata": {
  "kernelspec": {
   "display_name": "base",
   "language": "python",
   "name": "python3"
  },
  "language_info": {
   "codemirror_mode": {
    "name": "ipython",
    "version": 3
   },
   "file_extension": ".py",
   "mimetype": "text/x-python",
   "name": "python",
   "nbconvert_exporter": "python",
   "pygments_lexer": "ipython3",
   "version": "3.12.4"
  }
 },
 "nbformat": 4,
 "nbformat_minor": 2
}
