{
 "cells": [
  {
   "cell_type": "code",
   "execution_count": 1,
   "metadata": {},
   "outputs": [
    {
     "name": "stderr",
     "output_type": "stream",
     "text": [
      "C:\\Users\\nguye\\AppData\\Local\\Temp\\ipykernel_26744\\4171856240.py:3: DtypeWarning: Columns (1,2,3,4,7,8,9,10,13,14,15,16,19,20,21,22,23,24,25,26,27,28,29,30,31,32,33,34,35,36,37,38,39,40,41,42,43,44,45,46,47,48,49,50,51,52,53,54,55,56,57,58,59,60,61,62,63,64,65,66) have mixed types. Specify dtype option on import or set low_memory=False.\n",
      "  df = pd.read_csv(r'd:\\Onedrive\\OneDrive - UNI CONSULTING\\Attachments\\Code\\uni_craw_tvpl\\uni_craw_korea_other_country\\all_output_data_2.csv')\n"
     ]
    }
   ],
   "source": [
    "# Loaded variable 'df' from URI: d:\\Onedrive\\OneDrive - UNI CONSULTING\\Attachments\\Code\\uni_craw_tvpl\\uni_craw_korea_other_country\\all_output_data_2.csv\n",
    "import pandas as pd\n",
    "df = pd.read_csv(r'd:\\Onedrive\\OneDrive - UNI CONSULTING\\Attachments\\Code\\uni_craw_tvpl\\uni_craw_korea_other_country\\all_output_data_2.csv')"
   ]
  },
  {
   "cell_type": "code",
   "execution_count": 2,
   "metadata": {},
   "outputs": [
    {
     "data": {
      "text/plain": [
       "1152758"
      ]
     },
     "execution_count": 2,
     "metadata": {},
     "output_type": "execute_result"
    }
   ],
   "source": [
    "len(df)"
   ]
  },
  {
   "cell_type": "code",
   "execution_count": null,
   "metadata": {},
   "outputs": [],
   "source": []
  }
 ],
 "metadata": {
  "kernelspec": {
   "display_name": "base",
   "language": "python",
   "name": "python3"
  },
  "language_info": {
   "codemirror_mode": {
    "name": "ipython",
    "version": 3
   },
   "file_extension": ".py",
   "mimetype": "text/x-python",
   "name": "python",
   "nbconvert_exporter": "python",
   "pygments_lexer": "ipython3",
   "version": "3.12.4"
  }
 },
 "nbformat": 4,
 "nbformat_minor": 2
}
