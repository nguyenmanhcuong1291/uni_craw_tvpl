{
 "cells": [
  {
   "cell_type": "code",
   "execution_count": 67,
   "metadata": {},
   "outputs": [],
   "source": [
    "import pandas as pd\n",
    "import json\n",
    "import ast"
   ]
  },
  {
   "cell_type": "code",
   "execution_count": null,
   "metadata": {},
   "outputs": [
    {
     "name": "stderr",
     "output_type": "stream",
     "text": [
      "C:\\Users\\nguye\\AppData\\Local\\Temp\\ipykernel_12352\\4171856240.py:3: DtypeWarning: Columns (1,2,3,4,7,8,9,10,13,14,15,16,19,20,21,22,23,24,25,26,27,28,29,30,31,32,33,34,35,36,37,38,39,40,41,42,43,44,45,46,47,48,49,50,51,52,53,54,55,56,57,58,59,60,61,62,63,64,65,66) have mixed types. Specify dtype option on import or set low_memory=False.\n",
      "  df = pd.read_csv(r'd:\\Onedrive\\OneDrive - UNI CONSULTING\\Attachments\\Code\\uni_craw_tvpl\\uni_craw_korea_other_country\\all_output_data_2.csv')\n"
     ]
    }
   ],
   "source": [
    "df = pd.read_csv(r'd:\\Onedrive\\OneDrive - UNI CONSULTING\\Attachments\\Code\\uni_craw_tvpl\\uni_craw_korea_other_country\\all_output_data_2.csv')"
   ]
  },
  {
   "cell_type": "code",
   "execution_count": 43,
   "metadata": {},
   "outputs": [
    {
     "data": {
      "text/plain": [
       "1152758"
      ]
     },
     "execution_count": 43,
     "metadata": {},
     "output_type": "execute_result"
    }
   ],
   "source": [
    "len(df)"
   ]
  },
  {
   "cell_type": "code",
   "execution_count": 44,
   "metadata": {},
   "outputs": [],
   "source": [
    "org_df = df[['stt'] + [col for col in df.columns if '_org' in col]]\n",
    "eng_df = df[['stt'] + [col for col in df.columns if '_eng' in col]]\n",
    "kor_df = df[['stt'] + [col for col in df.columns if '_kor' in col]]"
   ]
  },
  {
   "cell_type": "code",
   "execution_count": null,
   "metadata": {},
   "outputs": [],
   "source": [
    "eng_df"
   ]
  },
  {
   "cell_type": "code",
   "execution_count": null,
   "metadata": {},
   "outputs": [],
   "source": [
    "kor_df"
   ]
  },
  {
   "cell_type": "code",
   "execution_count": 87,
   "metadata": {},
   "outputs": [],
   "source": [
    "def clean_data(df,language):\n",
    "    df = df.rename(columns={f'기준년도_{language}': 'năm'})\n",
    "    df = df.rename(columns={f'참조번호_{language}': 'số tham chiếu'})\n",
    "    df = df.rename(columns={f'결정세번_{language}': 'quyết định'})\n",
    "    df = df.rename(columns={f'품명_{language}': 'tên sản phẩm'})\n",
    "    df = df.rename(columns={f'기타품명_{language}': 'tên sản phẩm khác'})\n",
    "    df = df.rename(columns={f'관련 이미지_{language}': 'hình ảnh'})\n",
    "    df = df.rename(columns={f'시행일자_{language}': 'ngày hiệu lực'})\n",
    "    df = df.rename(columns={f'물품설명_{language}': 'mô tả sản phẩm'})\n",
    "    df = df.rename(columns={f'결정사유_{language}': 'lý do quyết định'})\n",
    "    df = df.rename(columns={f'키워드_{language}': 'từ khóa'})\n",
    "    df = df.rename(columns={f'다른이름_{language}': 'tên khác'})\n",
    "    df = df.rename(columns={f'이슈장소_{language}': 'nơi phát hành'})\n",
    "    df = df.rename(columns={f'등록일자_{language}': 'ngày đăng ký'})\n",
    "    df = df.rename(columns={f'품명선언_{language}': 'tên sản phẩm khai báo'})\n",
    "    df = df.rename(columns={f'재질성분_{language}': 'thành phần vật liệu'})\n",
    "    df = df.rename(columns={f'용도_{language}': 'sử dụng'})\n",
    "    df = df.rename(columns={f'분류사유_{language}': 'lý do phân loại'})\n",
    "    df = df.rename(columns={f'세관_{language}': 'hải quan'})\n",
    "    df = df.rename(columns={f'Category_{language}': 'Category'})\n",
    "    df = df.rename(columns={f'회신_{language}': 'hồi đáp'})\n",
    "    df = df.rename(columns={f'물품설명 및 결정사유_{language}': 'Mô tả sản phẩm và lý do quyết định'})\n",
    "    df = df.rename(columns={f'시행기관_{language}': 'Cơ quan thực hiện'})\n",
    "    \n",
    "    # Replace missing values with \"\" in column: 'ngày hiệu lực'\n",
    "    df = df.fillna({'ngày hiệu lực': df['năm']})\n",
    "    df = df.rename(columns={'ngày hiệu lực': 'doc_date'})\n",
    "    \n",
    "    # Rename column 'số tham chiếu' to 'doc_no'\n",
    "    df = df.rename(columns={'số tham chiếu': 'doc_no'})\n",
    "    df = df[df['doc_no'].notna()]\n",
    "    \n",
    "    # Rename column 'tên sản phẩm' to 'product_name'\n",
    "    df = df.rename(columns={'tên sản phẩm': 'product_name'})\n",
    "    \n",
    "    # Rename column 'quyết định' to 'hs'\n",
    "    df = df.rename(columns={'quyết định': 'hs'})\n",
    "    \n",
    "    # Derive column 'implementing_organization' from columns: 'hải quan', 'Cơ quan thực hiện'\n",
    "    df.insert(\n",
    "        23,  \n",
    "        'implementing_organization',\n",
    "        df.apply(\n",
    "            lambda row: row['Cơ quan thực hiện'] \n",
    "            if pd.notnull(row['Cơ quan thực hiện']) and row['Cơ quan thực hiện'] != '' \n",
    "            else (row['hải quan'] if pd.notnull(row['hải quan']) and row['hải quan'] != '' else ''),\n",
    "            axis=1\n",
    "        )\n",
    "    )\n",
    "    \n",
    "    # Derive column 'product_properties' from columns: mô tả sản phẩm, 'thành phần vật liệu'\n",
    "    df.insert(\n",
    "        24, \n",
    "        'product_properties',\n",
    "        df.apply(\n",
    "            lambda row: row['mô tả sản phẩm'] \n",
    "            if pd.notnull(row['mô tả sản phẩm']) and row['mô tả sản phẩm'] != '' \n",
    "            else (row['thành phần vật liệu'] if pd.notnull(row['thành phần vật liệu']) and row['thành phần vật liệu'] != '' else ''),\n",
    "            axis=1\n",
    "        )\n",
    "    )\n",
    "    \n",
    "    # Derive column 'decision_reason' from columns: 'lý do phân loại', 'Mô tả sản phẩm và lý do quyết định'\n",
    "    df.insert(\n",
    "        25,  # Vị trí cột\n",
    "        'decision_reason',\n",
    "        df.apply(\n",
    "            lambda row: row['lý do phân loại'] \n",
    "            if pd.notnull(row['lý do phân loại']) and row['lý do phân loại'] != '' \n",
    "            else (row['Mô tả sản phẩm và lý do quyết định'] if pd.notnull(row['Mô tả sản phẩm và lý do quyết định']) and row['Mô tả sản phẩm và lý do quyết định'] != '' else ''),\n",
    "            axis=1\n",
    "        )\n",
    "    )\n",
    "    \n",
    "    # Replace all instances of \"/clip/framework/filedownload/\" with \"https://unipass.customs.go.kr/clip/framework/filedownload/\" in column: 'hình ảnh'\n",
    "    df.insert(\n",
    "        26,  # Vị trí cột\n",
    "        'original_link',\n",
    "        df['hình ảnh'].str.replace(\n",
    "            \"/clip/framework/filedownload/\", \n",
    "            \"https://unipass.customs.go.kr/clip/framework/filedownload/\", \n",
    "            case=False, \n",
    "            regex=False\n",
    "        )\n",
    "    )\n",
    "    df.fillna('')\n",
    "    return df"
   ]
  },
  {
   "cell_type": "code",
   "execution_count": 47,
   "metadata": {},
   "outputs": [],
   "source": [
    "all_link_df = pd.read_csv(r'd:\\Onedrive\\OneDrive - UNI CONSULTING\\Attachments\\Code\\uni_craw_tvpl\\uni_craw_korea_other_country\\all_link_list.csv')"
   ]
  },
  {
   "cell_type": "code",
   "execution_count": 50,
   "metadata": {},
   "outputs": [],
   "source": [
    "nation_name_df = pd.read_excel(r'd:\\Onedrive\\OneDrive - UNI CONSULTING\\Attachments\\Code\\uni_craw_tvpl\\uni_craw_korea_other_country\\nation_name.xlsx')"
   ]
  },
  {
   "cell_type": "code",
   "execution_count": 52,
   "metadata": {},
   "outputs": [],
   "source": [
    "all_link_df_with_nation_name_df = pd.merge(all_link_df,nation_name_df,how='left',left_on='area',right_on='code')"
   ]
  },
  {
   "cell_type": "code",
   "execution_count": 58,
   "metadata": {},
   "outputs": [
    {
     "data": {
      "text/html": [
       "<div>\n",
       "<style scoped>\n",
       "    .dataframe tbody tr th:only-of-type {\n",
       "        vertical-align: middle;\n",
       "    }\n",
       "\n",
       "    .dataframe tbody tr th {\n",
       "        vertical-align: top;\n",
       "    }\n",
       "\n",
       "    .dataframe thead th {\n",
       "        text-align: right;\n",
       "    }\n",
       "</style>\n",
       "<table border=\"1\" class=\"dataframe\">\n",
       "  <thead>\n",
       "    <tr style=\"text-align: right;\">\n",
       "      <th></th>\n",
       "      <th>stt</th>\n",
       "      <th>doc_no</th>\n",
       "      <th>doc_date</th>\n",
       "      <th>implementing_organization</th>\n",
       "      <th>hs</th>\n",
       "      <th>product_name</th>\n",
       "      <th>product_properties</th>\n",
       "      <th>decision_reason</th>\n",
       "      <th>img_links</th>\n",
       "      <th>nation</th>\n",
       "    </tr>\n",
       "  </thead>\n",
       "  <tbody>\n",
       "    <tr>\n",
       "      <th>0</th>\n",
       "      <td>62</td>\n",
       "      <td>311.29.1.2023.1</td>\n",
       "      <td>2023-01-01</td>\n",
       "      <td></td>\n",
       "      <td>7104.2900</td>\n",
       "      <td>Halbfabrikate aus synthetischem Korund (Saphir...</td>\n",
       "      <td>Halbfabrikate aus synthetischem, monokristalli...</td>\n",
       "      <td></td>\n",
       "      <td>['https://unipass.customs.go.kr/clip/framework...</td>\n",
       "      <td>Switzerland</td>\n",
       "    </tr>\n",
       "    <tr>\n",
       "      <th>1</th>\n",
       "      <td>68</td>\n",
       "      <td>710108.8.2021.2</td>\n",
       "      <td>2021-01-01</td>\n",
       "      <td></td>\n",
       "      <td>3917.1000</td>\n",
       "      <td>Essbare Wursthüllen auf Kollagenbasis</td>\n",
       "      <td>Essbare Wursthüllen auf Kollagenbasis weiche, ...</td>\n",
       "      <td></td>\n",
       "      <td>['https://unipass.customs.go.kr/clip/framework...</td>\n",
       "      <td>Switzerland</td>\n",
       "    </tr>\n",
       "    <tr>\n",
       "      <th>2</th>\n",
       "      <td>69</td>\n",
       "      <td>710108.6.2021.2</td>\n",
       "      <td>2021-01-01</td>\n",
       "      <td></td>\n",
       "      <td>7010.2010/2090</td>\n",
       "      <td>Deckel aus hitzebeständigem Glas</td>\n",
       "      <td>Deckel aus hitzebeständigem Glas mit Griffen a...</td>\n",
       "      <td></td>\n",
       "      <td>['https://unipass.customs.go.kr/clip/framework...</td>\n",
       "      <td>Switzerland</td>\n",
       "    </tr>\n",
       "    <tr>\n",
       "      <th>3</th>\n",
       "      <td>72</td>\n",
       "      <td>710108.4.2021.2</td>\n",
       "      <td>2021-01-01</td>\n",
       "      <td></td>\n",
       "      <td>3924.9000</td>\n",
       "      <td>Kleiderbügel aus Kunststoff</td>\n",
       "      <td>Kleiderbügel aus Kunststoff zum Aufhängen von ...</td>\n",
       "      <td></td>\n",
       "      <td>['https://unipass.customs.go.kr/clip/framework...</td>\n",
       "      <td>Switzerland</td>\n",
       "    </tr>\n",
       "    <tr>\n",
       "      <th>4</th>\n",
       "      <td>75</td>\n",
       "      <td>710108.28.2021.2</td>\n",
       "      <td>2021-01-01</td>\n",
       "      <td></td>\n",
       "      <td>3926.9000</td>\n",
       "      <td>Bodenmatte</td>\n",
       "      <td>Bodenmatte aufrollbar, rechteckig, mit abgerun...</td>\n",
       "      <td></td>\n",
       "      <td>['https://unipass.customs.go.kr/clip/framework...</td>\n",
       "      <td>Switzerland</td>\n",
       "    </tr>\n",
       "  </tbody>\n",
       "</table>\n",
       "</div>"
      ],
      "text/plain": [
       "   stt            doc_no    doc_date implementing_organization  \\\n",
       "0   62   311.29.1.2023.1  2023-01-01                             \n",
       "1   68   710108.8.2021.2  2021-01-01                             \n",
       "2   69   710108.6.2021.2  2021-01-01                             \n",
       "3   72   710108.4.2021.2  2021-01-01                             \n",
       "4   75  710108.28.2021.2  2021-01-01                             \n",
       "\n",
       "               hs                                       product_name  \\\n",
       "0       7104.2900  Halbfabrikate aus synthetischem Korund (Saphir...   \n",
       "1       3917.1000              Essbare Wursthüllen auf Kollagenbasis   \n",
       "2  7010.2010/2090                   Deckel aus hitzebeständigem Glas   \n",
       "3       3924.9000                        Kleiderbügel aus Kunststoff   \n",
       "4       3926.9000                                         Bodenmatte   \n",
       "\n",
       "                                  product_properties decision_reason  \\\n",
       "0  Halbfabrikate aus synthetischem, monokristalli...                   \n",
       "1  Essbare Wursthüllen auf Kollagenbasis weiche, ...                   \n",
       "2  Deckel aus hitzebeständigem Glas mit Griffen a...                   \n",
       "3  Kleiderbügel aus Kunststoff zum Aufhängen von ...                   \n",
       "4  Bodenmatte aufrollbar, rechteckig, mit abgerun...                   \n",
       "\n",
       "                                           img_links       nation  \n",
       "0  ['https://unipass.customs.go.kr/clip/framework...  Switzerland  \n",
       "1  ['https://unipass.customs.go.kr/clip/framework...  Switzerland  \n",
       "2  ['https://unipass.customs.go.kr/clip/framework...  Switzerland  \n",
       "3  ['https://unipass.customs.go.kr/clip/framework...  Switzerland  \n",
       "4  ['https://unipass.customs.go.kr/clip/framework...  Switzerland  "
      ]
     },
     "execution_count": 58,
     "metadata": {},
     "output_type": "execute_result"
    }
   ],
   "source": [
    "org_df_clean = clean_data(org_df.copy(),'org')\n",
    "org_df_clean = pd.merge(org_df_clean,all_link_df_with_nation_name_df,how='left',on='stt')\n",
    "org_df_final = org_df_clean[['stt','doc_no','doc_date','implementing_organization','hs','product_name','product_properties','decision_reason','original_link','Eng_nation_name']].rename(columns={'Eng_nation_name': 'nation','original_link': 'img_links'}).fillna('')\n",
    "org_df_final.head(5)"
   ]
  },
  {
   "cell_type": "code",
   "execution_count": 59,
   "metadata": {},
   "outputs": [
    {
     "data": {
      "text/html": [
       "<div>\n",
       "<style scoped>\n",
       "    .dataframe tbody tr th:only-of-type {\n",
       "        vertical-align: middle;\n",
       "    }\n",
       "\n",
       "    .dataframe tbody tr th {\n",
       "        vertical-align: top;\n",
       "    }\n",
       "\n",
       "    .dataframe thead th {\n",
       "        text-align: right;\n",
       "    }\n",
       "</style>\n",
       "<table border=\"1\" class=\"dataframe\">\n",
       "  <thead>\n",
       "    <tr style=\"text-align: right;\">\n",
       "      <th></th>\n",
       "      <th>stt</th>\n",
       "      <th>doc_no</th>\n",
       "      <th>doc_date</th>\n",
       "      <th>implementing_organization</th>\n",
       "      <th>hs</th>\n",
       "      <th>product_name</th>\n",
       "      <th>product_properties</th>\n",
       "      <th>decision_reason</th>\n",
       "      <th>img_links</th>\n",
       "      <th>nation</th>\n",
       "    </tr>\n",
       "  </thead>\n",
       "  <tbody>\n",
       "    <tr>\n",
       "      <th>0</th>\n",
       "      <td>62</td>\n",
       "      <td>311.29.1.2023.1</td>\n",
       "      <td>2023-01-01</td>\n",
       "      <td></td>\n",
       "      <td>7104.2900</td>\n",
       "      <td>Semi-finished products made from synthetic cor...</td>\n",
       "      <td>Semi-finished products made of synthetic, mono...</td>\n",
       "      <td></td>\n",
       "      <td>['https://unipass.customs.go.kr/clip/framework...</td>\n",
       "      <td>Switzerland</td>\n",
       "    </tr>\n",
       "    <tr>\n",
       "      <th>1</th>\n",
       "      <td>68</td>\n",
       "      <td>710108.8.2021.2</td>\n",
       "      <td>2021-01-01</td>\n",
       "      <td></td>\n",
       "      <td>3917.1000</td>\n",
       "      <td>Collagen-based edible sausage casings</td>\n",
       "      <td>Collagen-based edible sausage casings are soft...</td>\n",
       "      <td></td>\n",
       "      <td>['https://unipass.customs.go.kr/clip/framework...</td>\n",
       "      <td>Switzerland</td>\n",
       "    </tr>\n",
       "    <tr>\n",
       "      <th>2</th>\n",
       "      <td>69</td>\n",
       "      <td>710108.6.2021.2</td>\n",
       "      <td>2021-01-01</td>\n",
       "      <td></td>\n",
       "      <td>7010.2010/2090</td>\n",
       "      <td>Heat-resistant glass lid</td>\n",
       "      <td>Heat-resistant glass lid</td>\n",
       "      <td></td>\n",
       "      <td>['https://unipass.customs.go.kr/clip/framework...</td>\n",
       "      <td>Switzerland</td>\n",
       "    </tr>\n",
       "    <tr>\n",
       "      <th>3</th>\n",
       "      <td>72</td>\n",
       "      <td>710108.4.2021.2</td>\n",
       "      <td>2021-01-01</td>\n",
       "      <td></td>\n",
       "      <td>3924.9000</td>\n",
       "      <td>Plastic hangers</td>\n",
       "      <td>Plastic hangers</td>\n",
       "      <td></td>\n",
       "      <td>['https://unipass.customs.go.kr/clip/framework...</td>\n",
       "      <td>Switzerland</td>\n",
       "    </tr>\n",
       "    <tr>\n",
       "      <th>4</th>\n",
       "      <td>75</td>\n",
       "      <td>710108.28.2021.2</td>\n",
       "      <td>2021-01-01</td>\n",
       "      <td></td>\n",
       "      <td>3926.9000</td>\n",
       "      <td>floor mat</td>\n",
       "      <td>floor mat</td>\n",
       "      <td></td>\n",
       "      <td>['https://unipass.customs.go.kr/clip/framework...</td>\n",
       "      <td>Switzerland</td>\n",
       "    </tr>\n",
       "  </tbody>\n",
       "</table>\n",
       "</div>"
      ],
      "text/plain": [
       "   stt            doc_no    doc_date implementing_organization  \\\n",
       "0   62   311.29.1.2023.1  2023-01-01                             \n",
       "1   68   710108.8.2021.2  2021-01-01                             \n",
       "2   69   710108.6.2021.2  2021-01-01                             \n",
       "3   72   710108.4.2021.2  2021-01-01                             \n",
       "4   75  710108.28.2021.2  2021-01-01                             \n",
       "\n",
       "               hs                                       product_name  \\\n",
       "0       7104.2900  Semi-finished products made from synthetic cor...   \n",
       "1       3917.1000              Collagen-based edible sausage casings   \n",
       "2  7010.2010/2090                           Heat-resistant glass lid   \n",
       "3       3924.9000                                    Plastic hangers   \n",
       "4       3926.9000                                          floor mat   \n",
       "\n",
       "                                  product_properties decision_reason  \\\n",
       "0  Semi-finished products made of synthetic, mono...                   \n",
       "1  Collagen-based edible sausage casings are soft...                   \n",
       "2                           Heat-resistant glass lid                   \n",
       "3                                    Plastic hangers                   \n",
       "4                                          floor mat                   \n",
       "\n",
       "                                           img_links       nation  \n",
       "0  ['https://unipass.customs.go.kr/clip/framework...  Switzerland  \n",
       "1  ['https://unipass.customs.go.kr/clip/framework...  Switzerland  \n",
       "2  ['https://unipass.customs.go.kr/clip/framework...  Switzerland  \n",
       "3  ['https://unipass.customs.go.kr/clip/framework...  Switzerland  \n",
       "4  ['https://unipass.customs.go.kr/clip/framework...  Switzerland  "
      ]
     },
     "execution_count": 59,
     "metadata": {},
     "output_type": "execute_result"
    }
   ],
   "source": [
    "eng_df_clean = clean_data(eng_df.copy(),'eng')\n",
    "eng_df_clean = pd.merge(eng_df_clean,all_link_df_with_nation_name_df,how='left',on='stt')\n",
    "eng_df_final = eng_df_clean[['stt','doc_no','doc_date','implementing_organization','hs','product_name','product_properties','decision_reason','original_link','Eng_nation_name']].rename(columns={'Eng_nation_name': 'nation','original_link': 'img_links'}).fillna('')\n",
    "eng_df_final.head(5)"
   ]
  },
  {
   "cell_type": "code",
   "execution_count": 88,
   "metadata": {},
   "outputs": [
    {
     "ename": "KeyboardInterrupt",
     "evalue": "",
     "output_type": "error",
     "traceback": [
      "\u001b[1;31m---------------------------------------------------------------------------\u001b[0m",
      "\u001b[1;31mKeyboardInterrupt\u001b[0m                         Traceback (most recent call last)",
      "Cell \u001b[1;32mIn[88], line 2\u001b[0m\n\u001b[0;32m      1\u001b[0m kor_df_clean \u001b[38;5;241m=\u001b[39m clean_data(kor_df\u001b[38;5;241m.\u001b[39mcopy(),\u001b[38;5;124m'\u001b[39m\u001b[38;5;124mkor\u001b[39m\u001b[38;5;124m'\u001b[39m)\n\u001b[1;32m----> 2\u001b[0m kor_df_clean \u001b[38;5;241m=\u001b[39m pd\u001b[38;5;241m.\u001b[39mmerge(kor_df_clean,all_link_df_with_nation_name_df,how\u001b[38;5;241m=\u001b[39m\u001b[38;5;124m'\u001b[39m\u001b[38;5;124mleft\u001b[39m\u001b[38;5;124m'\u001b[39m,on\u001b[38;5;241m=\u001b[39m\u001b[38;5;124m'\u001b[39m\u001b[38;5;124mstt\u001b[39m\u001b[38;5;124m'\u001b[39m)\n\u001b[0;32m      3\u001b[0m kor_df_final \u001b[38;5;241m=\u001b[39m kor_df_clean[[\u001b[38;5;124m'\u001b[39m\u001b[38;5;124mstt\u001b[39m\u001b[38;5;124m'\u001b[39m,\u001b[38;5;124m'\u001b[39m\u001b[38;5;124mdoc_no\u001b[39m\u001b[38;5;124m'\u001b[39m,\u001b[38;5;124m'\u001b[39m\u001b[38;5;124mdoc_date\u001b[39m\u001b[38;5;124m'\u001b[39m,\u001b[38;5;124m'\u001b[39m\u001b[38;5;124mimplementing_organization\u001b[39m\u001b[38;5;124m'\u001b[39m,\u001b[38;5;124m'\u001b[39m\u001b[38;5;124mhs\u001b[39m\u001b[38;5;124m'\u001b[39m,\u001b[38;5;124m'\u001b[39m\u001b[38;5;124mproduct_name\u001b[39m\u001b[38;5;124m'\u001b[39m,\u001b[38;5;124m'\u001b[39m\u001b[38;5;124mproduct_properties\u001b[39m\u001b[38;5;124m'\u001b[39m,\u001b[38;5;124m'\u001b[39m\u001b[38;5;124mdecision_reason\u001b[39m\u001b[38;5;124m'\u001b[39m,\u001b[38;5;124m'\u001b[39m\u001b[38;5;124moriginal_link\u001b[39m\u001b[38;5;124m'\u001b[39m,\u001b[38;5;124m'\u001b[39m\u001b[38;5;124mKr_nation_name\u001b[39m\u001b[38;5;124m'\u001b[39m]]\u001b[38;5;241m.\u001b[39mrename(columns\u001b[38;5;241m=\u001b[39m{\u001b[38;5;124m'\u001b[39m\u001b[38;5;124mKr_nation_name\u001b[39m\u001b[38;5;124m'\u001b[39m: \u001b[38;5;124m'\u001b[39m\u001b[38;5;124mnation\u001b[39m\u001b[38;5;124m'\u001b[39m,\u001b[38;5;124m'\u001b[39m\u001b[38;5;124moriginal_link\u001b[39m\u001b[38;5;124m'\u001b[39m: \u001b[38;5;124m'\u001b[39m\u001b[38;5;124mimg_links\u001b[39m\u001b[38;5;124m'\u001b[39m})\u001b[38;5;241m.\u001b[39mfillna(\u001b[38;5;124m'\u001b[39m\u001b[38;5;124m'\u001b[39m)\n\u001b[0;32m      4\u001b[0m kor_df_final\u001b[38;5;241m.\u001b[39mhead(\u001b[38;5;241m5\u001b[39m)\n",
      "File \u001b[1;32mc:\\Users\\nguye\\anaconda3\\Lib\\site-packages\\pandas\\core\\reshape\\merge.py:184\u001b[0m, in \u001b[0;36mmerge\u001b[1;34m(left, right, how, on, left_on, right_on, left_index, right_index, sort, suffixes, copy, indicator, validate)\u001b[0m\n\u001b[0;32m    169\u001b[0m \u001b[38;5;28;01melse\u001b[39;00m:\n\u001b[0;32m    170\u001b[0m     op \u001b[38;5;241m=\u001b[39m _MergeOperation(\n\u001b[0;32m    171\u001b[0m         left_df,\n\u001b[0;32m    172\u001b[0m         right_df,\n\u001b[1;32m   (...)\u001b[0m\n\u001b[0;32m    182\u001b[0m         validate\u001b[38;5;241m=\u001b[39mvalidate,\n\u001b[0;32m    183\u001b[0m     )\n\u001b[1;32m--> 184\u001b[0m     \u001b[38;5;28;01mreturn\u001b[39;00m op\u001b[38;5;241m.\u001b[39mget_result(copy\u001b[38;5;241m=\u001b[39mcopy)\n",
      "File \u001b[1;32mc:\\Users\\nguye\\anaconda3\\Lib\\site-packages\\pandas\\core\\reshape\\merge.py:888\u001b[0m, in \u001b[0;36m_MergeOperation.get_result\u001b[1;34m(self, copy)\u001b[0m\n\u001b[0;32m    884\u001b[0m     \u001b[38;5;28mself\u001b[39m\u001b[38;5;241m.\u001b[39mleft, \u001b[38;5;28mself\u001b[39m\u001b[38;5;241m.\u001b[39mright \u001b[38;5;241m=\u001b[39m \u001b[38;5;28mself\u001b[39m\u001b[38;5;241m.\u001b[39m_indicator_pre_merge(\u001b[38;5;28mself\u001b[39m\u001b[38;5;241m.\u001b[39mleft, \u001b[38;5;28mself\u001b[39m\u001b[38;5;241m.\u001b[39mright)\n\u001b[0;32m    886\u001b[0m join_index, left_indexer, right_indexer \u001b[38;5;241m=\u001b[39m \u001b[38;5;28mself\u001b[39m\u001b[38;5;241m.\u001b[39m_get_join_info()\n\u001b[1;32m--> 888\u001b[0m result \u001b[38;5;241m=\u001b[39m \u001b[38;5;28mself\u001b[39m\u001b[38;5;241m.\u001b[39m_reindex_and_concat(\n\u001b[0;32m    889\u001b[0m     join_index, left_indexer, right_indexer, copy\u001b[38;5;241m=\u001b[39mcopy\n\u001b[0;32m    890\u001b[0m )\n\u001b[0;32m    891\u001b[0m result \u001b[38;5;241m=\u001b[39m result\u001b[38;5;241m.\u001b[39m__finalize__(\u001b[38;5;28mself\u001b[39m, method\u001b[38;5;241m=\u001b[39m\u001b[38;5;28mself\u001b[39m\u001b[38;5;241m.\u001b[39m_merge_type)\n\u001b[0;32m    893\u001b[0m \u001b[38;5;28;01mif\u001b[39;00m \u001b[38;5;28mself\u001b[39m\u001b[38;5;241m.\u001b[39mindicator:\n",
      "File \u001b[1;32mc:\\Users\\nguye\\anaconda3\\Lib\\site-packages\\pandas\\core\\reshape\\merge.py:879\u001b[0m, in \u001b[0;36m_MergeOperation._reindex_and_concat\u001b[1;34m(self, join_index, left_indexer, right_indexer, copy)\u001b[0m\n\u001b[0;32m    877\u001b[0m left\u001b[38;5;241m.\u001b[39mcolumns \u001b[38;5;241m=\u001b[39m llabels\n\u001b[0;32m    878\u001b[0m right\u001b[38;5;241m.\u001b[39mcolumns \u001b[38;5;241m=\u001b[39m rlabels\n\u001b[1;32m--> 879\u001b[0m result \u001b[38;5;241m=\u001b[39m concat([left, right], axis\u001b[38;5;241m=\u001b[39m\u001b[38;5;241m1\u001b[39m, copy\u001b[38;5;241m=\u001b[39mcopy)\n\u001b[0;32m    880\u001b[0m \u001b[38;5;28;01mreturn\u001b[39;00m result\n",
      "File \u001b[1;32mc:\\Users\\nguye\\anaconda3\\Lib\\site-packages\\pandas\\core\\reshape\\concat.py:395\u001b[0m, in \u001b[0;36mconcat\u001b[1;34m(objs, axis, join, ignore_index, keys, levels, names, verify_integrity, sort, copy)\u001b[0m\n\u001b[0;32m    380\u001b[0m     copy \u001b[38;5;241m=\u001b[39m \u001b[38;5;28;01mFalse\u001b[39;00m\n\u001b[0;32m    382\u001b[0m op \u001b[38;5;241m=\u001b[39m _Concatenator(\n\u001b[0;32m    383\u001b[0m     objs,\n\u001b[0;32m    384\u001b[0m     axis\u001b[38;5;241m=\u001b[39maxis,\n\u001b[1;32m   (...)\u001b[0m\n\u001b[0;32m    392\u001b[0m     sort\u001b[38;5;241m=\u001b[39msort,\n\u001b[0;32m    393\u001b[0m )\n\u001b[1;32m--> 395\u001b[0m \u001b[38;5;28;01mreturn\u001b[39;00m op\u001b[38;5;241m.\u001b[39mget_result()\n",
      "File \u001b[1;32mc:\\Users\\nguye\\anaconda3\\Lib\\site-packages\\pandas\\core\\reshape\\concat.py:684\u001b[0m, in \u001b[0;36m_Concatenator.get_result\u001b[1;34m(self)\u001b[0m\n\u001b[0;32m    680\u001b[0m             indexers[ax] \u001b[38;5;241m=\u001b[39m obj_labels\u001b[38;5;241m.\u001b[39mget_indexer(new_labels)\n\u001b[0;32m    682\u001b[0m     mgrs_indexers\u001b[38;5;241m.\u001b[39mappend((obj\u001b[38;5;241m.\u001b[39m_mgr, indexers))\n\u001b[1;32m--> 684\u001b[0m new_data \u001b[38;5;241m=\u001b[39m concatenate_managers(\n\u001b[0;32m    685\u001b[0m     mgrs_indexers, \u001b[38;5;28mself\u001b[39m\u001b[38;5;241m.\u001b[39mnew_axes, concat_axis\u001b[38;5;241m=\u001b[39m\u001b[38;5;28mself\u001b[39m\u001b[38;5;241m.\u001b[39mbm_axis, copy\u001b[38;5;241m=\u001b[39m\u001b[38;5;28mself\u001b[39m\u001b[38;5;241m.\u001b[39mcopy\n\u001b[0;32m    686\u001b[0m )\n\u001b[0;32m    687\u001b[0m \u001b[38;5;28;01mif\u001b[39;00m \u001b[38;5;129;01mnot\u001b[39;00m \u001b[38;5;28mself\u001b[39m\u001b[38;5;241m.\u001b[39mcopy \u001b[38;5;129;01mand\u001b[39;00m \u001b[38;5;129;01mnot\u001b[39;00m using_copy_on_write():\n\u001b[0;32m    688\u001b[0m     new_data\u001b[38;5;241m.\u001b[39m_consolidate_inplace()\n",
      "File \u001b[1;32mc:\\Users\\nguye\\anaconda3\\Lib\\site-packages\\pandas\\core\\internals\\concat.py:131\u001b[0m, in \u001b[0;36mconcatenate_managers\u001b[1;34m(mgrs_indexers, axes, concat_axis, copy)\u001b[0m\n\u001b[0;32m    124\u001b[0m \u001b[38;5;66;03m# Assertions disabled for performance\u001b[39;00m\n\u001b[0;32m    125\u001b[0m \u001b[38;5;66;03m# for tup in mgrs_indexers:\u001b[39;00m\n\u001b[0;32m    126\u001b[0m \u001b[38;5;66;03m#    # caller is responsible for ensuring this\u001b[39;00m\n\u001b[0;32m    127\u001b[0m \u001b[38;5;66;03m#    indexers = tup[1]\u001b[39;00m\n\u001b[0;32m    128\u001b[0m \u001b[38;5;66;03m#    assert concat_axis not in indexers\u001b[39;00m\n\u001b[0;32m    130\u001b[0m \u001b[38;5;28;01mif\u001b[39;00m concat_axis \u001b[38;5;241m==\u001b[39m \u001b[38;5;241m0\u001b[39m:\n\u001b[1;32m--> 131\u001b[0m     mgrs \u001b[38;5;241m=\u001b[39m _maybe_reindex_columns_na_proxy(axes, mgrs_indexers, needs_copy)\n\u001b[0;32m    132\u001b[0m     \u001b[38;5;28;01mreturn\u001b[39;00m mgrs[\u001b[38;5;241m0\u001b[39m]\u001b[38;5;241m.\u001b[39mconcat_horizontal(mgrs, axes)\n\u001b[0;32m    134\u001b[0m \u001b[38;5;28;01mif\u001b[39;00m \u001b[38;5;28mlen\u001b[39m(mgrs_indexers) \u001b[38;5;241m>\u001b[39m \u001b[38;5;241m0\u001b[39m \u001b[38;5;129;01mand\u001b[39;00m mgrs_indexers[\u001b[38;5;241m0\u001b[39m][\u001b[38;5;241m0\u001b[39m]\u001b[38;5;241m.\u001b[39mnblocks \u001b[38;5;241m>\u001b[39m \u001b[38;5;241m0\u001b[39m:\n",
      "File \u001b[1;32mc:\\Users\\nguye\\anaconda3\\Lib\\site-packages\\pandas\\core\\internals\\concat.py:230\u001b[0m, in \u001b[0;36m_maybe_reindex_columns_na_proxy\u001b[1;34m(axes, mgrs_indexers, needs_copy)\u001b[0m\n\u001b[0;32m    220\u001b[0m         mgr \u001b[38;5;241m=\u001b[39m mgr\u001b[38;5;241m.\u001b[39mreindex_indexer(\n\u001b[0;32m    221\u001b[0m             axes[i],\n\u001b[0;32m    222\u001b[0m             indexers[i],\n\u001b[1;32m   (...)\u001b[0m\n\u001b[0;32m    227\u001b[0m             use_na_proxy\u001b[38;5;241m=\u001b[39m\u001b[38;5;28;01mTrue\u001b[39;00m,  \u001b[38;5;66;03m# only relevant for i==0\u001b[39;00m\n\u001b[0;32m    228\u001b[0m         )\n\u001b[0;32m    229\u001b[0m     \u001b[38;5;28;01mif\u001b[39;00m needs_copy \u001b[38;5;129;01mand\u001b[39;00m \u001b[38;5;129;01mnot\u001b[39;00m indexers:\n\u001b[1;32m--> 230\u001b[0m         mgr \u001b[38;5;241m=\u001b[39m mgr\u001b[38;5;241m.\u001b[39mcopy()\n\u001b[0;32m    232\u001b[0m     new_mgrs\u001b[38;5;241m.\u001b[39mappend(mgr)\n\u001b[0;32m    233\u001b[0m \u001b[38;5;28;01mreturn\u001b[39;00m new_mgrs\n",
      "File \u001b[1;32mc:\\Users\\nguye\\anaconda3\\Lib\\site-packages\\pandas\\core\\internals\\managers.py:593\u001b[0m, in \u001b[0;36mBaseBlockManager.copy\u001b[1;34m(self, deep)\u001b[0m\n\u001b[0;32m    590\u001b[0m     \u001b[38;5;28;01melse\u001b[39;00m:\n\u001b[0;32m    591\u001b[0m         new_axes \u001b[38;5;241m=\u001b[39m \u001b[38;5;28mlist\u001b[39m(\u001b[38;5;28mself\u001b[39m\u001b[38;5;241m.\u001b[39maxes)\n\u001b[1;32m--> 593\u001b[0m res \u001b[38;5;241m=\u001b[39m \u001b[38;5;28mself\u001b[39m\u001b[38;5;241m.\u001b[39mapply(\u001b[38;5;124m\"\u001b[39m\u001b[38;5;124mcopy\u001b[39m\u001b[38;5;124m\"\u001b[39m, deep\u001b[38;5;241m=\u001b[39mdeep)\n\u001b[0;32m    594\u001b[0m res\u001b[38;5;241m.\u001b[39maxes \u001b[38;5;241m=\u001b[39m new_axes\n\u001b[0;32m    596\u001b[0m \u001b[38;5;28;01mif\u001b[39;00m \u001b[38;5;28mself\u001b[39m\u001b[38;5;241m.\u001b[39mndim \u001b[38;5;241m>\u001b[39m \u001b[38;5;241m1\u001b[39m:\n\u001b[0;32m    597\u001b[0m     \u001b[38;5;66;03m# Avoid needing to re-compute these\u001b[39;00m\n",
      "File \u001b[1;32mc:\\Users\\nguye\\anaconda3\\Lib\\site-packages\\pandas\\core\\internals\\managers.py:363\u001b[0m, in \u001b[0;36mBaseBlockManager.apply\u001b[1;34m(self, f, align_keys, **kwargs)\u001b[0m\n\u001b[0;32m    361\u001b[0m         applied \u001b[38;5;241m=\u001b[39m b\u001b[38;5;241m.\u001b[39mapply(f, \u001b[38;5;241m*\u001b[39m\u001b[38;5;241m*\u001b[39mkwargs)\n\u001b[0;32m    362\u001b[0m     \u001b[38;5;28;01melse\u001b[39;00m:\n\u001b[1;32m--> 363\u001b[0m         applied \u001b[38;5;241m=\u001b[39m \u001b[38;5;28mgetattr\u001b[39m(b, f)(\u001b[38;5;241m*\u001b[39m\u001b[38;5;241m*\u001b[39mkwargs)\n\u001b[0;32m    364\u001b[0m     result_blocks \u001b[38;5;241m=\u001b[39m extend_blocks(applied, result_blocks)\n\u001b[0;32m    366\u001b[0m out \u001b[38;5;241m=\u001b[39m \u001b[38;5;28mtype\u001b[39m(\u001b[38;5;28mself\u001b[39m)\u001b[38;5;241m.\u001b[39mfrom_blocks(result_blocks, \u001b[38;5;28mself\u001b[39m\u001b[38;5;241m.\u001b[39maxes)\n",
      "File \u001b[1;32mc:\\Users\\nguye\\anaconda3\\Lib\\site-packages\\pandas\\core\\internals\\blocks.py:796\u001b[0m, in \u001b[0;36mBlock.copy\u001b[1;34m(self, deep)\u001b[0m\n\u001b[0;32m    794\u001b[0m refs: BlockValuesRefs \u001b[38;5;241m|\u001b[39m \u001b[38;5;28;01mNone\u001b[39;00m\n\u001b[0;32m    795\u001b[0m \u001b[38;5;28;01mif\u001b[39;00m deep:\n\u001b[1;32m--> 796\u001b[0m     values \u001b[38;5;241m=\u001b[39m values\u001b[38;5;241m.\u001b[39mcopy()\n\u001b[0;32m    797\u001b[0m     refs \u001b[38;5;241m=\u001b[39m \u001b[38;5;28;01mNone\u001b[39;00m\n\u001b[0;32m    798\u001b[0m \u001b[38;5;28;01melse\u001b[39;00m:\n",
      "\u001b[1;31mKeyboardInterrupt\u001b[0m: "
     ]
    }
   ],
   "source": [
    "kor_df_clean = clean_data(kor_df.copy(),'kor')\n",
    "kor_df_clean = pd.merge(kor_df_clean,all_link_df_with_nation_name_df,how='left',on='stt')\n",
    "kor_df_final = kor_df_clean[['stt','doc_no','doc_date','implementing_organization','hs','product_name','product_properties','decision_reason','original_link','Kr_nation_name']].rename(columns={'Kr_nation_name': 'nation','original_link': 'img_links'}).fillna('')\n",
    "kor_df_final.head(5)"
   ]
  },
  {
   "cell_type": "code",
   "execution_count": 68,
   "metadata": {},
   "outputs": [],
   "source": [
    "\n",
    "def toRealList(strList):\n",
    "    if pd.isna(strList) or strList == '':\n",
    "        return\n",
    "    lst = ast.literal_eval(strList)\n",
    "    return json.loads(json.dumps(lst))\n",
    "def tolist(df,col):\n",
    "    df[col] = df[col].apply(lambda x: str(x).split(\"<br/>\"))"
   ]
  },
  {
   "cell_type": "code",
   "execution_count": 72,
   "metadata": {},
   "outputs": [],
   "source": [
    "old_kor_data = pd.read_excel(\"ko_prod_class_22-10_with_imglink.xlsx\",\n",
    "                    sheet_name=\"Sheet1\",\n",
    "                    skiprows=2).fillna(\"\").iloc[:,1:10]"
   ]
  },
  {
   "cell_type": "code",
   "execution_count": 73,
   "metadata": {},
   "outputs": [
    {
     "data": {
      "text/html": [
       "<div>\n",
       "<style scoped>\n",
       "    .dataframe tbody tr th:only-of-type {\n",
       "        vertical-align: middle;\n",
       "    }\n",
       "\n",
       "    .dataframe tbody tr th {\n",
       "        vertical-align: top;\n",
       "    }\n",
       "\n",
       "    .dataframe thead th {\n",
       "        text-align: right;\n",
       "    }\n",
       "</style>\n",
       "<table border=\"1\" class=\"dataframe\">\n",
       "  <thead>\n",
       "    <tr style=\"text-align: right;\">\n",
       "      <th></th>\n",
       "      <th>doc_no</th>\n",
       "      <th>doc_date</th>\n",
       "      <th>implementing_organization</th>\n",
       "      <th>hs</th>\n",
       "      <th>product_name</th>\n",
       "      <th>product_properties</th>\n",
       "      <th>decision_reason</th>\n",
       "      <th>img_links</th>\n",
       "      <th>nation</th>\n",
       "    </tr>\n",
       "  </thead>\n",
       "  <tbody>\n",
       "    <tr>\n",
       "      <th>0</th>\n",
       "      <td>품목분류2과-6417</td>\n",
       "      <td>2024-08-14</td>\n",
       "      <td>관세평가분류원</td>\n",
       "      <td>1006.30-1000</td>\n",
       "      <td>Nonglutinous rice, partially steamed; OM SHREE...</td>\n",
       "      <td>ㅇ 완전히 호화되지 않은 낱알상의 멥쌀을 수지제 봉지에 소매포장한 것(내용량: 5k...</td>\n",
       "      <td>ㅇ 관세율표 제1006호에서는 “쌀”을 분류하고 있으며, 소호 제1006.30-10...</td>\n",
       "      <td>['https://hs-search-img-pdf.s3.ap-southeast-1....</td>\n",
       "      <td>한국</td>\n",
       "    </tr>\n",
       "    <tr>\n",
       "      <th>1</th>\n",
       "      <td>품목분류2과-5041</td>\n",
       "      <td>2024-07-02</td>\n",
       "      <td>관세평가분류원</td>\n",
       "      <td>1006.30-1000</td>\n",
       "      <td>Nonglutinous rice, partially steamed; Steamed ...</td>\n",
       "      <td>완전히 호화되지 않은 낱알상의 멥쌀&lt;br/&gt;- 용도: 식용&lt;br/&gt; &lt;br/&gt;※ 품...</td>\n",
       "      <td>ㅇ 관세율표 제1006호에 “쌀”을 분류하며, 소호 제1006.30호에 “정미(연마...</td>\n",
       "      <td>['https://hs-search-img-pdf.s3.ap-southeast-1....</td>\n",
       "      <td>한국</td>\n",
       "    </tr>\n",
       "  </tbody>\n",
       "</table>\n",
       "</div>"
      ],
      "text/plain": [
       "        doc_no    doc_date implementing_organization            hs  \\\n",
       "0  품목분류2과-6417  2024-08-14                   관세평가분류원  1006.30-1000   \n",
       "1  품목분류2과-5041  2024-07-02                   관세평가분류원  1006.30-1000   \n",
       "\n",
       "                                        product_name  \\\n",
       "0  Nonglutinous rice, partially steamed; OM SHREE...   \n",
       "1  Nonglutinous rice, partially steamed; Steamed ...   \n",
       "\n",
       "                                  product_properties  \\\n",
       "0  ㅇ 완전히 호화되지 않은 낱알상의 멥쌀을 수지제 봉지에 소매포장한 것(내용량: 5k...   \n",
       "1  완전히 호화되지 않은 낱알상의 멥쌀<br/>- 용도: 식용<br/> <br/>※ 품...   \n",
       "\n",
       "                                     decision_reason  \\\n",
       "0  ㅇ 관세율표 제1006호에서는 “쌀”을 분류하고 있으며, 소호 제1006.30-10...   \n",
       "1  ㅇ 관세율표 제1006호에 “쌀”을 분류하며, 소호 제1006.30호에 “정미(연마...   \n",
       "\n",
       "                                           img_links nation  \n",
       "0  ['https://hs-search-img-pdf.s3.ap-southeast-1....     한국  \n",
       "1  ['https://hs-search-img-pdf.s3.ap-southeast-1....     한국  "
      ]
     },
     "execution_count": 73,
     "metadata": {},
     "output_type": "execute_result"
    }
   ],
   "source": [
    "old_kor_data.head(2)"
   ]
  },
  {
   "cell_type": "code",
   "execution_count": 89,
   "metadata": {},
   "outputs": [],
   "source": [
    "kor_data = pd.concat([kor_df_final,old_data],ignore_index=True)"
   ]
  },
  {
   "cell_type": "code",
   "execution_count": 90,
   "metadata": {},
   "outputs": [
    {
     "data": {
      "text/plain": [
       "339077"
      ]
     },
     "execution_count": 90,
     "metadata": {},
     "output_type": "execute_result"
    }
   ],
   "source": [
    "len(kor_data)"
   ]
  },
  {
   "cell_type": "code",
   "execution_count": null,
   "metadata": {},
   "outputs": [],
   "source": [
    "def make_json_temp(df)\n",
    "    df = df.applymap(lambda x: x.strip(\"<br/>\") if isinstance(x, str) else x)\n",
    "    df['id'] = df.reset_index().index + 1\n",
    "    id = df.pop(\"id\")\n",
    "    df.insert(0, id.name, id)\n",
    "    df = df.map(lambda x: x.replace('\\n', '<br/>').replace('\\xa0','') if isinstance(x, str) else x)\n",
    "    df[\"hs\"] = df[\"hs\"].str.replace(r\"(<br/>\\s*)+\", \" \", regex=True)\n",
    "    df[\"product_properties\"] = df[\"product_properties\"].str.replace(r\"(<br/>\\s*)+\", \"<br/> \", regex=True)\n",
    "    df[\"decision_reason\"] = df[\"decision_reason\"].str.replace(r\"(<br/>\\s*)+\", \"<br/> \", regex=True)\n",
    "    df['img_links'] = df['img_links'].apply(lambda x: toRealList(x))\n",
    "    # print(df)\n",
    "    for col in ['product_name','product_properties','decision_reason']:\n",
    "        tolist(df,col)\n"
   ]
  },
  {
   "cell_type": "code",
   "execution_count": null,
   "metadata": {},
   "outputs": [],
   "source": [
    "    \n",
    "with open('ko_prod_class_06_01.json', 'w') as f:\n",
    "json.dump(json.loads(data.to_json(orient=\"records\")), f)"
   ]
  }
 ],
 "metadata": {
  "kernelspec": {
   "display_name": "base",
   "language": "python",
   "name": "python3"
  },
  "language_info": {
   "codemirror_mode": {
    "name": "ipython",
    "version": 3
   },
   "file_extension": ".py",
   "mimetype": "text/x-python",
   "name": "python",
   "nbconvert_exporter": "python",
   "pygments_lexer": "ipython3",
   "version": "3.12.4"
  }
 },
 "nbformat": 4,
 "nbformat_minor": 2
}
