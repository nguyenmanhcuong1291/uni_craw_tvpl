{
 "cells": [
  {
   "cell_type": "code",
   "execution_count": 1,
   "metadata": {},
   "outputs": [],
   "source": [
    "import pandas as pd\n",
    "\n",
    "# Đọc file CSV\n",
    "df1 = pd.read_csv(\"all_link_list_18022025.csv\")\n",
    "df2 = pd.read_csv(\"all_link_list.csv\")\n",
    "\n",
    "# Chọn các cột để so sánh\n",
    "compare_cols = [\"area\", \"cntyCd\", \"baseYy\", \"reffNoNm\", \"prlstClsfSrno\"]\n",
    "\n",
    "# Lọc dữ liệu có trong df1 nhưng không có trong df2\n",
    "df_diff = df1.merge(df2[compare_cols], on=compare_cols, how=\"left\", indicator=True)\n",
    "\n",
    "# Giữ lại tất cả cột của df1 nhưng chỉ lấy dòng không có trong df2\n",
    "df_diff = df_diff[df_diff[\"_merge\"] == \"left_only\"].drop(columns=[\"_merge\"])\n",
    "\n",
    "# Lưu vào file mới\n",
    "df_diff.to_csv(\"all_link_for_craw_1802.csv\", index=False)"
   ]
  }
 ],
 "metadata": {
  "kernelspec": {
   "display_name": "base",
   "language": "python",
   "name": "python3"
  },
  "language_info": {
   "codemirror_mode": {
    "name": "ipython",
    "version": 3
   },
   "file_extension": ".py",
   "mimetype": "text/x-python",
   "name": "python",
   "nbconvert_exporter": "python",
   "pygments_lexer": "ipython3",
   "version": "3.12.4"
  }
 },
 "nbformat": 4,
 "nbformat_minor": 2
}
