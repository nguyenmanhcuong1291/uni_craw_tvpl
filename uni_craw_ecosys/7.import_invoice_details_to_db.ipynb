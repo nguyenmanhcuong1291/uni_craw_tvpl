{
 "cells": [
  {
   "cell_type": "code",
   "execution_count": 10,
   "metadata": {},
   "outputs": [],
   "source": [
    "import pandas as pd\n",
    "from datetime import datetime"
   ]
  },
  {
   "cell_type": "code",
   "execution_count": 11,
   "metadata": {},
   "outputs": [],
   "source": [
    "# Đọc file CSV\n",
    "df = pd.read_csv(\"all_invoice_info.csv\", quotechar='\"', sep=\",\", encoding=\"utf-8\")"
   ]
  },
  {
   "cell_type": "code",
   "execution_count": 12,
   "metadata": {},
   "outputs": [],
   "source": [
    "def convert_to_datetime(date_str):\n",
    "    try:\n",
    "        if date_str and isinstance(date_str, str):  # Kiểm tra nếu date_str không rỗng và là chuỗi\n",
    "            # Loại bỏ 3 ký tự cuối nếu chuỗi chứa \"AM\" hoặc \"PM\"\n",
    "            cleaned_date_str = date_str[:-3].strip()\n",
    "            # Chuyển đổi chuỗi thành datetime\n",
    "            return datetime.strptime(cleaned_date_str, '%d/%m/%Y %H:%M:%S')  # Định dạng dd/mm/yyyy hh:mm:ss\n",
    "        return None  # Trả về None nếu không có chuỗi hợp lệ\n",
    "    except ValueError:\n",
    "        return None  # Trả về None nếu không thể chuyển đổi"
   ]
  },
  {
   "cell_type": "code",
   "execution_count": 13,
   "metadata": {},
   "outputs": [],
   "source": [
    "df['created_at'] = df['created_at'].apply(convert_to_datetime)\n",
    "df['last_modified_at'] = df['last_modified_at'].apply(convert_to_datetime)"
   ]
  },
  {
   "cell_type": "code",
   "execution_count": 15,
   "metadata": {},
   "outputs": [],
   "source": [
    "import ast\n",
    "\n",
    "columns_to_convert = ['co_info']\n",
    "for col in columns_to_convert:\n",
    "    if col in df.columns:  # Kiểm tra nếu cột tồn tại\n",
    "        df[col] = df[col].apply(lambda x: ast.literal_eval(x) if isinstance(x, str) and x.startswith('[') else x)"
   ]
  },
  {
   "cell_type": "code",
   "execution_count": 16,
   "metadata": {},
   "outputs": [],
   "source": [
    "df = df.fillna('')"
   ]
  },
  {
   "cell_type": "code",
   "execution_count": 19,
   "metadata": {},
   "outputs": [],
   "source": [
    "import pyodbc\n",
    "\n",
    "# Kết nối tới SQL Server\n",
    "server = 'localhost,1434'\n",
    "username = 'sa'\n",
    "password = '1234QWER@'\n"
   ]
  },
  {
   "cell_type": "code",
   "execution_count": 23,
   "metadata": {},
   "outputs": [
    {
     "name": "stdout",
     "output_type": "stream",
     "text": [
      "Cơ sở dữ liệu và các bảng đã được tạo thành công.\n"
     ]
    }
   ],
   "source": [
    "\n",
    "# Kết nối đến database master để tạo database mới\n",
    "connection = pyodbc.connect(f'DRIVER={{SQL Server}};SERVER={server};DATABASE=master;UID={username};PWD={password}')\n",
    "cursor = connection.cursor()\n",
    "\n",
    "# Tạo database nếu chưa tồn tại\n",
    "try:\n",
    "    cursor.execute(\"IF NOT EXISTS (SELECT * FROM sys.databases WHERE name = 'COData') \"\n",
    "                   \"BEGIN \"\n",
    "                   \"CREATE DATABASE COData; \"\n",
    "                   \"END\")\n",
    "    connection.commit()  # Commit lệnh CREATE DATABASE\n",
    "except Exception as e:\n",
    "    print(\"Lỗi khi tạo cơ sở dữ liệu:\", e)\n",
    "\n",
    "# Đóng kết nối và mở lại kết nối tới database mới\n",
    "connection.close()\n",
    "\n",
    "# Kết nối đến database mới\n",
    "connection = pyodbc.connect(f'DRIVER={{SQL Server}};SERVER={server};DATABASE=COData;UID={username};PWD={password}')\n",
    "cursor = connection.cursor()\n",
    "\n",
    "# Tạo bảng C/O\n",
    "cursor.execute(\"\"\"\n",
    "    IF NOT EXISTS (SELECT * FROM sys.tables WHERE name = 'invoice')\n",
    "    BEGIN\n",
    "        CREATE TABLE invoice (\n",
    "            invoice_doc_id VARCHAR(50) PRIMARY KEY,\n",
    "            status NVARCHAR(50),\n",
    "            ordercode VARCHAR(20),\n",
    "            companyname NVARCHAR(100),\n",
    "            companytaxcode VARCHAR(50),\n",
    "            companyaddress NTEXT,\n",
    "            companyemail VARCHAR(100),\n",
    "            amount VARCHAR(20),\n",
    "            invoice_receip_no VARCHAR(50),\n",
    "            invoice_address_label VARCHAR(50),\n",
    "            another_email NVARCHAR(50),\n",
    "            created_at DATETIME,\n",
    "            last_modified_at DATETIME\n",
    "        );\n",
    "    END\n",
    "\"\"\")\n",
    "#tạo bảng transport\n",
    "cursor.execute(\"\"\"\n",
    "\n",
    "    IF NOT EXISTS (SELECT * FROM sys.tables WHERE name = 'invoice_co_info')\n",
    "    BEGIN\n",
    "        CREATE TABLE invoice_co_info (\n",
    "            invoice_doc_id VARCHAR(50),\n",
    "            item_num smallint,\n",
    "            co_num VARCHAR(50),\n",
    "            fee_type NVARCHAR(50),\n",
    "            fee NVARCHAR(50),\n",
    "            CONSTRAINT FK_invoice_co_info FOREIGN KEY (invoice_doc_id) REFERENCES invoice(invoice_doc_id)\n",
    "        );\n",
    "    END                       \n",
    "\"\"\")\n",
    "\n",
    "connection.commit()  # Commit các lệnh tạo bảng\n",
    "\n",
    "# Đóng kết nối\n",
    "cursor.close()\n",
    "connection.close()\n",
    "\n",
    "print(\"Cơ sở dữ liệu và các bảng đã được tạo thành công.\")\n"
   ]
  },
  {
   "cell_type": "code",
   "execution_count": 27,
   "metadata": {},
   "outputs": [
    {
     "name": "stdout",
     "output_type": "stream",
     "text": [
      "Dữ liệu đã được chèn thành công.\n"
     ]
    }
   ],
   "source": [
    "# Kết nối đến SQL Server\n",
    "connection = pyodbc.connect(f'DRIVER={{SQL Server}};SERVER={server};DATABASE=COData;UID={username};PWD={password}')\n",
    "cursor = connection.cursor()\n",
    "\n",
    "# Chèn dữ liệu vào bảng invoice\n",
    "for idx,record in df.iterrows():\n",
    "    cursor.execute(\"\"\"\n",
    "        INSERT INTO invoice (invoice_doc_id,status,ordercode,companyname,companytaxcode,companyaddress,companyemail,amount,invoice_receip_no,invoice_address_label,another_email,created_at,last_modified_at)\n",
    "        VALUES (?, ?, ?, ?, ?, ?, ?, ?, ?, ?, ?, ?, ?)\n",
    "    \"\"\", record['doc_id'], record['status'], record['ordercode'], \n",
    "          record['companyname'], record['companytaxcode'], record['companyaddress'],record['companyemail'],\n",
    "          record['amount'], record['invoice_receip_no'], record['invoice_address_label'],\n",
    "          record['another_email'], str(record['created_at']), str(record['last_modified_at'])\n",
    "        )\n",
    "\n",
    "    # Chèn dữ liệu vào bảng invoice_co_info\n",
    "    for idx, goods in enumerate(record['co_info'][1:], 1):  # Bỏ qua dòng tiêu đề\n",
    "        cursor.execute(\"\"\"\n",
    "            INSERT INTO invoice_co_info (invoice_doc_id,item_num, co_num, fee_type, fee)\n",
    "            VALUES (?, ?, ?, ?, ?)\n",
    "        \"\"\", record['doc_id'], idx, goods[0], goods[2], goods[3])\n",
    "\n",
    "\n",
    "# Commit các thay đổi vào cơ sở dữ liệu\n",
    "connection.commit()\n",
    "\n",
    "# Đóng kết nối\n",
    "cursor.close()\n",
    "connection.close()\n",
    "\n",
    "print(\"Dữ liệu đã được chèn thành công.\")\n"
   ]
  }
 ],
 "metadata": {
  "kernelspec": {
   "display_name": "base",
   "language": "python",
   "name": "python3"
  },
  "language_info": {
   "codemirror_mode": {
    "name": "ipython",
    "version": 3
   },
   "file_extension": ".py",
   "mimetype": "text/x-python",
   "name": "python",
   "nbconvert_exporter": "python",
   "pygments_lexer": "ipython3",
   "version": "3.12.4"
  }
 },
 "nbformat": 4,
 "nbformat_minor": 2
}
