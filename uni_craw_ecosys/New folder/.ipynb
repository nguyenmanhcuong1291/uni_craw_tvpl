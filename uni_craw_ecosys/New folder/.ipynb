{
 "cells": [
  {
   "cell_type": "code",
   "execution_count": 5,
   "metadata": {},
   "outputs": [],
   "source": [
    "\n",
    "from selenium import webdriver\n",
    "from selenium.webdriver.common.by import By\n",
    "from selenium.webdriver.common.keys import Keys\n",
    "from selenium.webdriver.support.ui import WebDriverWait\n",
    "from selenium.webdriver.support import expected_conditions as EC\n",
    "import requests\n",
    "from bs4 import BeautifulSoup\n",
    "from urllib.parse import urljoin\n",
    "import pytesseract\n",
    "from PIL import Image, ImageFilter\n",
    "import cv2\n",
    "from collections import Counter\n",
    "import os\n",
    "import time\n",
    "import re\n",
    "from datetime import datetime, timedelta\n",
    "import pandas as pd\n",
    "import csv\n",
    "import ast\n",
    "import pyodbc\n",
    "import json\n",
    "import concurrent.futures"
   ]
  },
  {
   "cell_type": "code",
   "execution_count": 3,
   "metadata": {},
   "outputs": [
    {
     "name": "stdout",
     "output_type": "stream",
     "text": [
      "Account:  3603294570 SEOGWANG2020**\n",
      "Account:  3603312212 3603312212\n",
      "Account:  1102022318 Bongsanvina\n",
      "Account:  2300956022 2300956022\n",
      "Account:  2400859625 Sjvietnam\n",
      "Account:  3502391144 3502391144\n",
      "Account:  3702789197 3702789197\n",
      "Account:  sedovina sedovina\n"
     ]
    }
   ],
   "source": [
    "with open(\"account.csv\", \"r\", encoding=\"utf-8\") as file:\n",
    "    reader = csv.DictReader(file)\n",
    "    account_list = [row for row in reader]\n",
    "for account in account_list[:]:\n",
    "    print(\"Account: \",account['username'],account['password'])"
   ]
  },
  {
   "cell_type": "code",
   "execution_count": 6,
   "metadata": {},
   "outputs": [
    {
     "data": {
      "text/plain": [
       "17"
      ]
     },
     "execution_count": 6,
     "metadata": {},
     "output_type": "execute_result"
    }
   ],
   "source": [
    "def generate_dates(start_date, end_date):\n",
    "    periods = []\n",
    "    current_end = datetime.strptime(end_date, \"%d/%m/%Y\")\n",
    "    current_start = current_end - timedelta(days=10)\n",
    "    \n",
    "    while current_start >= datetime.strptime(start_date, \"%d/%m/%Y\"):\n",
    "        periods.append((current_start.strftime(\"%d/%m/%Y\"), current_end.strftime(\"%d/%m/%Y\")))\n",
    "        # Lùi lại một tuần\n",
    "        current_end = current_start - timedelta(days=1)\n",
    "        current_start = current_end - timedelta(days=10)\n",
    "    periods.append((start_date, current_end.strftime(\"%d/%m/%Y\")))\n",
    "\n",
    "    return periods\n",
    "\n",
    "# Ngày bắt đầu là ngày hiện tại\n",
    "start_date = (datetime.now() - timedelta(days=180)).strftime(\"%d/%m/%Y\")\n",
    "# Ngày kết thúc là ngày hiện tại + 1 ngày\n",
    "end_date = (datetime.now() + timedelta(days=1)).strftime(\"%d/%m/%Y\")\n",
    "\n",
    "# Tạo danh sách các khoảng thời gian\n",
    "dates_list = generate_dates(start_date, end_date)\n",
    "\n",
    "len(dates_list)"
   ]
  },
  {
   "cell_type": "code",
   "execution_count": 7,
   "metadata": {},
   "outputs": [
    {
     "data": {
      "text/plain": [
       "[('25/12/2024', '04/01/2025'),\n",
       " ('14/12/2024', '24/12/2024'),\n",
       " ('03/12/2024', '13/12/2024'),\n",
       " ('22/11/2024', '02/12/2024'),\n",
       " ('11/11/2024', '21/11/2024'),\n",
       " ('31/10/2024', '10/11/2024'),\n",
       " ('20/10/2024', '30/10/2024'),\n",
       " ('09/10/2024', '19/10/2024'),\n",
       " ('28/09/2024', '08/10/2024'),\n",
       " ('17/09/2024', '27/09/2024'),\n",
       " ('06/09/2024', '16/09/2024'),\n",
       " ('26/08/2024', '05/09/2024'),\n",
       " ('15/08/2024', '25/08/2024'),\n",
       " ('04/08/2024', '14/08/2024'),\n",
       " ('24/07/2024', '03/08/2024'),\n",
       " ('13/07/2024', '23/07/2024'),\n",
       " ('07/07/2024', '12/07/2024')]"
      ]
     },
     "execution_count": 7,
     "metadata": {},
     "output_type": "execute_result"
    }
   ],
   "source": [
    "dates_list"
   ]
  }
 ],
 "metadata": {
  "kernelspec": {
   "display_name": "base",
   "language": "python",
   "name": "python3"
  },
  "language_info": {
   "codemirror_mode": {
    "name": "ipython",
    "version": 3
   },
   "file_extension": ".py",
   "mimetype": "text/x-python",
   "name": "python",
   "nbconvert_exporter": "python",
   "pygments_lexer": "ipython3",
   "version": "3.12.4"
  }
 },
 "nbformat": 4,
 "nbformat_minor": 2
}
